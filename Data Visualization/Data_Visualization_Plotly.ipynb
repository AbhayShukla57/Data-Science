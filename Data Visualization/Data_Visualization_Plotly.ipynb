{
 "cells": [
  {
   "cell_type": "markdown",
   "id": "1d7e6b13",
   "metadata": {},
   "source": [
    "# Data Visualization \n",
    "## Plotly and Cufflinks\n",
    "Plotly is a Python library that provides interactive and high-quality visualization tools for creating interactive plots and dashboards. It supports a variety of chart types, including scatter plots, line charts, bar charts, and more. \n",
    "Cufflinks, on the other hand, is a library that works in conjunction with Plotly and Pandas, allowing for seamless integration of Plotly charts with Pandas data structures. \n",
    "Cufflinks simplifies the process of creating Plotly visualizations by providing a higher-level interface that directly integrates with Pandas DataFrames, enabling users to create interactive plots with minimal code. \n",
    "Together, Plotly and Cufflinks make it easy for Python developers and data scientists to generate interactive and visually appealing plots for data exploration and presentation."
   ]
  },
  {
   "cell_type": "code",
   "execution_count": 1,
   "id": "0163adb9",
   "metadata": {},
   "outputs": [],
   "source": [
    "import pandas as pd\n",
    "import numpy as np\n",
    "%matplotlib inline"
   ]
  },
  {
   "cell_type": "code",
   "execution_count": 2,
   "id": "2ac9fe0c",
   "metadata": {},
   "outputs": [
    {
     "name": "stdout",
     "output_type": "stream",
     "text": [
      "5.15.0\n"
     ]
    }
   ],
   "source": [
    "from plotly import __version__\n",
    "from plotly.offline import download_plotlyjs, init_notebook_mode, plot, iplot\n",
    "\n",
    "print(__version__)"
   ]
  },
  {
   "cell_type": "code",
   "execution_count": 3,
   "id": "3858f7c5",
   "metadata": {},
   "outputs": [],
   "source": [
    "import cufflinks as cf"
   ]
  },
  {
   "cell_type": "code",
   "execution_count": 5,
   "id": "47fbc619",
   "metadata": {},
   "outputs": [
    {
     "data": {
      "text/html": [
       "        <script type=\"text/javascript\">\n",
       "        window.PlotlyConfig = {MathJaxConfig: 'local'};\n",
       "        if (window.MathJax && window.MathJax.Hub && window.MathJax.Hub.Config) {window.MathJax.Hub.Config({SVG: {font: \"STIX-Web\"}});}\n",
       "        if (typeof require !== 'undefined') {\n",
       "        require.undef(\"plotly\");\n",
       "        requirejs.config({\n",
       "            paths: {\n",
       "                'plotly': ['https://cdn.plot.ly/plotly-2.24.1.min']\n",
       "            }\n",
       "        });\n",
       "        require(['plotly'], function(Plotly) {\n",
       "            window._Plotly = Plotly;\n",
       "        });\n",
       "        }\n",
       "        </script>\n",
       "        "
      ]
     },
     "metadata": {},
     "output_type": "display_data"
    }
   ],
   "source": [
    "# For Notebooks\n",
    "init_notebook_mode(connected=True)"
   ]
  },
  {
   "cell_type": "code",
   "execution_count": 6,
   "id": "957f4546",
   "metadata": {},
   "outputs": [
    {
     "data": {
      "text/html": [
       "        <script type=\"text/javascript\">\n",
       "        window.PlotlyConfig = {MathJaxConfig: 'local'};\n",
       "        if (window.MathJax && window.MathJax.Hub && window.MathJax.Hub.Config) {window.MathJax.Hub.Config({SVG: {font: \"STIX-Web\"}});}\n",
       "        if (typeof require !== 'undefined') {\n",
       "        require.undef(\"plotly\");\n",
       "        requirejs.config({\n",
       "            paths: {\n",
       "                'plotly': ['https://cdn.plot.ly/plotly-2.24.1.min']\n",
       "            }\n",
       "        });\n",
       "        require(['plotly'], function(Plotly) {\n",
       "            window._Plotly = Plotly;\n",
       "        });\n",
       "        }\n",
       "        </script>\n",
       "        "
      ]
     },
     "metadata": {},
     "output_type": "display_data"
    }
   ],
   "source": [
    "# For offline use\n",
    "cf.go_offline()"
   ]
  },
  {
   "cell_type": "code",
   "execution_count": 7,
   "id": "cd33d527",
   "metadata": {},
   "outputs": [],
   "source": [
    "df = pd.DataFrame(np.random.randn(100,4),columns='A B C D'.split())"
   ]
  },
  {
   "cell_type": "code",
   "execution_count": 8,
   "id": "953177ec",
   "metadata": {},
   "outputs": [
    {
     "data": {
      "text/html": [
       "<div>\n",
       "<style scoped>\n",
       "    .dataframe tbody tr th:only-of-type {\n",
       "        vertical-align: middle;\n",
       "    }\n",
       "\n",
       "    .dataframe tbody tr th {\n",
       "        vertical-align: top;\n",
       "    }\n",
       "\n",
       "    .dataframe thead th {\n",
       "        text-align: right;\n",
       "    }\n",
       "</style>\n",
       "<table border=\"1\" class=\"dataframe\">\n",
       "  <thead>\n",
       "    <tr style=\"text-align: right;\">\n",
       "      <th></th>\n",
       "      <th>A</th>\n",
       "      <th>B</th>\n",
       "      <th>C</th>\n",
       "      <th>D</th>\n",
       "    </tr>\n",
       "  </thead>\n",
       "  <tbody>\n",
       "    <tr>\n",
       "      <th>0</th>\n",
       "      <td>0.752423</td>\n",
       "      <td>-0.144111</td>\n",
       "      <td>1.305014</td>\n",
       "      <td>0.305423</td>\n",
       "    </tr>\n",
       "    <tr>\n",
       "      <th>1</th>\n",
       "      <td>-0.648751</td>\n",
       "      <td>0.454338</td>\n",
       "      <td>-1.425355</td>\n",
       "      <td>1.178901</td>\n",
       "    </tr>\n",
       "    <tr>\n",
       "      <th>2</th>\n",
       "      <td>-0.122769</td>\n",
       "      <td>-0.708311</td>\n",
       "      <td>-0.126041</td>\n",
       "      <td>1.098021</td>\n",
       "    </tr>\n",
       "    <tr>\n",
       "      <th>3</th>\n",
       "      <td>-1.795630</td>\n",
       "      <td>1.090384</td>\n",
       "      <td>-1.482940</td>\n",
       "      <td>1.551228</td>\n",
       "    </tr>\n",
       "    <tr>\n",
       "      <th>4</th>\n",
       "      <td>-0.979973</td>\n",
       "      <td>-0.961895</td>\n",
       "      <td>-1.524921</td>\n",
       "      <td>-2.094944</td>\n",
       "    </tr>\n",
       "  </tbody>\n",
       "</table>\n",
       "</div>"
      ],
      "text/plain": [
       "          A         B         C         D\n",
       "0  0.752423 -0.144111  1.305014  0.305423\n",
       "1 -0.648751  0.454338 -1.425355  1.178901\n",
       "2 -0.122769 -0.708311 -0.126041  1.098021\n",
       "3 -1.795630  1.090384 -1.482940  1.551228\n",
       "4 -0.979973 -0.961895 -1.524921 -2.094944"
      ]
     },
     "execution_count": 8,
     "metadata": {},
     "output_type": "execute_result"
    }
   ],
   "source": [
    "df.head()"
   ]
  },
  {
   "cell_type": "code",
   "execution_count": 9,
   "id": "018bc9dc",
   "metadata": {},
   "outputs": [],
   "source": [
    "df2 = pd.DataFrame({'Category':['A','B','C'],'Values':[32,43,50]})"
   ]
  },
  {
   "cell_type": "code",
   "execution_count": 10,
   "id": "4758fffb",
   "metadata": {},
   "outputs": [
    {
     "data": {
      "text/html": [
       "<div>\n",
       "<style scoped>\n",
       "    .dataframe tbody tr th:only-of-type {\n",
       "        vertical-align: middle;\n",
       "    }\n",
       "\n",
       "    .dataframe tbody tr th {\n",
       "        vertical-align: top;\n",
       "    }\n",
       "\n",
       "    .dataframe thead th {\n",
       "        text-align: right;\n",
       "    }\n",
       "</style>\n",
       "<table border=\"1\" class=\"dataframe\">\n",
       "  <thead>\n",
       "    <tr style=\"text-align: right;\">\n",
       "      <th></th>\n",
       "      <th>Category</th>\n",
       "      <th>Values</th>\n",
       "    </tr>\n",
       "  </thead>\n",
       "  <tbody>\n",
       "    <tr>\n",
       "      <th>0</th>\n",
       "      <td>A</td>\n",
       "      <td>32</td>\n",
       "    </tr>\n",
       "    <tr>\n",
       "      <th>1</th>\n",
       "      <td>B</td>\n",
       "      <td>43</td>\n",
       "    </tr>\n",
       "    <tr>\n",
       "      <th>2</th>\n",
       "      <td>C</td>\n",
       "      <td>50</td>\n",
       "    </tr>\n",
       "  </tbody>\n",
       "</table>\n",
       "</div>"
      ],
      "text/plain": [
       "  Category  Values\n",
       "0        A      32\n",
       "1        B      43\n",
       "2        C      50"
      ]
     },
     "execution_count": 10,
     "metadata": {},
     "output_type": "execute_result"
    }
   ],
   "source": [
    "df2.head()"
   ]
  },
  {
   "cell_type": "markdown",
   "id": "4355a55e",
   "metadata": {},
   "source": [
    "## Using Cufflinks and iplot()\n",
    "\n",
    "* scatter\n",
    "* bar\n",
    "* box\n",
    "* spread\n",
    "* ratio\n",
    "* heatmap\n",
    "* surface\n",
    "* histogram\n",
    "* bubble"
   ]
  },
  {
   "cell_type": "code",
   "execution_count": 11,
   "id": "4a015ba1",
   "metadata": {},
   "outputs": [
    {
     "data": {
      "application/vnd.plotly.v1+json": {
       "config": {
        "linkText": "Export to plot.ly",
        "plotlyServerURL": "https://plot.ly",
        "showLink": true
       },
       "data": [
        {
         "line": {
          "color": "rgba(255, 153, 51, 1.0)",
          "dash": "solid",
          "shape": "linear",
          "width": 1.3
         },
         "marker": {
          "size": 10,
          "symbol": "circle"
         },
         "mode": "markers",
         "name": "B",
         "text": "",
         "type": "scatter",
         "x": [
          0.7524227622239249,
          -0.6487508694482285,
          -0.12276902469067315,
          -1.7956304294769236,
          -0.9799731504092138,
          1.3362874408281362,
          1.6300701479361905,
          1.893259976205648,
          1.102454540951155,
          -2.1450995701597635,
          -0.27791957658198363,
          0.5884301683993967,
          0.615111776799618,
          0.2015144223854086,
          2.1435623735574123,
          -1.4930470533502194,
          1.5356692790966953,
          -1.0229093074170883,
          0.1759924467352236,
          -0.5835389825445142,
          -1.5045905284820054,
          0.7121602950723773,
          0.027639743148447422,
          1.4899290306550939,
          2.7417157921905764,
          1.1071397111583028,
          0.1116141070140691,
          0.49478387791171435,
          0.09675256767697327,
          2.1385303960269098,
          -0.6690582559318675,
          -0.0625705570795616,
          0.35924665837333947,
          0.03971910887051859,
          0.9831002494786435,
          0.9006490205825207,
          -0.9538509595822618,
          -0.20768454140825984,
          1.1296875020178823,
          0.061143301200641514,
          0.16916316503414763,
          -1.166564321780111,
          0.5891047687352472,
          0.793330260909169,
          -0.9834954995976098,
          0.6372477908713823,
          1.176628879265964,
          0.25097681343004324,
          1.656911627497132,
          1.179288445516592,
          -0.13271766438827634,
          0.3001113425006879,
          1.0101157978281166,
          -0.8957405536547673,
          0.7595712933512376,
          -0.5193778376546777,
          0.1423613502424884,
          -2.1021074624815883,
          0.33302496576488233,
          -0.16979628990295093,
          -0.9468499260465263,
          -0.8834558066344341,
          0.6230893758350854,
          -0.649993041546382,
          1.448657701803833,
          -0.8458526622516507,
          -0.0981429164294889,
          -0.5936239908790261,
          -0.385848432532634,
          -1.3735488390101918,
          -1.0056553057412447,
          -1.26730052140875,
          0.6556464292500415,
          -0.1334056210776524,
          -0.5853856257269497,
          0.6067943948542077,
          -0.9524477619805134,
          0.8256890188080714,
          -0.38544439397462416,
          -0.09760326316560804,
          -1.162915585696774,
          -0.38799627732569153,
          0.9711969001992721,
          1.6523680779276493,
          -1.8045995945136548,
          0.8692706779303185,
          0.2982140066126374,
          -2.232879857099527,
          0.271029852610972,
          -0.45240581774251093,
          0.9318810556623758,
          -0.26768715861225206,
          -1.1455708825858975,
          1.8683283454304598,
          0.8573275444364243,
          1.3325036587822003,
          2.599708051322223,
          2.5408176068246195,
          0.24426027282740315,
          1.9126990659987366
         ],
         "y": [
          -0.14411142071418448,
          0.4543383861726146,
          -0.7083109717970135,
          1.0903842538507134,
          -0.9618951277509531,
          0.7910225125160179,
          -0.09170042656156237,
          1.2065985419544019,
          0.5554298383945874,
          1.2392441562349639,
          -0.10418607581733894,
          -1.5962761205932277,
          -0.6726747533058741,
          0.40019099429991684,
          0.35184677700579475,
          -0.24545355294518686,
          1.6395704390094321,
          0.14405723113709348,
          0.3926952588678192,
          0.3654074215407099,
          -0.7681215022777197,
          -1.4062832714563236,
          -1.2546410580879253,
          0.18550467761114373,
          -0.8431939326081225,
          -2.06963127321301,
          1.48658934053319,
          -1.3326252323447432,
          -0.56726203886916,
          0.1361568603876222,
          0.6083662168232864,
          -0.09910069096383518,
          1.0820082378249034,
          0.31019928685403797,
          -0.731073676798277,
          0.040732192306421416,
          -0.8107107612338843,
          1.4173142860072543,
          -0.27584483581014213,
          2.5355035017244085,
          1.3112730058506958,
          -0.41427195107802095,
          -0.1741073227349552,
          1.6087551847409967,
          -0.9134078520482416,
          0.1136295862603745,
          0.17373761739318422,
          0.808462558759177,
          -2.1897539132033033,
          0.08330649712203049,
          0.8248180483876241,
          -0.40453200043901594,
          -0.4694871922459325,
          0.6698077464337866,
          0.3565346365704142,
          0.12869804689699224,
          0.67017515921362,
          0.5360783407567321,
          -0.2917074199552538,
          0.4365141785381166,
          0.6105572925783977,
          0.9734497641828365,
          1.4562443431718226,
          -0.4981857939219861,
          -0.9386690265452898,
          1.7311316676972948,
          -0.6298966613647587,
          0.815225989591915,
          -0.4602572673509436,
          -0.9150007309938142,
          0.10863252084373735,
          1.1729531883979405,
          -1.631017696238814,
          -1.8496504257349287,
          0.17950210460028163,
          0.9682133702319166,
          -1.484707530253836,
          -1.639085276989806,
          0.40140816264697965,
          0.6390331364973107,
          1.2323156584101398,
          2.162752863112274,
          1.1815167591012996,
          -1.9852722873734716,
          -1.0431001767275785,
          -1.279261507190979,
          -1.411883001080788,
          0.6140936180273153,
          -1.2851155395037284,
          -0.42350457709057093,
          -0.2271241069058536,
          -2.1592081055400807,
          -0.6316189001075955,
          0.490315679755434,
          -0.6518997189531053,
          -0.10202977067303974,
          0.8948687383146906,
          0.24313123575142453,
          -0.10391921868855766,
          0.7618133728978007
         ]
        }
       ],
       "layout": {
        "legend": {
         "bgcolor": "#F5F6F9",
         "font": {
          "color": "#4D5663"
         }
        },
        "paper_bgcolor": "#F5F6F9",
        "plot_bgcolor": "#F5F6F9",
        "template": {
         "data": {
          "bar": [
           {
            "error_x": {
             "color": "#2a3f5f"
            },
            "error_y": {
             "color": "#2a3f5f"
            },
            "marker": {
             "line": {
              "color": "#E5ECF6",
              "width": 0.5
             },
             "pattern": {
              "fillmode": "overlay",
              "size": 10,
              "solidity": 0.2
             }
            },
            "type": "bar"
           }
          ],
          "barpolar": [
           {
            "marker": {
             "line": {
              "color": "#E5ECF6",
              "width": 0.5
             },
             "pattern": {
              "fillmode": "overlay",
              "size": 10,
              "solidity": 0.2
             }
            },
            "type": "barpolar"
           }
          ],
          "carpet": [
           {
            "aaxis": {
             "endlinecolor": "#2a3f5f",
             "gridcolor": "white",
             "linecolor": "white",
             "minorgridcolor": "white",
             "startlinecolor": "#2a3f5f"
            },
            "baxis": {
             "endlinecolor": "#2a3f5f",
             "gridcolor": "white",
             "linecolor": "white",
             "minorgridcolor": "white",
             "startlinecolor": "#2a3f5f"
            },
            "type": "carpet"
           }
          ],
          "choropleth": [
           {
            "colorbar": {
             "outlinewidth": 0,
             "ticks": ""
            },
            "type": "choropleth"
           }
          ],
          "contour": [
           {
            "colorbar": {
             "outlinewidth": 0,
             "ticks": ""
            },
            "colorscale": [
             [
              0,
              "#0d0887"
             ],
             [
              0.1111111111111111,
              "#46039f"
             ],
             [
              0.2222222222222222,
              "#7201a8"
             ],
             [
              0.3333333333333333,
              "#9c179e"
             ],
             [
              0.4444444444444444,
              "#bd3786"
             ],
             [
              0.5555555555555556,
              "#d8576b"
             ],
             [
              0.6666666666666666,
              "#ed7953"
             ],
             [
              0.7777777777777778,
              "#fb9f3a"
             ],
             [
              0.8888888888888888,
              "#fdca26"
             ],
             [
              1,
              "#f0f921"
             ]
            ],
            "type": "contour"
           }
          ],
          "contourcarpet": [
           {
            "colorbar": {
             "outlinewidth": 0,
             "ticks": ""
            },
            "type": "contourcarpet"
           }
          ],
          "heatmap": [
           {
            "colorbar": {
             "outlinewidth": 0,
             "ticks": ""
            },
            "colorscale": [
             [
              0,
              "#0d0887"
             ],
             [
              0.1111111111111111,
              "#46039f"
             ],
             [
              0.2222222222222222,
              "#7201a8"
             ],
             [
              0.3333333333333333,
              "#9c179e"
             ],
             [
              0.4444444444444444,
              "#bd3786"
             ],
             [
              0.5555555555555556,
              "#d8576b"
             ],
             [
              0.6666666666666666,
              "#ed7953"
             ],
             [
              0.7777777777777778,
              "#fb9f3a"
             ],
             [
              0.8888888888888888,
              "#fdca26"
             ],
             [
              1,
              "#f0f921"
             ]
            ],
            "type": "heatmap"
           }
          ],
          "heatmapgl": [
           {
            "colorbar": {
             "outlinewidth": 0,
             "ticks": ""
            },
            "colorscale": [
             [
              0,
              "#0d0887"
             ],
             [
              0.1111111111111111,
              "#46039f"
             ],
             [
              0.2222222222222222,
              "#7201a8"
             ],
             [
              0.3333333333333333,
              "#9c179e"
             ],
             [
              0.4444444444444444,
              "#bd3786"
             ],
             [
              0.5555555555555556,
              "#d8576b"
             ],
             [
              0.6666666666666666,
              "#ed7953"
             ],
             [
              0.7777777777777778,
              "#fb9f3a"
             ],
             [
              0.8888888888888888,
              "#fdca26"
             ],
             [
              1,
              "#f0f921"
             ]
            ],
            "type": "heatmapgl"
           }
          ],
          "histogram": [
           {
            "marker": {
             "pattern": {
              "fillmode": "overlay",
              "size": 10,
              "solidity": 0.2
             }
            },
            "type": "histogram"
           }
          ],
          "histogram2d": [
           {
            "colorbar": {
             "outlinewidth": 0,
             "ticks": ""
            },
            "colorscale": [
             [
              0,
              "#0d0887"
             ],
             [
              0.1111111111111111,
              "#46039f"
             ],
             [
              0.2222222222222222,
              "#7201a8"
             ],
             [
              0.3333333333333333,
              "#9c179e"
             ],
             [
              0.4444444444444444,
              "#bd3786"
             ],
             [
              0.5555555555555556,
              "#d8576b"
             ],
             [
              0.6666666666666666,
              "#ed7953"
             ],
             [
              0.7777777777777778,
              "#fb9f3a"
             ],
             [
              0.8888888888888888,
              "#fdca26"
             ],
             [
              1,
              "#f0f921"
             ]
            ],
            "type": "histogram2d"
           }
          ],
          "histogram2dcontour": [
           {
            "colorbar": {
             "outlinewidth": 0,
             "ticks": ""
            },
            "colorscale": [
             [
              0,
              "#0d0887"
             ],
             [
              0.1111111111111111,
              "#46039f"
             ],
             [
              0.2222222222222222,
              "#7201a8"
             ],
             [
              0.3333333333333333,
              "#9c179e"
             ],
             [
              0.4444444444444444,
              "#bd3786"
             ],
             [
              0.5555555555555556,
              "#d8576b"
             ],
             [
              0.6666666666666666,
              "#ed7953"
             ],
             [
              0.7777777777777778,
              "#fb9f3a"
             ],
             [
              0.8888888888888888,
              "#fdca26"
             ],
             [
              1,
              "#f0f921"
             ]
            ],
            "type": "histogram2dcontour"
           }
          ],
          "mesh3d": [
           {
            "colorbar": {
             "outlinewidth": 0,
             "ticks": ""
            },
            "type": "mesh3d"
           }
          ],
          "parcoords": [
           {
            "line": {
             "colorbar": {
              "outlinewidth": 0,
              "ticks": ""
             }
            },
            "type": "parcoords"
           }
          ],
          "pie": [
           {
            "automargin": true,
            "type": "pie"
           }
          ],
          "scatter": [
           {
            "fillpattern": {
             "fillmode": "overlay",
             "size": 10,
             "solidity": 0.2
            },
            "type": "scatter"
           }
          ],
          "scatter3d": [
           {
            "line": {
             "colorbar": {
              "outlinewidth": 0,
              "ticks": ""
             }
            },
            "marker": {
             "colorbar": {
              "outlinewidth": 0,
              "ticks": ""
             }
            },
            "type": "scatter3d"
           }
          ],
          "scattercarpet": [
           {
            "marker": {
             "colorbar": {
              "outlinewidth": 0,
              "ticks": ""
             }
            },
            "type": "scattercarpet"
           }
          ],
          "scattergeo": [
           {
            "marker": {
             "colorbar": {
              "outlinewidth": 0,
              "ticks": ""
             }
            },
            "type": "scattergeo"
           }
          ],
          "scattergl": [
           {
            "marker": {
             "colorbar": {
              "outlinewidth": 0,
              "ticks": ""
             }
            },
            "type": "scattergl"
           }
          ],
          "scattermapbox": [
           {
            "marker": {
             "colorbar": {
              "outlinewidth": 0,
              "ticks": ""
             }
            },
            "type": "scattermapbox"
           }
          ],
          "scatterpolar": [
           {
            "marker": {
             "colorbar": {
              "outlinewidth": 0,
              "ticks": ""
             }
            },
            "type": "scatterpolar"
           }
          ],
          "scatterpolargl": [
           {
            "marker": {
             "colorbar": {
              "outlinewidth": 0,
              "ticks": ""
             }
            },
            "type": "scatterpolargl"
           }
          ],
          "scatterternary": [
           {
            "marker": {
             "colorbar": {
              "outlinewidth": 0,
              "ticks": ""
             }
            },
            "type": "scatterternary"
           }
          ],
          "surface": [
           {
            "colorbar": {
             "outlinewidth": 0,
             "ticks": ""
            },
            "colorscale": [
             [
              0,
              "#0d0887"
             ],
             [
              0.1111111111111111,
              "#46039f"
             ],
             [
              0.2222222222222222,
              "#7201a8"
             ],
             [
              0.3333333333333333,
              "#9c179e"
             ],
             [
              0.4444444444444444,
              "#bd3786"
             ],
             [
              0.5555555555555556,
              "#d8576b"
             ],
             [
              0.6666666666666666,
              "#ed7953"
             ],
             [
              0.7777777777777778,
              "#fb9f3a"
             ],
             [
              0.8888888888888888,
              "#fdca26"
             ],
             [
              1,
              "#f0f921"
             ]
            ],
            "type": "surface"
           }
          ],
          "table": [
           {
            "cells": {
             "fill": {
              "color": "#EBF0F8"
             },
             "line": {
              "color": "white"
             }
            },
            "header": {
             "fill": {
              "color": "#C8D4E3"
             },
             "line": {
              "color": "white"
             }
            },
            "type": "table"
           }
          ]
         },
         "layout": {
          "annotationdefaults": {
           "arrowcolor": "#2a3f5f",
           "arrowhead": 0,
           "arrowwidth": 1
          },
          "autotypenumbers": "strict",
          "coloraxis": {
           "colorbar": {
            "outlinewidth": 0,
            "ticks": ""
           }
          },
          "colorscale": {
           "diverging": [
            [
             0,
             "#8e0152"
            ],
            [
             0.1,
             "#c51b7d"
            ],
            [
             0.2,
             "#de77ae"
            ],
            [
             0.3,
             "#f1b6da"
            ],
            [
             0.4,
             "#fde0ef"
            ],
            [
             0.5,
             "#f7f7f7"
            ],
            [
             0.6,
             "#e6f5d0"
            ],
            [
             0.7,
             "#b8e186"
            ],
            [
             0.8,
             "#7fbc41"
            ],
            [
             0.9,
             "#4d9221"
            ],
            [
             1,
             "#276419"
            ]
           ],
           "sequential": [
            [
             0,
             "#0d0887"
            ],
            [
             0.1111111111111111,
             "#46039f"
            ],
            [
             0.2222222222222222,
             "#7201a8"
            ],
            [
             0.3333333333333333,
             "#9c179e"
            ],
            [
             0.4444444444444444,
             "#bd3786"
            ],
            [
             0.5555555555555556,
             "#d8576b"
            ],
            [
             0.6666666666666666,
             "#ed7953"
            ],
            [
             0.7777777777777778,
             "#fb9f3a"
            ],
            [
             0.8888888888888888,
             "#fdca26"
            ],
            [
             1,
             "#f0f921"
            ]
           ],
           "sequentialminus": [
            [
             0,
             "#0d0887"
            ],
            [
             0.1111111111111111,
             "#46039f"
            ],
            [
             0.2222222222222222,
             "#7201a8"
            ],
            [
             0.3333333333333333,
             "#9c179e"
            ],
            [
             0.4444444444444444,
             "#bd3786"
            ],
            [
             0.5555555555555556,
             "#d8576b"
            ],
            [
             0.6666666666666666,
             "#ed7953"
            ],
            [
             0.7777777777777778,
             "#fb9f3a"
            ],
            [
             0.8888888888888888,
             "#fdca26"
            ],
            [
             1,
             "#f0f921"
            ]
           ]
          },
          "colorway": [
           "#636efa",
           "#EF553B",
           "#00cc96",
           "#ab63fa",
           "#FFA15A",
           "#19d3f3",
           "#FF6692",
           "#B6E880",
           "#FF97FF",
           "#FECB52"
          ],
          "font": {
           "color": "#2a3f5f"
          },
          "geo": {
           "bgcolor": "white",
           "lakecolor": "white",
           "landcolor": "#E5ECF6",
           "showlakes": true,
           "showland": true,
           "subunitcolor": "white"
          },
          "hoverlabel": {
           "align": "left"
          },
          "hovermode": "closest",
          "mapbox": {
           "style": "light"
          },
          "paper_bgcolor": "white",
          "plot_bgcolor": "#E5ECF6",
          "polar": {
           "angularaxis": {
            "gridcolor": "white",
            "linecolor": "white",
            "ticks": ""
           },
           "bgcolor": "#E5ECF6",
           "radialaxis": {
            "gridcolor": "white",
            "linecolor": "white",
            "ticks": ""
           }
          },
          "scene": {
           "xaxis": {
            "backgroundcolor": "#E5ECF6",
            "gridcolor": "white",
            "gridwidth": 2,
            "linecolor": "white",
            "showbackground": true,
            "ticks": "",
            "zerolinecolor": "white"
           },
           "yaxis": {
            "backgroundcolor": "#E5ECF6",
            "gridcolor": "white",
            "gridwidth": 2,
            "linecolor": "white",
            "showbackground": true,
            "ticks": "",
            "zerolinecolor": "white"
           },
           "zaxis": {
            "backgroundcolor": "#E5ECF6",
            "gridcolor": "white",
            "gridwidth": 2,
            "linecolor": "white",
            "showbackground": true,
            "ticks": "",
            "zerolinecolor": "white"
           }
          },
          "shapedefaults": {
           "line": {
            "color": "#2a3f5f"
           }
          },
          "ternary": {
           "aaxis": {
            "gridcolor": "white",
            "linecolor": "white",
            "ticks": ""
           },
           "baxis": {
            "gridcolor": "white",
            "linecolor": "white",
            "ticks": ""
           },
           "bgcolor": "#E5ECF6",
           "caxis": {
            "gridcolor": "white",
            "linecolor": "white",
            "ticks": ""
           }
          },
          "title": {
           "x": 0.05
          },
          "xaxis": {
           "automargin": true,
           "gridcolor": "white",
           "linecolor": "white",
           "ticks": "",
           "title": {
            "standoff": 15
           },
           "zerolinecolor": "white",
           "zerolinewidth": 2
          },
          "yaxis": {
           "automargin": true,
           "gridcolor": "white",
           "linecolor": "white",
           "ticks": "",
           "title": {
            "standoff": 15
           },
           "zerolinecolor": "white",
           "zerolinewidth": 2
          }
         }
        },
        "title": {
         "font": {
          "color": "#4D5663"
         }
        },
        "xaxis": {
         "gridcolor": "#E1E5ED",
         "showgrid": true,
         "tickfont": {
          "color": "#4D5663"
         },
         "title": {
          "font": {
           "color": "#4D5663"
          },
          "text": ""
         },
         "zerolinecolor": "#E1E5ED"
        },
        "yaxis": {
         "gridcolor": "#E1E5ED",
         "showgrid": true,
         "tickfont": {
          "color": "#4D5663"
         },
         "title": {
          "font": {
           "color": "#4D5663"
          },
          "text": ""
         },
         "zerolinecolor": "#E1E5ED"
        }
       }
      },
      "text/html": [
       "<div>                            <div id=\"7ae8621b-3dd3-4a95-95fc-349a6dc1af99\" class=\"plotly-graph-div\" style=\"height:525px; width:100%;\"></div>            <script type=\"text/javascript\">                require([\"plotly\"], function(Plotly) {                    window.PLOTLYENV=window.PLOTLYENV || {};\n",
       "                    window.PLOTLYENV.BASE_URL='https://plot.ly';                                    if (document.getElementById(\"7ae8621b-3dd3-4a95-95fc-349a6dc1af99\")) {                    Plotly.newPlot(                        \"7ae8621b-3dd3-4a95-95fc-349a6dc1af99\",                        [{\"line\":{\"color\":\"rgba(255, 153, 51, 1.0)\",\"dash\":\"solid\",\"shape\":\"linear\",\"width\":1.3},\"marker\":{\"size\":10,\"symbol\":\"circle\"},\"mode\":\"markers\",\"name\":\"B\",\"text\":\"\",\"x\":[0.7524227622239249,-0.6487508694482285,-0.12276902469067315,-1.7956304294769236,-0.9799731504092138,1.3362874408281362,1.6300701479361905,1.893259976205648,1.102454540951155,-2.1450995701597635,-0.27791957658198363,0.5884301683993967,0.615111776799618,0.2015144223854086,2.1435623735574123,-1.4930470533502194,1.5356692790966953,-1.0229093074170883,0.1759924467352236,-0.5835389825445142,-1.5045905284820054,0.7121602950723773,0.027639743148447422,1.4899290306550939,2.7417157921905764,1.1071397111583028,0.1116141070140691,0.49478387791171435,0.09675256767697327,2.1385303960269098,-0.6690582559318675,-0.0625705570795616,0.35924665837333947,0.03971910887051859,0.9831002494786435,0.9006490205825207,-0.9538509595822618,-0.20768454140825984,1.1296875020178823,0.061143301200641514,0.16916316503414763,-1.166564321780111,0.5891047687352472,0.793330260909169,-0.9834954995976098,0.6372477908713823,1.176628879265964,0.25097681343004324,1.656911627497132,1.179288445516592,-0.13271766438827634,0.3001113425006879,1.0101157978281166,-0.8957405536547673,0.7595712933512376,-0.5193778376546777,0.1423613502424884,-2.1021074624815883,0.33302496576488233,-0.16979628990295093,-0.9468499260465263,-0.8834558066344341,0.6230893758350854,-0.649993041546382,1.448657701803833,-0.8458526622516507,-0.0981429164294889,-0.5936239908790261,-0.385848432532634,-1.3735488390101918,-1.0056553057412447,-1.26730052140875,0.6556464292500415,-0.1334056210776524,-0.5853856257269497,0.6067943948542077,-0.9524477619805134,0.8256890188080714,-0.38544439397462416,-0.09760326316560804,-1.162915585696774,-0.38799627732569153,0.9711969001992721,1.6523680779276493,-1.8045995945136548,0.8692706779303185,0.2982140066126374,-2.232879857099527,0.271029852610972,-0.45240581774251093,0.9318810556623758,-0.26768715861225206,-1.1455708825858975,1.8683283454304598,0.8573275444364243,1.3325036587822003,2.599708051322223,2.5408176068246195,0.24426027282740315,1.9126990659987366],\"y\":[-0.14411142071418448,0.4543383861726146,-0.7083109717970135,1.0903842538507134,-0.9618951277509531,0.7910225125160179,-0.09170042656156237,1.2065985419544019,0.5554298383945874,1.2392441562349639,-0.10418607581733894,-1.5962761205932277,-0.6726747533058741,0.40019099429991684,0.35184677700579475,-0.24545355294518686,1.6395704390094321,0.14405723113709348,0.3926952588678192,0.3654074215407099,-0.7681215022777197,-1.4062832714563236,-1.2546410580879253,0.18550467761114373,-0.8431939326081225,-2.06963127321301,1.48658934053319,-1.3326252323447432,-0.56726203886916,0.1361568603876222,0.6083662168232864,-0.09910069096383518,1.0820082378249034,0.31019928685403797,-0.731073676798277,0.040732192306421416,-0.8107107612338843,1.4173142860072543,-0.27584483581014213,2.5355035017244085,1.3112730058506958,-0.41427195107802095,-0.1741073227349552,1.6087551847409967,-0.9134078520482416,0.1136295862603745,0.17373761739318422,0.808462558759177,-2.1897539132033033,0.08330649712203049,0.8248180483876241,-0.40453200043901594,-0.4694871922459325,0.6698077464337866,0.3565346365704142,0.12869804689699224,0.67017515921362,0.5360783407567321,-0.2917074199552538,0.4365141785381166,0.6105572925783977,0.9734497641828365,1.4562443431718226,-0.4981857939219861,-0.9386690265452898,1.7311316676972948,-0.6298966613647587,0.815225989591915,-0.4602572673509436,-0.9150007309938142,0.10863252084373735,1.1729531883979405,-1.631017696238814,-1.8496504257349287,0.17950210460028163,0.9682133702319166,-1.484707530253836,-1.639085276989806,0.40140816264697965,0.6390331364973107,1.2323156584101398,2.162752863112274,1.1815167591012996,-1.9852722873734716,-1.0431001767275785,-1.279261507190979,-1.411883001080788,0.6140936180273153,-1.2851155395037284,-0.42350457709057093,-0.2271241069058536,-2.1592081055400807,-0.6316189001075955,0.490315679755434,-0.6518997189531053,-0.10202977067303974,0.8948687383146906,0.24313123575142453,-0.10391921868855766,0.7618133728978007],\"type\":\"scatter\"}],                        {\"legend\":{\"bgcolor\":\"#F5F6F9\",\"font\":{\"color\":\"#4D5663\"}},\"paper_bgcolor\":\"#F5F6F9\",\"plot_bgcolor\":\"#F5F6F9\",\"template\":{\"data\":{\"barpolar\":[{\"marker\":{\"line\":{\"color\":\"#E5ECF6\",\"width\":0.5},\"pattern\":{\"fillmode\":\"overlay\",\"size\":10,\"solidity\":0.2}},\"type\":\"barpolar\"}],\"bar\":[{\"error_x\":{\"color\":\"#2a3f5f\"},\"error_y\":{\"color\":\"#2a3f5f\"},\"marker\":{\"line\":{\"color\":\"#E5ECF6\",\"width\":0.5},\"pattern\":{\"fillmode\":\"overlay\",\"size\":10,\"solidity\":0.2}},\"type\":\"bar\"}],\"carpet\":[{\"aaxis\":{\"endlinecolor\":\"#2a3f5f\",\"gridcolor\":\"white\",\"linecolor\":\"white\",\"minorgridcolor\":\"white\",\"startlinecolor\":\"#2a3f5f\"},\"baxis\":{\"endlinecolor\":\"#2a3f5f\",\"gridcolor\":\"white\",\"linecolor\":\"white\",\"minorgridcolor\":\"white\",\"startlinecolor\":\"#2a3f5f\"},\"type\":\"carpet\"}],\"choropleth\":[{\"colorbar\":{\"outlinewidth\":0,\"ticks\":\"\"},\"type\":\"choropleth\"}],\"contourcarpet\":[{\"colorbar\":{\"outlinewidth\":0,\"ticks\":\"\"},\"type\":\"contourcarpet\"}],\"contour\":[{\"colorbar\":{\"outlinewidth\":0,\"ticks\":\"\"},\"colorscale\":[[0.0,\"#0d0887\"],[0.1111111111111111,\"#46039f\"],[0.2222222222222222,\"#7201a8\"],[0.3333333333333333,\"#9c179e\"],[0.4444444444444444,\"#bd3786\"],[0.5555555555555556,\"#d8576b\"],[0.6666666666666666,\"#ed7953\"],[0.7777777777777778,\"#fb9f3a\"],[0.8888888888888888,\"#fdca26\"],[1.0,\"#f0f921\"]],\"type\":\"contour\"}],\"heatmapgl\":[{\"colorbar\":{\"outlinewidth\":0,\"ticks\":\"\"},\"colorscale\":[[0.0,\"#0d0887\"],[0.1111111111111111,\"#46039f\"],[0.2222222222222222,\"#7201a8\"],[0.3333333333333333,\"#9c179e\"],[0.4444444444444444,\"#bd3786\"],[0.5555555555555556,\"#d8576b\"],[0.6666666666666666,\"#ed7953\"],[0.7777777777777778,\"#fb9f3a\"],[0.8888888888888888,\"#fdca26\"],[1.0,\"#f0f921\"]],\"type\":\"heatmapgl\"}],\"heatmap\":[{\"colorbar\":{\"outlinewidth\":0,\"ticks\":\"\"},\"colorscale\":[[0.0,\"#0d0887\"],[0.1111111111111111,\"#46039f\"],[0.2222222222222222,\"#7201a8\"],[0.3333333333333333,\"#9c179e\"],[0.4444444444444444,\"#bd3786\"],[0.5555555555555556,\"#d8576b\"],[0.6666666666666666,\"#ed7953\"],[0.7777777777777778,\"#fb9f3a\"],[0.8888888888888888,\"#fdca26\"],[1.0,\"#f0f921\"]],\"type\":\"heatmap\"}],\"histogram2dcontour\":[{\"colorbar\":{\"outlinewidth\":0,\"ticks\":\"\"},\"colorscale\":[[0.0,\"#0d0887\"],[0.1111111111111111,\"#46039f\"],[0.2222222222222222,\"#7201a8\"],[0.3333333333333333,\"#9c179e\"],[0.4444444444444444,\"#bd3786\"],[0.5555555555555556,\"#d8576b\"],[0.6666666666666666,\"#ed7953\"],[0.7777777777777778,\"#fb9f3a\"],[0.8888888888888888,\"#fdca26\"],[1.0,\"#f0f921\"]],\"type\":\"histogram2dcontour\"}],\"histogram2d\":[{\"colorbar\":{\"outlinewidth\":0,\"ticks\":\"\"},\"colorscale\":[[0.0,\"#0d0887\"],[0.1111111111111111,\"#46039f\"],[0.2222222222222222,\"#7201a8\"],[0.3333333333333333,\"#9c179e\"],[0.4444444444444444,\"#bd3786\"],[0.5555555555555556,\"#d8576b\"],[0.6666666666666666,\"#ed7953\"],[0.7777777777777778,\"#fb9f3a\"],[0.8888888888888888,\"#fdca26\"],[1.0,\"#f0f921\"]],\"type\":\"histogram2d\"}],\"histogram\":[{\"marker\":{\"pattern\":{\"fillmode\":\"overlay\",\"size\":10,\"solidity\":0.2}},\"type\":\"histogram\"}],\"mesh3d\":[{\"colorbar\":{\"outlinewidth\":0,\"ticks\":\"\"},\"type\":\"mesh3d\"}],\"parcoords\":[{\"line\":{\"colorbar\":{\"outlinewidth\":0,\"ticks\":\"\"}},\"type\":\"parcoords\"}],\"pie\":[{\"automargin\":true,\"type\":\"pie\"}],\"scatter3d\":[{\"line\":{\"colorbar\":{\"outlinewidth\":0,\"ticks\":\"\"}},\"marker\":{\"colorbar\":{\"outlinewidth\":0,\"ticks\":\"\"}},\"type\":\"scatter3d\"}],\"scattercarpet\":[{\"marker\":{\"colorbar\":{\"outlinewidth\":0,\"ticks\":\"\"}},\"type\":\"scattercarpet\"}],\"scattergeo\":[{\"marker\":{\"colorbar\":{\"outlinewidth\":0,\"ticks\":\"\"}},\"type\":\"scattergeo\"}],\"scattergl\":[{\"marker\":{\"colorbar\":{\"outlinewidth\":0,\"ticks\":\"\"}},\"type\":\"scattergl\"}],\"scattermapbox\":[{\"marker\":{\"colorbar\":{\"outlinewidth\":0,\"ticks\":\"\"}},\"type\":\"scattermapbox\"}],\"scatterpolargl\":[{\"marker\":{\"colorbar\":{\"outlinewidth\":0,\"ticks\":\"\"}},\"type\":\"scatterpolargl\"}],\"scatterpolar\":[{\"marker\":{\"colorbar\":{\"outlinewidth\":0,\"ticks\":\"\"}},\"type\":\"scatterpolar\"}],\"scatter\":[{\"fillpattern\":{\"fillmode\":\"overlay\",\"size\":10,\"solidity\":0.2},\"type\":\"scatter\"}],\"scatterternary\":[{\"marker\":{\"colorbar\":{\"outlinewidth\":0,\"ticks\":\"\"}},\"type\":\"scatterternary\"}],\"surface\":[{\"colorbar\":{\"outlinewidth\":0,\"ticks\":\"\"},\"colorscale\":[[0.0,\"#0d0887\"],[0.1111111111111111,\"#46039f\"],[0.2222222222222222,\"#7201a8\"],[0.3333333333333333,\"#9c179e\"],[0.4444444444444444,\"#bd3786\"],[0.5555555555555556,\"#d8576b\"],[0.6666666666666666,\"#ed7953\"],[0.7777777777777778,\"#fb9f3a\"],[0.8888888888888888,\"#fdca26\"],[1.0,\"#f0f921\"]],\"type\":\"surface\"}],\"table\":[{\"cells\":{\"fill\":{\"color\":\"#EBF0F8\"},\"line\":{\"color\":\"white\"}},\"header\":{\"fill\":{\"color\":\"#C8D4E3\"},\"line\":{\"color\":\"white\"}},\"type\":\"table\"}]},\"layout\":{\"annotationdefaults\":{\"arrowcolor\":\"#2a3f5f\",\"arrowhead\":0,\"arrowwidth\":1},\"autotypenumbers\":\"strict\",\"coloraxis\":{\"colorbar\":{\"outlinewidth\":0,\"ticks\":\"\"}},\"colorscale\":{\"diverging\":[[0,\"#8e0152\"],[0.1,\"#c51b7d\"],[0.2,\"#de77ae\"],[0.3,\"#f1b6da\"],[0.4,\"#fde0ef\"],[0.5,\"#f7f7f7\"],[0.6,\"#e6f5d0\"],[0.7,\"#b8e186\"],[0.8,\"#7fbc41\"],[0.9,\"#4d9221\"],[1,\"#276419\"]],\"sequential\":[[0.0,\"#0d0887\"],[0.1111111111111111,\"#46039f\"],[0.2222222222222222,\"#7201a8\"],[0.3333333333333333,\"#9c179e\"],[0.4444444444444444,\"#bd3786\"],[0.5555555555555556,\"#d8576b\"],[0.6666666666666666,\"#ed7953\"],[0.7777777777777778,\"#fb9f3a\"],[0.8888888888888888,\"#fdca26\"],[1.0,\"#f0f921\"]],\"sequentialminus\":[[0.0,\"#0d0887\"],[0.1111111111111111,\"#46039f\"],[0.2222222222222222,\"#7201a8\"],[0.3333333333333333,\"#9c179e\"],[0.4444444444444444,\"#bd3786\"],[0.5555555555555556,\"#d8576b\"],[0.6666666666666666,\"#ed7953\"],[0.7777777777777778,\"#fb9f3a\"],[0.8888888888888888,\"#fdca26\"],[1.0,\"#f0f921\"]]},\"colorway\":[\"#636efa\",\"#EF553B\",\"#00cc96\",\"#ab63fa\",\"#FFA15A\",\"#19d3f3\",\"#FF6692\",\"#B6E880\",\"#FF97FF\",\"#FECB52\"],\"font\":{\"color\":\"#2a3f5f\"},\"geo\":{\"bgcolor\":\"white\",\"lakecolor\":\"white\",\"landcolor\":\"#E5ECF6\",\"showlakes\":true,\"showland\":true,\"subunitcolor\":\"white\"},\"hoverlabel\":{\"align\":\"left\"},\"hovermode\":\"closest\",\"mapbox\":{\"style\":\"light\"},\"paper_bgcolor\":\"white\",\"plot_bgcolor\":\"#E5ECF6\",\"polar\":{\"angularaxis\":{\"gridcolor\":\"white\",\"linecolor\":\"white\",\"ticks\":\"\"},\"bgcolor\":\"#E5ECF6\",\"radialaxis\":{\"gridcolor\":\"white\",\"linecolor\":\"white\",\"ticks\":\"\"}},\"scene\":{\"xaxis\":{\"backgroundcolor\":\"#E5ECF6\",\"gridcolor\":\"white\",\"gridwidth\":2,\"linecolor\":\"white\",\"showbackground\":true,\"ticks\":\"\",\"zerolinecolor\":\"white\"},\"yaxis\":{\"backgroundcolor\":\"#E5ECF6\",\"gridcolor\":\"white\",\"gridwidth\":2,\"linecolor\":\"white\",\"showbackground\":true,\"ticks\":\"\",\"zerolinecolor\":\"white\"},\"zaxis\":{\"backgroundcolor\":\"#E5ECF6\",\"gridcolor\":\"white\",\"gridwidth\":2,\"linecolor\":\"white\",\"showbackground\":true,\"ticks\":\"\",\"zerolinecolor\":\"white\"}},\"shapedefaults\":{\"line\":{\"color\":\"#2a3f5f\"}},\"ternary\":{\"aaxis\":{\"gridcolor\":\"white\",\"linecolor\":\"white\",\"ticks\":\"\"},\"baxis\":{\"gridcolor\":\"white\",\"linecolor\":\"white\",\"ticks\":\"\"},\"bgcolor\":\"#E5ECF6\",\"caxis\":{\"gridcolor\":\"white\",\"linecolor\":\"white\",\"ticks\":\"\"}},\"title\":{\"x\":0.05},\"xaxis\":{\"automargin\":true,\"gridcolor\":\"white\",\"linecolor\":\"white\",\"ticks\":\"\",\"title\":{\"standoff\":15},\"zerolinecolor\":\"white\",\"zerolinewidth\":2},\"yaxis\":{\"automargin\":true,\"gridcolor\":\"white\",\"linecolor\":\"white\",\"ticks\":\"\",\"title\":{\"standoff\":15},\"zerolinecolor\":\"white\",\"zerolinewidth\":2}}},\"title\":{\"font\":{\"color\":\"#4D5663\"}},\"xaxis\":{\"gridcolor\":\"#E1E5ED\",\"showgrid\":true,\"tickfont\":{\"color\":\"#4D5663\"},\"title\":{\"font\":{\"color\":\"#4D5663\"},\"text\":\"\"},\"zerolinecolor\":\"#E1E5ED\"},\"yaxis\":{\"gridcolor\":\"#E1E5ED\",\"showgrid\":true,\"tickfont\":{\"color\":\"#4D5663\"},\"title\":{\"font\":{\"color\":\"#4D5663\"},\"text\":\"\"},\"zerolinecolor\":\"#E1E5ED\"}},                        {\"showLink\": true, \"linkText\": \"Export to plot.ly\", \"plotlyServerURL\": \"https://plot.ly\", \"responsive\": true}                    ).then(function(){\n",
       "                            \n",
       "var gd = document.getElementById('7ae8621b-3dd3-4a95-95fc-349a6dc1af99');\n",
       "var x = new MutationObserver(function (mutations, observer) {{\n",
       "        var display = window.getComputedStyle(gd).display;\n",
       "        if (!display || display === 'none') {{\n",
       "            console.log([gd, 'removed!']);\n",
       "            Plotly.purge(gd);\n",
       "            observer.disconnect();\n",
       "        }}\n",
       "}});\n",
       "\n",
       "// Listen for the removal of the full notebook cells\n",
       "var notebookContainer = gd.closest('#notebook-container');\n",
       "if (notebookContainer) {{\n",
       "    x.observe(notebookContainer, {childList: true});\n",
       "}}\n",
       "\n",
       "// Listen for the clearing of the current output cell\n",
       "var outputEl = gd.closest('.output');\n",
       "if (outputEl) {{\n",
       "    x.observe(outputEl, {childList: true});\n",
       "}}\n",
       "\n",
       "                        })                };                });            </script>        </div>"
      ]
     },
     "metadata": {},
     "output_type": "display_data"
    }
   ],
   "source": [
    "#Scatter\n",
    "df.iplot(kind='scatter',x='A',y='B',mode='markers',size=10)"
   ]
  },
  {
   "cell_type": "code",
   "execution_count": 12,
   "id": "d514ffd2",
   "metadata": {},
   "outputs": [
    {
     "data": {
      "application/vnd.plotly.v1+json": {
       "config": {
        "linkText": "Export to plot.ly",
        "plotlyServerURL": "https://plot.ly",
        "showLink": true
       },
       "data": [
        {
         "marker": {
          "color": "rgba(255, 153, 51, 0.6)",
          "line": {
           "color": "rgba(255, 153, 51, 1.0)",
           "width": 1
          }
         },
         "name": "Values",
         "orientation": "v",
         "text": "",
         "type": "bar",
         "x": [
          "A",
          "B",
          "C"
         ],
         "y": [
          32,
          43,
          50
         ]
        }
       ],
       "layout": {
        "legend": {
         "bgcolor": "#F5F6F9",
         "font": {
          "color": "#4D5663"
         }
        },
        "paper_bgcolor": "#F5F6F9",
        "plot_bgcolor": "#F5F6F9",
        "template": {
         "data": {
          "bar": [
           {
            "error_x": {
             "color": "#2a3f5f"
            },
            "error_y": {
             "color": "#2a3f5f"
            },
            "marker": {
             "line": {
              "color": "#E5ECF6",
              "width": 0.5
             },
             "pattern": {
              "fillmode": "overlay",
              "size": 10,
              "solidity": 0.2
             }
            },
            "type": "bar"
           }
          ],
          "barpolar": [
           {
            "marker": {
             "line": {
              "color": "#E5ECF6",
              "width": 0.5
             },
             "pattern": {
              "fillmode": "overlay",
              "size": 10,
              "solidity": 0.2
             }
            },
            "type": "barpolar"
           }
          ],
          "carpet": [
           {
            "aaxis": {
             "endlinecolor": "#2a3f5f",
             "gridcolor": "white",
             "linecolor": "white",
             "minorgridcolor": "white",
             "startlinecolor": "#2a3f5f"
            },
            "baxis": {
             "endlinecolor": "#2a3f5f",
             "gridcolor": "white",
             "linecolor": "white",
             "minorgridcolor": "white",
             "startlinecolor": "#2a3f5f"
            },
            "type": "carpet"
           }
          ],
          "choropleth": [
           {
            "colorbar": {
             "outlinewidth": 0,
             "ticks": ""
            },
            "type": "choropleth"
           }
          ],
          "contour": [
           {
            "colorbar": {
             "outlinewidth": 0,
             "ticks": ""
            },
            "colorscale": [
             [
              0,
              "#0d0887"
             ],
             [
              0.1111111111111111,
              "#46039f"
             ],
             [
              0.2222222222222222,
              "#7201a8"
             ],
             [
              0.3333333333333333,
              "#9c179e"
             ],
             [
              0.4444444444444444,
              "#bd3786"
             ],
             [
              0.5555555555555556,
              "#d8576b"
             ],
             [
              0.6666666666666666,
              "#ed7953"
             ],
             [
              0.7777777777777778,
              "#fb9f3a"
             ],
             [
              0.8888888888888888,
              "#fdca26"
             ],
             [
              1,
              "#f0f921"
             ]
            ],
            "type": "contour"
           }
          ],
          "contourcarpet": [
           {
            "colorbar": {
             "outlinewidth": 0,
             "ticks": ""
            },
            "type": "contourcarpet"
           }
          ],
          "heatmap": [
           {
            "colorbar": {
             "outlinewidth": 0,
             "ticks": ""
            },
            "colorscale": [
             [
              0,
              "#0d0887"
             ],
             [
              0.1111111111111111,
              "#46039f"
             ],
             [
              0.2222222222222222,
              "#7201a8"
             ],
             [
              0.3333333333333333,
              "#9c179e"
             ],
             [
              0.4444444444444444,
              "#bd3786"
             ],
             [
              0.5555555555555556,
              "#d8576b"
             ],
             [
              0.6666666666666666,
              "#ed7953"
             ],
             [
              0.7777777777777778,
              "#fb9f3a"
             ],
             [
              0.8888888888888888,
              "#fdca26"
             ],
             [
              1,
              "#f0f921"
             ]
            ],
            "type": "heatmap"
           }
          ],
          "heatmapgl": [
           {
            "colorbar": {
             "outlinewidth": 0,
             "ticks": ""
            },
            "colorscale": [
             [
              0,
              "#0d0887"
             ],
             [
              0.1111111111111111,
              "#46039f"
             ],
             [
              0.2222222222222222,
              "#7201a8"
             ],
             [
              0.3333333333333333,
              "#9c179e"
             ],
             [
              0.4444444444444444,
              "#bd3786"
             ],
             [
              0.5555555555555556,
              "#d8576b"
             ],
             [
              0.6666666666666666,
              "#ed7953"
             ],
             [
              0.7777777777777778,
              "#fb9f3a"
             ],
             [
              0.8888888888888888,
              "#fdca26"
             ],
             [
              1,
              "#f0f921"
             ]
            ],
            "type": "heatmapgl"
           }
          ],
          "histogram": [
           {
            "marker": {
             "pattern": {
              "fillmode": "overlay",
              "size": 10,
              "solidity": 0.2
             }
            },
            "type": "histogram"
           }
          ],
          "histogram2d": [
           {
            "colorbar": {
             "outlinewidth": 0,
             "ticks": ""
            },
            "colorscale": [
             [
              0,
              "#0d0887"
             ],
             [
              0.1111111111111111,
              "#46039f"
             ],
             [
              0.2222222222222222,
              "#7201a8"
             ],
             [
              0.3333333333333333,
              "#9c179e"
             ],
             [
              0.4444444444444444,
              "#bd3786"
             ],
             [
              0.5555555555555556,
              "#d8576b"
             ],
             [
              0.6666666666666666,
              "#ed7953"
             ],
             [
              0.7777777777777778,
              "#fb9f3a"
             ],
             [
              0.8888888888888888,
              "#fdca26"
             ],
             [
              1,
              "#f0f921"
             ]
            ],
            "type": "histogram2d"
           }
          ],
          "histogram2dcontour": [
           {
            "colorbar": {
             "outlinewidth": 0,
             "ticks": ""
            },
            "colorscale": [
             [
              0,
              "#0d0887"
             ],
             [
              0.1111111111111111,
              "#46039f"
             ],
             [
              0.2222222222222222,
              "#7201a8"
             ],
             [
              0.3333333333333333,
              "#9c179e"
             ],
             [
              0.4444444444444444,
              "#bd3786"
             ],
             [
              0.5555555555555556,
              "#d8576b"
             ],
             [
              0.6666666666666666,
              "#ed7953"
             ],
             [
              0.7777777777777778,
              "#fb9f3a"
             ],
             [
              0.8888888888888888,
              "#fdca26"
             ],
             [
              1,
              "#f0f921"
             ]
            ],
            "type": "histogram2dcontour"
           }
          ],
          "mesh3d": [
           {
            "colorbar": {
             "outlinewidth": 0,
             "ticks": ""
            },
            "type": "mesh3d"
           }
          ],
          "parcoords": [
           {
            "line": {
             "colorbar": {
              "outlinewidth": 0,
              "ticks": ""
             }
            },
            "type": "parcoords"
           }
          ],
          "pie": [
           {
            "automargin": true,
            "type": "pie"
           }
          ],
          "scatter": [
           {
            "fillpattern": {
             "fillmode": "overlay",
             "size": 10,
             "solidity": 0.2
            },
            "type": "scatter"
           }
          ],
          "scatter3d": [
           {
            "line": {
             "colorbar": {
              "outlinewidth": 0,
              "ticks": ""
             }
            },
            "marker": {
             "colorbar": {
              "outlinewidth": 0,
              "ticks": ""
             }
            },
            "type": "scatter3d"
           }
          ],
          "scattercarpet": [
           {
            "marker": {
             "colorbar": {
              "outlinewidth": 0,
              "ticks": ""
             }
            },
            "type": "scattercarpet"
           }
          ],
          "scattergeo": [
           {
            "marker": {
             "colorbar": {
              "outlinewidth": 0,
              "ticks": ""
             }
            },
            "type": "scattergeo"
           }
          ],
          "scattergl": [
           {
            "marker": {
             "colorbar": {
              "outlinewidth": 0,
              "ticks": ""
             }
            },
            "type": "scattergl"
           }
          ],
          "scattermapbox": [
           {
            "marker": {
             "colorbar": {
              "outlinewidth": 0,
              "ticks": ""
             }
            },
            "type": "scattermapbox"
           }
          ],
          "scatterpolar": [
           {
            "marker": {
             "colorbar": {
              "outlinewidth": 0,
              "ticks": ""
             }
            },
            "type": "scatterpolar"
           }
          ],
          "scatterpolargl": [
           {
            "marker": {
             "colorbar": {
              "outlinewidth": 0,
              "ticks": ""
             }
            },
            "type": "scatterpolargl"
           }
          ],
          "scatterternary": [
           {
            "marker": {
             "colorbar": {
              "outlinewidth": 0,
              "ticks": ""
             }
            },
            "type": "scatterternary"
           }
          ],
          "surface": [
           {
            "colorbar": {
             "outlinewidth": 0,
             "ticks": ""
            },
            "colorscale": [
             [
              0,
              "#0d0887"
             ],
             [
              0.1111111111111111,
              "#46039f"
             ],
             [
              0.2222222222222222,
              "#7201a8"
             ],
             [
              0.3333333333333333,
              "#9c179e"
             ],
             [
              0.4444444444444444,
              "#bd3786"
             ],
             [
              0.5555555555555556,
              "#d8576b"
             ],
             [
              0.6666666666666666,
              "#ed7953"
             ],
             [
              0.7777777777777778,
              "#fb9f3a"
             ],
             [
              0.8888888888888888,
              "#fdca26"
             ],
             [
              1,
              "#f0f921"
             ]
            ],
            "type": "surface"
           }
          ],
          "table": [
           {
            "cells": {
             "fill": {
              "color": "#EBF0F8"
             },
             "line": {
              "color": "white"
             }
            },
            "header": {
             "fill": {
              "color": "#C8D4E3"
             },
             "line": {
              "color": "white"
             }
            },
            "type": "table"
           }
          ]
         },
         "layout": {
          "annotationdefaults": {
           "arrowcolor": "#2a3f5f",
           "arrowhead": 0,
           "arrowwidth": 1
          },
          "autotypenumbers": "strict",
          "coloraxis": {
           "colorbar": {
            "outlinewidth": 0,
            "ticks": ""
           }
          },
          "colorscale": {
           "diverging": [
            [
             0,
             "#8e0152"
            ],
            [
             0.1,
             "#c51b7d"
            ],
            [
             0.2,
             "#de77ae"
            ],
            [
             0.3,
             "#f1b6da"
            ],
            [
             0.4,
             "#fde0ef"
            ],
            [
             0.5,
             "#f7f7f7"
            ],
            [
             0.6,
             "#e6f5d0"
            ],
            [
             0.7,
             "#b8e186"
            ],
            [
             0.8,
             "#7fbc41"
            ],
            [
             0.9,
             "#4d9221"
            ],
            [
             1,
             "#276419"
            ]
           ],
           "sequential": [
            [
             0,
             "#0d0887"
            ],
            [
             0.1111111111111111,
             "#46039f"
            ],
            [
             0.2222222222222222,
             "#7201a8"
            ],
            [
             0.3333333333333333,
             "#9c179e"
            ],
            [
             0.4444444444444444,
             "#bd3786"
            ],
            [
             0.5555555555555556,
             "#d8576b"
            ],
            [
             0.6666666666666666,
             "#ed7953"
            ],
            [
             0.7777777777777778,
             "#fb9f3a"
            ],
            [
             0.8888888888888888,
             "#fdca26"
            ],
            [
             1,
             "#f0f921"
            ]
           ],
           "sequentialminus": [
            [
             0,
             "#0d0887"
            ],
            [
             0.1111111111111111,
             "#46039f"
            ],
            [
             0.2222222222222222,
             "#7201a8"
            ],
            [
             0.3333333333333333,
             "#9c179e"
            ],
            [
             0.4444444444444444,
             "#bd3786"
            ],
            [
             0.5555555555555556,
             "#d8576b"
            ],
            [
             0.6666666666666666,
             "#ed7953"
            ],
            [
             0.7777777777777778,
             "#fb9f3a"
            ],
            [
             0.8888888888888888,
             "#fdca26"
            ],
            [
             1,
             "#f0f921"
            ]
           ]
          },
          "colorway": [
           "#636efa",
           "#EF553B",
           "#00cc96",
           "#ab63fa",
           "#FFA15A",
           "#19d3f3",
           "#FF6692",
           "#B6E880",
           "#FF97FF",
           "#FECB52"
          ],
          "font": {
           "color": "#2a3f5f"
          },
          "geo": {
           "bgcolor": "white",
           "lakecolor": "white",
           "landcolor": "#E5ECF6",
           "showlakes": true,
           "showland": true,
           "subunitcolor": "white"
          },
          "hoverlabel": {
           "align": "left"
          },
          "hovermode": "closest",
          "mapbox": {
           "style": "light"
          },
          "paper_bgcolor": "white",
          "plot_bgcolor": "#E5ECF6",
          "polar": {
           "angularaxis": {
            "gridcolor": "white",
            "linecolor": "white",
            "ticks": ""
           },
           "bgcolor": "#E5ECF6",
           "radialaxis": {
            "gridcolor": "white",
            "linecolor": "white",
            "ticks": ""
           }
          },
          "scene": {
           "xaxis": {
            "backgroundcolor": "#E5ECF6",
            "gridcolor": "white",
            "gridwidth": 2,
            "linecolor": "white",
            "showbackground": true,
            "ticks": "",
            "zerolinecolor": "white"
           },
           "yaxis": {
            "backgroundcolor": "#E5ECF6",
            "gridcolor": "white",
            "gridwidth": 2,
            "linecolor": "white",
            "showbackground": true,
            "ticks": "",
            "zerolinecolor": "white"
           },
           "zaxis": {
            "backgroundcolor": "#E5ECF6",
            "gridcolor": "white",
            "gridwidth": 2,
            "linecolor": "white",
            "showbackground": true,
            "ticks": "",
            "zerolinecolor": "white"
           }
          },
          "shapedefaults": {
           "line": {
            "color": "#2a3f5f"
           }
          },
          "ternary": {
           "aaxis": {
            "gridcolor": "white",
            "linecolor": "white",
            "ticks": ""
           },
           "baxis": {
            "gridcolor": "white",
            "linecolor": "white",
            "ticks": ""
           },
           "bgcolor": "#E5ECF6",
           "caxis": {
            "gridcolor": "white",
            "linecolor": "white",
            "ticks": ""
           }
          },
          "title": {
           "x": 0.05
          },
          "xaxis": {
           "automargin": true,
           "gridcolor": "white",
           "linecolor": "white",
           "ticks": "",
           "title": {
            "standoff": 15
           },
           "zerolinecolor": "white",
           "zerolinewidth": 2
          },
          "yaxis": {
           "automargin": true,
           "gridcolor": "white",
           "linecolor": "white",
           "ticks": "",
           "title": {
            "standoff": 15
           },
           "zerolinecolor": "white",
           "zerolinewidth": 2
          }
         }
        },
        "title": {
         "font": {
          "color": "#4D5663"
         }
        },
        "xaxis": {
         "gridcolor": "#E1E5ED",
         "showgrid": true,
         "tickfont": {
          "color": "#4D5663"
         },
         "title": {
          "font": {
           "color": "#4D5663"
          },
          "text": ""
         },
         "zerolinecolor": "#E1E5ED"
        },
        "yaxis": {
         "gridcolor": "#E1E5ED",
         "showgrid": true,
         "tickfont": {
          "color": "#4D5663"
         },
         "title": {
          "font": {
           "color": "#4D5663"
          },
          "text": ""
         },
         "zerolinecolor": "#E1E5ED"
        }
       }
      },
      "text/html": [
       "<div>                            <div id=\"0e92e226-f2df-42fa-8fa2-5692e4db0b94\" class=\"plotly-graph-div\" style=\"height:525px; width:100%;\"></div>            <script type=\"text/javascript\">                require([\"plotly\"], function(Plotly) {                    window.PLOTLYENV=window.PLOTLYENV || {};\n",
       "                    window.PLOTLYENV.BASE_URL='https://plot.ly';                                    if (document.getElementById(\"0e92e226-f2df-42fa-8fa2-5692e4db0b94\")) {                    Plotly.newPlot(                        \"0e92e226-f2df-42fa-8fa2-5692e4db0b94\",                        [{\"marker\":{\"color\":\"rgba(255, 153, 51, 0.6)\",\"line\":{\"color\":\"rgba(255, 153, 51, 1.0)\",\"width\":1}},\"name\":\"Values\",\"orientation\":\"v\",\"text\":\"\",\"x\":[\"A\",\"B\",\"C\"],\"y\":[32,43,50],\"type\":\"bar\"}],                        {\"legend\":{\"bgcolor\":\"#F5F6F9\",\"font\":{\"color\":\"#4D5663\"}},\"paper_bgcolor\":\"#F5F6F9\",\"plot_bgcolor\":\"#F5F6F9\",\"template\":{\"data\":{\"barpolar\":[{\"marker\":{\"line\":{\"color\":\"#E5ECF6\",\"width\":0.5},\"pattern\":{\"fillmode\":\"overlay\",\"size\":10,\"solidity\":0.2}},\"type\":\"barpolar\"}],\"bar\":[{\"error_x\":{\"color\":\"#2a3f5f\"},\"error_y\":{\"color\":\"#2a3f5f\"},\"marker\":{\"line\":{\"color\":\"#E5ECF6\",\"width\":0.5},\"pattern\":{\"fillmode\":\"overlay\",\"size\":10,\"solidity\":0.2}},\"type\":\"bar\"}],\"carpet\":[{\"aaxis\":{\"endlinecolor\":\"#2a3f5f\",\"gridcolor\":\"white\",\"linecolor\":\"white\",\"minorgridcolor\":\"white\",\"startlinecolor\":\"#2a3f5f\"},\"baxis\":{\"endlinecolor\":\"#2a3f5f\",\"gridcolor\":\"white\",\"linecolor\":\"white\",\"minorgridcolor\":\"white\",\"startlinecolor\":\"#2a3f5f\"},\"type\":\"carpet\"}],\"choropleth\":[{\"colorbar\":{\"outlinewidth\":0,\"ticks\":\"\"},\"type\":\"choropleth\"}],\"contourcarpet\":[{\"colorbar\":{\"outlinewidth\":0,\"ticks\":\"\"},\"type\":\"contourcarpet\"}],\"contour\":[{\"colorbar\":{\"outlinewidth\":0,\"ticks\":\"\"},\"colorscale\":[[0.0,\"#0d0887\"],[0.1111111111111111,\"#46039f\"],[0.2222222222222222,\"#7201a8\"],[0.3333333333333333,\"#9c179e\"],[0.4444444444444444,\"#bd3786\"],[0.5555555555555556,\"#d8576b\"],[0.6666666666666666,\"#ed7953\"],[0.7777777777777778,\"#fb9f3a\"],[0.8888888888888888,\"#fdca26\"],[1.0,\"#f0f921\"]],\"type\":\"contour\"}],\"heatmapgl\":[{\"colorbar\":{\"outlinewidth\":0,\"ticks\":\"\"},\"colorscale\":[[0.0,\"#0d0887\"],[0.1111111111111111,\"#46039f\"],[0.2222222222222222,\"#7201a8\"],[0.3333333333333333,\"#9c179e\"],[0.4444444444444444,\"#bd3786\"],[0.5555555555555556,\"#d8576b\"],[0.6666666666666666,\"#ed7953\"],[0.7777777777777778,\"#fb9f3a\"],[0.8888888888888888,\"#fdca26\"],[1.0,\"#f0f921\"]],\"type\":\"heatmapgl\"}],\"heatmap\":[{\"colorbar\":{\"outlinewidth\":0,\"ticks\":\"\"},\"colorscale\":[[0.0,\"#0d0887\"],[0.1111111111111111,\"#46039f\"],[0.2222222222222222,\"#7201a8\"],[0.3333333333333333,\"#9c179e\"],[0.4444444444444444,\"#bd3786\"],[0.5555555555555556,\"#d8576b\"],[0.6666666666666666,\"#ed7953\"],[0.7777777777777778,\"#fb9f3a\"],[0.8888888888888888,\"#fdca26\"],[1.0,\"#f0f921\"]],\"type\":\"heatmap\"}],\"histogram2dcontour\":[{\"colorbar\":{\"outlinewidth\":0,\"ticks\":\"\"},\"colorscale\":[[0.0,\"#0d0887\"],[0.1111111111111111,\"#46039f\"],[0.2222222222222222,\"#7201a8\"],[0.3333333333333333,\"#9c179e\"],[0.4444444444444444,\"#bd3786\"],[0.5555555555555556,\"#d8576b\"],[0.6666666666666666,\"#ed7953\"],[0.7777777777777778,\"#fb9f3a\"],[0.8888888888888888,\"#fdca26\"],[1.0,\"#f0f921\"]],\"type\":\"histogram2dcontour\"}],\"histogram2d\":[{\"colorbar\":{\"outlinewidth\":0,\"ticks\":\"\"},\"colorscale\":[[0.0,\"#0d0887\"],[0.1111111111111111,\"#46039f\"],[0.2222222222222222,\"#7201a8\"],[0.3333333333333333,\"#9c179e\"],[0.4444444444444444,\"#bd3786\"],[0.5555555555555556,\"#d8576b\"],[0.6666666666666666,\"#ed7953\"],[0.7777777777777778,\"#fb9f3a\"],[0.8888888888888888,\"#fdca26\"],[1.0,\"#f0f921\"]],\"type\":\"histogram2d\"}],\"histogram\":[{\"marker\":{\"pattern\":{\"fillmode\":\"overlay\",\"size\":10,\"solidity\":0.2}},\"type\":\"histogram\"}],\"mesh3d\":[{\"colorbar\":{\"outlinewidth\":0,\"ticks\":\"\"},\"type\":\"mesh3d\"}],\"parcoords\":[{\"line\":{\"colorbar\":{\"outlinewidth\":0,\"ticks\":\"\"}},\"type\":\"parcoords\"}],\"pie\":[{\"automargin\":true,\"type\":\"pie\"}],\"scatter3d\":[{\"line\":{\"colorbar\":{\"outlinewidth\":0,\"ticks\":\"\"}},\"marker\":{\"colorbar\":{\"outlinewidth\":0,\"ticks\":\"\"}},\"type\":\"scatter3d\"}],\"scattercarpet\":[{\"marker\":{\"colorbar\":{\"outlinewidth\":0,\"ticks\":\"\"}},\"type\":\"scattercarpet\"}],\"scattergeo\":[{\"marker\":{\"colorbar\":{\"outlinewidth\":0,\"ticks\":\"\"}},\"type\":\"scattergeo\"}],\"scattergl\":[{\"marker\":{\"colorbar\":{\"outlinewidth\":0,\"ticks\":\"\"}},\"type\":\"scattergl\"}],\"scattermapbox\":[{\"marker\":{\"colorbar\":{\"outlinewidth\":0,\"ticks\":\"\"}},\"type\":\"scattermapbox\"}],\"scatterpolargl\":[{\"marker\":{\"colorbar\":{\"outlinewidth\":0,\"ticks\":\"\"}},\"type\":\"scatterpolargl\"}],\"scatterpolar\":[{\"marker\":{\"colorbar\":{\"outlinewidth\":0,\"ticks\":\"\"}},\"type\":\"scatterpolar\"}],\"scatter\":[{\"fillpattern\":{\"fillmode\":\"overlay\",\"size\":10,\"solidity\":0.2},\"type\":\"scatter\"}],\"scatterternary\":[{\"marker\":{\"colorbar\":{\"outlinewidth\":0,\"ticks\":\"\"}},\"type\":\"scatterternary\"}],\"surface\":[{\"colorbar\":{\"outlinewidth\":0,\"ticks\":\"\"},\"colorscale\":[[0.0,\"#0d0887\"],[0.1111111111111111,\"#46039f\"],[0.2222222222222222,\"#7201a8\"],[0.3333333333333333,\"#9c179e\"],[0.4444444444444444,\"#bd3786\"],[0.5555555555555556,\"#d8576b\"],[0.6666666666666666,\"#ed7953\"],[0.7777777777777778,\"#fb9f3a\"],[0.8888888888888888,\"#fdca26\"],[1.0,\"#f0f921\"]],\"type\":\"surface\"}],\"table\":[{\"cells\":{\"fill\":{\"color\":\"#EBF0F8\"},\"line\":{\"color\":\"white\"}},\"header\":{\"fill\":{\"color\":\"#C8D4E3\"},\"line\":{\"color\":\"white\"}},\"type\":\"table\"}]},\"layout\":{\"annotationdefaults\":{\"arrowcolor\":\"#2a3f5f\",\"arrowhead\":0,\"arrowwidth\":1},\"autotypenumbers\":\"strict\",\"coloraxis\":{\"colorbar\":{\"outlinewidth\":0,\"ticks\":\"\"}},\"colorscale\":{\"diverging\":[[0,\"#8e0152\"],[0.1,\"#c51b7d\"],[0.2,\"#de77ae\"],[0.3,\"#f1b6da\"],[0.4,\"#fde0ef\"],[0.5,\"#f7f7f7\"],[0.6,\"#e6f5d0\"],[0.7,\"#b8e186\"],[0.8,\"#7fbc41\"],[0.9,\"#4d9221\"],[1,\"#276419\"]],\"sequential\":[[0.0,\"#0d0887\"],[0.1111111111111111,\"#46039f\"],[0.2222222222222222,\"#7201a8\"],[0.3333333333333333,\"#9c179e\"],[0.4444444444444444,\"#bd3786\"],[0.5555555555555556,\"#d8576b\"],[0.6666666666666666,\"#ed7953\"],[0.7777777777777778,\"#fb9f3a\"],[0.8888888888888888,\"#fdca26\"],[1.0,\"#f0f921\"]],\"sequentialminus\":[[0.0,\"#0d0887\"],[0.1111111111111111,\"#46039f\"],[0.2222222222222222,\"#7201a8\"],[0.3333333333333333,\"#9c179e\"],[0.4444444444444444,\"#bd3786\"],[0.5555555555555556,\"#d8576b\"],[0.6666666666666666,\"#ed7953\"],[0.7777777777777778,\"#fb9f3a\"],[0.8888888888888888,\"#fdca26\"],[1.0,\"#f0f921\"]]},\"colorway\":[\"#636efa\",\"#EF553B\",\"#00cc96\",\"#ab63fa\",\"#FFA15A\",\"#19d3f3\",\"#FF6692\",\"#B6E880\",\"#FF97FF\",\"#FECB52\"],\"font\":{\"color\":\"#2a3f5f\"},\"geo\":{\"bgcolor\":\"white\",\"lakecolor\":\"white\",\"landcolor\":\"#E5ECF6\",\"showlakes\":true,\"showland\":true,\"subunitcolor\":\"white\"},\"hoverlabel\":{\"align\":\"left\"},\"hovermode\":\"closest\",\"mapbox\":{\"style\":\"light\"},\"paper_bgcolor\":\"white\",\"plot_bgcolor\":\"#E5ECF6\",\"polar\":{\"angularaxis\":{\"gridcolor\":\"white\",\"linecolor\":\"white\",\"ticks\":\"\"},\"bgcolor\":\"#E5ECF6\",\"radialaxis\":{\"gridcolor\":\"white\",\"linecolor\":\"white\",\"ticks\":\"\"}},\"scene\":{\"xaxis\":{\"backgroundcolor\":\"#E5ECF6\",\"gridcolor\":\"white\",\"gridwidth\":2,\"linecolor\":\"white\",\"showbackground\":true,\"ticks\":\"\",\"zerolinecolor\":\"white\"},\"yaxis\":{\"backgroundcolor\":\"#E5ECF6\",\"gridcolor\":\"white\",\"gridwidth\":2,\"linecolor\":\"white\",\"showbackground\":true,\"ticks\":\"\",\"zerolinecolor\":\"white\"},\"zaxis\":{\"backgroundcolor\":\"#E5ECF6\",\"gridcolor\":\"white\",\"gridwidth\":2,\"linecolor\":\"white\",\"showbackground\":true,\"ticks\":\"\",\"zerolinecolor\":\"white\"}},\"shapedefaults\":{\"line\":{\"color\":\"#2a3f5f\"}},\"ternary\":{\"aaxis\":{\"gridcolor\":\"white\",\"linecolor\":\"white\",\"ticks\":\"\"},\"baxis\":{\"gridcolor\":\"white\",\"linecolor\":\"white\",\"ticks\":\"\"},\"bgcolor\":\"#E5ECF6\",\"caxis\":{\"gridcolor\":\"white\",\"linecolor\":\"white\",\"ticks\":\"\"}},\"title\":{\"x\":0.05},\"xaxis\":{\"automargin\":true,\"gridcolor\":\"white\",\"linecolor\":\"white\",\"ticks\":\"\",\"title\":{\"standoff\":15},\"zerolinecolor\":\"white\",\"zerolinewidth\":2},\"yaxis\":{\"automargin\":true,\"gridcolor\":\"white\",\"linecolor\":\"white\",\"ticks\":\"\",\"title\":{\"standoff\":15},\"zerolinecolor\":\"white\",\"zerolinewidth\":2}}},\"title\":{\"font\":{\"color\":\"#4D5663\"}},\"xaxis\":{\"gridcolor\":\"#E1E5ED\",\"showgrid\":true,\"tickfont\":{\"color\":\"#4D5663\"},\"title\":{\"font\":{\"color\":\"#4D5663\"},\"text\":\"\"},\"zerolinecolor\":\"#E1E5ED\"},\"yaxis\":{\"gridcolor\":\"#E1E5ED\",\"showgrid\":true,\"tickfont\":{\"color\":\"#4D5663\"},\"title\":{\"font\":{\"color\":\"#4D5663\"},\"text\":\"\"},\"zerolinecolor\":\"#E1E5ED\"}},                        {\"showLink\": true, \"linkText\": \"Export to plot.ly\", \"plotlyServerURL\": \"https://plot.ly\", \"responsive\": true}                    ).then(function(){\n",
       "                            \n",
       "var gd = document.getElementById('0e92e226-f2df-42fa-8fa2-5692e4db0b94');\n",
       "var x = new MutationObserver(function (mutations, observer) {{\n",
       "        var display = window.getComputedStyle(gd).display;\n",
       "        if (!display || display === 'none') {{\n",
       "            console.log([gd, 'removed!']);\n",
       "            Plotly.purge(gd);\n",
       "            observer.disconnect();\n",
       "        }}\n",
       "}});\n",
       "\n",
       "// Listen for the removal of the full notebook cells\n",
       "var notebookContainer = gd.closest('#notebook-container');\n",
       "if (notebookContainer) {{\n",
       "    x.observe(notebookContainer, {childList: true});\n",
       "}}\n",
       "\n",
       "// Listen for the clearing of the current output cell\n",
       "var outputEl = gd.closest('.output');\n",
       "if (outputEl) {{\n",
       "    x.observe(outputEl, {childList: true});\n",
       "}}\n",
       "\n",
       "                        })                };                });            </script>        </div>"
      ]
     },
     "metadata": {},
     "output_type": "display_data"
    }
   ],
   "source": [
    "#Bar Plots\n",
    "df2.iplot(kind='bar',x='Category',y='Values')"
   ]
  },
  {
   "cell_type": "code",
   "execution_count": 13,
   "id": "6f12b5ec",
   "metadata": {},
   "outputs": [
    {
     "data": {
      "application/vnd.plotly.v1+json": {
       "config": {
        "linkText": "Export to plot.ly",
        "plotlyServerURL": "https://plot.ly",
        "showLink": true
       },
       "data": [
        {
         "marker": {
          "color": "rgba(255, 153, 51, 0.6)",
          "line": {
           "color": "rgba(255, 153, 51, 1.0)",
           "width": 1
          }
         },
         "name": "None",
         "orientation": "v",
         "text": "",
         "type": "bar",
         "x": [
          "A",
          "B",
          "C",
          "D"
         ],
         "y": [
          100,
          100,
          100,
          100
         ]
        }
       ],
       "layout": {
        "legend": {
         "bgcolor": "#F5F6F9",
         "font": {
          "color": "#4D5663"
         }
        },
        "paper_bgcolor": "#F5F6F9",
        "plot_bgcolor": "#F5F6F9",
        "template": {
         "data": {
          "bar": [
           {
            "error_x": {
             "color": "#2a3f5f"
            },
            "error_y": {
             "color": "#2a3f5f"
            },
            "marker": {
             "line": {
              "color": "#E5ECF6",
              "width": 0.5
             },
             "pattern": {
              "fillmode": "overlay",
              "size": 10,
              "solidity": 0.2
             }
            },
            "type": "bar"
           }
          ],
          "barpolar": [
           {
            "marker": {
             "line": {
              "color": "#E5ECF6",
              "width": 0.5
             },
             "pattern": {
              "fillmode": "overlay",
              "size": 10,
              "solidity": 0.2
             }
            },
            "type": "barpolar"
           }
          ],
          "carpet": [
           {
            "aaxis": {
             "endlinecolor": "#2a3f5f",
             "gridcolor": "white",
             "linecolor": "white",
             "minorgridcolor": "white",
             "startlinecolor": "#2a3f5f"
            },
            "baxis": {
             "endlinecolor": "#2a3f5f",
             "gridcolor": "white",
             "linecolor": "white",
             "minorgridcolor": "white",
             "startlinecolor": "#2a3f5f"
            },
            "type": "carpet"
           }
          ],
          "choropleth": [
           {
            "colorbar": {
             "outlinewidth": 0,
             "ticks": ""
            },
            "type": "choropleth"
           }
          ],
          "contour": [
           {
            "colorbar": {
             "outlinewidth": 0,
             "ticks": ""
            },
            "colorscale": [
             [
              0,
              "#0d0887"
             ],
             [
              0.1111111111111111,
              "#46039f"
             ],
             [
              0.2222222222222222,
              "#7201a8"
             ],
             [
              0.3333333333333333,
              "#9c179e"
             ],
             [
              0.4444444444444444,
              "#bd3786"
             ],
             [
              0.5555555555555556,
              "#d8576b"
             ],
             [
              0.6666666666666666,
              "#ed7953"
             ],
             [
              0.7777777777777778,
              "#fb9f3a"
             ],
             [
              0.8888888888888888,
              "#fdca26"
             ],
             [
              1,
              "#f0f921"
             ]
            ],
            "type": "contour"
           }
          ],
          "contourcarpet": [
           {
            "colorbar": {
             "outlinewidth": 0,
             "ticks": ""
            },
            "type": "contourcarpet"
           }
          ],
          "heatmap": [
           {
            "colorbar": {
             "outlinewidth": 0,
             "ticks": ""
            },
            "colorscale": [
             [
              0,
              "#0d0887"
             ],
             [
              0.1111111111111111,
              "#46039f"
             ],
             [
              0.2222222222222222,
              "#7201a8"
             ],
             [
              0.3333333333333333,
              "#9c179e"
             ],
             [
              0.4444444444444444,
              "#bd3786"
             ],
             [
              0.5555555555555556,
              "#d8576b"
             ],
             [
              0.6666666666666666,
              "#ed7953"
             ],
             [
              0.7777777777777778,
              "#fb9f3a"
             ],
             [
              0.8888888888888888,
              "#fdca26"
             ],
             [
              1,
              "#f0f921"
             ]
            ],
            "type": "heatmap"
           }
          ],
          "heatmapgl": [
           {
            "colorbar": {
             "outlinewidth": 0,
             "ticks": ""
            },
            "colorscale": [
             [
              0,
              "#0d0887"
             ],
             [
              0.1111111111111111,
              "#46039f"
             ],
             [
              0.2222222222222222,
              "#7201a8"
             ],
             [
              0.3333333333333333,
              "#9c179e"
             ],
             [
              0.4444444444444444,
              "#bd3786"
             ],
             [
              0.5555555555555556,
              "#d8576b"
             ],
             [
              0.6666666666666666,
              "#ed7953"
             ],
             [
              0.7777777777777778,
              "#fb9f3a"
             ],
             [
              0.8888888888888888,
              "#fdca26"
             ],
             [
              1,
              "#f0f921"
             ]
            ],
            "type": "heatmapgl"
           }
          ],
          "histogram": [
           {
            "marker": {
             "pattern": {
              "fillmode": "overlay",
              "size": 10,
              "solidity": 0.2
             }
            },
            "type": "histogram"
           }
          ],
          "histogram2d": [
           {
            "colorbar": {
             "outlinewidth": 0,
             "ticks": ""
            },
            "colorscale": [
             [
              0,
              "#0d0887"
             ],
             [
              0.1111111111111111,
              "#46039f"
             ],
             [
              0.2222222222222222,
              "#7201a8"
             ],
             [
              0.3333333333333333,
              "#9c179e"
             ],
             [
              0.4444444444444444,
              "#bd3786"
             ],
             [
              0.5555555555555556,
              "#d8576b"
             ],
             [
              0.6666666666666666,
              "#ed7953"
             ],
             [
              0.7777777777777778,
              "#fb9f3a"
             ],
             [
              0.8888888888888888,
              "#fdca26"
             ],
             [
              1,
              "#f0f921"
             ]
            ],
            "type": "histogram2d"
           }
          ],
          "histogram2dcontour": [
           {
            "colorbar": {
             "outlinewidth": 0,
             "ticks": ""
            },
            "colorscale": [
             [
              0,
              "#0d0887"
             ],
             [
              0.1111111111111111,
              "#46039f"
             ],
             [
              0.2222222222222222,
              "#7201a8"
             ],
             [
              0.3333333333333333,
              "#9c179e"
             ],
             [
              0.4444444444444444,
              "#bd3786"
             ],
             [
              0.5555555555555556,
              "#d8576b"
             ],
             [
              0.6666666666666666,
              "#ed7953"
             ],
             [
              0.7777777777777778,
              "#fb9f3a"
             ],
             [
              0.8888888888888888,
              "#fdca26"
             ],
             [
              1,
              "#f0f921"
             ]
            ],
            "type": "histogram2dcontour"
           }
          ],
          "mesh3d": [
           {
            "colorbar": {
             "outlinewidth": 0,
             "ticks": ""
            },
            "type": "mesh3d"
           }
          ],
          "parcoords": [
           {
            "line": {
             "colorbar": {
              "outlinewidth": 0,
              "ticks": ""
             }
            },
            "type": "parcoords"
           }
          ],
          "pie": [
           {
            "automargin": true,
            "type": "pie"
           }
          ],
          "scatter": [
           {
            "fillpattern": {
             "fillmode": "overlay",
             "size": 10,
             "solidity": 0.2
            },
            "type": "scatter"
           }
          ],
          "scatter3d": [
           {
            "line": {
             "colorbar": {
              "outlinewidth": 0,
              "ticks": ""
             }
            },
            "marker": {
             "colorbar": {
              "outlinewidth": 0,
              "ticks": ""
             }
            },
            "type": "scatter3d"
           }
          ],
          "scattercarpet": [
           {
            "marker": {
             "colorbar": {
              "outlinewidth": 0,
              "ticks": ""
             }
            },
            "type": "scattercarpet"
           }
          ],
          "scattergeo": [
           {
            "marker": {
             "colorbar": {
              "outlinewidth": 0,
              "ticks": ""
             }
            },
            "type": "scattergeo"
           }
          ],
          "scattergl": [
           {
            "marker": {
             "colorbar": {
              "outlinewidth": 0,
              "ticks": ""
             }
            },
            "type": "scattergl"
           }
          ],
          "scattermapbox": [
           {
            "marker": {
             "colorbar": {
              "outlinewidth": 0,
              "ticks": ""
             }
            },
            "type": "scattermapbox"
           }
          ],
          "scatterpolar": [
           {
            "marker": {
             "colorbar": {
              "outlinewidth": 0,
              "ticks": ""
             }
            },
            "type": "scatterpolar"
           }
          ],
          "scatterpolargl": [
           {
            "marker": {
             "colorbar": {
              "outlinewidth": 0,
              "ticks": ""
             }
            },
            "type": "scatterpolargl"
           }
          ],
          "scatterternary": [
           {
            "marker": {
             "colorbar": {
              "outlinewidth": 0,
              "ticks": ""
             }
            },
            "type": "scatterternary"
           }
          ],
          "surface": [
           {
            "colorbar": {
             "outlinewidth": 0,
             "ticks": ""
            },
            "colorscale": [
             [
              0,
              "#0d0887"
             ],
             [
              0.1111111111111111,
              "#46039f"
             ],
             [
              0.2222222222222222,
              "#7201a8"
             ],
             [
              0.3333333333333333,
              "#9c179e"
             ],
             [
              0.4444444444444444,
              "#bd3786"
             ],
             [
              0.5555555555555556,
              "#d8576b"
             ],
             [
              0.6666666666666666,
              "#ed7953"
             ],
             [
              0.7777777777777778,
              "#fb9f3a"
             ],
             [
              0.8888888888888888,
              "#fdca26"
             ],
             [
              1,
              "#f0f921"
             ]
            ],
            "type": "surface"
           }
          ],
          "table": [
           {
            "cells": {
             "fill": {
              "color": "#EBF0F8"
             },
             "line": {
              "color": "white"
             }
            },
            "header": {
             "fill": {
              "color": "#C8D4E3"
             },
             "line": {
              "color": "white"
             }
            },
            "type": "table"
           }
          ]
         },
         "layout": {
          "annotationdefaults": {
           "arrowcolor": "#2a3f5f",
           "arrowhead": 0,
           "arrowwidth": 1
          },
          "autotypenumbers": "strict",
          "coloraxis": {
           "colorbar": {
            "outlinewidth": 0,
            "ticks": ""
           }
          },
          "colorscale": {
           "diverging": [
            [
             0,
             "#8e0152"
            ],
            [
             0.1,
             "#c51b7d"
            ],
            [
             0.2,
             "#de77ae"
            ],
            [
             0.3,
             "#f1b6da"
            ],
            [
             0.4,
             "#fde0ef"
            ],
            [
             0.5,
             "#f7f7f7"
            ],
            [
             0.6,
             "#e6f5d0"
            ],
            [
             0.7,
             "#b8e186"
            ],
            [
             0.8,
             "#7fbc41"
            ],
            [
             0.9,
             "#4d9221"
            ],
            [
             1,
             "#276419"
            ]
           ],
           "sequential": [
            [
             0,
             "#0d0887"
            ],
            [
             0.1111111111111111,
             "#46039f"
            ],
            [
             0.2222222222222222,
             "#7201a8"
            ],
            [
             0.3333333333333333,
             "#9c179e"
            ],
            [
             0.4444444444444444,
             "#bd3786"
            ],
            [
             0.5555555555555556,
             "#d8576b"
            ],
            [
             0.6666666666666666,
             "#ed7953"
            ],
            [
             0.7777777777777778,
             "#fb9f3a"
            ],
            [
             0.8888888888888888,
             "#fdca26"
            ],
            [
             1,
             "#f0f921"
            ]
           ],
           "sequentialminus": [
            [
             0,
             "#0d0887"
            ],
            [
             0.1111111111111111,
             "#46039f"
            ],
            [
             0.2222222222222222,
             "#7201a8"
            ],
            [
             0.3333333333333333,
             "#9c179e"
            ],
            [
             0.4444444444444444,
             "#bd3786"
            ],
            [
             0.5555555555555556,
             "#d8576b"
            ],
            [
             0.6666666666666666,
             "#ed7953"
            ],
            [
             0.7777777777777778,
             "#fb9f3a"
            ],
            [
             0.8888888888888888,
             "#fdca26"
            ],
            [
             1,
             "#f0f921"
            ]
           ]
          },
          "colorway": [
           "#636efa",
           "#EF553B",
           "#00cc96",
           "#ab63fa",
           "#FFA15A",
           "#19d3f3",
           "#FF6692",
           "#B6E880",
           "#FF97FF",
           "#FECB52"
          ],
          "font": {
           "color": "#2a3f5f"
          },
          "geo": {
           "bgcolor": "white",
           "lakecolor": "white",
           "landcolor": "#E5ECF6",
           "showlakes": true,
           "showland": true,
           "subunitcolor": "white"
          },
          "hoverlabel": {
           "align": "left"
          },
          "hovermode": "closest",
          "mapbox": {
           "style": "light"
          },
          "paper_bgcolor": "white",
          "plot_bgcolor": "#E5ECF6",
          "polar": {
           "angularaxis": {
            "gridcolor": "white",
            "linecolor": "white",
            "ticks": ""
           },
           "bgcolor": "#E5ECF6",
           "radialaxis": {
            "gridcolor": "white",
            "linecolor": "white",
            "ticks": ""
           }
          },
          "scene": {
           "xaxis": {
            "backgroundcolor": "#E5ECF6",
            "gridcolor": "white",
            "gridwidth": 2,
            "linecolor": "white",
            "showbackground": true,
            "ticks": "",
            "zerolinecolor": "white"
           },
           "yaxis": {
            "backgroundcolor": "#E5ECF6",
            "gridcolor": "white",
            "gridwidth": 2,
            "linecolor": "white",
            "showbackground": true,
            "ticks": "",
            "zerolinecolor": "white"
           },
           "zaxis": {
            "backgroundcolor": "#E5ECF6",
            "gridcolor": "white",
            "gridwidth": 2,
            "linecolor": "white",
            "showbackground": true,
            "ticks": "",
            "zerolinecolor": "white"
           }
          },
          "shapedefaults": {
           "line": {
            "color": "#2a3f5f"
           }
          },
          "ternary": {
           "aaxis": {
            "gridcolor": "white",
            "linecolor": "white",
            "ticks": ""
           },
           "baxis": {
            "gridcolor": "white",
            "linecolor": "white",
            "ticks": ""
           },
           "bgcolor": "#E5ECF6",
           "caxis": {
            "gridcolor": "white",
            "linecolor": "white",
            "ticks": ""
           }
          },
          "title": {
           "x": 0.05
          },
          "xaxis": {
           "automargin": true,
           "gridcolor": "white",
           "linecolor": "white",
           "ticks": "",
           "title": {
            "standoff": 15
           },
           "zerolinecolor": "white",
           "zerolinewidth": 2
          },
          "yaxis": {
           "automargin": true,
           "gridcolor": "white",
           "linecolor": "white",
           "ticks": "",
           "title": {
            "standoff": 15
           },
           "zerolinecolor": "white",
           "zerolinewidth": 2
          }
         }
        },
        "title": {
         "font": {
          "color": "#4D5663"
         }
        },
        "xaxis": {
         "gridcolor": "#E1E5ED",
         "showgrid": true,
         "tickfont": {
          "color": "#4D5663"
         },
         "title": {
          "font": {
           "color": "#4D5663"
          },
          "text": ""
         },
         "zerolinecolor": "#E1E5ED"
        },
        "yaxis": {
         "gridcolor": "#E1E5ED",
         "showgrid": true,
         "tickfont": {
          "color": "#4D5663"
         },
         "title": {
          "font": {
           "color": "#4D5663"
          },
          "text": ""
         },
         "zerolinecolor": "#E1E5ED"
        }
       }
      },
      "text/html": [
       "<div>                            <div id=\"4be632bb-a637-431f-a2d1-67e52ac234b0\" class=\"plotly-graph-div\" style=\"height:525px; width:100%;\"></div>            <script type=\"text/javascript\">                require([\"plotly\"], function(Plotly) {                    window.PLOTLYENV=window.PLOTLYENV || {};\n",
       "                    window.PLOTLYENV.BASE_URL='https://plot.ly';                                    if (document.getElementById(\"4be632bb-a637-431f-a2d1-67e52ac234b0\")) {                    Plotly.newPlot(                        \"4be632bb-a637-431f-a2d1-67e52ac234b0\",                        [{\"marker\":{\"color\":\"rgba(255, 153, 51, 0.6)\",\"line\":{\"color\":\"rgba(255, 153, 51, 1.0)\",\"width\":1}},\"name\":\"None\",\"orientation\":\"v\",\"text\":\"\",\"x\":[\"A\",\"B\",\"C\",\"D\"],\"y\":[100,100,100,100],\"type\":\"bar\"}],                        {\"legend\":{\"bgcolor\":\"#F5F6F9\",\"font\":{\"color\":\"#4D5663\"}},\"paper_bgcolor\":\"#F5F6F9\",\"plot_bgcolor\":\"#F5F6F9\",\"template\":{\"data\":{\"barpolar\":[{\"marker\":{\"line\":{\"color\":\"#E5ECF6\",\"width\":0.5},\"pattern\":{\"fillmode\":\"overlay\",\"size\":10,\"solidity\":0.2}},\"type\":\"barpolar\"}],\"bar\":[{\"error_x\":{\"color\":\"#2a3f5f\"},\"error_y\":{\"color\":\"#2a3f5f\"},\"marker\":{\"line\":{\"color\":\"#E5ECF6\",\"width\":0.5},\"pattern\":{\"fillmode\":\"overlay\",\"size\":10,\"solidity\":0.2}},\"type\":\"bar\"}],\"carpet\":[{\"aaxis\":{\"endlinecolor\":\"#2a3f5f\",\"gridcolor\":\"white\",\"linecolor\":\"white\",\"minorgridcolor\":\"white\",\"startlinecolor\":\"#2a3f5f\"},\"baxis\":{\"endlinecolor\":\"#2a3f5f\",\"gridcolor\":\"white\",\"linecolor\":\"white\",\"minorgridcolor\":\"white\",\"startlinecolor\":\"#2a3f5f\"},\"type\":\"carpet\"}],\"choropleth\":[{\"colorbar\":{\"outlinewidth\":0,\"ticks\":\"\"},\"type\":\"choropleth\"}],\"contourcarpet\":[{\"colorbar\":{\"outlinewidth\":0,\"ticks\":\"\"},\"type\":\"contourcarpet\"}],\"contour\":[{\"colorbar\":{\"outlinewidth\":0,\"ticks\":\"\"},\"colorscale\":[[0.0,\"#0d0887\"],[0.1111111111111111,\"#46039f\"],[0.2222222222222222,\"#7201a8\"],[0.3333333333333333,\"#9c179e\"],[0.4444444444444444,\"#bd3786\"],[0.5555555555555556,\"#d8576b\"],[0.6666666666666666,\"#ed7953\"],[0.7777777777777778,\"#fb9f3a\"],[0.8888888888888888,\"#fdca26\"],[1.0,\"#f0f921\"]],\"type\":\"contour\"}],\"heatmapgl\":[{\"colorbar\":{\"outlinewidth\":0,\"ticks\":\"\"},\"colorscale\":[[0.0,\"#0d0887\"],[0.1111111111111111,\"#46039f\"],[0.2222222222222222,\"#7201a8\"],[0.3333333333333333,\"#9c179e\"],[0.4444444444444444,\"#bd3786\"],[0.5555555555555556,\"#d8576b\"],[0.6666666666666666,\"#ed7953\"],[0.7777777777777778,\"#fb9f3a\"],[0.8888888888888888,\"#fdca26\"],[1.0,\"#f0f921\"]],\"type\":\"heatmapgl\"}],\"heatmap\":[{\"colorbar\":{\"outlinewidth\":0,\"ticks\":\"\"},\"colorscale\":[[0.0,\"#0d0887\"],[0.1111111111111111,\"#46039f\"],[0.2222222222222222,\"#7201a8\"],[0.3333333333333333,\"#9c179e\"],[0.4444444444444444,\"#bd3786\"],[0.5555555555555556,\"#d8576b\"],[0.6666666666666666,\"#ed7953\"],[0.7777777777777778,\"#fb9f3a\"],[0.8888888888888888,\"#fdca26\"],[1.0,\"#f0f921\"]],\"type\":\"heatmap\"}],\"histogram2dcontour\":[{\"colorbar\":{\"outlinewidth\":0,\"ticks\":\"\"},\"colorscale\":[[0.0,\"#0d0887\"],[0.1111111111111111,\"#46039f\"],[0.2222222222222222,\"#7201a8\"],[0.3333333333333333,\"#9c179e\"],[0.4444444444444444,\"#bd3786\"],[0.5555555555555556,\"#d8576b\"],[0.6666666666666666,\"#ed7953\"],[0.7777777777777778,\"#fb9f3a\"],[0.8888888888888888,\"#fdca26\"],[1.0,\"#f0f921\"]],\"type\":\"histogram2dcontour\"}],\"histogram2d\":[{\"colorbar\":{\"outlinewidth\":0,\"ticks\":\"\"},\"colorscale\":[[0.0,\"#0d0887\"],[0.1111111111111111,\"#46039f\"],[0.2222222222222222,\"#7201a8\"],[0.3333333333333333,\"#9c179e\"],[0.4444444444444444,\"#bd3786\"],[0.5555555555555556,\"#d8576b\"],[0.6666666666666666,\"#ed7953\"],[0.7777777777777778,\"#fb9f3a\"],[0.8888888888888888,\"#fdca26\"],[1.0,\"#f0f921\"]],\"type\":\"histogram2d\"}],\"histogram\":[{\"marker\":{\"pattern\":{\"fillmode\":\"overlay\",\"size\":10,\"solidity\":0.2}},\"type\":\"histogram\"}],\"mesh3d\":[{\"colorbar\":{\"outlinewidth\":0,\"ticks\":\"\"},\"type\":\"mesh3d\"}],\"parcoords\":[{\"line\":{\"colorbar\":{\"outlinewidth\":0,\"ticks\":\"\"}},\"type\":\"parcoords\"}],\"pie\":[{\"automargin\":true,\"type\":\"pie\"}],\"scatter3d\":[{\"line\":{\"colorbar\":{\"outlinewidth\":0,\"ticks\":\"\"}},\"marker\":{\"colorbar\":{\"outlinewidth\":0,\"ticks\":\"\"}},\"type\":\"scatter3d\"}],\"scattercarpet\":[{\"marker\":{\"colorbar\":{\"outlinewidth\":0,\"ticks\":\"\"}},\"type\":\"scattercarpet\"}],\"scattergeo\":[{\"marker\":{\"colorbar\":{\"outlinewidth\":0,\"ticks\":\"\"}},\"type\":\"scattergeo\"}],\"scattergl\":[{\"marker\":{\"colorbar\":{\"outlinewidth\":0,\"ticks\":\"\"}},\"type\":\"scattergl\"}],\"scattermapbox\":[{\"marker\":{\"colorbar\":{\"outlinewidth\":0,\"ticks\":\"\"}},\"type\":\"scattermapbox\"}],\"scatterpolargl\":[{\"marker\":{\"colorbar\":{\"outlinewidth\":0,\"ticks\":\"\"}},\"type\":\"scatterpolargl\"}],\"scatterpolar\":[{\"marker\":{\"colorbar\":{\"outlinewidth\":0,\"ticks\":\"\"}},\"type\":\"scatterpolar\"}],\"scatter\":[{\"fillpattern\":{\"fillmode\":\"overlay\",\"size\":10,\"solidity\":0.2},\"type\":\"scatter\"}],\"scatterternary\":[{\"marker\":{\"colorbar\":{\"outlinewidth\":0,\"ticks\":\"\"}},\"type\":\"scatterternary\"}],\"surface\":[{\"colorbar\":{\"outlinewidth\":0,\"ticks\":\"\"},\"colorscale\":[[0.0,\"#0d0887\"],[0.1111111111111111,\"#46039f\"],[0.2222222222222222,\"#7201a8\"],[0.3333333333333333,\"#9c179e\"],[0.4444444444444444,\"#bd3786\"],[0.5555555555555556,\"#d8576b\"],[0.6666666666666666,\"#ed7953\"],[0.7777777777777778,\"#fb9f3a\"],[0.8888888888888888,\"#fdca26\"],[1.0,\"#f0f921\"]],\"type\":\"surface\"}],\"table\":[{\"cells\":{\"fill\":{\"color\":\"#EBF0F8\"},\"line\":{\"color\":\"white\"}},\"header\":{\"fill\":{\"color\":\"#C8D4E3\"},\"line\":{\"color\":\"white\"}},\"type\":\"table\"}]},\"layout\":{\"annotationdefaults\":{\"arrowcolor\":\"#2a3f5f\",\"arrowhead\":0,\"arrowwidth\":1},\"autotypenumbers\":\"strict\",\"coloraxis\":{\"colorbar\":{\"outlinewidth\":0,\"ticks\":\"\"}},\"colorscale\":{\"diverging\":[[0,\"#8e0152\"],[0.1,\"#c51b7d\"],[0.2,\"#de77ae\"],[0.3,\"#f1b6da\"],[0.4,\"#fde0ef\"],[0.5,\"#f7f7f7\"],[0.6,\"#e6f5d0\"],[0.7,\"#b8e186\"],[0.8,\"#7fbc41\"],[0.9,\"#4d9221\"],[1,\"#276419\"]],\"sequential\":[[0.0,\"#0d0887\"],[0.1111111111111111,\"#46039f\"],[0.2222222222222222,\"#7201a8\"],[0.3333333333333333,\"#9c179e\"],[0.4444444444444444,\"#bd3786\"],[0.5555555555555556,\"#d8576b\"],[0.6666666666666666,\"#ed7953\"],[0.7777777777777778,\"#fb9f3a\"],[0.8888888888888888,\"#fdca26\"],[1.0,\"#f0f921\"]],\"sequentialminus\":[[0.0,\"#0d0887\"],[0.1111111111111111,\"#46039f\"],[0.2222222222222222,\"#7201a8\"],[0.3333333333333333,\"#9c179e\"],[0.4444444444444444,\"#bd3786\"],[0.5555555555555556,\"#d8576b\"],[0.6666666666666666,\"#ed7953\"],[0.7777777777777778,\"#fb9f3a\"],[0.8888888888888888,\"#fdca26\"],[1.0,\"#f0f921\"]]},\"colorway\":[\"#636efa\",\"#EF553B\",\"#00cc96\",\"#ab63fa\",\"#FFA15A\",\"#19d3f3\",\"#FF6692\",\"#B6E880\",\"#FF97FF\",\"#FECB52\"],\"font\":{\"color\":\"#2a3f5f\"},\"geo\":{\"bgcolor\":\"white\",\"lakecolor\":\"white\",\"landcolor\":\"#E5ECF6\",\"showlakes\":true,\"showland\":true,\"subunitcolor\":\"white\"},\"hoverlabel\":{\"align\":\"left\"},\"hovermode\":\"closest\",\"mapbox\":{\"style\":\"light\"},\"paper_bgcolor\":\"white\",\"plot_bgcolor\":\"#E5ECF6\",\"polar\":{\"angularaxis\":{\"gridcolor\":\"white\",\"linecolor\":\"white\",\"ticks\":\"\"},\"bgcolor\":\"#E5ECF6\",\"radialaxis\":{\"gridcolor\":\"white\",\"linecolor\":\"white\",\"ticks\":\"\"}},\"scene\":{\"xaxis\":{\"backgroundcolor\":\"#E5ECF6\",\"gridcolor\":\"white\",\"gridwidth\":2,\"linecolor\":\"white\",\"showbackground\":true,\"ticks\":\"\",\"zerolinecolor\":\"white\"},\"yaxis\":{\"backgroundcolor\":\"#E5ECF6\",\"gridcolor\":\"white\",\"gridwidth\":2,\"linecolor\":\"white\",\"showbackground\":true,\"ticks\":\"\",\"zerolinecolor\":\"white\"},\"zaxis\":{\"backgroundcolor\":\"#E5ECF6\",\"gridcolor\":\"white\",\"gridwidth\":2,\"linecolor\":\"white\",\"showbackground\":true,\"ticks\":\"\",\"zerolinecolor\":\"white\"}},\"shapedefaults\":{\"line\":{\"color\":\"#2a3f5f\"}},\"ternary\":{\"aaxis\":{\"gridcolor\":\"white\",\"linecolor\":\"white\",\"ticks\":\"\"},\"baxis\":{\"gridcolor\":\"white\",\"linecolor\":\"white\",\"ticks\":\"\"},\"bgcolor\":\"#E5ECF6\",\"caxis\":{\"gridcolor\":\"white\",\"linecolor\":\"white\",\"ticks\":\"\"}},\"title\":{\"x\":0.05},\"xaxis\":{\"automargin\":true,\"gridcolor\":\"white\",\"linecolor\":\"white\",\"ticks\":\"\",\"title\":{\"standoff\":15},\"zerolinecolor\":\"white\",\"zerolinewidth\":2},\"yaxis\":{\"automargin\":true,\"gridcolor\":\"white\",\"linecolor\":\"white\",\"ticks\":\"\",\"title\":{\"standoff\":15},\"zerolinecolor\":\"white\",\"zerolinewidth\":2}}},\"title\":{\"font\":{\"color\":\"#4D5663\"}},\"xaxis\":{\"gridcolor\":\"#E1E5ED\",\"showgrid\":true,\"tickfont\":{\"color\":\"#4D5663\"},\"title\":{\"font\":{\"color\":\"#4D5663\"},\"text\":\"\"},\"zerolinecolor\":\"#E1E5ED\"},\"yaxis\":{\"gridcolor\":\"#E1E5ED\",\"showgrid\":true,\"tickfont\":{\"color\":\"#4D5663\"},\"title\":{\"font\":{\"color\":\"#4D5663\"},\"text\":\"\"},\"zerolinecolor\":\"#E1E5ED\"}},                        {\"showLink\": true, \"linkText\": \"Export to plot.ly\", \"plotlyServerURL\": \"https://plot.ly\", \"responsive\": true}                    ).then(function(){\n",
       "                            \n",
       "var gd = document.getElementById('4be632bb-a637-431f-a2d1-67e52ac234b0');\n",
       "var x = new MutationObserver(function (mutations, observer) {{\n",
       "        var display = window.getComputedStyle(gd).display;\n",
       "        if (!display || display === 'none') {{\n",
       "            console.log([gd, 'removed!']);\n",
       "            Plotly.purge(gd);\n",
       "            observer.disconnect();\n",
       "        }}\n",
       "}});\n",
       "\n",
       "// Listen for the removal of the full notebook cells\n",
       "var notebookContainer = gd.closest('#notebook-container');\n",
       "if (notebookContainer) {{\n",
       "    x.observe(notebookContainer, {childList: true});\n",
       "}}\n",
       "\n",
       "// Listen for the clearing of the current output cell\n",
       "var outputEl = gd.closest('.output');\n",
       "if (outputEl) {{\n",
       "    x.observe(outputEl, {childList: true});\n",
       "}}\n",
       "\n",
       "                        })                };                });            </script>        </div>"
      ]
     },
     "metadata": {},
     "output_type": "display_data"
    }
   ],
   "source": [
    "df.count().iplot(kind='bar')"
   ]
  },
  {
   "cell_type": "code",
   "execution_count": 14,
   "id": "2506d761",
   "metadata": {},
   "outputs": [
    {
     "data": {
      "application/vnd.plotly.v1+json": {
       "config": {
        "linkText": "Export to plot.ly",
        "plotlyServerURL": "https://plot.ly",
        "showLink": true
       },
       "data": [
        {
         "boxpoints": false,
         "line": {
          "width": 1.3
         },
         "marker": {
          "color": "rgba(255, 153, 51, 1.0)"
         },
         "name": "A",
         "orientation": "v",
         "type": "box",
         "y": [
          0.7524227622239249,
          -0.6487508694482285,
          -0.12276902469067315,
          -1.7956304294769236,
          -0.9799731504092138,
          1.3362874408281362,
          1.6300701479361905,
          1.893259976205648,
          1.102454540951155,
          -2.1450995701597635,
          -0.27791957658198363,
          0.5884301683993967,
          0.615111776799618,
          0.2015144223854086,
          2.1435623735574123,
          -1.4930470533502194,
          1.5356692790966953,
          -1.0229093074170883,
          0.1759924467352236,
          -0.5835389825445142,
          -1.5045905284820054,
          0.7121602950723773,
          0.027639743148447422,
          1.4899290306550939,
          2.7417157921905764,
          1.1071397111583028,
          0.1116141070140691,
          0.49478387791171435,
          0.09675256767697327,
          2.1385303960269098,
          -0.6690582559318675,
          -0.0625705570795616,
          0.35924665837333947,
          0.03971910887051859,
          0.9831002494786435,
          0.9006490205825207,
          -0.9538509595822618,
          -0.20768454140825984,
          1.1296875020178823,
          0.061143301200641514,
          0.16916316503414763,
          -1.166564321780111,
          0.5891047687352472,
          0.793330260909169,
          -0.9834954995976098,
          0.6372477908713823,
          1.176628879265964,
          0.25097681343004324,
          1.656911627497132,
          1.179288445516592,
          -0.13271766438827634,
          0.3001113425006879,
          1.0101157978281166,
          -0.8957405536547673,
          0.7595712933512376,
          -0.5193778376546777,
          0.1423613502424884,
          -2.1021074624815883,
          0.33302496576488233,
          -0.16979628990295093,
          -0.9468499260465263,
          -0.8834558066344341,
          0.6230893758350854,
          -0.649993041546382,
          1.448657701803833,
          -0.8458526622516507,
          -0.0981429164294889,
          -0.5936239908790261,
          -0.385848432532634,
          -1.3735488390101918,
          -1.0056553057412447,
          -1.26730052140875,
          0.6556464292500415,
          -0.1334056210776524,
          -0.5853856257269497,
          0.6067943948542077,
          -0.9524477619805134,
          0.8256890188080714,
          -0.38544439397462416,
          -0.09760326316560804,
          -1.162915585696774,
          -0.38799627732569153,
          0.9711969001992721,
          1.6523680779276493,
          -1.8045995945136548,
          0.8692706779303185,
          0.2982140066126374,
          -2.232879857099527,
          0.271029852610972,
          -0.45240581774251093,
          0.9318810556623758,
          -0.26768715861225206,
          -1.1455708825858975,
          1.8683283454304598,
          0.8573275444364243,
          1.3325036587822003,
          2.599708051322223,
          2.5408176068246195,
          0.24426027282740315,
          1.9126990659987366
         ]
        },
        {
         "boxpoints": false,
         "line": {
          "width": 1.3
         },
         "marker": {
          "color": "rgba(55, 128, 191, 1.0)"
         },
         "name": "B",
         "orientation": "v",
         "type": "box",
         "y": [
          -0.14411142071418448,
          0.4543383861726146,
          -0.7083109717970135,
          1.0903842538507134,
          -0.9618951277509531,
          0.7910225125160179,
          -0.09170042656156237,
          1.2065985419544019,
          0.5554298383945874,
          1.2392441562349639,
          -0.10418607581733894,
          -1.5962761205932277,
          -0.6726747533058741,
          0.40019099429991684,
          0.35184677700579475,
          -0.24545355294518686,
          1.6395704390094321,
          0.14405723113709348,
          0.3926952588678192,
          0.3654074215407099,
          -0.7681215022777197,
          -1.4062832714563236,
          -1.2546410580879253,
          0.18550467761114373,
          -0.8431939326081225,
          -2.06963127321301,
          1.48658934053319,
          -1.3326252323447432,
          -0.56726203886916,
          0.1361568603876222,
          0.6083662168232864,
          -0.09910069096383518,
          1.0820082378249034,
          0.31019928685403797,
          -0.731073676798277,
          0.040732192306421416,
          -0.8107107612338843,
          1.4173142860072543,
          -0.27584483581014213,
          2.5355035017244085,
          1.3112730058506958,
          -0.41427195107802095,
          -0.1741073227349552,
          1.6087551847409967,
          -0.9134078520482416,
          0.1136295862603745,
          0.17373761739318422,
          0.808462558759177,
          -2.1897539132033033,
          0.08330649712203049,
          0.8248180483876241,
          -0.40453200043901594,
          -0.4694871922459325,
          0.6698077464337866,
          0.3565346365704142,
          0.12869804689699224,
          0.67017515921362,
          0.5360783407567321,
          -0.2917074199552538,
          0.4365141785381166,
          0.6105572925783977,
          0.9734497641828365,
          1.4562443431718226,
          -0.4981857939219861,
          -0.9386690265452898,
          1.7311316676972948,
          -0.6298966613647587,
          0.815225989591915,
          -0.4602572673509436,
          -0.9150007309938142,
          0.10863252084373735,
          1.1729531883979405,
          -1.631017696238814,
          -1.8496504257349287,
          0.17950210460028163,
          0.9682133702319166,
          -1.484707530253836,
          -1.639085276989806,
          0.40140816264697965,
          0.6390331364973107,
          1.2323156584101398,
          2.162752863112274,
          1.1815167591012996,
          -1.9852722873734716,
          -1.0431001767275785,
          -1.279261507190979,
          -1.411883001080788,
          0.6140936180273153,
          -1.2851155395037284,
          -0.42350457709057093,
          -0.2271241069058536,
          -2.1592081055400807,
          -0.6316189001075955,
          0.490315679755434,
          -0.6518997189531053,
          -0.10202977067303974,
          0.8948687383146906,
          0.24313123575142453,
          -0.10391921868855766,
          0.7618133728978007
         ]
        },
        {
         "boxpoints": false,
         "line": {
          "width": 1.3
         },
         "marker": {
          "color": "rgba(50, 171, 96, 1.0)"
         },
         "name": "C",
         "orientation": "v",
         "type": "box",
         "y": [
          1.305013536467514,
          -1.42535470765432,
          -0.12604113800944422,
          -1.48294028151399,
          -1.524921453966342,
          -0.5001396586077944,
          0.9663594848222418,
          0.6511632211392434,
          1.2680562169430485,
          0.38578439429421557,
          0.5948018303689191,
          -1.1486200699604603,
          0.18266163250939058,
          0.8820540564297727,
          -0.24497020377414525,
          0.025594545763943804,
          0.12869585390591737,
          0.32142737960936585,
          -0.050387034257378685,
          -0.334310650000316,
          0.22099012296039902,
          0.7966918812019385,
          -1.8672512456999801,
          0.9320048080127644,
          0.45018206948666273,
          0.9428787760376252,
          -1.3737807738819845,
          0.8315192343611962,
          0.6912197955804958,
          1.7722529173107047,
          -1.8766564316157268,
          0.4573995287753774,
          0.2640895583425982,
          -0.07785549272185156,
          -2.165729817573907,
          -1.237526212398555,
          -1.0128233349217224,
          -0.8386553327108263,
          -1.1369503186573282,
          1.5351188890422152,
          -1.379901191652556,
          0.10140996016831537,
          1.7651260380058793,
          0.18010736037245792,
          -0.6083695023874888,
          1.2067994728795954,
          0.4916312019935608,
          -1.1545406480393758,
          -1.604204214745099,
          -0.7988062547947758,
          1.6134360527825156,
          0.7648888859158497,
          -0.3129062452567959,
          0.9834626468593414,
          1.1132841728809684,
          0.8569404529255602,
          -0.9969600565737744,
          -0.19061421718370442,
          0.49459276857565976,
          -1.3557839268561214,
          0.18585644198419426,
          0.17575848935819968,
          0.07385563415515443,
          -2.0111013420485704,
          -0.1450443563724643,
          -0.17829109324925918,
          -0.10534795960111619,
          1.1640546289995994,
          0.044219694769802365,
          0.2501051062167861,
          0.7550480431034529,
          -1.8383251520794013,
          0.9060834010968599,
          -0.8790522337087745,
          -1.3445913589928218,
          0.38799898723469833,
          -1.1778874444502483,
          -0.010612373003847918,
          -0.7129127509935006,
          -1.2918209551292188,
          -1.592624367200515,
          -0.2602964600542373,
          -0.4710181079301098,
          -1.6549395511165124,
          0.050982258805437185,
          0.7781629925706114,
          0.7596015165039246,
          0.4086283918127778,
          1.0038304937754987,
          0.4528236588677294,
          0.8922440211325979,
          0.4895309999077554,
          -0.2809943324827049,
          -0.2715467430678329,
          -0.08030487095646313,
          0.530441125757145,
          -0.04033073393472941,
          0.008113269410795433,
          1.493067032951811,
          0.9209224832222817
         ]
        },
        {
         "boxpoints": false,
         "line": {
          "width": 1.3
         },
         "marker": {
          "color": "rgba(128, 0, 128, 1.0)"
         },
         "name": "D",
         "orientation": "v",
         "type": "box",
         "y": [
          0.3054230738083809,
          1.1789013899075005,
          1.098021073503437,
          1.5512280632862248,
          -2.0949439421886207,
          -0.11363665601526601,
          0.7395114620876521,
          0.4477857131460393,
          0.9223742243093176,
          -1.077721376778996,
          -0.5484778158816865,
          -1.4691868746258816,
          1.4991774408058693,
          -0.40317001578517686,
          0.40315341799002097,
          -0.6713193679546652,
          -0.5089714916072127,
          -0.15034524373173602,
          1.0771028214664136,
          -0.48093701537607175,
          -1.0300234581011998,
          -0.8093034044191941,
          0.8620688961197059,
          0.49288406455008704,
          -0.4812786116314043,
          -0.4494076267675402,
          0.2967218210320583,
          0.2213746321191471,
          0.6509611090035058,
          1.6244901230062958,
          0.6404081217454802,
          -0.49459122247551535,
          -0.04491658595260175,
          1.0705693077055967,
          -0.8055313328239344,
          0.006036740985196447,
          1.1796302428983652,
          -0.4148101372785504,
          1.402274959609972,
          0.5175474904029675,
          -1.1407129767053383,
          0.9464484951509217,
          0.7510066724113348,
          -1.2018892237795142,
          -2.524376737193402,
          -0.3540747956012334,
          -0.9928922123118572,
          2.6928156075338174,
          0.008305616944702885,
          -0.9890457437497764,
          1.4686464117253037,
          0.5804553535299848,
          -0.7067340857805501,
          0.8313774240925941,
          -0.9988803069071867,
          0.6209174780368496,
          0.17494713339245044,
          -1.0128812533315694,
          -0.38338884946158713,
          0.11785317920806535,
          -0.8844941537313951,
          0.7387029800154007,
          -0.7269738986645328,
          1.1641540207702687,
          1.541554995438241,
          -1.1061846525126717,
          -0.9666268322520456,
          1.644095779273358,
          -0.2859944093154943,
          0.0845312131984907,
          0.6440209479181911,
          0.44431312044641647,
          1.1071126459843645,
          0.3744018472490756,
          1.9489693486688506,
          2.1187884910969816,
          -0.6431291968014526,
          -0.5287506822288152,
          2.90859967493311,
          0.7124052403852407,
          -1.253920557757355,
          -2.1576032459715857,
          -0.8593191175675434,
          2.3206124233483627,
          -0.7452654586987822,
          0.7237418253648195,
          -0.4785650608077709,
          -0.5381946389685107,
          -1.3767333240213495,
          -0.6927653867972688,
          -0.21739281630230928,
          -0.14726466629852822,
          -1.7237093455267913,
          -1.3525520540261509,
          2.128864366455416,
          -0.4694671415443432,
          -0.3308872029680333,
          -2.746400553650332,
          1.0168288445610016,
          0.9478876345541277
         ]
        }
       ],
       "layout": {
        "legend": {
         "bgcolor": "#F5F6F9",
         "font": {
          "color": "#4D5663"
         }
        },
        "paper_bgcolor": "#F5F6F9",
        "plot_bgcolor": "#F5F6F9",
        "template": {
         "data": {
          "bar": [
           {
            "error_x": {
             "color": "#2a3f5f"
            },
            "error_y": {
             "color": "#2a3f5f"
            },
            "marker": {
             "line": {
              "color": "#E5ECF6",
              "width": 0.5
             },
             "pattern": {
              "fillmode": "overlay",
              "size": 10,
              "solidity": 0.2
             }
            },
            "type": "bar"
           }
          ],
          "barpolar": [
           {
            "marker": {
             "line": {
              "color": "#E5ECF6",
              "width": 0.5
             },
             "pattern": {
              "fillmode": "overlay",
              "size": 10,
              "solidity": 0.2
             }
            },
            "type": "barpolar"
           }
          ],
          "carpet": [
           {
            "aaxis": {
             "endlinecolor": "#2a3f5f",
             "gridcolor": "white",
             "linecolor": "white",
             "minorgridcolor": "white",
             "startlinecolor": "#2a3f5f"
            },
            "baxis": {
             "endlinecolor": "#2a3f5f",
             "gridcolor": "white",
             "linecolor": "white",
             "minorgridcolor": "white",
             "startlinecolor": "#2a3f5f"
            },
            "type": "carpet"
           }
          ],
          "choropleth": [
           {
            "colorbar": {
             "outlinewidth": 0,
             "ticks": ""
            },
            "type": "choropleth"
           }
          ],
          "contour": [
           {
            "colorbar": {
             "outlinewidth": 0,
             "ticks": ""
            },
            "colorscale": [
             [
              0,
              "#0d0887"
             ],
             [
              0.1111111111111111,
              "#46039f"
             ],
             [
              0.2222222222222222,
              "#7201a8"
             ],
             [
              0.3333333333333333,
              "#9c179e"
             ],
             [
              0.4444444444444444,
              "#bd3786"
             ],
             [
              0.5555555555555556,
              "#d8576b"
             ],
             [
              0.6666666666666666,
              "#ed7953"
             ],
             [
              0.7777777777777778,
              "#fb9f3a"
             ],
             [
              0.8888888888888888,
              "#fdca26"
             ],
             [
              1,
              "#f0f921"
             ]
            ],
            "type": "contour"
           }
          ],
          "contourcarpet": [
           {
            "colorbar": {
             "outlinewidth": 0,
             "ticks": ""
            },
            "type": "contourcarpet"
           }
          ],
          "heatmap": [
           {
            "colorbar": {
             "outlinewidth": 0,
             "ticks": ""
            },
            "colorscale": [
             [
              0,
              "#0d0887"
             ],
             [
              0.1111111111111111,
              "#46039f"
             ],
             [
              0.2222222222222222,
              "#7201a8"
             ],
             [
              0.3333333333333333,
              "#9c179e"
             ],
             [
              0.4444444444444444,
              "#bd3786"
             ],
             [
              0.5555555555555556,
              "#d8576b"
             ],
             [
              0.6666666666666666,
              "#ed7953"
             ],
             [
              0.7777777777777778,
              "#fb9f3a"
             ],
             [
              0.8888888888888888,
              "#fdca26"
             ],
             [
              1,
              "#f0f921"
             ]
            ],
            "type": "heatmap"
           }
          ],
          "heatmapgl": [
           {
            "colorbar": {
             "outlinewidth": 0,
             "ticks": ""
            },
            "colorscale": [
             [
              0,
              "#0d0887"
             ],
             [
              0.1111111111111111,
              "#46039f"
             ],
             [
              0.2222222222222222,
              "#7201a8"
             ],
             [
              0.3333333333333333,
              "#9c179e"
             ],
             [
              0.4444444444444444,
              "#bd3786"
             ],
             [
              0.5555555555555556,
              "#d8576b"
             ],
             [
              0.6666666666666666,
              "#ed7953"
             ],
             [
              0.7777777777777778,
              "#fb9f3a"
             ],
             [
              0.8888888888888888,
              "#fdca26"
             ],
             [
              1,
              "#f0f921"
             ]
            ],
            "type": "heatmapgl"
           }
          ],
          "histogram": [
           {
            "marker": {
             "pattern": {
              "fillmode": "overlay",
              "size": 10,
              "solidity": 0.2
             }
            },
            "type": "histogram"
           }
          ],
          "histogram2d": [
           {
            "colorbar": {
             "outlinewidth": 0,
             "ticks": ""
            },
            "colorscale": [
             [
              0,
              "#0d0887"
             ],
             [
              0.1111111111111111,
              "#46039f"
             ],
             [
              0.2222222222222222,
              "#7201a8"
             ],
             [
              0.3333333333333333,
              "#9c179e"
             ],
             [
              0.4444444444444444,
              "#bd3786"
             ],
             [
              0.5555555555555556,
              "#d8576b"
             ],
             [
              0.6666666666666666,
              "#ed7953"
             ],
             [
              0.7777777777777778,
              "#fb9f3a"
             ],
             [
              0.8888888888888888,
              "#fdca26"
             ],
             [
              1,
              "#f0f921"
             ]
            ],
            "type": "histogram2d"
           }
          ],
          "histogram2dcontour": [
           {
            "colorbar": {
             "outlinewidth": 0,
             "ticks": ""
            },
            "colorscale": [
             [
              0,
              "#0d0887"
             ],
             [
              0.1111111111111111,
              "#46039f"
             ],
             [
              0.2222222222222222,
              "#7201a8"
             ],
             [
              0.3333333333333333,
              "#9c179e"
             ],
             [
              0.4444444444444444,
              "#bd3786"
             ],
             [
              0.5555555555555556,
              "#d8576b"
             ],
             [
              0.6666666666666666,
              "#ed7953"
             ],
             [
              0.7777777777777778,
              "#fb9f3a"
             ],
             [
              0.8888888888888888,
              "#fdca26"
             ],
             [
              1,
              "#f0f921"
             ]
            ],
            "type": "histogram2dcontour"
           }
          ],
          "mesh3d": [
           {
            "colorbar": {
             "outlinewidth": 0,
             "ticks": ""
            },
            "type": "mesh3d"
           }
          ],
          "parcoords": [
           {
            "line": {
             "colorbar": {
              "outlinewidth": 0,
              "ticks": ""
             }
            },
            "type": "parcoords"
           }
          ],
          "pie": [
           {
            "automargin": true,
            "type": "pie"
           }
          ],
          "scatter": [
           {
            "fillpattern": {
             "fillmode": "overlay",
             "size": 10,
             "solidity": 0.2
            },
            "type": "scatter"
           }
          ],
          "scatter3d": [
           {
            "line": {
             "colorbar": {
              "outlinewidth": 0,
              "ticks": ""
             }
            },
            "marker": {
             "colorbar": {
              "outlinewidth": 0,
              "ticks": ""
             }
            },
            "type": "scatter3d"
           }
          ],
          "scattercarpet": [
           {
            "marker": {
             "colorbar": {
              "outlinewidth": 0,
              "ticks": ""
             }
            },
            "type": "scattercarpet"
           }
          ],
          "scattergeo": [
           {
            "marker": {
             "colorbar": {
              "outlinewidth": 0,
              "ticks": ""
             }
            },
            "type": "scattergeo"
           }
          ],
          "scattergl": [
           {
            "marker": {
             "colorbar": {
              "outlinewidth": 0,
              "ticks": ""
             }
            },
            "type": "scattergl"
           }
          ],
          "scattermapbox": [
           {
            "marker": {
             "colorbar": {
              "outlinewidth": 0,
              "ticks": ""
             }
            },
            "type": "scattermapbox"
           }
          ],
          "scatterpolar": [
           {
            "marker": {
             "colorbar": {
              "outlinewidth": 0,
              "ticks": ""
             }
            },
            "type": "scatterpolar"
           }
          ],
          "scatterpolargl": [
           {
            "marker": {
             "colorbar": {
              "outlinewidth": 0,
              "ticks": ""
             }
            },
            "type": "scatterpolargl"
           }
          ],
          "scatterternary": [
           {
            "marker": {
             "colorbar": {
              "outlinewidth": 0,
              "ticks": ""
             }
            },
            "type": "scatterternary"
           }
          ],
          "surface": [
           {
            "colorbar": {
             "outlinewidth": 0,
             "ticks": ""
            },
            "colorscale": [
             [
              0,
              "#0d0887"
             ],
             [
              0.1111111111111111,
              "#46039f"
             ],
             [
              0.2222222222222222,
              "#7201a8"
             ],
             [
              0.3333333333333333,
              "#9c179e"
             ],
             [
              0.4444444444444444,
              "#bd3786"
             ],
             [
              0.5555555555555556,
              "#d8576b"
             ],
             [
              0.6666666666666666,
              "#ed7953"
             ],
             [
              0.7777777777777778,
              "#fb9f3a"
             ],
             [
              0.8888888888888888,
              "#fdca26"
             ],
             [
              1,
              "#f0f921"
             ]
            ],
            "type": "surface"
           }
          ],
          "table": [
           {
            "cells": {
             "fill": {
              "color": "#EBF0F8"
             },
             "line": {
              "color": "white"
             }
            },
            "header": {
             "fill": {
              "color": "#C8D4E3"
             },
             "line": {
              "color": "white"
             }
            },
            "type": "table"
           }
          ]
         },
         "layout": {
          "annotationdefaults": {
           "arrowcolor": "#2a3f5f",
           "arrowhead": 0,
           "arrowwidth": 1
          },
          "autotypenumbers": "strict",
          "coloraxis": {
           "colorbar": {
            "outlinewidth": 0,
            "ticks": ""
           }
          },
          "colorscale": {
           "diverging": [
            [
             0,
             "#8e0152"
            ],
            [
             0.1,
             "#c51b7d"
            ],
            [
             0.2,
             "#de77ae"
            ],
            [
             0.3,
             "#f1b6da"
            ],
            [
             0.4,
             "#fde0ef"
            ],
            [
             0.5,
             "#f7f7f7"
            ],
            [
             0.6,
             "#e6f5d0"
            ],
            [
             0.7,
             "#b8e186"
            ],
            [
             0.8,
             "#7fbc41"
            ],
            [
             0.9,
             "#4d9221"
            ],
            [
             1,
             "#276419"
            ]
           ],
           "sequential": [
            [
             0,
             "#0d0887"
            ],
            [
             0.1111111111111111,
             "#46039f"
            ],
            [
             0.2222222222222222,
             "#7201a8"
            ],
            [
             0.3333333333333333,
             "#9c179e"
            ],
            [
             0.4444444444444444,
             "#bd3786"
            ],
            [
             0.5555555555555556,
             "#d8576b"
            ],
            [
             0.6666666666666666,
             "#ed7953"
            ],
            [
             0.7777777777777778,
             "#fb9f3a"
            ],
            [
             0.8888888888888888,
             "#fdca26"
            ],
            [
             1,
             "#f0f921"
            ]
           ],
           "sequentialminus": [
            [
             0,
             "#0d0887"
            ],
            [
             0.1111111111111111,
             "#46039f"
            ],
            [
             0.2222222222222222,
             "#7201a8"
            ],
            [
             0.3333333333333333,
             "#9c179e"
            ],
            [
             0.4444444444444444,
             "#bd3786"
            ],
            [
             0.5555555555555556,
             "#d8576b"
            ],
            [
             0.6666666666666666,
             "#ed7953"
            ],
            [
             0.7777777777777778,
             "#fb9f3a"
            ],
            [
             0.8888888888888888,
             "#fdca26"
            ],
            [
             1,
             "#f0f921"
            ]
           ]
          },
          "colorway": [
           "#636efa",
           "#EF553B",
           "#00cc96",
           "#ab63fa",
           "#FFA15A",
           "#19d3f3",
           "#FF6692",
           "#B6E880",
           "#FF97FF",
           "#FECB52"
          ],
          "font": {
           "color": "#2a3f5f"
          },
          "geo": {
           "bgcolor": "white",
           "lakecolor": "white",
           "landcolor": "#E5ECF6",
           "showlakes": true,
           "showland": true,
           "subunitcolor": "white"
          },
          "hoverlabel": {
           "align": "left"
          },
          "hovermode": "closest",
          "mapbox": {
           "style": "light"
          },
          "paper_bgcolor": "white",
          "plot_bgcolor": "#E5ECF6",
          "polar": {
           "angularaxis": {
            "gridcolor": "white",
            "linecolor": "white",
            "ticks": ""
           },
           "bgcolor": "#E5ECF6",
           "radialaxis": {
            "gridcolor": "white",
            "linecolor": "white",
            "ticks": ""
           }
          },
          "scene": {
           "xaxis": {
            "backgroundcolor": "#E5ECF6",
            "gridcolor": "white",
            "gridwidth": 2,
            "linecolor": "white",
            "showbackground": true,
            "ticks": "",
            "zerolinecolor": "white"
           },
           "yaxis": {
            "backgroundcolor": "#E5ECF6",
            "gridcolor": "white",
            "gridwidth": 2,
            "linecolor": "white",
            "showbackground": true,
            "ticks": "",
            "zerolinecolor": "white"
           },
           "zaxis": {
            "backgroundcolor": "#E5ECF6",
            "gridcolor": "white",
            "gridwidth": 2,
            "linecolor": "white",
            "showbackground": true,
            "ticks": "",
            "zerolinecolor": "white"
           }
          },
          "shapedefaults": {
           "line": {
            "color": "#2a3f5f"
           }
          },
          "ternary": {
           "aaxis": {
            "gridcolor": "white",
            "linecolor": "white",
            "ticks": ""
           },
           "baxis": {
            "gridcolor": "white",
            "linecolor": "white",
            "ticks": ""
           },
           "bgcolor": "#E5ECF6",
           "caxis": {
            "gridcolor": "white",
            "linecolor": "white",
            "ticks": ""
           }
          },
          "title": {
           "x": 0.05
          },
          "xaxis": {
           "automargin": true,
           "gridcolor": "white",
           "linecolor": "white",
           "ticks": "",
           "title": {
            "standoff": 15
           },
           "zerolinecolor": "white",
           "zerolinewidth": 2
          },
          "yaxis": {
           "automargin": true,
           "gridcolor": "white",
           "linecolor": "white",
           "ticks": "",
           "title": {
            "standoff": 15
           },
           "zerolinecolor": "white",
           "zerolinewidth": 2
          }
         }
        },
        "title": {
         "font": {
          "color": "#4D5663"
         }
        },
        "xaxis": {
         "gridcolor": "#E1E5ED",
         "showgrid": true,
         "tickfont": {
          "color": "#4D5663"
         },
         "title": {
          "font": {
           "color": "#4D5663"
          },
          "text": ""
         },
         "zerolinecolor": "#E1E5ED"
        },
        "yaxis": {
         "gridcolor": "#E1E5ED",
         "showgrid": true,
         "tickfont": {
          "color": "#4D5663"
         },
         "title": {
          "font": {
           "color": "#4D5663"
          },
          "text": ""
         },
         "zerolinecolor": "#E1E5ED"
        }
       }
      },
      "text/html": [
       "<div>                            <div id=\"13fb3215-5ada-481d-b71c-7d4040c3730e\" class=\"plotly-graph-div\" style=\"height:525px; width:100%;\"></div>            <script type=\"text/javascript\">                require([\"plotly\"], function(Plotly) {                    window.PLOTLYENV=window.PLOTLYENV || {};\n",
       "                    window.PLOTLYENV.BASE_URL='https://plot.ly';                                    if (document.getElementById(\"13fb3215-5ada-481d-b71c-7d4040c3730e\")) {                    Plotly.newPlot(                        \"13fb3215-5ada-481d-b71c-7d4040c3730e\",                        [{\"boxpoints\":false,\"line\":{\"width\":1.3},\"marker\":{\"color\":\"rgba(255, 153, 51, 1.0)\"},\"name\":\"A\",\"orientation\":\"v\",\"y\":[0.7524227622239249,-0.6487508694482285,-0.12276902469067315,-1.7956304294769236,-0.9799731504092138,1.3362874408281362,1.6300701479361905,1.893259976205648,1.102454540951155,-2.1450995701597635,-0.27791957658198363,0.5884301683993967,0.615111776799618,0.2015144223854086,2.1435623735574123,-1.4930470533502194,1.5356692790966953,-1.0229093074170883,0.1759924467352236,-0.5835389825445142,-1.5045905284820054,0.7121602950723773,0.027639743148447422,1.4899290306550939,2.7417157921905764,1.1071397111583028,0.1116141070140691,0.49478387791171435,0.09675256767697327,2.1385303960269098,-0.6690582559318675,-0.0625705570795616,0.35924665837333947,0.03971910887051859,0.9831002494786435,0.9006490205825207,-0.9538509595822618,-0.20768454140825984,1.1296875020178823,0.061143301200641514,0.16916316503414763,-1.166564321780111,0.5891047687352472,0.793330260909169,-0.9834954995976098,0.6372477908713823,1.176628879265964,0.25097681343004324,1.656911627497132,1.179288445516592,-0.13271766438827634,0.3001113425006879,1.0101157978281166,-0.8957405536547673,0.7595712933512376,-0.5193778376546777,0.1423613502424884,-2.1021074624815883,0.33302496576488233,-0.16979628990295093,-0.9468499260465263,-0.8834558066344341,0.6230893758350854,-0.649993041546382,1.448657701803833,-0.8458526622516507,-0.0981429164294889,-0.5936239908790261,-0.385848432532634,-1.3735488390101918,-1.0056553057412447,-1.26730052140875,0.6556464292500415,-0.1334056210776524,-0.5853856257269497,0.6067943948542077,-0.9524477619805134,0.8256890188080714,-0.38544439397462416,-0.09760326316560804,-1.162915585696774,-0.38799627732569153,0.9711969001992721,1.6523680779276493,-1.8045995945136548,0.8692706779303185,0.2982140066126374,-2.232879857099527,0.271029852610972,-0.45240581774251093,0.9318810556623758,-0.26768715861225206,-1.1455708825858975,1.8683283454304598,0.8573275444364243,1.3325036587822003,2.599708051322223,2.5408176068246195,0.24426027282740315,1.9126990659987366],\"type\":\"box\"},{\"boxpoints\":false,\"line\":{\"width\":1.3},\"marker\":{\"color\":\"rgba(55, 128, 191, 1.0)\"},\"name\":\"B\",\"orientation\":\"v\",\"y\":[-0.14411142071418448,0.4543383861726146,-0.7083109717970135,1.0903842538507134,-0.9618951277509531,0.7910225125160179,-0.09170042656156237,1.2065985419544019,0.5554298383945874,1.2392441562349639,-0.10418607581733894,-1.5962761205932277,-0.6726747533058741,0.40019099429991684,0.35184677700579475,-0.24545355294518686,1.6395704390094321,0.14405723113709348,0.3926952588678192,0.3654074215407099,-0.7681215022777197,-1.4062832714563236,-1.2546410580879253,0.18550467761114373,-0.8431939326081225,-2.06963127321301,1.48658934053319,-1.3326252323447432,-0.56726203886916,0.1361568603876222,0.6083662168232864,-0.09910069096383518,1.0820082378249034,0.31019928685403797,-0.731073676798277,0.040732192306421416,-0.8107107612338843,1.4173142860072543,-0.27584483581014213,2.5355035017244085,1.3112730058506958,-0.41427195107802095,-0.1741073227349552,1.6087551847409967,-0.9134078520482416,0.1136295862603745,0.17373761739318422,0.808462558759177,-2.1897539132033033,0.08330649712203049,0.8248180483876241,-0.40453200043901594,-0.4694871922459325,0.6698077464337866,0.3565346365704142,0.12869804689699224,0.67017515921362,0.5360783407567321,-0.2917074199552538,0.4365141785381166,0.6105572925783977,0.9734497641828365,1.4562443431718226,-0.4981857939219861,-0.9386690265452898,1.7311316676972948,-0.6298966613647587,0.815225989591915,-0.4602572673509436,-0.9150007309938142,0.10863252084373735,1.1729531883979405,-1.631017696238814,-1.8496504257349287,0.17950210460028163,0.9682133702319166,-1.484707530253836,-1.639085276989806,0.40140816264697965,0.6390331364973107,1.2323156584101398,2.162752863112274,1.1815167591012996,-1.9852722873734716,-1.0431001767275785,-1.279261507190979,-1.411883001080788,0.6140936180273153,-1.2851155395037284,-0.42350457709057093,-0.2271241069058536,-2.1592081055400807,-0.6316189001075955,0.490315679755434,-0.6518997189531053,-0.10202977067303974,0.8948687383146906,0.24313123575142453,-0.10391921868855766,0.7618133728978007],\"type\":\"box\"},{\"boxpoints\":false,\"line\":{\"width\":1.3},\"marker\":{\"color\":\"rgba(50, 171, 96, 1.0)\"},\"name\":\"C\",\"orientation\":\"v\",\"y\":[1.305013536467514,-1.42535470765432,-0.12604113800944422,-1.48294028151399,-1.524921453966342,-0.5001396586077944,0.9663594848222418,0.6511632211392434,1.2680562169430485,0.38578439429421557,0.5948018303689191,-1.1486200699604603,0.18266163250939058,0.8820540564297727,-0.24497020377414525,0.025594545763943804,0.12869585390591737,0.32142737960936585,-0.050387034257378685,-0.334310650000316,0.22099012296039902,0.7966918812019385,-1.8672512456999801,0.9320048080127644,0.45018206948666273,0.9428787760376252,-1.3737807738819845,0.8315192343611962,0.6912197955804958,1.7722529173107047,-1.8766564316157268,0.4573995287753774,0.2640895583425982,-0.07785549272185156,-2.165729817573907,-1.237526212398555,-1.0128233349217224,-0.8386553327108263,-1.1369503186573282,1.5351188890422152,-1.379901191652556,0.10140996016831537,1.7651260380058793,0.18010736037245792,-0.6083695023874888,1.2067994728795954,0.4916312019935608,-1.1545406480393758,-1.604204214745099,-0.7988062547947758,1.6134360527825156,0.7648888859158497,-0.3129062452567959,0.9834626468593414,1.1132841728809684,0.8569404529255602,-0.9969600565737744,-0.19061421718370442,0.49459276857565976,-1.3557839268561214,0.18585644198419426,0.17575848935819968,0.07385563415515443,-2.0111013420485704,-0.1450443563724643,-0.17829109324925918,-0.10534795960111619,1.1640546289995994,0.044219694769802365,0.2501051062167861,0.7550480431034529,-1.8383251520794013,0.9060834010968599,-0.8790522337087745,-1.3445913589928218,0.38799898723469833,-1.1778874444502483,-0.010612373003847918,-0.7129127509935006,-1.2918209551292188,-1.592624367200515,-0.2602964600542373,-0.4710181079301098,-1.6549395511165124,0.050982258805437185,0.7781629925706114,0.7596015165039246,0.4086283918127778,1.0038304937754987,0.4528236588677294,0.8922440211325979,0.4895309999077554,-0.2809943324827049,-0.2715467430678329,-0.08030487095646313,0.530441125757145,-0.04033073393472941,0.008113269410795433,1.493067032951811,0.9209224832222817],\"type\":\"box\"},{\"boxpoints\":false,\"line\":{\"width\":1.3},\"marker\":{\"color\":\"rgba(128, 0, 128, 1.0)\"},\"name\":\"D\",\"orientation\":\"v\",\"y\":[0.3054230738083809,1.1789013899075005,1.098021073503437,1.5512280632862248,-2.0949439421886207,-0.11363665601526601,0.7395114620876521,0.4477857131460393,0.9223742243093176,-1.077721376778996,-0.5484778158816865,-1.4691868746258816,1.4991774408058693,-0.40317001578517686,0.40315341799002097,-0.6713193679546652,-0.5089714916072127,-0.15034524373173602,1.0771028214664136,-0.48093701537607175,-1.0300234581011998,-0.8093034044191941,0.8620688961197059,0.49288406455008704,-0.4812786116314043,-0.4494076267675402,0.2967218210320583,0.2213746321191471,0.6509611090035058,1.6244901230062958,0.6404081217454802,-0.49459122247551535,-0.04491658595260175,1.0705693077055967,-0.8055313328239344,0.006036740985196447,1.1796302428983652,-0.4148101372785504,1.402274959609972,0.5175474904029675,-1.1407129767053383,0.9464484951509217,0.7510066724113348,-1.2018892237795142,-2.524376737193402,-0.3540747956012334,-0.9928922123118572,2.6928156075338174,0.008305616944702885,-0.9890457437497764,1.4686464117253037,0.5804553535299848,-0.7067340857805501,0.8313774240925941,-0.9988803069071867,0.6209174780368496,0.17494713339245044,-1.0128812533315694,-0.38338884946158713,0.11785317920806535,-0.8844941537313951,0.7387029800154007,-0.7269738986645328,1.1641540207702687,1.541554995438241,-1.1061846525126717,-0.9666268322520456,1.644095779273358,-0.2859944093154943,0.0845312131984907,0.6440209479181911,0.44431312044641647,1.1071126459843645,0.3744018472490756,1.9489693486688506,2.1187884910969816,-0.6431291968014526,-0.5287506822288152,2.90859967493311,0.7124052403852407,-1.253920557757355,-2.1576032459715857,-0.8593191175675434,2.3206124233483627,-0.7452654586987822,0.7237418253648195,-0.4785650608077709,-0.5381946389685107,-1.3767333240213495,-0.6927653867972688,-0.21739281630230928,-0.14726466629852822,-1.7237093455267913,-1.3525520540261509,2.128864366455416,-0.4694671415443432,-0.3308872029680333,-2.746400553650332,1.0168288445610016,0.9478876345541277],\"type\":\"box\"}],                        {\"legend\":{\"bgcolor\":\"#F5F6F9\",\"font\":{\"color\":\"#4D5663\"}},\"paper_bgcolor\":\"#F5F6F9\",\"plot_bgcolor\":\"#F5F6F9\",\"template\":{\"data\":{\"barpolar\":[{\"marker\":{\"line\":{\"color\":\"#E5ECF6\",\"width\":0.5},\"pattern\":{\"fillmode\":\"overlay\",\"size\":10,\"solidity\":0.2}},\"type\":\"barpolar\"}],\"bar\":[{\"error_x\":{\"color\":\"#2a3f5f\"},\"error_y\":{\"color\":\"#2a3f5f\"},\"marker\":{\"line\":{\"color\":\"#E5ECF6\",\"width\":0.5},\"pattern\":{\"fillmode\":\"overlay\",\"size\":10,\"solidity\":0.2}},\"type\":\"bar\"}],\"carpet\":[{\"aaxis\":{\"endlinecolor\":\"#2a3f5f\",\"gridcolor\":\"white\",\"linecolor\":\"white\",\"minorgridcolor\":\"white\",\"startlinecolor\":\"#2a3f5f\"},\"baxis\":{\"endlinecolor\":\"#2a3f5f\",\"gridcolor\":\"white\",\"linecolor\":\"white\",\"minorgridcolor\":\"white\",\"startlinecolor\":\"#2a3f5f\"},\"type\":\"carpet\"}],\"choropleth\":[{\"colorbar\":{\"outlinewidth\":0,\"ticks\":\"\"},\"type\":\"choropleth\"}],\"contourcarpet\":[{\"colorbar\":{\"outlinewidth\":0,\"ticks\":\"\"},\"type\":\"contourcarpet\"}],\"contour\":[{\"colorbar\":{\"outlinewidth\":0,\"ticks\":\"\"},\"colorscale\":[[0.0,\"#0d0887\"],[0.1111111111111111,\"#46039f\"],[0.2222222222222222,\"#7201a8\"],[0.3333333333333333,\"#9c179e\"],[0.4444444444444444,\"#bd3786\"],[0.5555555555555556,\"#d8576b\"],[0.6666666666666666,\"#ed7953\"],[0.7777777777777778,\"#fb9f3a\"],[0.8888888888888888,\"#fdca26\"],[1.0,\"#f0f921\"]],\"type\":\"contour\"}],\"heatmapgl\":[{\"colorbar\":{\"outlinewidth\":0,\"ticks\":\"\"},\"colorscale\":[[0.0,\"#0d0887\"],[0.1111111111111111,\"#46039f\"],[0.2222222222222222,\"#7201a8\"],[0.3333333333333333,\"#9c179e\"],[0.4444444444444444,\"#bd3786\"],[0.5555555555555556,\"#d8576b\"],[0.6666666666666666,\"#ed7953\"],[0.7777777777777778,\"#fb9f3a\"],[0.8888888888888888,\"#fdca26\"],[1.0,\"#f0f921\"]],\"type\":\"heatmapgl\"}],\"heatmap\":[{\"colorbar\":{\"outlinewidth\":0,\"ticks\":\"\"},\"colorscale\":[[0.0,\"#0d0887\"],[0.1111111111111111,\"#46039f\"],[0.2222222222222222,\"#7201a8\"],[0.3333333333333333,\"#9c179e\"],[0.4444444444444444,\"#bd3786\"],[0.5555555555555556,\"#d8576b\"],[0.6666666666666666,\"#ed7953\"],[0.7777777777777778,\"#fb9f3a\"],[0.8888888888888888,\"#fdca26\"],[1.0,\"#f0f921\"]],\"type\":\"heatmap\"}],\"histogram2dcontour\":[{\"colorbar\":{\"outlinewidth\":0,\"ticks\":\"\"},\"colorscale\":[[0.0,\"#0d0887\"],[0.1111111111111111,\"#46039f\"],[0.2222222222222222,\"#7201a8\"],[0.3333333333333333,\"#9c179e\"],[0.4444444444444444,\"#bd3786\"],[0.5555555555555556,\"#d8576b\"],[0.6666666666666666,\"#ed7953\"],[0.7777777777777778,\"#fb9f3a\"],[0.8888888888888888,\"#fdca26\"],[1.0,\"#f0f921\"]],\"type\":\"histogram2dcontour\"}],\"histogram2d\":[{\"colorbar\":{\"outlinewidth\":0,\"ticks\":\"\"},\"colorscale\":[[0.0,\"#0d0887\"],[0.1111111111111111,\"#46039f\"],[0.2222222222222222,\"#7201a8\"],[0.3333333333333333,\"#9c179e\"],[0.4444444444444444,\"#bd3786\"],[0.5555555555555556,\"#d8576b\"],[0.6666666666666666,\"#ed7953\"],[0.7777777777777778,\"#fb9f3a\"],[0.8888888888888888,\"#fdca26\"],[1.0,\"#f0f921\"]],\"type\":\"histogram2d\"}],\"histogram\":[{\"marker\":{\"pattern\":{\"fillmode\":\"overlay\",\"size\":10,\"solidity\":0.2}},\"type\":\"histogram\"}],\"mesh3d\":[{\"colorbar\":{\"outlinewidth\":0,\"ticks\":\"\"},\"type\":\"mesh3d\"}],\"parcoords\":[{\"line\":{\"colorbar\":{\"outlinewidth\":0,\"ticks\":\"\"}},\"type\":\"parcoords\"}],\"pie\":[{\"automargin\":true,\"type\":\"pie\"}],\"scatter3d\":[{\"line\":{\"colorbar\":{\"outlinewidth\":0,\"ticks\":\"\"}},\"marker\":{\"colorbar\":{\"outlinewidth\":0,\"ticks\":\"\"}},\"type\":\"scatter3d\"}],\"scattercarpet\":[{\"marker\":{\"colorbar\":{\"outlinewidth\":0,\"ticks\":\"\"}},\"type\":\"scattercarpet\"}],\"scattergeo\":[{\"marker\":{\"colorbar\":{\"outlinewidth\":0,\"ticks\":\"\"}},\"type\":\"scattergeo\"}],\"scattergl\":[{\"marker\":{\"colorbar\":{\"outlinewidth\":0,\"ticks\":\"\"}},\"type\":\"scattergl\"}],\"scattermapbox\":[{\"marker\":{\"colorbar\":{\"outlinewidth\":0,\"ticks\":\"\"}},\"type\":\"scattermapbox\"}],\"scatterpolargl\":[{\"marker\":{\"colorbar\":{\"outlinewidth\":0,\"ticks\":\"\"}},\"type\":\"scatterpolargl\"}],\"scatterpolar\":[{\"marker\":{\"colorbar\":{\"outlinewidth\":0,\"ticks\":\"\"}},\"type\":\"scatterpolar\"}],\"scatter\":[{\"fillpattern\":{\"fillmode\":\"overlay\",\"size\":10,\"solidity\":0.2},\"type\":\"scatter\"}],\"scatterternary\":[{\"marker\":{\"colorbar\":{\"outlinewidth\":0,\"ticks\":\"\"}},\"type\":\"scatterternary\"}],\"surface\":[{\"colorbar\":{\"outlinewidth\":0,\"ticks\":\"\"},\"colorscale\":[[0.0,\"#0d0887\"],[0.1111111111111111,\"#46039f\"],[0.2222222222222222,\"#7201a8\"],[0.3333333333333333,\"#9c179e\"],[0.4444444444444444,\"#bd3786\"],[0.5555555555555556,\"#d8576b\"],[0.6666666666666666,\"#ed7953\"],[0.7777777777777778,\"#fb9f3a\"],[0.8888888888888888,\"#fdca26\"],[1.0,\"#f0f921\"]],\"type\":\"surface\"}],\"table\":[{\"cells\":{\"fill\":{\"color\":\"#EBF0F8\"},\"line\":{\"color\":\"white\"}},\"header\":{\"fill\":{\"color\":\"#C8D4E3\"},\"line\":{\"color\":\"white\"}},\"type\":\"table\"}]},\"layout\":{\"annotationdefaults\":{\"arrowcolor\":\"#2a3f5f\",\"arrowhead\":0,\"arrowwidth\":1},\"autotypenumbers\":\"strict\",\"coloraxis\":{\"colorbar\":{\"outlinewidth\":0,\"ticks\":\"\"}},\"colorscale\":{\"diverging\":[[0,\"#8e0152\"],[0.1,\"#c51b7d\"],[0.2,\"#de77ae\"],[0.3,\"#f1b6da\"],[0.4,\"#fde0ef\"],[0.5,\"#f7f7f7\"],[0.6,\"#e6f5d0\"],[0.7,\"#b8e186\"],[0.8,\"#7fbc41\"],[0.9,\"#4d9221\"],[1,\"#276419\"]],\"sequential\":[[0.0,\"#0d0887\"],[0.1111111111111111,\"#46039f\"],[0.2222222222222222,\"#7201a8\"],[0.3333333333333333,\"#9c179e\"],[0.4444444444444444,\"#bd3786\"],[0.5555555555555556,\"#d8576b\"],[0.6666666666666666,\"#ed7953\"],[0.7777777777777778,\"#fb9f3a\"],[0.8888888888888888,\"#fdca26\"],[1.0,\"#f0f921\"]],\"sequentialminus\":[[0.0,\"#0d0887\"],[0.1111111111111111,\"#46039f\"],[0.2222222222222222,\"#7201a8\"],[0.3333333333333333,\"#9c179e\"],[0.4444444444444444,\"#bd3786\"],[0.5555555555555556,\"#d8576b\"],[0.6666666666666666,\"#ed7953\"],[0.7777777777777778,\"#fb9f3a\"],[0.8888888888888888,\"#fdca26\"],[1.0,\"#f0f921\"]]},\"colorway\":[\"#636efa\",\"#EF553B\",\"#00cc96\",\"#ab63fa\",\"#FFA15A\",\"#19d3f3\",\"#FF6692\",\"#B6E880\",\"#FF97FF\",\"#FECB52\"],\"font\":{\"color\":\"#2a3f5f\"},\"geo\":{\"bgcolor\":\"white\",\"lakecolor\":\"white\",\"landcolor\":\"#E5ECF6\",\"showlakes\":true,\"showland\":true,\"subunitcolor\":\"white\"},\"hoverlabel\":{\"align\":\"left\"},\"hovermode\":\"closest\",\"mapbox\":{\"style\":\"light\"},\"paper_bgcolor\":\"white\",\"plot_bgcolor\":\"#E5ECF6\",\"polar\":{\"angularaxis\":{\"gridcolor\":\"white\",\"linecolor\":\"white\",\"ticks\":\"\"},\"bgcolor\":\"#E5ECF6\",\"radialaxis\":{\"gridcolor\":\"white\",\"linecolor\":\"white\",\"ticks\":\"\"}},\"scene\":{\"xaxis\":{\"backgroundcolor\":\"#E5ECF6\",\"gridcolor\":\"white\",\"gridwidth\":2,\"linecolor\":\"white\",\"showbackground\":true,\"ticks\":\"\",\"zerolinecolor\":\"white\"},\"yaxis\":{\"backgroundcolor\":\"#E5ECF6\",\"gridcolor\":\"white\",\"gridwidth\":2,\"linecolor\":\"white\",\"showbackground\":true,\"ticks\":\"\",\"zerolinecolor\":\"white\"},\"zaxis\":{\"backgroundcolor\":\"#E5ECF6\",\"gridcolor\":\"white\",\"gridwidth\":2,\"linecolor\":\"white\",\"showbackground\":true,\"ticks\":\"\",\"zerolinecolor\":\"white\"}},\"shapedefaults\":{\"line\":{\"color\":\"#2a3f5f\"}},\"ternary\":{\"aaxis\":{\"gridcolor\":\"white\",\"linecolor\":\"white\",\"ticks\":\"\"},\"baxis\":{\"gridcolor\":\"white\",\"linecolor\":\"white\",\"ticks\":\"\"},\"bgcolor\":\"#E5ECF6\",\"caxis\":{\"gridcolor\":\"white\",\"linecolor\":\"white\",\"ticks\":\"\"}},\"title\":{\"x\":0.05},\"xaxis\":{\"automargin\":true,\"gridcolor\":\"white\",\"linecolor\":\"white\",\"ticks\":\"\",\"title\":{\"standoff\":15},\"zerolinecolor\":\"white\",\"zerolinewidth\":2},\"yaxis\":{\"automargin\":true,\"gridcolor\":\"white\",\"linecolor\":\"white\",\"ticks\":\"\",\"title\":{\"standoff\":15},\"zerolinecolor\":\"white\",\"zerolinewidth\":2}}},\"title\":{\"font\":{\"color\":\"#4D5663\"}},\"xaxis\":{\"gridcolor\":\"#E1E5ED\",\"showgrid\":true,\"tickfont\":{\"color\":\"#4D5663\"},\"title\":{\"font\":{\"color\":\"#4D5663\"},\"text\":\"\"},\"zerolinecolor\":\"#E1E5ED\"},\"yaxis\":{\"gridcolor\":\"#E1E5ED\",\"showgrid\":true,\"tickfont\":{\"color\":\"#4D5663\"},\"title\":{\"font\":{\"color\":\"#4D5663\"},\"text\":\"\"},\"zerolinecolor\":\"#E1E5ED\"}},                        {\"showLink\": true, \"linkText\": \"Export to plot.ly\", \"plotlyServerURL\": \"https://plot.ly\", \"responsive\": true}                    ).then(function(){\n",
       "                            \n",
       "var gd = document.getElementById('13fb3215-5ada-481d-b71c-7d4040c3730e');\n",
       "var x = new MutationObserver(function (mutations, observer) {{\n",
       "        var display = window.getComputedStyle(gd).display;\n",
       "        if (!display || display === 'none') {{\n",
       "            console.log([gd, 'removed!']);\n",
       "            Plotly.purge(gd);\n",
       "            observer.disconnect();\n",
       "        }}\n",
       "}});\n",
       "\n",
       "// Listen for the removal of the full notebook cells\n",
       "var notebookContainer = gd.closest('#notebook-container');\n",
       "if (notebookContainer) {{\n",
       "    x.observe(notebookContainer, {childList: true});\n",
       "}}\n",
       "\n",
       "// Listen for the clearing of the current output cell\n",
       "var outputEl = gd.closest('.output');\n",
       "if (outputEl) {{\n",
       "    x.observe(outputEl, {childList: true});\n",
       "}}\n",
       "\n",
       "                        })                };                });            </script>        </div>"
      ]
     },
     "metadata": {},
     "output_type": "display_data"
    }
   ],
   "source": [
    "#Boxplot\n",
    "df.iplot(kind='box')"
   ]
  },
  {
   "cell_type": "code",
   "execution_count": 15,
   "id": "66022af0",
   "metadata": {},
   "outputs": [
    {
     "data": {
      "application/vnd.plotly.v1+json": {
       "config": {
        "linkText": "Export to plot.ly",
        "plotlyServerURL": "https://plot.ly",
        "showLink": true
       },
       "data": [
        {
         "colorscale": [
          [
           0,
           "rgb(165,0,38)"
          ],
          [
           0.1,
           "rgb(215,48,39)"
          ],
          [
           0.2,
           "rgb(244,109,67)"
          ],
          [
           0.3,
           "rgb(253,174,97)"
          ],
          [
           0.4,
           "rgb(254,224,144)"
          ],
          [
           0.5,
           "rgb(255,255,191)"
          ],
          [
           0.6,
           "rgb(224,243,248)"
          ],
          [
           0.7,
           "rgb(171,217,233)"
          ],
          [
           0.8,
           "rgb(116,173,209)"
          ],
          [
           0.9,
           "rgb(69,117,180)"
          ],
          [
           1,
           "rgb(49,54,149)"
          ]
         ],
         "type": "surface",
         "x": [
          0,
          1,
          2,
          3,
          4
         ],
         "y": [
          "x",
          "y",
          "z"
         ],
         "z": [
          [
           1,
           2,
           3,
           4,
           5
          ],
          [
           10,
           20,
           30,
           20,
           10
          ],
          [
           5,
           4,
           3,
           2,
           1
          ]
         ]
        }
       ],
       "layout": {
        "legend": {
         "bgcolor": "#F5F6F9",
         "font": {
          "color": "#4D5663"
         }
        },
        "paper_bgcolor": "#F5F6F9",
        "plot_bgcolor": "#F5F6F9",
        "template": {
         "data": {
          "bar": [
           {
            "error_x": {
             "color": "#2a3f5f"
            },
            "error_y": {
             "color": "#2a3f5f"
            },
            "marker": {
             "line": {
              "color": "#E5ECF6",
              "width": 0.5
             },
             "pattern": {
              "fillmode": "overlay",
              "size": 10,
              "solidity": 0.2
             }
            },
            "type": "bar"
           }
          ],
          "barpolar": [
           {
            "marker": {
             "line": {
              "color": "#E5ECF6",
              "width": 0.5
             },
             "pattern": {
              "fillmode": "overlay",
              "size": 10,
              "solidity": 0.2
             }
            },
            "type": "barpolar"
           }
          ],
          "carpet": [
           {
            "aaxis": {
             "endlinecolor": "#2a3f5f",
             "gridcolor": "white",
             "linecolor": "white",
             "minorgridcolor": "white",
             "startlinecolor": "#2a3f5f"
            },
            "baxis": {
             "endlinecolor": "#2a3f5f",
             "gridcolor": "white",
             "linecolor": "white",
             "minorgridcolor": "white",
             "startlinecolor": "#2a3f5f"
            },
            "type": "carpet"
           }
          ],
          "choropleth": [
           {
            "colorbar": {
             "outlinewidth": 0,
             "ticks": ""
            },
            "type": "choropleth"
           }
          ],
          "contour": [
           {
            "colorbar": {
             "outlinewidth": 0,
             "ticks": ""
            },
            "colorscale": [
             [
              0,
              "#0d0887"
             ],
             [
              0.1111111111111111,
              "#46039f"
             ],
             [
              0.2222222222222222,
              "#7201a8"
             ],
             [
              0.3333333333333333,
              "#9c179e"
             ],
             [
              0.4444444444444444,
              "#bd3786"
             ],
             [
              0.5555555555555556,
              "#d8576b"
             ],
             [
              0.6666666666666666,
              "#ed7953"
             ],
             [
              0.7777777777777778,
              "#fb9f3a"
             ],
             [
              0.8888888888888888,
              "#fdca26"
             ],
             [
              1,
              "#f0f921"
             ]
            ],
            "type": "contour"
           }
          ],
          "contourcarpet": [
           {
            "colorbar": {
             "outlinewidth": 0,
             "ticks": ""
            },
            "type": "contourcarpet"
           }
          ],
          "heatmap": [
           {
            "colorbar": {
             "outlinewidth": 0,
             "ticks": ""
            },
            "colorscale": [
             [
              0,
              "#0d0887"
             ],
             [
              0.1111111111111111,
              "#46039f"
             ],
             [
              0.2222222222222222,
              "#7201a8"
             ],
             [
              0.3333333333333333,
              "#9c179e"
             ],
             [
              0.4444444444444444,
              "#bd3786"
             ],
             [
              0.5555555555555556,
              "#d8576b"
             ],
             [
              0.6666666666666666,
              "#ed7953"
             ],
             [
              0.7777777777777778,
              "#fb9f3a"
             ],
             [
              0.8888888888888888,
              "#fdca26"
             ],
             [
              1,
              "#f0f921"
             ]
            ],
            "type": "heatmap"
           }
          ],
          "heatmapgl": [
           {
            "colorbar": {
             "outlinewidth": 0,
             "ticks": ""
            },
            "colorscale": [
             [
              0,
              "#0d0887"
             ],
             [
              0.1111111111111111,
              "#46039f"
             ],
             [
              0.2222222222222222,
              "#7201a8"
             ],
             [
              0.3333333333333333,
              "#9c179e"
             ],
             [
              0.4444444444444444,
              "#bd3786"
             ],
             [
              0.5555555555555556,
              "#d8576b"
             ],
             [
              0.6666666666666666,
              "#ed7953"
             ],
             [
              0.7777777777777778,
              "#fb9f3a"
             ],
             [
              0.8888888888888888,
              "#fdca26"
             ],
             [
              1,
              "#f0f921"
             ]
            ],
            "type": "heatmapgl"
           }
          ],
          "histogram": [
           {
            "marker": {
             "pattern": {
              "fillmode": "overlay",
              "size": 10,
              "solidity": 0.2
             }
            },
            "type": "histogram"
           }
          ],
          "histogram2d": [
           {
            "colorbar": {
             "outlinewidth": 0,
             "ticks": ""
            },
            "colorscale": [
             [
              0,
              "#0d0887"
             ],
             [
              0.1111111111111111,
              "#46039f"
             ],
             [
              0.2222222222222222,
              "#7201a8"
             ],
             [
              0.3333333333333333,
              "#9c179e"
             ],
             [
              0.4444444444444444,
              "#bd3786"
             ],
             [
              0.5555555555555556,
              "#d8576b"
             ],
             [
              0.6666666666666666,
              "#ed7953"
             ],
             [
              0.7777777777777778,
              "#fb9f3a"
             ],
             [
              0.8888888888888888,
              "#fdca26"
             ],
             [
              1,
              "#f0f921"
             ]
            ],
            "type": "histogram2d"
           }
          ],
          "histogram2dcontour": [
           {
            "colorbar": {
             "outlinewidth": 0,
             "ticks": ""
            },
            "colorscale": [
             [
              0,
              "#0d0887"
             ],
             [
              0.1111111111111111,
              "#46039f"
             ],
             [
              0.2222222222222222,
              "#7201a8"
             ],
             [
              0.3333333333333333,
              "#9c179e"
             ],
             [
              0.4444444444444444,
              "#bd3786"
             ],
             [
              0.5555555555555556,
              "#d8576b"
             ],
             [
              0.6666666666666666,
              "#ed7953"
             ],
             [
              0.7777777777777778,
              "#fb9f3a"
             ],
             [
              0.8888888888888888,
              "#fdca26"
             ],
             [
              1,
              "#f0f921"
             ]
            ],
            "type": "histogram2dcontour"
           }
          ],
          "mesh3d": [
           {
            "colorbar": {
             "outlinewidth": 0,
             "ticks": ""
            },
            "type": "mesh3d"
           }
          ],
          "parcoords": [
           {
            "line": {
             "colorbar": {
              "outlinewidth": 0,
              "ticks": ""
             }
            },
            "type": "parcoords"
           }
          ],
          "pie": [
           {
            "automargin": true,
            "type": "pie"
           }
          ],
          "scatter": [
           {
            "fillpattern": {
             "fillmode": "overlay",
             "size": 10,
             "solidity": 0.2
            },
            "type": "scatter"
           }
          ],
          "scatter3d": [
           {
            "line": {
             "colorbar": {
              "outlinewidth": 0,
              "ticks": ""
             }
            },
            "marker": {
             "colorbar": {
              "outlinewidth": 0,
              "ticks": ""
             }
            },
            "type": "scatter3d"
           }
          ],
          "scattercarpet": [
           {
            "marker": {
             "colorbar": {
              "outlinewidth": 0,
              "ticks": ""
             }
            },
            "type": "scattercarpet"
           }
          ],
          "scattergeo": [
           {
            "marker": {
             "colorbar": {
              "outlinewidth": 0,
              "ticks": ""
             }
            },
            "type": "scattergeo"
           }
          ],
          "scattergl": [
           {
            "marker": {
             "colorbar": {
              "outlinewidth": 0,
              "ticks": ""
             }
            },
            "type": "scattergl"
           }
          ],
          "scattermapbox": [
           {
            "marker": {
             "colorbar": {
              "outlinewidth": 0,
              "ticks": ""
             }
            },
            "type": "scattermapbox"
           }
          ],
          "scatterpolar": [
           {
            "marker": {
             "colorbar": {
              "outlinewidth": 0,
              "ticks": ""
             }
            },
            "type": "scatterpolar"
           }
          ],
          "scatterpolargl": [
           {
            "marker": {
             "colorbar": {
              "outlinewidth": 0,
              "ticks": ""
             }
            },
            "type": "scatterpolargl"
           }
          ],
          "scatterternary": [
           {
            "marker": {
             "colorbar": {
              "outlinewidth": 0,
              "ticks": ""
             }
            },
            "type": "scatterternary"
           }
          ],
          "surface": [
           {
            "colorbar": {
             "outlinewidth": 0,
             "ticks": ""
            },
            "colorscale": [
             [
              0,
              "#0d0887"
             ],
             [
              0.1111111111111111,
              "#46039f"
             ],
             [
              0.2222222222222222,
              "#7201a8"
             ],
             [
              0.3333333333333333,
              "#9c179e"
             ],
             [
              0.4444444444444444,
              "#bd3786"
             ],
             [
              0.5555555555555556,
              "#d8576b"
             ],
             [
              0.6666666666666666,
              "#ed7953"
             ],
             [
              0.7777777777777778,
              "#fb9f3a"
             ],
             [
              0.8888888888888888,
              "#fdca26"
             ],
             [
              1,
              "#f0f921"
             ]
            ],
            "type": "surface"
           }
          ],
          "table": [
           {
            "cells": {
             "fill": {
              "color": "#EBF0F8"
             },
             "line": {
              "color": "white"
             }
            },
            "header": {
             "fill": {
              "color": "#C8D4E3"
             },
             "line": {
              "color": "white"
             }
            },
            "type": "table"
           }
          ]
         },
         "layout": {
          "annotationdefaults": {
           "arrowcolor": "#2a3f5f",
           "arrowhead": 0,
           "arrowwidth": 1
          },
          "autotypenumbers": "strict",
          "coloraxis": {
           "colorbar": {
            "outlinewidth": 0,
            "ticks": ""
           }
          },
          "colorscale": {
           "diverging": [
            [
             0,
             "#8e0152"
            ],
            [
             0.1,
             "#c51b7d"
            ],
            [
             0.2,
             "#de77ae"
            ],
            [
             0.3,
             "#f1b6da"
            ],
            [
             0.4,
             "#fde0ef"
            ],
            [
             0.5,
             "#f7f7f7"
            ],
            [
             0.6,
             "#e6f5d0"
            ],
            [
             0.7,
             "#b8e186"
            ],
            [
             0.8,
             "#7fbc41"
            ],
            [
             0.9,
             "#4d9221"
            ],
            [
             1,
             "#276419"
            ]
           ],
           "sequential": [
            [
             0,
             "#0d0887"
            ],
            [
             0.1111111111111111,
             "#46039f"
            ],
            [
             0.2222222222222222,
             "#7201a8"
            ],
            [
             0.3333333333333333,
             "#9c179e"
            ],
            [
             0.4444444444444444,
             "#bd3786"
            ],
            [
             0.5555555555555556,
             "#d8576b"
            ],
            [
             0.6666666666666666,
             "#ed7953"
            ],
            [
             0.7777777777777778,
             "#fb9f3a"
            ],
            [
             0.8888888888888888,
             "#fdca26"
            ],
            [
             1,
             "#f0f921"
            ]
           ],
           "sequentialminus": [
            [
             0,
             "#0d0887"
            ],
            [
             0.1111111111111111,
             "#46039f"
            ],
            [
             0.2222222222222222,
             "#7201a8"
            ],
            [
             0.3333333333333333,
             "#9c179e"
            ],
            [
             0.4444444444444444,
             "#bd3786"
            ],
            [
             0.5555555555555556,
             "#d8576b"
            ],
            [
             0.6666666666666666,
             "#ed7953"
            ],
            [
             0.7777777777777778,
             "#fb9f3a"
            ],
            [
             0.8888888888888888,
             "#fdca26"
            ],
            [
             1,
             "#f0f921"
            ]
           ]
          },
          "colorway": [
           "#636efa",
           "#EF553B",
           "#00cc96",
           "#ab63fa",
           "#FFA15A",
           "#19d3f3",
           "#FF6692",
           "#B6E880",
           "#FF97FF",
           "#FECB52"
          ],
          "font": {
           "color": "#2a3f5f"
          },
          "geo": {
           "bgcolor": "white",
           "lakecolor": "white",
           "landcolor": "#E5ECF6",
           "showlakes": true,
           "showland": true,
           "subunitcolor": "white"
          },
          "hoverlabel": {
           "align": "left"
          },
          "hovermode": "closest",
          "mapbox": {
           "style": "light"
          },
          "paper_bgcolor": "white",
          "plot_bgcolor": "#E5ECF6",
          "polar": {
           "angularaxis": {
            "gridcolor": "white",
            "linecolor": "white",
            "ticks": ""
           },
           "bgcolor": "#E5ECF6",
           "radialaxis": {
            "gridcolor": "white",
            "linecolor": "white",
            "ticks": ""
           }
          },
          "scene": {
           "xaxis": {
            "backgroundcolor": "#E5ECF6",
            "gridcolor": "white",
            "gridwidth": 2,
            "linecolor": "white",
            "showbackground": true,
            "ticks": "",
            "zerolinecolor": "white"
           },
           "yaxis": {
            "backgroundcolor": "#E5ECF6",
            "gridcolor": "white",
            "gridwidth": 2,
            "linecolor": "white",
            "showbackground": true,
            "ticks": "",
            "zerolinecolor": "white"
           },
           "zaxis": {
            "backgroundcolor": "#E5ECF6",
            "gridcolor": "white",
            "gridwidth": 2,
            "linecolor": "white",
            "showbackground": true,
            "ticks": "",
            "zerolinecolor": "white"
           }
          },
          "shapedefaults": {
           "line": {
            "color": "#2a3f5f"
           }
          },
          "ternary": {
           "aaxis": {
            "gridcolor": "white",
            "linecolor": "white",
            "ticks": ""
           },
           "baxis": {
            "gridcolor": "white",
            "linecolor": "white",
            "ticks": ""
           },
           "bgcolor": "#E5ECF6",
           "caxis": {
            "gridcolor": "white",
            "linecolor": "white",
            "ticks": ""
           }
          },
          "title": {
           "x": 0.05
          },
          "xaxis": {
           "automargin": true,
           "gridcolor": "white",
           "linecolor": "white",
           "ticks": "",
           "title": {
            "standoff": 15
           },
           "zerolinecolor": "white",
           "zerolinewidth": 2
          },
          "yaxis": {
           "automargin": true,
           "gridcolor": "white",
           "linecolor": "white",
           "ticks": "",
           "title": {
            "standoff": 15
           },
           "zerolinecolor": "white",
           "zerolinewidth": 2
          }
         }
        },
        "title": {
         "font": {
          "color": "#4D5663"
         }
        },
        "xaxis": {
         "gridcolor": "#E1E5ED",
         "showgrid": true,
         "tickfont": {
          "color": "#4D5663"
         },
         "title": {
          "font": {
           "color": "#4D5663"
          },
          "text": ""
         },
         "zerolinecolor": "#E1E5ED"
        },
        "yaxis": {
         "gridcolor": "#E1E5ED",
         "showgrid": true,
         "tickfont": {
          "color": "#4D5663"
         },
         "title": {
          "font": {
           "color": "#4D5663"
          },
          "text": ""
         },
         "zerolinecolor": "#E1E5ED"
        }
       }
      },
      "text/html": [
       "<div>                            <div id=\"9a54ea8a-ee59-42ad-a5a6-5aafc7a711c9\" class=\"plotly-graph-div\" style=\"height:525px; width:100%;\"></div>            <script type=\"text/javascript\">                require([\"plotly\"], function(Plotly) {                    window.PLOTLYENV=window.PLOTLYENV || {};\n",
       "                    window.PLOTLYENV.BASE_URL='https://plot.ly';                                    if (document.getElementById(\"9a54ea8a-ee59-42ad-a5a6-5aafc7a711c9\")) {                    Plotly.newPlot(                        \"9a54ea8a-ee59-42ad-a5a6-5aafc7a711c9\",                        [{\"colorscale\":[[0.0,\"rgb(165,0,38)\"],[0.1,\"rgb(215,48,39)\"],[0.2,\"rgb(244,109,67)\"],[0.3,\"rgb(253,174,97)\"],[0.4,\"rgb(254,224,144)\"],[0.5,\"rgb(255,255,191)\"],[0.6,\"rgb(224,243,248)\"],[0.7,\"rgb(171,217,233)\"],[0.8,\"rgb(116,173,209)\"],[0.9,\"rgb(69,117,180)\"],[1.0,\"rgb(49,54,149)\"]],\"x\":[0,1,2,3,4],\"y\":[\"x\",\"y\",\"z\"],\"z\":[[1,2,3,4,5],[10,20,30,20,10],[5,4,3,2,1]],\"type\":\"surface\"}],                        {\"legend\":{\"bgcolor\":\"#F5F6F9\",\"font\":{\"color\":\"#4D5663\"}},\"paper_bgcolor\":\"#F5F6F9\",\"plot_bgcolor\":\"#F5F6F9\",\"template\":{\"data\":{\"barpolar\":[{\"marker\":{\"line\":{\"color\":\"#E5ECF6\",\"width\":0.5},\"pattern\":{\"fillmode\":\"overlay\",\"size\":10,\"solidity\":0.2}},\"type\":\"barpolar\"}],\"bar\":[{\"error_x\":{\"color\":\"#2a3f5f\"},\"error_y\":{\"color\":\"#2a3f5f\"},\"marker\":{\"line\":{\"color\":\"#E5ECF6\",\"width\":0.5},\"pattern\":{\"fillmode\":\"overlay\",\"size\":10,\"solidity\":0.2}},\"type\":\"bar\"}],\"carpet\":[{\"aaxis\":{\"endlinecolor\":\"#2a3f5f\",\"gridcolor\":\"white\",\"linecolor\":\"white\",\"minorgridcolor\":\"white\",\"startlinecolor\":\"#2a3f5f\"},\"baxis\":{\"endlinecolor\":\"#2a3f5f\",\"gridcolor\":\"white\",\"linecolor\":\"white\",\"minorgridcolor\":\"white\",\"startlinecolor\":\"#2a3f5f\"},\"type\":\"carpet\"}],\"choropleth\":[{\"colorbar\":{\"outlinewidth\":0,\"ticks\":\"\"},\"type\":\"choropleth\"}],\"contourcarpet\":[{\"colorbar\":{\"outlinewidth\":0,\"ticks\":\"\"},\"type\":\"contourcarpet\"}],\"contour\":[{\"colorbar\":{\"outlinewidth\":0,\"ticks\":\"\"},\"colorscale\":[[0.0,\"#0d0887\"],[0.1111111111111111,\"#46039f\"],[0.2222222222222222,\"#7201a8\"],[0.3333333333333333,\"#9c179e\"],[0.4444444444444444,\"#bd3786\"],[0.5555555555555556,\"#d8576b\"],[0.6666666666666666,\"#ed7953\"],[0.7777777777777778,\"#fb9f3a\"],[0.8888888888888888,\"#fdca26\"],[1.0,\"#f0f921\"]],\"type\":\"contour\"}],\"heatmapgl\":[{\"colorbar\":{\"outlinewidth\":0,\"ticks\":\"\"},\"colorscale\":[[0.0,\"#0d0887\"],[0.1111111111111111,\"#46039f\"],[0.2222222222222222,\"#7201a8\"],[0.3333333333333333,\"#9c179e\"],[0.4444444444444444,\"#bd3786\"],[0.5555555555555556,\"#d8576b\"],[0.6666666666666666,\"#ed7953\"],[0.7777777777777778,\"#fb9f3a\"],[0.8888888888888888,\"#fdca26\"],[1.0,\"#f0f921\"]],\"type\":\"heatmapgl\"}],\"heatmap\":[{\"colorbar\":{\"outlinewidth\":0,\"ticks\":\"\"},\"colorscale\":[[0.0,\"#0d0887\"],[0.1111111111111111,\"#46039f\"],[0.2222222222222222,\"#7201a8\"],[0.3333333333333333,\"#9c179e\"],[0.4444444444444444,\"#bd3786\"],[0.5555555555555556,\"#d8576b\"],[0.6666666666666666,\"#ed7953\"],[0.7777777777777778,\"#fb9f3a\"],[0.8888888888888888,\"#fdca26\"],[1.0,\"#f0f921\"]],\"type\":\"heatmap\"}],\"histogram2dcontour\":[{\"colorbar\":{\"outlinewidth\":0,\"ticks\":\"\"},\"colorscale\":[[0.0,\"#0d0887\"],[0.1111111111111111,\"#46039f\"],[0.2222222222222222,\"#7201a8\"],[0.3333333333333333,\"#9c179e\"],[0.4444444444444444,\"#bd3786\"],[0.5555555555555556,\"#d8576b\"],[0.6666666666666666,\"#ed7953\"],[0.7777777777777778,\"#fb9f3a\"],[0.8888888888888888,\"#fdca26\"],[1.0,\"#f0f921\"]],\"type\":\"histogram2dcontour\"}],\"histogram2d\":[{\"colorbar\":{\"outlinewidth\":0,\"ticks\":\"\"},\"colorscale\":[[0.0,\"#0d0887\"],[0.1111111111111111,\"#46039f\"],[0.2222222222222222,\"#7201a8\"],[0.3333333333333333,\"#9c179e\"],[0.4444444444444444,\"#bd3786\"],[0.5555555555555556,\"#d8576b\"],[0.6666666666666666,\"#ed7953\"],[0.7777777777777778,\"#fb9f3a\"],[0.8888888888888888,\"#fdca26\"],[1.0,\"#f0f921\"]],\"type\":\"histogram2d\"}],\"histogram\":[{\"marker\":{\"pattern\":{\"fillmode\":\"overlay\",\"size\":10,\"solidity\":0.2}},\"type\":\"histogram\"}],\"mesh3d\":[{\"colorbar\":{\"outlinewidth\":0,\"ticks\":\"\"},\"type\":\"mesh3d\"}],\"parcoords\":[{\"line\":{\"colorbar\":{\"outlinewidth\":0,\"ticks\":\"\"}},\"type\":\"parcoords\"}],\"pie\":[{\"automargin\":true,\"type\":\"pie\"}],\"scatter3d\":[{\"line\":{\"colorbar\":{\"outlinewidth\":0,\"ticks\":\"\"}},\"marker\":{\"colorbar\":{\"outlinewidth\":0,\"ticks\":\"\"}},\"type\":\"scatter3d\"}],\"scattercarpet\":[{\"marker\":{\"colorbar\":{\"outlinewidth\":0,\"ticks\":\"\"}},\"type\":\"scattercarpet\"}],\"scattergeo\":[{\"marker\":{\"colorbar\":{\"outlinewidth\":0,\"ticks\":\"\"}},\"type\":\"scattergeo\"}],\"scattergl\":[{\"marker\":{\"colorbar\":{\"outlinewidth\":0,\"ticks\":\"\"}},\"type\":\"scattergl\"}],\"scattermapbox\":[{\"marker\":{\"colorbar\":{\"outlinewidth\":0,\"ticks\":\"\"}},\"type\":\"scattermapbox\"}],\"scatterpolargl\":[{\"marker\":{\"colorbar\":{\"outlinewidth\":0,\"ticks\":\"\"}},\"type\":\"scatterpolargl\"}],\"scatterpolar\":[{\"marker\":{\"colorbar\":{\"outlinewidth\":0,\"ticks\":\"\"}},\"type\":\"scatterpolar\"}],\"scatter\":[{\"fillpattern\":{\"fillmode\":\"overlay\",\"size\":10,\"solidity\":0.2},\"type\":\"scatter\"}],\"scatterternary\":[{\"marker\":{\"colorbar\":{\"outlinewidth\":0,\"ticks\":\"\"}},\"type\":\"scatterternary\"}],\"surface\":[{\"colorbar\":{\"outlinewidth\":0,\"ticks\":\"\"},\"colorscale\":[[0.0,\"#0d0887\"],[0.1111111111111111,\"#46039f\"],[0.2222222222222222,\"#7201a8\"],[0.3333333333333333,\"#9c179e\"],[0.4444444444444444,\"#bd3786\"],[0.5555555555555556,\"#d8576b\"],[0.6666666666666666,\"#ed7953\"],[0.7777777777777778,\"#fb9f3a\"],[0.8888888888888888,\"#fdca26\"],[1.0,\"#f0f921\"]],\"type\":\"surface\"}],\"table\":[{\"cells\":{\"fill\":{\"color\":\"#EBF0F8\"},\"line\":{\"color\":\"white\"}},\"header\":{\"fill\":{\"color\":\"#C8D4E3\"},\"line\":{\"color\":\"white\"}},\"type\":\"table\"}]},\"layout\":{\"annotationdefaults\":{\"arrowcolor\":\"#2a3f5f\",\"arrowhead\":0,\"arrowwidth\":1},\"autotypenumbers\":\"strict\",\"coloraxis\":{\"colorbar\":{\"outlinewidth\":0,\"ticks\":\"\"}},\"colorscale\":{\"diverging\":[[0,\"#8e0152\"],[0.1,\"#c51b7d\"],[0.2,\"#de77ae\"],[0.3,\"#f1b6da\"],[0.4,\"#fde0ef\"],[0.5,\"#f7f7f7\"],[0.6,\"#e6f5d0\"],[0.7,\"#b8e186\"],[0.8,\"#7fbc41\"],[0.9,\"#4d9221\"],[1,\"#276419\"]],\"sequential\":[[0.0,\"#0d0887\"],[0.1111111111111111,\"#46039f\"],[0.2222222222222222,\"#7201a8\"],[0.3333333333333333,\"#9c179e\"],[0.4444444444444444,\"#bd3786\"],[0.5555555555555556,\"#d8576b\"],[0.6666666666666666,\"#ed7953\"],[0.7777777777777778,\"#fb9f3a\"],[0.8888888888888888,\"#fdca26\"],[1.0,\"#f0f921\"]],\"sequentialminus\":[[0.0,\"#0d0887\"],[0.1111111111111111,\"#46039f\"],[0.2222222222222222,\"#7201a8\"],[0.3333333333333333,\"#9c179e\"],[0.4444444444444444,\"#bd3786\"],[0.5555555555555556,\"#d8576b\"],[0.6666666666666666,\"#ed7953\"],[0.7777777777777778,\"#fb9f3a\"],[0.8888888888888888,\"#fdca26\"],[1.0,\"#f0f921\"]]},\"colorway\":[\"#636efa\",\"#EF553B\",\"#00cc96\",\"#ab63fa\",\"#FFA15A\",\"#19d3f3\",\"#FF6692\",\"#B6E880\",\"#FF97FF\",\"#FECB52\"],\"font\":{\"color\":\"#2a3f5f\"},\"geo\":{\"bgcolor\":\"white\",\"lakecolor\":\"white\",\"landcolor\":\"#E5ECF6\",\"showlakes\":true,\"showland\":true,\"subunitcolor\":\"white\"},\"hoverlabel\":{\"align\":\"left\"},\"hovermode\":\"closest\",\"mapbox\":{\"style\":\"light\"},\"paper_bgcolor\":\"white\",\"plot_bgcolor\":\"#E5ECF6\",\"polar\":{\"angularaxis\":{\"gridcolor\":\"white\",\"linecolor\":\"white\",\"ticks\":\"\"},\"bgcolor\":\"#E5ECF6\",\"radialaxis\":{\"gridcolor\":\"white\",\"linecolor\":\"white\",\"ticks\":\"\"}},\"scene\":{\"xaxis\":{\"backgroundcolor\":\"#E5ECF6\",\"gridcolor\":\"white\",\"gridwidth\":2,\"linecolor\":\"white\",\"showbackground\":true,\"ticks\":\"\",\"zerolinecolor\":\"white\"},\"yaxis\":{\"backgroundcolor\":\"#E5ECF6\",\"gridcolor\":\"white\",\"gridwidth\":2,\"linecolor\":\"white\",\"showbackground\":true,\"ticks\":\"\",\"zerolinecolor\":\"white\"},\"zaxis\":{\"backgroundcolor\":\"#E5ECF6\",\"gridcolor\":\"white\",\"gridwidth\":2,\"linecolor\":\"white\",\"showbackground\":true,\"ticks\":\"\",\"zerolinecolor\":\"white\"}},\"shapedefaults\":{\"line\":{\"color\":\"#2a3f5f\"}},\"ternary\":{\"aaxis\":{\"gridcolor\":\"white\",\"linecolor\":\"white\",\"ticks\":\"\"},\"baxis\":{\"gridcolor\":\"white\",\"linecolor\":\"white\",\"ticks\":\"\"},\"bgcolor\":\"#E5ECF6\",\"caxis\":{\"gridcolor\":\"white\",\"linecolor\":\"white\",\"ticks\":\"\"}},\"title\":{\"x\":0.05},\"xaxis\":{\"automargin\":true,\"gridcolor\":\"white\",\"linecolor\":\"white\",\"ticks\":\"\",\"title\":{\"standoff\":15},\"zerolinecolor\":\"white\",\"zerolinewidth\":2},\"yaxis\":{\"automargin\":true,\"gridcolor\":\"white\",\"linecolor\":\"white\",\"ticks\":\"\",\"title\":{\"standoff\":15},\"zerolinecolor\":\"white\",\"zerolinewidth\":2}}},\"title\":{\"font\":{\"color\":\"#4D5663\"}},\"xaxis\":{\"gridcolor\":\"#E1E5ED\",\"showgrid\":true,\"tickfont\":{\"color\":\"#4D5663\"},\"title\":{\"font\":{\"color\":\"#4D5663\"},\"text\":\"\"},\"zerolinecolor\":\"#E1E5ED\"},\"yaxis\":{\"gridcolor\":\"#E1E5ED\",\"showgrid\":true,\"tickfont\":{\"color\":\"#4D5663\"},\"title\":{\"font\":{\"color\":\"#4D5663\"},\"text\":\"\"},\"zerolinecolor\":\"#E1E5ED\"}},                        {\"showLink\": true, \"linkText\": \"Export to plot.ly\", \"plotlyServerURL\": \"https://plot.ly\", \"responsive\": true}                    ).then(function(){\n",
       "                            \n",
       "var gd = document.getElementById('9a54ea8a-ee59-42ad-a5a6-5aafc7a711c9');\n",
       "var x = new MutationObserver(function (mutations, observer) {{\n",
       "        var display = window.getComputedStyle(gd).display;\n",
       "        if (!display || display === 'none') {{\n",
       "            console.log([gd, 'removed!']);\n",
       "            Plotly.purge(gd);\n",
       "            observer.disconnect();\n",
       "        }}\n",
       "}});\n",
       "\n",
       "// Listen for the removal of the full notebook cells\n",
       "var notebookContainer = gd.closest('#notebook-container');\n",
       "if (notebookContainer) {{\n",
       "    x.observe(notebookContainer, {childList: true});\n",
       "}}\n",
       "\n",
       "// Listen for the clearing of the current output cell\n",
       "var outputEl = gd.closest('.output');\n",
       "if (outputEl) {{\n",
       "    x.observe(outputEl, {childList: true});\n",
       "}}\n",
       "\n",
       "                        })                };                });            </script>        </div>"
      ]
     },
     "metadata": {},
     "output_type": "display_data"
    }
   ],
   "source": [
    "#3D Surface\n",
    "df3 = pd.DataFrame({'x':[1,2,3,4,5],'y':[10,20,30,20,10],'z':[5,4,3,2,1]})\n",
    "df3.iplot(kind='surface',colorscale='rdylbu')"
   ]
  },
  {
   "cell_type": "code",
   "execution_count": 17,
   "id": "078adaab",
   "metadata": {},
   "outputs": [
    {
     "data": {
      "application/vnd.plotly.v1+json": {
       "config": {
        "linkText": "Export to plot.ly",
        "plotlyServerURL": "https://plot.ly",
        "showLink": true
       },
       "data": [
        {
         "histfunc": "count",
         "histnorm": "",
         "marker": {
          "color": "rgba(255, 153, 51, 1.0)",
          "line": {
           "color": "#4D5663",
           "width": 1.3
          }
         },
         "name": "A",
         "nbinsx": 25,
         "opacity": 0.8,
         "orientation": "v",
         "type": "histogram",
         "x": [
          0.7524227622239249,
          -0.6487508694482285,
          -0.12276902469067315,
          -1.7956304294769236,
          -0.9799731504092138,
          1.3362874408281362,
          1.6300701479361905,
          1.893259976205648,
          1.102454540951155,
          -2.1450995701597635,
          -0.27791957658198363,
          0.5884301683993967,
          0.615111776799618,
          0.2015144223854086,
          2.1435623735574123,
          -1.4930470533502194,
          1.5356692790966953,
          -1.0229093074170883,
          0.1759924467352236,
          -0.5835389825445142,
          -1.5045905284820054,
          0.7121602950723773,
          0.027639743148447422,
          1.4899290306550939,
          2.7417157921905764,
          1.1071397111583028,
          0.1116141070140691,
          0.49478387791171435,
          0.09675256767697327,
          2.1385303960269098,
          -0.6690582559318675,
          -0.0625705570795616,
          0.35924665837333947,
          0.03971910887051859,
          0.9831002494786435,
          0.9006490205825207,
          -0.9538509595822618,
          -0.20768454140825984,
          1.1296875020178823,
          0.061143301200641514,
          0.16916316503414763,
          -1.166564321780111,
          0.5891047687352472,
          0.793330260909169,
          -0.9834954995976098,
          0.6372477908713823,
          1.176628879265964,
          0.25097681343004324,
          1.656911627497132,
          1.179288445516592,
          -0.13271766438827634,
          0.3001113425006879,
          1.0101157978281166,
          -0.8957405536547673,
          0.7595712933512376,
          -0.5193778376546777,
          0.1423613502424884,
          -2.1021074624815883,
          0.33302496576488233,
          -0.16979628990295093,
          -0.9468499260465263,
          -0.8834558066344341,
          0.6230893758350854,
          -0.649993041546382,
          1.448657701803833,
          -0.8458526622516507,
          -0.0981429164294889,
          -0.5936239908790261,
          -0.385848432532634,
          -1.3735488390101918,
          -1.0056553057412447,
          -1.26730052140875,
          0.6556464292500415,
          -0.1334056210776524,
          -0.5853856257269497,
          0.6067943948542077,
          -0.9524477619805134,
          0.8256890188080714,
          -0.38544439397462416,
          -0.09760326316560804,
          -1.162915585696774,
          -0.38799627732569153,
          0.9711969001992721,
          1.6523680779276493,
          -1.8045995945136548,
          0.8692706779303185,
          0.2982140066126374,
          -2.232879857099527,
          0.271029852610972,
          -0.45240581774251093,
          0.9318810556623758,
          -0.26768715861225206,
          -1.1455708825858975,
          1.8683283454304598,
          0.8573275444364243,
          1.3325036587822003,
          2.599708051322223,
          2.5408176068246195,
          0.24426027282740315,
          1.9126990659987366
         ]
        }
       ],
       "layout": {
        "barmode": "overlay",
        "legend": {
         "bgcolor": "#F5F6F9",
         "font": {
          "color": "#4D5663"
         }
        },
        "paper_bgcolor": "#F5F6F9",
        "plot_bgcolor": "#F5F6F9",
        "template": {
         "data": {
          "bar": [
           {
            "error_x": {
             "color": "#2a3f5f"
            },
            "error_y": {
             "color": "#2a3f5f"
            },
            "marker": {
             "line": {
              "color": "#E5ECF6",
              "width": 0.5
             },
             "pattern": {
              "fillmode": "overlay",
              "size": 10,
              "solidity": 0.2
             }
            },
            "type": "bar"
           }
          ],
          "barpolar": [
           {
            "marker": {
             "line": {
              "color": "#E5ECF6",
              "width": 0.5
             },
             "pattern": {
              "fillmode": "overlay",
              "size": 10,
              "solidity": 0.2
             }
            },
            "type": "barpolar"
           }
          ],
          "carpet": [
           {
            "aaxis": {
             "endlinecolor": "#2a3f5f",
             "gridcolor": "white",
             "linecolor": "white",
             "minorgridcolor": "white",
             "startlinecolor": "#2a3f5f"
            },
            "baxis": {
             "endlinecolor": "#2a3f5f",
             "gridcolor": "white",
             "linecolor": "white",
             "minorgridcolor": "white",
             "startlinecolor": "#2a3f5f"
            },
            "type": "carpet"
           }
          ],
          "choropleth": [
           {
            "colorbar": {
             "outlinewidth": 0,
             "ticks": ""
            },
            "type": "choropleth"
           }
          ],
          "contour": [
           {
            "colorbar": {
             "outlinewidth": 0,
             "ticks": ""
            },
            "colorscale": [
             [
              0,
              "#0d0887"
             ],
             [
              0.1111111111111111,
              "#46039f"
             ],
             [
              0.2222222222222222,
              "#7201a8"
             ],
             [
              0.3333333333333333,
              "#9c179e"
             ],
             [
              0.4444444444444444,
              "#bd3786"
             ],
             [
              0.5555555555555556,
              "#d8576b"
             ],
             [
              0.6666666666666666,
              "#ed7953"
             ],
             [
              0.7777777777777778,
              "#fb9f3a"
             ],
             [
              0.8888888888888888,
              "#fdca26"
             ],
             [
              1,
              "#f0f921"
             ]
            ],
            "type": "contour"
           }
          ],
          "contourcarpet": [
           {
            "colorbar": {
             "outlinewidth": 0,
             "ticks": ""
            },
            "type": "contourcarpet"
           }
          ],
          "heatmap": [
           {
            "colorbar": {
             "outlinewidth": 0,
             "ticks": ""
            },
            "colorscale": [
             [
              0,
              "#0d0887"
             ],
             [
              0.1111111111111111,
              "#46039f"
             ],
             [
              0.2222222222222222,
              "#7201a8"
             ],
             [
              0.3333333333333333,
              "#9c179e"
             ],
             [
              0.4444444444444444,
              "#bd3786"
             ],
             [
              0.5555555555555556,
              "#d8576b"
             ],
             [
              0.6666666666666666,
              "#ed7953"
             ],
             [
              0.7777777777777778,
              "#fb9f3a"
             ],
             [
              0.8888888888888888,
              "#fdca26"
             ],
             [
              1,
              "#f0f921"
             ]
            ],
            "type": "heatmap"
           }
          ],
          "heatmapgl": [
           {
            "colorbar": {
             "outlinewidth": 0,
             "ticks": ""
            },
            "colorscale": [
             [
              0,
              "#0d0887"
             ],
             [
              0.1111111111111111,
              "#46039f"
             ],
             [
              0.2222222222222222,
              "#7201a8"
             ],
             [
              0.3333333333333333,
              "#9c179e"
             ],
             [
              0.4444444444444444,
              "#bd3786"
             ],
             [
              0.5555555555555556,
              "#d8576b"
             ],
             [
              0.6666666666666666,
              "#ed7953"
             ],
             [
              0.7777777777777778,
              "#fb9f3a"
             ],
             [
              0.8888888888888888,
              "#fdca26"
             ],
             [
              1,
              "#f0f921"
             ]
            ],
            "type": "heatmapgl"
           }
          ],
          "histogram": [
           {
            "marker": {
             "pattern": {
              "fillmode": "overlay",
              "size": 10,
              "solidity": 0.2
             }
            },
            "type": "histogram"
           }
          ],
          "histogram2d": [
           {
            "colorbar": {
             "outlinewidth": 0,
             "ticks": ""
            },
            "colorscale": [
             [
              0,
              "#0d0887"
             ],
             [
              0.1111111111111111,
              "#46039f"
             ],
             [
              0.2222222222222222,
              "#7201a8"
             ],
             [
              0.3333333333333333,
              "#9c179e"
             ],
             [
              0.4444444444444444,
              "#bd3786"
             ],
             [
              0.5555555555555556,
              "#d8576b"
             ],
             [
              0.6666666666666666,
              "#ed7953"
             ],
             [
              0.7777777777777778,
              "#fb9f3a"
             ],
             [
              0.8888888888888888,
              "#fdca26"
             ],
             [
              1,
              "#f0f921"
             ]
            ],
            "type": "histogram2d"
           }
          ],
          "histogram2dcontour": [
           {
            "colorbar": {
             "outlinewidth": 0,
             "ticks": ""
            },
            "colorscale": [
             [
              0,
              "#0d0887"
             ],
             [
              0.1111111111111111,
              "#46039f"
             ],
             [
              0.2222222222222222,
              "#7201a8"
             ],
             [
              0.3333333333333333,
              "#9c179e"
             ],
             [
              0.4444444444444444,
              "#bd3786"
             ],
             [
              0.5555555555555556,
              "#d8576b"
             ],
             [
              0.6666666666666666,
              "#ed7953"
             ],
             [
              0.7777777777777778,
              "#fb9f3a"
             ],
             [
              0.8888888888888888,
              "#fdca26"
             ],
             [
              1,
              "#f0f921"
             ]
            ],
            "type": "histogram2dcontour"
           }
          ],
          "mesh3d": [
           {
            "colorbar": {
             "outlinewidth": 0,
             "ticks": ""
            },
            "type": "mesh3d"
           }
          ],
          "parcoords": [
           {
            "line": {
             "colorbar": {
              "outlinewidth": 0,
              "ticks": ""
             }
            },
            "type": "parcoords"
           }
          ],
          "pie": [
           {
            "automargin": true,
            "type": "pie"
           }
          ],
          "scatter": [
           {
            "fillpattern": {
             "fillmode": "overlay",
             "size": 10,
             "solidity": 0.2
            },
            "type": "scatter"
           }
          ],
          "scatter3d": [
           {
            "line": {
             "colorbar": {
              "outlinewidth": 0,
              "ticks": ""
             }
            },
            "marker": {
             "colorbar": {
              "outlinewidth": 0,
              "ticks": ""
             }
            },
            "type": "scatter3d"
           }
          ],
          "scattercarpet": [
           {
            "marker": {
             "colorbar": {
              "outlinewidth": 0,
              "ticks": ""
             }
            },
            "type": "scattercarpet"
           }
          ],
          "scattergeo": [
           {
            "marker": {
             "colorbar": {
              "outlinewidth": 0,
              "ticks": ""
             }
            },
            "type": "scattergeo"
           }
          ],
          "scattergl": [
           {
            "marker": {
             "colorbar": {
              "outlinewidth": 0,
              "ticks": ""
             }
            },
            "type": "scattergl"
           }
          ],
          "scattermapbox": [
           {
            "marker": {
             "colorbar": {
              "outlinewidth": 0,
              "ticks": ""
             }
            },
            "type": "scattermapbox"
           }
          ],
          "scatterpolar": [
           {
            "marker": {
             "colorbar": {
              "outlinewidth": 0,
              "ticks": ""
             }
            },
            "type": "scatterpolar"
           }
          ],
          "scatterpolargl": [
           {
            "marker": {
             "colorbar": {
              "outlinewidth": 0,
              "ticks": ""
             }
            },
            "type": "scatterpolargl"
           }
          ],
          "scatterternary": [
           {
            "marker": {
             "colorbar": {
              "outlinewidth": 0,
              "ticks": ""
             }
            },
            "type": "scatterternary"
           }
          ],
          "surface": [
           {
            "colorbar": {
             "outlinewidth": 0,
             "ticks": ""
            },
            "colorscale": [
             [
              0,
              "#0d0887"
             ],
             [
              0.1111111111111111,
              "#46039f"
             ],
             [
              0.2222222222222222,
              "#7201a8"
             ],
             [
              0.3333333333333333,
              "#9c179e"
             ],
             [
              0.4444444444444444,
              "#bd3786"
             ],
             [
              0.5555555555555556,
              "#d8576b"
             ],
             [
              0.6666666666666666,
              "#ed7953"
             ],
             [
              0.7777777777777778,
              "#fb9f3a"
             ],
             [
              0.8888888888888888,
              "#fdca26"
             ],
             [
              1,
              "#f0f921"
             ]
            ],
            "type": "surface"
           }
          ],
          "table": [
           {
            "cells": {
             "fill": {
              "color": "#EBF0F8"
             },
             "line": {
              "color": "white"
             }
            },
            "header": {
             "fill": {
              "color": "#C8D4E3"
             },
             "line": {
              "color": "white"
             }
            },
            "type": "table"
           }
          ]
         },
         "layout": {
          "annotationdefaults": {
           "arrowcolor": "#2a3f5f",
           "arrowhead": 0,
           "arrowwidth": 1
          },
          "autotypenumbers": "strict",
          "coloraxis": {
           "colorbar": {
            "outlinewidth": 0,
            "ticks": ""
           }
          },
          "colorscale": {
           "diverging": [
            [
             0,
             "#8e0152"
            ],
            [
             0.1,
             "#c51b7d"
            ],
            [
             0.2,
             "#de77ae"
            ],
            [
             0.3,
             "#f1b6da"
            ],
            [
             0.4,
             "#fde0ef"
            ],
            [
             0.5,
             "#f7f7f7"
            ],
            [
             0.6,
             "#e6f5d0"
            ],
            [
             0.7,
             "#b8e186"
            ],
            [
             0.8,
             "#7fbc41"
            ],
            [
             0.9,
             "#4d9221"
            ],
            [
             1,
             "#276419"
            ]
           ],
           "sequential": [
            [
             0,
             "#0d0887"
            ],
            [
             0.1111111111111111,
             "#46039f"
            ],
            [
             0.2222222222222222,
             "#7201a8"
            ],
            [
             0.3333333333333333,
             "#9c179e"
            ],
            [
             0.4444444444444444,
             "#bd3786"
            ],
            [
             0.5555555555555556,
             "#d8576b"
            ],
            [
             0.6666666666666666,
             "#ed7953"
            ],
            [
             0.7777777777777778,
             "#fb9f3a"
            ],
            [
             0.8888888888888888,
             "#fdca26"
            ],
            [
             1,
             "#f0f921"
            ]
           ],
           "sequentialminus": [
            [
             0,
             "#0d0887"
            ],
            [
             0.1111111111111111,
             "#46039f"
            ],
            [
             0.2222222222222222,
             "#7201a8"
            ],
            [
             0.3333333333333333,
             "#9c179e"
            ],
            [
             0.4444444444444444,
             "#bd3786"
            ],
            [
             0.5555555555555556,
             "#d8576b"
            ],
            [
             0.6666666666666666,
             "#ed7953"
            ],
            [
             0.7777777777777778,
             "#fb9f3a"
            ],
            [
             0.8888888888888888,
             "#fdca26"
            ],
            [
             1,
             "#f0f921"
            ]
           ]
          },
          "colorway": [
           "#636efa",
           "#EF553B",
           "#00cc96",
           "#ab63fa",
           "#FFA15A",
           "#19d3f3",
           "#FF6692",
           "#B6E880",
           "#FF97FF",
           "#FECB52"
          ],
          "font": {
           "color": "#2a3f5f"
          },
          "geo": {
           "bgcolor": "white",
           "lakecolor": "white",
           "landcolor": "#E5ECF6",
           "showlakes": true,
           "showland": true,
           "subunitcolor": "white"
          },
          "hoverlabel": {
           "align": "left"
          },
          "hovermode": "closest",
          "mapbox": {
           "style": "light"
          },
          "paper_bgcolor": "white",
          "plot_bgcolor": "#E5ECF6",
          "polar": {
           "angularaxis": {
            "gridcolor": "white",
            "linecolor": "white",
            "ticks": ""
           },
           "bgcolor": "#E5ECF6",
           "radialaxis": {
            "gridcolor": "white",
            "linecolor": "white",
            "ticks": ""
           }
          },
          "scene": {
           "xaxis": {
            "backgroundcolor": "#E5ECF6",
            "gridcolor": "white",
            "gridwidth": 2,
            "linecolor": "white",
            "showbackground": true,
            "ticks": "",
            "zerolinecolor": "white"
           },
           "yaxis": {
            "backgroundcolor": "#E5ECF6",
            "gridcolor": "white",
            "gridwidth": 2,
            "linecolor": "white",
            "showbackground": true,
            "ticks": "",
            "zerolinecolor": "white"
           },
           "zaxis": {
            "backgroundcolor": "#E5ECF6",
            "gridcolor": "white",
            "gridwidth": 2,
            "linecolor": "white",
            "showbackground": true,
            "ticks": "",
            "zerolinecolor": "white"
           }
          },
          "shapedefaults": {
           "line": {
            "color": "#2a3f5f"
           }
          },
          "ternary": {
           "aaxis": {
            "gridcolor": "white",
            "linecolor": "white",
            "ticks": ""
           },
           "baxis": {
            "gridcolor": "white",
            "linecolor": "white",
            "ticks": ""
           },
           "bgcolor": "#E5ECF6",
           "caxis": {
            "gridcolor": "white",
            "linecolor": "white",
            "ticks": ""
           }
          },
          "title": {
           "x": 0.05
          },
          "xaxis": {
           "automargin": true,
           "gridcolor": "white",
           "linecolor": "white",
           "ticks": "",
           "title": {
            "standoff": 15
           },
           "zerolinecolor": "white",
           "zerolinewidth": 2
          },
          "yaxis": {
           "automargin": true,
           "gridcolor": "white",
           "linecolor": "white",
           "ticks": "",
           "title": {
            "standoff": 15
           },
           "zerolinecolor": "white",
           "zerolinewidth": 2
          }
         }
        },
        "title": {
         "font": {
          "color": "#4D5663"
         }
        },
        "xaxis": {
         "gridcolor": "#E1E5ED",
         "showgrid": true,
         "tickfont": {
          "color": "#4D5663"
         },
         "title": {
          "font": {
           "color": "#4D5663"
          },
          "text": ""
         },
         "zerolinecolor": "#E1E5ED"
        },
        "yaxis": {
         "gridcolor": "#E1E5ED",
         "showgrid": true,
         "tickfont": {
          "color": "#4D5663"
         },
         "title": {
          "font": {
           "color": "#4D5663"
          },
          "text": ""
         },
         "zerolinecolor": "#E1E5ED"
        }
       }
      },
      "text/html": [
       "<div>                            <div id=\"73973121-bcd8-4f6e-a29c-f3f757df8fd4\" class=\"plotly-graph-div\" style=\"height:525px; width:100%;\"></div>            <script type=\"text/javascript\">                require([\"plotly\"], function(Plotly) {                    window.PLOTLYENV=window.PLOTLYENV || {};\n",
       "                    window.PLOTLYENV.BASE_URL='https://plot.ly';                                    if (document.getElementById(\"73973121-bcd8-4f6e-a29c-f3f757df8fd4\")) {                    Plotly.newPlot(                        \"73973121-bcd8-4f6e-a29c-f3f757df8fd4\",                        [{\"histfunc\":\"count\",\"histnorm\":\"\",\"marker\":{\"color\":\"rgba(255, 153, 51, 1.0)\",\"line\":{\"color\":\"#4D5663\",\"width\":1.3}},\"name\":\"A\",\"nbinsx\":25,\"opacity\":0.8,\"orientation\":\"v\",\"x\":[0.7524227622239249,-0.6487508694482285,-0.12276902469067315,-1.7956304294769236,-0.9799731504092138,1.3362874408281362,1.6300701479361905,1.893259976205648,1.102454540951155,-2.1450995701597635,-0.27791957658198363,0.5884301683993967,0.615111776799618,0.2015144223854086,2.1435623735574123,-1.4930470533502194,1.5356692790966953,-1.0229093074170883,0.1759924467352236,-0.5835389825445142,-1.5045905284820054,0.7121602950723773,0.027639743148447422,1.4899290306550939,2.7417157921905764,1.1071397111583028,0.1116141070140691,0.49478387791171435,0.09675256767697327,2.1385303960269098,-0.6690582559318675,-0.0625705570795616,0.35924665837333947,0.03971910887051859,0.9831002494786435,0.9006490205825207,-0.9538509595822618,-0.20768454140825984,1.1296875020178823,0.061143301200641514,0.16916316503414763,-1.166564321780111,0.5891047687352472,0.793330260909169,-0.9834954995976098,0.6372477908713823,1.176628879265964,0.25097681343004324,1.656911627497132,1.179288445516592,-0.13271766438827634,0.3001113425006879,1.0101157978281166,-0.8957405536547673,0.7595712933512376,-0.5193778376546777,0.1423613502424884,-2.1021074624815883,0.33302496576488233,-0.16979628990295093,-0.9468499260465263,-0.8834558066344341,0.6230893758350854,-0.649993041546382,1.448657701803833,-0.8458526622516507,-0.0981429164294889,-0.5936239908790261,-0.385848432532634,-1.3735488390101918,-1.0056553057412447,-1.26730052140875,0.6556464292500415,-0.1334056210776524,-0.5853856257269497,0.6067943948542077,-0.9524477619805134,0.8256890188080714,-0.38544439397462416,-0.09760326316560804,-1.162915585696774,-0.38799627732569153,0.9711969001992721,1.6523680779276493,-1.8045995945136548,0.8692706779303185,0.2982140066126374,-2.232879857099527,0.271029852610972,-0.45240581774251093,0.9318810556623758,-0.26768715861225206,-1.1455708825858975,1.8683283454304598,0.8573275444364243,1.3325036587822003,2.599708051322223,2.5408176068246195,0.24426027282740315,1.9126990659987366],\"type\":\"histogram\"}],                        {\"barmode\":\"overlay\",\"legend\":{\"bgcolor\":\"#F5F6F9\",\"font\":{\"color\":\"#4D5663\"}},\"paper_bgcolor\":\"#F5F6F9\",\"plot_bgcolor\":\"#F5F6F9\",\"template\":{\"data\":{\"barpolar\":[{\"marker\":{\"line\":{\"color\":\"#E5ECF6\",\"width\":0.5},\"pattern\":{\"fillmode\":\"overlay\",\"size\":10,\"solidity\":0.2}},\"type\":\"barpolar\"}],\"bar\":[{\"error_x\":{\"color\":\"#2a3f5f\"},\"error_y\":{\"color\":\"#2a3f5f\"},\"marker\":{\"line\":{\"color\":\"#E5ECF6\",\"width\":0.5},\"pattern\":{\"fillmode\":\"overlay\",\"size\":10,\"solidity\":0.2}},\"type\":\"bar\"}],\"carpet\":[{\"aaxis\":{\"endlinecolor\":\"#2a3f5f\",\"gridcolor\":\"white\",\"linecolor\":\"white\",\"minorgridcolor\":\"white\",\"startlinecolor\":\"#2a3f5f\"},\"baxis\":{\"endlinecolor\":\"#2a3f5f\",\"gridcolor\":\"white\",\"linecolor\":\"white\",\"minorgridcolor\":\"white\",\"startlinecolor\":\"#2a3f5f\"},\"type\":\"carpet\"}],\"choropleth\":[{\"colorbar\":{\"outlinewidth\":0,\"ticks\":\"\"},\"type\":\"choropleth\"}],\"contourcarpet\":[{\"colorbar\":{\"outlinewidth\":0,\"ticks\":\"\"},\"type\":\"contourcarpet\"}],\"contour\":[{\"colorbar\":{\"outlinewidth\":0,\"ticks\":\"\"},\"colorscale\":[[0.0,\"#0d0887\"],[0.1111111111111111,\"#46039f\"],[0.2222222222222222,\"#7201a8\"],[0.3333333333333333,\"#9c179e\"],[0.4444444444444444,\"#bd3786\"],[0.5555555555555556,\"#d8576b\"],[0.6666666666666666,\"#ed7953\"],[0.7777777777777778,\"#fb9f3a\"],[0.8888888888888888,\"#fdca26\"],[1.0,\"#f0f921\"]],\"type\":\"contour\"}],\"heatmapgl\":[{\"colorbar\":{\"outlinewidth\":0,\"ticks\":\"\"},\"colorscale\":[[0.0,\"#0d0887\"],[0.1111111111111111,\"#46039f\"],[0.2222222222222222,\"#7201a8\"],[0.3333333333333333,\"#9c179e\"],[0.4444444444444444,\"#bd3786\"],[0.5555555555555556,\"#d8576b\"],[0.6666666666666666,\"#ed7953\"],[0.7777777777777778,\"#fb9f3a\"],[0.8888888888888888,\"#fdca26\"],[1.0,\"#f0f921\"]],\"type\":\"heatmapgl\"}],\"heatmap\":[{\"colorbar\":{\"outlinewidth\":0,\"ticks\":\"\"},\"colorscale\":[[0.0,\"#0d0887\"],[0.1111111111111111,\"#46039f\"],[0.2222222222222222,\"#7201a8\"],[0.3333333333333333,\"#9c179e\"],[0.4444444444444444,\"#bd3786\"],[0.5555555555555556,\"#d8576b\"],[0.6666666666666666,\"#ed7953\"],[0.7777777777777778,\"#fb9f3a\"],[0.8888888888888888,\"#fdca26\"],[1.0,\"#f0f921\"]],\"type\":\"heatmap\"}],\"histogram2dcontour\":[{\"colorbar\":{\"outlinewidth\":0,\"ticks\":\"\"},\"colorscale\":[[0.0,\"#0d0887\"],[0.1111111111111111,\"#46039f\"],[0.2222222222222222,\"#7201a8\"],[0.3333333333333333,\"#9c179e\"],[0.4444444444444444,\"#bd3786\"],[0.5555555555555556,\"#d8576b\"],[0.6666666666666666,\"#ed7953\"],[0.7777777777777778,\"#fb9f3a\"],[0.8888888888888888,\"#fdca26\"],[1.0,\"#f0f921\"]],\"type\":\"histogram2dcontour\"}],\"histogram2d\":[{\"colorbar\":{\"outlinewidth\":0,\"ticks\":\"\"},\"colorscale\":[[0.0,\"#0d0887\"],[0.1111111111111111,\"#46039f\"],[0.2222222222222222,\"#7201a8\"],[0.3333333333333333,\"#9c179e\"],[0.4444444444444444,\"#bd3786\"],[0.5555555555555556,\"#d8576b\"],[0.6666666666666666,\"#ed7953\"],[0.7777777777777778,\"#fb9f3a\"],[0.8888888888888888,\"#fdca26\"],[1.0,\"#f0f921\"]],\"type\":\"histogram2d\"}],\"histogram\":[{\"marker\":{\"pattern\":{\"fillmode\":\"overlay\",\"size\":10,\"solidity\":0.2}},\"type\":\"histogram\"}],\"mesh3d\":[{\"colorbar\":{\"outlinewidth\":0,\"ticks\":\"\"},\"type\":\"mesh3d\"}],\"parcoords\":[{\"line\":{\"colorbar\":{\"outlinewidth\":0,\"ticks\":\"\"}},\"type\":\"parcoords\"}],\"pie\":[{\"automargin\":true,\"type\":\"pie\"}],\"scatter3d\":[{\"line\":{\"colorbar\":{\"outlinewidth\":0,\"ticks\":\"\"}},\"marker\":{\"colorbar\":{\"outlinewidth\":0,\"ticks\":\"\"}},\"type\":\"scatter3d\"}],\"scattercarpet\":[{\"marker\":{\"colorbar\":{\"outlinewidth\":0,\"ticks\":\"\"}},\"type\":\"scattercarpet\"}],\"scattergeo\":[{\"marker\":{\"colorbar\":{\"outlinewidth\":0,\"ticks\":\"\"}},\"type\":\"scattergeo\"}],\"scattergl\":[{\"marker\":{\"colorbar\":{\"outlinewidth\":0,\"ticks\":\"\"}},\"type\":\"scattergl\"}],\"scattermapbox\":[{\"marker\":{\"colorbar\":{\"outlinewidth\":0,\"ticks\":\"\"}},\"type\":\"scattermapbox\"}],\"scatterpolargl\":[{\"marker\":{\"colorbar\":{\"outlinewidth\":0,\"ticks\":\"\"}},\"type\":\"scatterpolargl\"}],\"scatterpolar\":[{\"marker\":{\"colorbar\":{\"outlinewidth\":0,\"ticks\":\"\"}},\"type\":\"scatterpolar\"}],\"scatter\":[{\"fillpattern\":{\"fillmode\":\"overlay\",\"size\":10,\"solidity\":0.2},\"type\":\"scatter\"}],\"scatterternary\":[{\"marker\":{\"colorbar\":{\"outlinewidth\":0,\"ticks\":\"\"}},\"type\":\"scatterternary\"}],\"surface\":[{\"colorbar\":{\"outlinewidth\":0,\"ticks\":\"\"},\"colorscale\":[[0.0,\"#0d0887\"],[0.1111111111111111,\"#46039f\"],[0.2222222222222222,\"#7201a8\"],[0.3333333333333333,\"#9c179e\"],[0.4444444444444444,\"#bd3786\"],[0.5555555555555556,\"#d8576b\"],[0.6666666666666666,\"#ed7953\"],[0.7777777777777778,\"#fb9f3a\"],[0.8888888888888888,\"#fdca26\"],[1.0,\"#f0f921\"]],\"type\":\"surface\"}],\"table\":[{\"cells\":{\"fill\":{\"color\":\"#EBF0F8\"},\"line\":{\"color\":\"white\"}},\"header\":{\"fill\":{\"color\":\"#C8D4E3\"},\"line\":{\"color\":\"white\"}},\"type\":\"table\"}]},\"layout\":{\"annotationdefaults\":{\"arrowcolor\":\"#2a3f5f\",\"arrowhead\":0,\"arrowwidth\":1},\"autotypenumbers\":\"strict\",\"coloraxis\":{\"colorbar\":{\"outlinewidth\":0,\"ticks\":\"\"}},\"colorscale\":{\"diverging\":[[0,\"#8e0152\"],[0.1,\"#c51b7d\"],[0.2,\"#de77ae\"],[0.3,\"#f1b6da\"],[0.4,\"#fde0ef\"],[0.5,\"#f7f7f7\"],[0.6,\"#e6f5d0\"],[0.7,\"#b8e186\"],[0.8,\"#7fbc41\"],[0.9,\"#4d9221\"],[1,\"#276419\"]],\"sequential\":[[0.0,\"#0d0887\"],[0.1111111111111111,\"#46039f\"],[0.2222222222222222,\"#7201a8\"],[0.3333333333333333,\"#9c179e\"],[0.4444444444444444,\"#bd3786\"],[0.5555555555555556,\"#d8576b\"],[0.6666666666666666,\"#ed7953\"],[0.7777777777777778,\"#fb9f3a\"],[0.8888888888888888,\"#fdca26\"],[1.0,\"#f0f921\"]],\"sequentialminus\":[[0.0,\"#0d0887\"],[0.1111111111111111,\"#46039f\"],[0.2222222222222222,\"#7201a8\"],[0.3333333333333333,\"#9c179e\"],[0.4444444444444444,\"#bd3786\"],[0.5555555555555556,\"#d8576b\"],[0.6666666666666666,\"#ed7953\"],[0.7777777777777778,\"#fb9f3a\"],[0.8888888888888888,\"#fdca26\"],[1.0,\"#f0f921\"]]},\"colorway\":[\"#636efa\",\"#EF553B\",\"#00cc96\",\"#ab63fa\",\"#FFA15A\",\"#19d3f3\",\"#FF6692\",\"#B6E880\",\"#FF97FF\",\"#FECB52\"],\"font\":{\"color\":\"#2a3f5f\"},\"geo\":{\"bgcolor\":\"white\",\"lakecolor\":\"white\",\"landcolor\":\"#E5ECF6\",\"showlakes\":true,\"showland\":true,\"subunitcolor\":\"white\"},\"hoverlabel\":{\"align\":\"left\"},\"hovermode\":\"closest\",\"mapbox\":{\"style\":\"light\"},\"paper_bgcolor\":\"white\",\"plot_bgcolor\":\"#E5ECF6\",\"polar\":{\"angularaxis\":{\"gridcolor\":\"white\",\"linecolor\":\"white\",\"ticks\":\"\"},\"bgcolor\":\"#E5ECF6\",\"radialaxis\":{\"gridcolor\":\"white\",\"linecolor\":\"white\",\"ticks\":\"\"}},\"scene\":{\"xaxis\":{\"backgroundcolor\":\"#E5ECF6\",\"gridcolor\":\"white\",\"gridwidth\":2,\"linecolor\":\"white\",\"showbackground\":true,\"ticks\":\"\",\"zerolinecolor\":\"white\"},\"yaxis\":{\"backgroundcolor\":\"#E5ECF6\",\"gridcolor\":\"white\",\"gridwidth\":2,\"linecolor\":\"white\",\"showbackground\":true,\"ticks\":\"\",\"zerolinecolor\":\"white\"},\"zaxis\":{\"backgroundcolor\":\"#E5ECF6\",\"gridcolor\":\"white\",\"gridwidth\":2,\"linecolor\":\"white\",\"showbackground\":true,\"ticks\":\"\",\"zerolinecolor\":\"white\"}},\"shapedefaults\":{\"line\":{\"color\":\"#2a3f5f\"}},\"ternary\":{\"aaxis\":{\"gridcolor\":\"white\",\"linecolor\":\"white\",\"ticks\":\"\"},\"baxis\":{\"gridcolor\":\"white\",\"linecolor\":\"white\",\"ticks\":\"\"},\"bgcolor\":\"#E5ECF6\",\"caxis\":{\"gridcolor\":\"white\",\"linecolor\":\"white\",\"ticks\":\"\"}},\"title\":{\"x\":0.05},\"xaxis\":{\"automargin\":true,\"gridcolor\":\"white\",\"linecolor\":\"white\",\"ticks\":\"\",\"title\":{\"standoff\":15},\"zerolinecolor\":\"white\",\"zerolinewidth\":2},\"yaxis\":{\"automargin\":true,\"gridcolor\":\"white\",\"linecolor\":\"white\",\"ticks\":\"\",\"title\":{\"standoff\":15},\"zerolinecolor\":\"white\",\"zerolinewidth\":2}}},\"title\":{\"font\":{\"color\":\"#4D5663\"}},\"xaxis\":{\"gridcolor\":\"#E1E5ED\",\"showgrid\":true,\"tickfont\":{\"color\":\"#4D5663\"},\"title\":{\"font\":{\"color\":\"#4D5663\"},\"text\":\"\"},\"zerolinecolor\":\"#E1E5ED\"},\"yaxis\":{\"gridcolor\":\"#E1E5ED\",\"showgrid\":true,\"tickfont\":{\"color\":\"#4D5663\"},\"title\":{\"font\":{\"color\":\"#4D5663\"},\"text\":\"\"},\"zerolinecolor\":\"#E1E5ED\"}},                        {\"showLink\": true, \"linkText\": \"Export to plot.ly\", \"plotlyServerURL\": \"https://plot.ly\", \"responsive\": true}                    ).then(function(){\n",
       "                            \n",
       "var gd = document.getElementById('73973121-bcd8-4f6e-a29c-f3f757df8fd4');\n",
       "var x = new MutationObserver(function (mutations, observer) {{\n",
       "        var display = window.getComputedStyle(gd).display;\n",
       "        if (!display || display === 'none') {{\n",
       "            console.log([gd, 'removed!']);\n",
       "            Plotly.purge(gd);\n",
       "            observer.disconnect();\n",
       "        }}\n",
       "}});\n",
       "\n",
       "// Listen for the removal of the full notebook cells\n",
       "var notebookContainer = gd.closest('#notebook-container');\n",
       "if (notebookContainer) {{\n",
       "    x.observe(notebookContainer, {childList: true});\n",
       "}}\n",
       "\n",
       "// Listen for the clearing of the current output cell\n",
       "var outputEl = gd.closest('.output');\n",
       "if (outputEl) {{\n",
       "    x.observe(outputEl, {childList: true});\n",
       "}}\n",
       "\n",
       "                        })                };                });            </script>        </div>"
      ]
     },
     "metadata": {},
     "output_type": "display_data"
    }
   ],
   "source": [
    "#Histogram\n",
    "df['A'].iplot(kind='hist',bins=25)"
   ]
  },
  {
   "cell_type": "code",
   "execution_count": 18,
   "id": "8566678f",
   "metadata": {},
   "outputs": [
    {
     "data": {
      "application/vnd.plotly.v1+json": {
       "config": {
        "linkText": "Export to plot.ly",
        "plotlyServerURL": "https://plot.ly",
        "showLink": true
       },
       "data": [
        {
         "marker": {
          "color": [
           "rgb(255, 153, 51)",
           "rgb(55, 128, 191)",
           "rgb(50, 171, 96)",
           "rgb(128, 0, 128)",
           "rgb(219, 64, 82)",
           "rgb(0, 128, 128)",
           "rgb(255, 255, 51)",
           "rgb(128, 128, 0)",
           "rgb(251, 128, 114)",
           "rgb(128, 177, 211)"
          ],
          "line": {
           "width": 1.3
          },
          "size": [
           100,
           30,
           63,
           29,
           28,
           54,
           91,
           83,
           99,
           76,
           82,
           37,
           71,
           89,
           60,
           67,
           70,
           75,
           65,
           58,
           72,
           87,
           19,
           90,
           78,
           90,
           32,
           88,
           84,
           112,
           19,
           78,
           73,
           65,
           12,
           35,
           41,
           45,
           38,
           105,
           31,
           69,
           111,
           71,
           51,
           97,
           79,
           37,
           26,
           46,
           107,
           86,
           59,
           91,
           95,
           88,
           41,
           62,
           79,
           32,
           71,
           71,
           68,
           15,
           63,
           62,
           64,
           96,
           68,
           73,
           86,
           20,
           90,
           44,
           32,
           76,
           37,
           66,
           48,
           34,
           26,
           60,
           55,
           24,
           68,
           86,
           86,
           77,
           92,
           78,
           89,
           79,
           59,
           60,
           64,
           80,
           65,
           67,
           104,
           90
          ],
          "symbol": "circle"
         },
         "mode": "markers",
         "text": "",
         "type": "scatter",
         "x": [
          0.7524227622239249,
          -0.6487508694482285,
          -0.12276902469067315,
          -1.7956304294769236,
          -0.9799731504092138,
          1.3362874408281362,
          1.6300701479361905,
          1.893259976205648,
          1.102454540951155,
          -2.1450995701597635,
          -0.27791957658198363,
          0.5884301683993967,
          0.615111776799618,
          0.2015144223854086,
          2.1435623735574123,
          -1.4930470533502194,
          1.5356692790966953,
          -1.0229093074170883,
          0.1759924467352236,
          -0.5835389825445142,
          -1.5045905284820054,
          0.7121602950723773,
          0.027639743148447422,
          1.4899290306550939,
          2.7417157921905764,
          1.1071397111583028,
          0.1116141070140691,
          0.49478387791171435,
          0.09675256767697327,
          2.1385303960269098,
          -0.6690582559318675,
          -0.0625705570795616,
          0.35924665837333947,
          0.03971910887051859,
          0.9831002494786435,
          0.9006490205825207,
          -0.9538509595822618,
          -0.20768454140825984,
          1.1296875020178823,
          0.061143301200641514,
          0.16916316503414763,
          -1.166564321780111,
          0.5891047687352472,
          0.793330260909169,
          -0.9834954995976098,
          0.6372477908713823,
          1.176628879265964,
          0.25097681343004324,
          1.656911627497132,
          1.179288445516592,
          -0.13271766438827634,
          0.3001113425006879,
          1.0101157978281166,
          -0.8957405536547673,
          0.7595712933512376,
          -0.5193778376546777,
          0.1423613502424884,
          -2.1021074624815883,
          0.33302496576488233,
          -0.16979628990295093,
          -0.9468499260465263,
          -0.8834558066344341,
          0.6230893758350854,
          -0.649993041546382,
          1.448657701803833,
          -0.8458526622516507,
          -0.0981429164294889,
          -0.5936239908790261,
          -0.385848432532634,
          -1.3735488390101918,
          -1.0056553057412447,
          -1.26730052140875,
          0.6556464292500415,
          -0.1334056210776524,
          -0.5853856257269497,
          0.6067943948542077,
          -0.9524477619805134,
          0.8256890188080714,
          -0.38544439397462416,
          -0.09760326316560804,
          -1.162915585696774,
          -0.38799627732569153,
          0.9711969001992721,
          1.6523680779276493,
          -1.8045995945136548,
          0.8692706779303185,
          0.2982140066126374,
          -2.232879857099527,
          0.271029852610972,
          -0.45240581774251093,
          0.9318810556623758,
          -0.26768715861225206,
          -1.1455708825858975,
          1.8683283454304598,
          0.8573275444364243,
          1.3325036587822003,
          2.599708051322223,
          2.5408176068246195,
          0.24426027282740315,
          1.9126990659987366
         ],
         "y": [
          -0.14411142071418448,
          0.4543383861726146,
          -0.7083109717970135,
          1.0903842538507134,
          -0.9618951277509531,
          0.7910225125160179,
          -0.09170042656156237,
          1.2065985419544019,
          0.5554298383945874,
          1.2392441562349639,
          -0.10418607581733894,
          -1.5962761205932277,
          -0.6726747533058741,
          0.40019099429991684,
          0.35184677700579475,
          -0.24545355294518686,
          1.6395704390094321,
          0.14405723113709348,
          0.3926952588678192,
          0.3654074215407099,
          -0.7681215022777197,
          -1.4062832714563236,
          -1.2546410580879253,
          0.18550467761114373,
          -0.8431939326081225,
          -2.06963127321301,
          1.48658934053319,
          -1.3326252323447432,
          -0.56726203886916,
          0.1361568603876222,
          0.6083662168232864,
          -0.09910069096383518,
          1.0820082378249034,
          0.31019928685403797,
          -0.731073676798277,
          0.040732192306421416,
          -0.8107107612338843,
          1.4173142860072543,
          -0.27584483581014213,
          2.5355035017244085,
          1.3112730058506958,
          -0.41427195107802095,
          -0.1741073227349552,
          1.6087551847409967,
          -0.9134078520482416,
          0.1136295862603745,
          0.17373761739318422,
          0.808462558759177,
          -2.1897539132033033,
          0.08330649712203049,
          0.8248180483876241,
          -0.40453200043901594,
          -0.4694871922459325,
          0.6698077464337866,
          0.3565346365704142,
          0.12869804689699224,
          0.67017515921362,
          0.5360783407567321,
          -0.2917074199552538,
          0.4365141785381166,
          0.6105572925783977,
          0.9734497641828365,
          1.4562443431718226,
          -0.4981857939219861,
          -0.9386690265452898,
          1.7311316676972948,
          -0.6298966613647587,
          0.815225989591915,
          -0.4602572673509436,
          -0.9150007309938142,
          0.10863252084373735,
          1.1729531883979405,
          -1.631017696238814,
          -1.8496504257349287,
          0.17950210460028163,
          0.9682133702319166,
          -1.484707530253836,
          -1.639085276989806,
          0.40140816264697965,
          0.6390331364973107,
          1.2323156584101398,
          2.162752863112274,
          1.1815167591012996,
          -1.9852722873734716,
          -1.0431001767275785,
          -1.279261507190979,
          -1.411883001080788,
          0.6140936180273153,
          -1.2851155395037284,
          -0.42350457709057093,
          -0.2271241069058536,
          -2.1592081055400807,
          -0.6316189001075955,
          0.490315679755434,
          -0.6518997189531053,
          -0.10202977067303974,
          0.8948687383146906,
          0.24313123575142453,
          -0.10391921868855766,
          0.7618133728978007
         ]
        }
       ],
       "layout": {
        "legend": {
         "bgcolor": "#F5F6F9",
         "font": {
          "color": "#4D5663"
         }
        },
        "paper_bgcolor": "#F5F6F9",
        "plot_bgcolor": "#F5F6F9",
        "template": {
         "data": {
          "bar": [
           {
            "error_x": {
             "color": "#2a3f5f"
            },
            "error_y": {
             "color": "#2a3f5f"
            },
            "marker": {
             "line": {
              "color": "#E5ECF6",
              "width": 0.5
             },
             "pattern": {
              "fillmode": "overlay",
              "size": 10,
              "solidity": 0.2
             }
            },
            "type": "bar"
           }
          ],
          "barpolar": [
           {
            "marker": {
             "line": {
              "color": "#E5ECF6",
              "width": 0.5
             },
             "pattern": {
              "fillmode": "overlay",
              "size": 10,
              "solidity": 0.2
             }
            },
            "type": "barpolar"
           }
          ],
          "carpet": [
           {
            "aaxis": {
             "endlinecolor": "#2a3f5f",
             "gridcolor": "white",
             "linecolor": "white",
             "minorgridcolor": "white",
             "startlinecolor": "#2a3f5f"
            },
            "baxis": {
             "endlinecolor": "#2a3f5f",
             "gridcolor": "white",
             "linecolor": "white",
             "minorgridcolor": "white",
             "startlinecolor": "#2a3f5f"
            },
            "type": "carpet"
           }
          ],
          "choropleth": [
           {
            "colorbar": {
             "outlinewidth": 0,
             "ticks": ""
            },
            "type": "choropleth"
           }
          ],
          "contour": [
           {
            "colorbar": {
             "outlinewidth": 0,
             "ticks": ""
            },
            "colorscale": [
             [
              0,
              "#0d0887"
             ],
             [
              0.1111111111111111,
              "#46039f"
             ],
             [
              0.2222222222222222,
              "#7201a8"
             ],
             [
              0.3333333333333333,
              "#9c179e"
             ],
             [
              0.4444444444444444,
              "#bd3786"
             ],
             [
              0.5555555555555556,
              "#d8576b"
             ],
             [
              0.6666666666666666,
              "#ed7953"
             ],
             [
              0.7777777777777778,
              "#fb9f3a"
             ],
             [
              0.8888888888888888,
              "#fdca26"
             ],
             [
              1,
              "#f0f921"
             ]
            ],
            "type": "contour"
           }
          ],
          "contourcarpet": [
           {
            "colorbar": {
             "outlinewidth": 0,
             "ticks": ""
            },
            "type": "contourcarpet"
           }
          ],
          "heatmap": [
           {
            "colorbar": {
             "outlinewidth": 0,
             "ticks": ""
            },
            "colorscale": [
             [
              0,
              "#0d0887"
             ],
             [
              0.1111111111111111,
              "#46039f"
             ],
             [
              0.2222222222222222,
              "#7201a8"
             ],
             [
              0.3333333333333333,
              "#9c179e"
             ],
             [
              0.4444444444444444,
              "#bd3786"
             ],
             [
              0.5555555555555556,
              "#d8576b"
             ],
             [
              0.6666666666666666,
              "#ed7953"
             ],
             [
              0.7777777777777778,
              "#fb9f3a"
             ],
             [
              0.8888888888888888,
              "#fdca26"
             ],
             [
              1,
              "#f0f921"
             ]
            ],
            "type": "heatmap"
           }
          ],
          "heatmapgl": [
           {
            "colorbar": {
             "outlinewidth": 0,
             "ticks": ""
            },
            "colorscale": [
             [
              0,
              "#0d0887"
             ],
             [
              0.1111111111111111,
              "#46039f"
             ],
             [
              0.2222222222222222,
              "#7201a8"
             ],
             [
              0.3333333333333333,
              "#9c179e"
             ],
             [
              0.4444444444444444,
              "#bd3786"
             ],
             [
              0.5555555555555556,
              "#d8576b"
             ],
             [
              0.6666666666666666,
              "#ed7953"
             ],
             [
              0.7777777777777778,
              "#fb9f3a"
             ],
             [
              0.8888888888888888,
              "#fdca26"
             ],
             [
              1,
              "#f0f921"
             ]
            ],
            "type": "heatmapgl"
           }
          ],
          "histogram": [
           {
            "marker": {
             "pattern": {
              "fillmode": "overlay",
              "size": 10,
              "solidity": 0.2
             }
            },
            "type": "histogram"
           }
          ],
          "histogram2d": [
           {
            "colorbar": {
             "outlinewidth": 0,
             "ticks": ""
            },
            "colorscale": [
             [
              0,
              "#0d0887"
             ],
             [
              0.1111111111111111,
              "#46039f"
             ],
             [
              0.2222222222222222,
              "#7201a8"
             ],
             [
              0.3333333333333333,
              "#9c179e"
             ],
             [
              0.4444444444444444,
              "#bd3786"
             ],
             [
              0.5555555555555556,
              "#d8576b"
             ],
             [
              0.6666666666666666,
              "#ed7953"
             ],
             [
              0.7777777777777778,
              "#fb9f3a"
             ],
             [
              0.8888888888888888,
              "#fdca26"
             ],
             [
              1,
              "#f0f921"
             ]
            ],
            "type": "histogram2d"
           }
          ],
          "histogram2dcontour": [
           {
            "colorbar": {
             "outlinewidth": 0,
             "ticks": ""
            },
            "colorscale": [
             [
              0,
              "#0d0887"
             ],
             [
              0.1111111111111111,
              "#46039f"
             ],
             [
              0.2222222222222222,
              "#7201a8"
             ],
             [
              0.3333333333333333,
              "#9c179e"
             ],
             [
              0.4444444444444444,
              "#bd3786"
             ],
             [
              0.5555555555555556,
              "#d8576b"
             ],
             [
              0.6666666666666666,
              "#ed7953"
             ],
             [
              0.7777777777777778,
              "#fb9f3a"
             ],
             [
              0.8888888888888888,
              "#fdca26"
             ],
             [
              1,
              "#f0f921"
             ]
            ],
            "type": "histogram2dcontour"
           }
          ],
          "mesh3d": [
           {
            "colorbar": {
             "outlinewidth": 0,
             "ticks": ""
            },
            "type": "mesh3d"
           }
          ],
          "parcoords": [
           {
            "line": {
             "colorbar": {
              "outlinewidth": 0,
              "ticks": ""
             }
            },
            "type": "parcoords"
           }
          ],
          "pie": [
           {
            "automargin": true,
            "type": "pie"
           }
          ],
          "scatter": [
           {
            "fillpattern": {
             "fillmode": "overlay",
             "size": 10,
             "solidity": 0.2
            },
            "type": "scatter"
           }
          ],
          "scatter3d": [
           {
            "line": {
             "colorbar": {
              "outlinewidth": 0,
              "ticks": ""
             }
            },
            "marker": {
             "colorbar": {
              "outlinewidth": 0,
              "ticks": ""
             }
            },
            "type": "scatter3d"
           }
          ],
          "scattercarpet": [
           {
            "marker": {
             "colorbar": {
              "outlinewidth": 0,
              "ticks": ""
             }
            },
            "type": "scattercarpet"
           }
          ],
          "scattergeo": [
           {
            "marker": {
             "colorbar": {
              "outlinewidth": 0,
              "ticks": ""
             }
            },
            "type": "scattergeo"
           }
          ],
          "scattergl": [
           {
            "marker": {
             "colorbar": {
              "outlinewidth": 0,
              "ticks": ""
             }
            },
            "type": "scattergl"
           }
          ],
          "scattermapbox": [
           {
            "marker": {
             "colorbar": {
              "outlinewidth": 0,
              "ticks": ""
             }
            },
            "type": "scattermapbox"
           }
          ],
          "scatterpolar": [
           {
            "marker": {
             "colorbar": {
              "outlinewidth": 0,
              "ticks": ""
             }
            },
            "type": "scatterpolar"
           }
          ],
          "scatterpolargl": [
           {
            "marker": {
             "colorbar": {
              "outlinewidth": 0,
              "ticks": ""
             }
            },
            "type": "scatterpolargl"
           }
          ],
          "scatterternary": [
           {
            "marker": {
             "colorbar": {
              "outlinewidth": 0,
              "ticks": ""
             }
            },
            "type": "scatterternary"
           }
          ],
          "surface": [
           {
            "colorbar": {
             "outlinewidth": 0,
             "ticks": ""
            },
            "colorscale": [
             [
              0,
              "#0d0887"
             ],
             [
              0.1111111111111111,
              "#46039f"
             ],
             [
              0.2222222222222222,
              "#7201a8"
             ],
             [
              0.3333333333333333,
              "#9c179e"
             ],
             [
              0.4444444444444444,
              "#bd3786"
             ],
             [
              0.5555555555555556,
              "#d8576b"
             ],
             [
              0.6666666666666666,
              "#ed7953"
             ],
             [
              0.7777777777777778,
              "#fb9f3a"
             ],
             [
              0.8888888888888888,
              "#fdca26"
             ],
             [
              1,
              "#f0f921"
             ]
            ],
            "type": "surface"
           }
          ],
          "table": [
           {
            "cells": {
             "fill": {
              "color": "#EBF0F8"
             },
             "line": {
              "color": "white"
             }
            },
            "header": {
             "fill": {
              "color": "#C8D4E3"
             },
             "line": {
              "color": "white"
             }
            },
            "type": "table"
           }
          ]
         },
         "layout": {
          "annotationdefaults": {
           "arrowcolor": "#2a3f5f",
           "arrowhead": 0,
           "arrowwidth": 1
          },
          "autotypenumbers": "strict",
          "coloraxis": {
           "colorbar": {
            "outlinewidth": 0,
            "ticks": ""
           }
          },
          "colorscale": {
           "diverging": [
            [
             0,
             "#8e0152"
            ],
            [
             0.1,
             "#c51b7d"
            ],
            [
             0.2,
             "#de77ae"
            ],
            [
             0.3,
             "#f1b6da"
            ],
            [
             0.4,
             "#fde0ef"
            ],
            [
             0.5,
             "#f7f7f7"
            ],
            [
             0.6,
             "#e6f5d0"
            ],
            [
             0.7,
             "#b8e186"
            ],
            [
             0.8,
             "#7fbc41"
            ],
            [
             0.9,
             "#4d9221"
            ],
            [
             1,
             "#276419"
            ]
           ],
           "sequential": [
            [
             0,
             "#0d0887"
            ],
            [
             0.1111111111111111,
             "#46039f"
            ],
            [
             0.2222222222222222,
             "#7201a8"
            ],
            [
             0.3333333333333333,
             "#9c179e"
            ],
            [
             0.4444444444444444,
             "#bd3786"
            ],
            [
             0.5555555555555556,
             "#d8576b"
            ],
            [
             0.6666666666666666,
             "#ed7953"
            ],
            [
             0.7777777777777778,
             "#fb9f3a"
            ],
            [
             0.8888888888888888,
             "#fdca26"
            ],
            [
             1,
             "#f0f921"
            ]
           ],
           "sequentialminus": [
            [
             0,
             "#0d0887"
            ],
            [
             0.1111111111111111,
             "#46039f"
            ],
            [
             0.2222222222222222,
             "#7201a8"
            ],
            [
             0.3333333333333333,
             "#9c179e"
            ],
            [
             0.4444444444444444,
             "#bd3786"
            ],
            [
             0.5555555555555556,
             "#d8576b"
            ],
            [
             0.6666666666666666,
             "#ed7953"
            ],
            [
             0.7777777777777778,
             "#fb9f3a"
            ],
            [
             0.8888888888888888,
             "#fdca26"
            ],
            [
             1,
             "#f0f921"
            ]
           ]
          },
          "colorway": [
           "#636efa",
           "#EF553B",
           "#00cc96",
           "#ab63fa",
           "#FFA15A",
           "#19d3f3",
           "#FF6692",
           "#B6E880",
           "#FF97FF",
           "#FECB52"
          ],
          "font": {
           "color": "#2a3f5f"
          },
          "geo": {
           "bgcolor": "white",
           "lakecolor": "white",
           "landcolor": "#E5ECF6",
           "showlakes": true,
           "showland": true,
           "subunitcolor": "white"
          },
          "hoverlabel": {
           "align": "left"
          },
          "hovermode": "closest",
          "mapbox": {
           "style": "light"
          },
          "paper_bgcolor": "white",
          "plot_bgcolor": "#E5ECF6",
          "polar": {
           "angularaxis": {
            "gridcolor": "white",
            "linecolor": "white",
            "ticks": ""
           },
           "bgcolor": "#E5ECF6",
           "radialaxis": {
            "gridcolor": "white",
            "linecolor": "white",
            "ticks": ""
           }
          },
          "scene": {
           "xaxis": {
            "backgroundcolor": "#E5ECF6",
            "gridcolor": "white",
            "gridwidth": 2,
            "linecolor": "white",
            "showbackground": true,
            "ticks": "",
            "zerolinecolor": "white"
           },
           "yaxis": {
            "backgroundcolor": "#E5ECF6",
            "gridcolor": "white",
            "gridwidth": 2,
            "linecolor": "white",
            "showbackground": true,
            "ticks": "",
            "zerolinecolor": "white"
           },
           "zaxis": {
            "backgroundcolor": "#E5ECF6",
            "gridcolor": "white",
            "gridwidth": 2,
            "linecolor": "white",
            "showbackground": true,
            "ticks": "",
            "zerolinecolor": "white"
           }
          },
          "shapedefaults": {
           "line": {
            "color": "#2a3f5f"
           }
          },
          "ternary": {
           "aaxis": {
            "gridcolor": "white",
            "linecolor": "white",
            "ticks": ""
           },
           "baxis": {
            "gridcolor": "white",
            "linecolor": "white",
            "ticks": ""
           },
           "bgcolor": "#E5ECF6",
           "caxis": {
            "gridcolor": "white",
            "linecolor": "white",
            "ticks": ""
           }
          },
          "title": {
           "x": 0.05
          },
          "xaxis": {
           "automargin": true,
           "gridcolor": "white",
           "linecolor": "white",
           "ticks": "",
           "title": {
            "standoff": 15
           },
           "zerolinecolor": "white",
           "zerolinewidth": 2
          },
          "yaxis": {
           "automargin": true,
           "gridcolor": "white",
           "linecolor": "white",
           "ticks": "",
           "title": {
            "standoff": 15
           },
           "zerolinecolor": "white",
           "zerolinewidth": 2
          }
         }
        },
        "title": {
         "font": {
          "color": "#4D5663"
         }
        },
        "xaxis": {
         "gridcolor": "#E1E5ED",
         "showgrid": true,
         "tickfont": {
          "color": "#4D5663"
         },
         "title": {
          "font": {
           "color": "#4D5663"
          },
          "text": ""
         },
         "zerolinecolor": "#E1E5ED"
        },
        "yaxis": {
         "gridcolor": "#E1E5ED",
         "showgrid": true,
         "tickfont": {
          "color": "#4D5663"
         },
         "title": {
          "font": {
           "color": "#4D5663"
          },
          "text": ""
         },
         "zerolinecolor": "#E1E5ED"
        }
       }
      },
      "text/html": [
       "<div>                            <div id=\"aea1a22f-6667-4dc4-bf7f-295b18fde4e3\" class=\"plotly-graph-div\" style=\"height:525px; width:100%;\"></div>            <script type=\"text/javascript\">                require([\"plotly\"], function(Plotly) {                    window.PLOTLYENV=window.PLOTLYENV || {};\n",
       "                    window.PLOTLYENV.BASE_URL='https://plot.ly';                                    if (document.getElementById(\"aea1a22f-6667-4dc4-bf7f-295b18fde4e3\")) {                    Plotly.newPlot(                        \"aea1a22f-6667-4dc4-bf7f-295b18fde4e3\",                        [{\"marker\":{\"color\":[\"rgb(255, 153, 51)\",\"rgb(55, 128, 191)\",\"rgb(50, 171, 96)\",\"rgb(128, 0, 128)\",\"rgb(219, 64, 82)\",\"rgb(0, 128, 128)\",\"rgb(255, 255, 51)\",\"rgb(128, 128, 0)\",\"rgb(251, 128, 114)\",\"rgb(128, 177, 211)\"],\"line\":{\"width\":1.3},\"size\":[100,30,63,29,28,54,91,83,99,76,82,37,71,89,60,67,70,75,65,58,72,87,19,90,78,90,32,88,84,112,19,78,73,65,12,35,41,45,38,105,31,69,111,71,51,97,79,37,26,46,107,86,59,91,95,88,41,62,79,32,71,71,68,15,63,62,64,96,68,73,86,20,90,44,32,76,37,66,48,34,26,60,55,24,68,86,86,77,92,78,89,79,59,60,64,80,65,67,104,90],\"symbol\":\"circle\"},\"mode\":\"markers\",\"text\":\"\",\"x\":[0.7524227622239249,-0.6487508694482285,-0.12276902469067315,-1.7956304294769236,-0.9799731504092138,1.3362874408281362,1.6300701479361905,1.893259976205648,1.102454540951155,-2.1450995701597635,-0.27791957658198363,0.5884301683993967,0.615111776799618,0.2015144223854086,2.1435623735574123,-1.4930470533502194,1.5356692790966953,-1.0229093074170883,0.1759924467352236,-0.5835389825445142,-1.5045905284820054,0.7121602950723773,0.027639743148447422,1.4899290306550939,2.7417157921905764,1.1071397111583028,0.1116141070140691,0.49478387791171435,0.09675256767697327,2.1385303960269098,-0.6690582559318675,-0.0625705570795616,0.35924665837333947,0.03971910887051859,0.9831002494786435,0.9006490205825207,-0.9538509595822618,-0.20768454140825984,1.1296875020178823,0.061143301200641514,0.16916316503414763,-1.166564321780111,0.5891047687352472,0.793330260909169,-0.9834954995976098,0.6372477908713823,1.176628879265964,0.25097681343004324,1.656911627497132,1.179288445516592,-0.13271766438827634,0.3001113425006879,1.0101157978281166,-0.8957405536547673,0.7595712933512376,-0.5193778376546777,0.1423613502424884,-2.1021074624815883,0.33302496576488233,-0.16979628990295093,-0.9468499260465263,-0.8834558066344341,0.6230893758350854,-0.649993041546382,1.448657701803833,-0.8458526622516507,-0.0981429164294889,-0.5936239908790261,-0.385848432532634,-1.3735488390101918,-1.0056553057412447,-1.26730052140875,0.6556464292500415,-0.1334056210776524,-0.5853856257269497,0.6067943948542077,-0.9524477619805134,0.8256890188080714,-0.38544439397462416,-0.09760326316560804,-1.162915585696774,-0.38799627732569153,0.9711969001992721,1.6523680779276493,-1.8045995945136548,0.8692706779303185,0.2982140066126374,-2.232879857099527,0.271029852610972,-0.45240581774251093,0.9318810556623758,-0.26768715861225206,-1.1455708825858975,1.8683283454304598,0.8573275444364243,1.3325036587822003,2.599708051322223,2.5408176068246195,0.24426027282740315,1.9126990659987366],\"y\":[-0.14411142071418448,0.4543383861726146,-0.7083109717970135,1.0903842538507134,-0.9618951277509531,0.7910225125160179,-0.09170042656156237,1.2065985419544019,0.5554298383945874,1.2392441562349639,-0.10418607581733894,-1.5962761205932277,-0.6726747533058741,0.40019099429991684,0.35184677700579475,-0.24545355294518686,1.6395704390094321,0.14405723113709348,0.3926952588678192,0.3654074215407099,-0.7681215022777197,-1.4062832714563236,-1.2546410580879253,0.18550467761114373,-0.8431939326081225,-2.06963127321301,1.48658934053319,-1.3326252323447432,-0.56726203886916,0.1361568603876222,0.6083662168232864,-0.09910069096383518,1.0820082378249034,0.31019928685403797,-0.731073676798277,0.040732192306421416,-0.8107107612338843,1.4173142860072543,-0.27584483581014213,2.5355035017244085,1.3112730058506958,-0.41427195107802095,-0.1741073227349552,1.6087551847409967,-0.9134078520482416,0.1136295862603745,0.17373761739318422,0.808462558759177,-2.1897539132033033,0.08330649712203049,0.8248180483876241,-0.40453200043901594,-0.4694871922459325,0.6698077464337866,0.3565346365704142,0.12869804689699224,0.67017515921362,0.5360783407567321,-0.2917074199552538,0.4365141785381166,0.6105572925783977,0.9734497641828365,1.4562443431718226,-0.4981857939219861,-0.9386690265452898,1.7311316676972948,-0.6298966613647587,0.815225989591915,-0.4602572673509436,-0.9150007309938142,0.10863252084373735,1.1729531883979405,-1.631017696238814,-1.8496504257349287,0.17950210460028163,0.9682133702319166,-1.484707530253836,-1.639085276989806,0.40140816264697965,0.6390331364973107,1.2323156584101398,2.162752863112274,1.1815167591012996,-1.9852722873734716,-1.0431001767275785,-1.279261507190979,-1.411883001080788,0.6140936180273153,-1.2851155395037284,-0.42350457709057093,-0.2271241069058536,-2.1592081055400807,-0.6316189001075955,0.490315679755434,-0.6518997189531053,-0.10202977067303974,0.8948687383146906,0.24313123575142453,-0.10391921868855766,0.7618133728978007],\"type\":\"scatter\"}],                        {\"legend\":{\"bgcolor\":\"#F5F6F9\",\"font\":{\"color\":\"#4D5663\"}},\"paper_bgcolor\":\"#F5F6F9\",\"plot_bgcolor\":\"#F5F6F9\",\"template\":{\"data\":{\"barpolar\":[{\"marker\":{\"line\":{\"color\":\"#E5ECF6\",\"width\":0.5},\"pattern\":{\"fillmode\":\"overlay\",\"size\":10,\"solidity\":0.2}},\"type\":\"barpolar\"}],\"bar\":[{\"error_x\":{\"color\":\"#2a3f5f\"},\"error_y\":{\"color\":\"#2a3f5f\"},\"marker\":{\"line\":{\"color\":\"#E5ECF6\",\"width\":0.5},\"pattern\":{\"fillmode\":\"overlay\",\"size\":10,\"solidity\":0.2}},\"type\":\"bar\"}],\"carpet\":[{\"aaxis\":{\"endlinecolor\":\"#2a3f5f\",\"gridcolor\":\"white\",\"linecolor\":\"white\",\"minorgridcolor\":\"white\",\"startlinecolor\":\"#2a3f5f\"},\"baxis\":{\"endlinecolor\":\"#2a3f5f\",\"gridcolor\":\"white\",\"linecolor\":\"white\",\"minorgridcolor\":\"white\",\"startlinecolor\":\"#2a3f5f\"},\"type\":\"carpet\"}],\"choropleth\":[{\"colorbar\":{\"outlinewidth\":0,\"ticks\":\"\"},\"type\":\"choropleth\"}],\"contourcarpet\":[{\"colorbar\":{\"outlinewidth\":0,\"ticks\":\"\"},\"type\":\"contourcarpet\"}],\"contour\":[{\"colorbar\":{\"outlinewidth\":0,\"ticks\":\"\"},\"colorscale\":[[0.0,\"#0d0887\"],[0.1111111111111111,\"#46039f\"],[0.2222222222222222,\"#7201a8\"],[0.3333333333333333,\"#9c179e\"],[0.4444444444444444,\"#bd3786\"],[0.5555555555555556,\"#d8576b\"],[0.6666666666666666,\"#ed7953\"],[0.7777777777777778,\"#fb9f3a\"],[0.8888888888888888,\"#fdca26\"],[1.0,\"#f0f921\"]],\"type\":\"contour\"}],\"heatmapgl\":[{\"colorbar\":{\"outlinewidth\":0,\"ticks\":\"\"},\"colorscale\":[[0.0,\"#0d0887\"],[0.1111111111111111,\"#46039f\"],[0.2222222222222222,\"#7201a8\"],[0.3333333333333333,\"#9c179e\"],[0.4444444444444444,\"#bd3786\"],[0.5555555555555556,\"#d8576b\"],[0.6666666666666666,\"#ed7953\"],[0.7777777777777778,\"#fb9f3a\"],[0.8888888888888888,\"#fdca26\"],[1.0,\"#f0f921\"]],\"type\":\"heatmapgl\"}],\"heatmap\":[{\"colorbar\":{\"outlinewidth\":0,\"ticks\":\"\"},\"colorscale\":[[0.0,\"#0d0887\"],[0.1111111111111111,\"#46039f\"],[0.2222222222222222,\"#7201a8\"],[0.3333333333333333,\"#9c179e\"],[0.4444444444444444,\"#bd3786\"],[0.5555555555555556,\"#d8576b\"],[0.6666666666666666,\"#ed7953\"],[0.7777777777777778,\"#fb9f3a\"],[0.8888888888888888,\"#fdca26\"],[1.0,\"#f0f921\"]],\"type\":\"heatmap\"}],\"histogram2dcontour\":[{\"colorbar\":{\"outlinewidth\":0,\"ticks\":\"\"},\"colorscale\":[[0.0,\"#0d0887\"],[0.1111111111111111,\"#46039f\"],[0.2222222222222222,\"#7201a8\"],[0.3333333333333333,\"#9c179e\"],[0.4444444444444444,\"#bd3786\"],[0.5555555555555556,\"#d8576b\"],[0.6666666666666666,\"#ed7953\"],[0.7777777777777778,\"#fb9f3a\"],[0.8888888888888888,\"#fdca26\"],[1.0,\"#f0f921\"]],\"type\":\"histogram2dcontour\"}],\"histogram2d\":[{\"colorbar\":{\"outlinewidth\":0,\"ticks\":\"\"},\"colorscale\":[[0.0,\"#0d0887\"],[0.1111111111111111,\"#46039f\"],[0.2222222222222222,\"#7201a8\"],[0.3333333333333333,\"#9c179e\"],[0.4444444444444444,\"#bd3786\"],[0.5555555555555556,\"#d8576b\"],[0.6666666666666666,\"#ed7953\"],[0.7777777777777778,\"#fb9f3a\"],[0.8888888888888888,\"#fdca26\"],[1.0,\"#f0f921\"]],\"type\":\"histogram2d\"}],\"histogram\":[{\"marker\":{\"pattern\":{\"fillmode\":\"overlay\",\"size\":10,\"solidity\":0.2}},\"type\":\"histogram\"}],\"mesh3d\":[{\"colorbar\":{\"outlinewidth\":0,\"ticks\":\"\"},\"type\":\"mesh3d\"}],\"parcoords\":[{\"line\":{\"colorbar\":{\"outlinewidth\":0,\"ticks\":\"\"}},\"type\":\"parcoords\"}],\"pie\":[{\"automargin\":true,\"type\":\"pie\"}],\"scatter3d\":[{\"line\":{\"colorbar\":{\"outlinewidth\":0,\"ticks\":\"\"}},\"marker\":{\"colorbar\":{\"outlinewidth\":0,\"ticks\":\"\"}},\"type\":\"scatter3d\"}],\"scattercarpet\":[{\"marker\":{\"colorbar\":{\"outlinewidth\":0,\"ticks\":\"\"}},\"type\":\"scattercarpet\"}],\"scattergeo\":[{\"marker\":{\"colorbar\":{\"outlinewidth\":0,\"ticks\":\"\"}},\"type\":\"scattergeo\"}],\"scattergl\":[{\"marker\":{\"colorbar\":{\"outlinewidth\":0,\"ticks\":\"\"}},\"type\":\"scattergl\"}],\"scattermapbox\":[{\"marker\":{\"colorbar\":{\"outlinewidth\":0,\"ticks\":\"\"}},\"type\":\"scattermapbox\"}],\"scatterpolargl\":[{\"marker\":{\"colorbar\":{\"outlinewidth\":0,\"ticks\":\"\"}},\"type\":\"scatterpolargl\"}],\"scatterpolar\":[{\"marker\":{\"colorbar\":{\"outlinewidth\":0,\"ticks\":\"\"}},\"type\":\"scatterpolar\"}],\"scatter\":[{\"fillpattern\":{\"fillmode\":\"overlay\",\"size\":10,\"solidity\":0.2},\"type\":\"scatter\"}],\"scatterternary\":[{\"marker\":{\"colorbar\":{\"outlinewidth\":0,\"ticks\":\"\"}},\"type\":\"scatterternary\"}],\"surface\":[{\"colorbar\":{\"outlinewidth\":0,\"ticks\":\"\"},\"colorscale\":[[0.0,\"#0d0887\"],[0.1111111111111111,\"#46039f\"],[0.2222222222222222,\"#7201a8\"],[0.3333333333333333,\"#9c179e\"],[0.4444444444444444,\"#bd3786\"],[0.5555555555555556,\"#d8576b\"],[0.6666666666666666,\"#ed7953\"],[0.7777777777777778,\"#fb9f3a\"],[0.8888888888888888,\"#fdca26\"],[1.0,\"#f0f921\"]],\"type\":\"surface\"}],\"table\":[{\"cells\":{\"fill\":{\"color\":\"#EBF0F8\"},\"line\":{\"color\":\"white\"}},\"header\":{\"fill\":{\"color\":\"#C8D4E3\"},\"line\":{\"color\":\"white\"}},\"type\":\"table\"}]},\"layout\":{\"annotationdefaults\":{\"arrowcolor\":\"#2a3f5f\",\"arrowhead\":0,\"arrowwidth\":1},\"autotypenumbers\":\"strict\",\"coloraxis\":{\"colorbar\":{\"outlinewidth\":0,\"ticks\":\"\"}},\"colorscale\":{\"diverging\":[[0,\"#8e0152\"],[0.1,\"#c51b7d\"],[0.2,\"#de77ae\"],[0.3,\"#f1b6da\"],[0.4,\"#fde0ef\"],[0.5,\"#f7f7f7\"],[0.6,\"#e6f5d0\"],[0.7,\"#b8e186\"],[0.8,\"#7fbc41\"],[0.9,\"#4d9221\"],[1,\"#276419\"]],\"sequential\":[[0.0,\"#0d0887\"],[0.1111111111111111,\"#46039f\"],[0.2222222222222222,\"#7201a8\"],[0.3333333333333333,\"#9c179e\"],[0.4444444444444444,\"#bd3786\"],[0.5555555555555556,\"#d8576b\"],[0.6666666666666666,\"#ed7953\"],[0.7777777777777778,\"#fb9f3a\"],[0.8888888888888888,\"#fdca26\"],[1.0,\"#f0f921\"]],\"sequentialminus\":[[0.0,\"#0d0887\"],[0.1111111111111111,\"#46039f\"],[0.2222222222222222,\"#7201a8\"],[0.3333333333333333,\"#9c179e\"],[0.4444444444444444,\"#bd3786\"],[0.5555555555555556,\"#d8576b\"],[0.6666666666666666,\"#ed7953\"],[0.7777777777777778,\"#fb9f3a\"],[0.8888888888888888,\"#fdca26\"],[1.0,\"#f0f921\"]]},\"colorway\":[\"#636efa\",\"#EF553B\",\"#00cc96\",\"#ab63fa\",\"#FFA15A\",\"#19d3f3\",\"#FF6692\",\"#B6E880\",\"#FF97FF\",\"#FECB52\"],\"font\":{\"color\":\"#2a3f5f\"},\"geo\":{\"bgcolor\":\"white\",\"lakecolor\":\"white\",\"landcolor\":\"#E5ECF6\",\"showlakes\":true,\"showland\":true,\"subunitcolor\":\"white\"},\"hoverlabel\":{\"align\":\"left\"},\"hovermode\":\"closest\",\"mapbox\":{\"style\":\"light\"},\"paper_bgcolor\":\"white\",\"plot_bgcolor\":\"#E5ECF6\",\"polar\":{\"angularaxis\":{\"gridcolor\":\"white\",\"linecolor\":\"white\",\"ticks\":\"\"},\"bgcolor\":\"#E5ECF6\",\"radialaxis\":{\"gridcolor\":\"white\",\"linecolor\":\"white\",\"ticks\":\"\"}},\"scene\":{\"xaxis\":{\"backgroundcolor\":\"#E5ECF6\",\"gridcolor\":\"white\",\"gridwidth\":2,\"linecolor\":\"white\",\"showbackground\":true,\"ticks\":\"\",\"zerolinecolor\":\"white\"},\"yaxis\":{\"backgroundcolor\":\"#E5ECF6\",\"gridcolor\":\"white\",\"gridwidth\":2,\"linecolor\":\"white\",\"showbackground\":true,\"ticks\":\"\",\"zerolinecolor\":\"white\"},\"zaxis\":{\"backgroundcolor\":\"#E5ECF6\",\"gridcolor\":\"white\",\"gridwidth\":2,\"linecolor\":\"white\",\"showbackground\":true,\"ticks\":\"\",\"zerolinecolor\":\"white\"}},\"shapedefaults\":{\"line\":{\"color\":\"#2a3f5f\"}},\"ternary\":{\"aaxis\":{\"gridcolor\":\"white\",\"linecolor\":\"white\",\"ticks\":\"\"},\"baxis\":{\"gridcolor\":\"white\",\"linecolor\":\"white\",\"ticks\":\"\"},\"bgcolor\":\"#E5ECF6\",\"caxis\":{\"gridcolor\":\"white\",\"linecolor\":\"white\",\"ticks\":\"\"}},\"title\":{\"x\":0.05},\"xaxis\":{\"automargin\":true,\"gridcolor\":\"white\",\"linecolor\":\"white\",\"ticks\":\"\",\"title\":{\"standoff\":15},\"zerolinecolor\":\"white\",\"zerolinewidth\":2},\"yaxis\":{\"automargin\":true,\"gridcolor\":\"white\",\"linecolor\":\"white\",\"ticks\":\"\",\"title\":{\"standoff\":15},\"zerolinecolor\":\"white\",\"zerolinewidth\":2}}},\"title\":{\"font\":{\"color\":\"#4D5663\"}},\"xaxis\":{\"gridcolor\":\"#E1E5ED\",\"showgrid\":true,\"tickfont\":{\"color\":\"#4D5663\"},\"title\":{\"font\":{\"color\":\"#4D5663\"},\"text\":\"\"},\"zerolinecolor\":\"#E1E5ED\"},\"yaxis\":{\"gridcolor\":\"#E1E5ED\",\"showgrid\":true,\"tickfont\":{\"color\":\"#4D5663\"},\"title\":{\"font\":{\"color\":\"#4D5663\"},\"text\":\"\"},\"zerolinecolor\":\"#E1E5ED\"}},                        {\"showLink\": true, \"linkText\": \"Export to plot.ly\", \"plotlyServerURL\": \"https://plot.ly\", \"responsive\": true}                    ).then(function(){\n",
       "                            \n",
       "var gd = document.getElementById('aea1a22f-6667-4dc4-bf7f-295b18fde4e3');\n",
       "var x = new MutationObserver(function (mutations, observer) {{\n",
       "        var display = window.getComputedStyle(gd).display;\n",
       "        if (!display || display === 'none') {{\n",
       "            console.log([gd, 'removed!']);\n",
       "            Plotly.purge(gd);\n",
       "            observer.disconnect();\n",
       "        }}\n",
       "}});\n",
       "\n",
       "// Listen for the removal of the full notebook cells\n",
       "var notebookContainer = gd.closest('#notebook-container');\n",
       "if (notebookContainer) {{\n",
       "    x.observe(notebookContainer, {childList: true});\n",
       "}}\n",
       "\n",
       "// Listen for the clearing of the current output cell\n",
       "var outputEl = gd.closest('.output');\n",
       "if (outputEl) {{\n",
       "    x.observe(outputEl, {childList: true});\n",
       "}}\n",
       "\n",
       "                        })                };                });            </script>        </div>"
      ]
     },
     "metadata": {},
     "output_type": "display_data"
    }
   ],
   "source": [
    "#Bubble\n",
    "df.iplot(kind='bubble',x='A',y='B',size='C')"
   ]
  },
  {
   "cell_type": "code",
   "execution_count": 19,
   "id": "3e812b0e",
   "metadata": {},
   "outputs": [
    {
     "data": {
      "application/vnd.plotly.v1+json": {
       "config": {
        "linkText": "Export to plot.ly",
        "plotlyServerURL": "https://plot.ly",
        "showLink": true
       },
       "data": [
        {
         "histfunc": "count",
         "histnorm": "",
         "marker": {
          "color": "rgba(255, 153, 51, 1.0)",
          "line": {
           "color": "#4D5663",
           "width": 1.3
          }
         },
         "name": "A",
         "nbinsx": 10,
         "opacity": 0.8,
         "orientation": "v",
         "type": "histogram",
         "x": [
          0.7524227622239249,
          -0.6487508694482285,
          -0.12276902469067315,
          -1.7956304294769236,
          -0.9799731504092138,
          1.3362874408281362,
          1.6300701479361905,
          1.893259976205648,
          1.102454540951155,
          -2.1450995701597635,
          -0.27791957658198363,
          0.5884301683993967,
          0.615111776799618,
          0.2015144223854086,
          2.1435623735574123,
          -1.4930470533502194,
          1.5356692790966953,
          -1.0229093074170883,
          0.1759924467352236,
          -0.5835389825445142,
          -1.5045905284820054,
          0.7121602950723773,
          0.027639743148447422,
          1.4899290306550939,
          2.7417157921905764,
          1.1071397111583028,
          0.1116141070140691,
          0.49478387791171435,
          0.09675256767697327,
          2.1385303960269098,
          -0.6690582559318675,
          -0.0625705570795616,
          0.35924665837333947,
          0.03971910887051859,
          0.9831002494786435,
          0.9006490205825207,
          -0.9538509595822618,
          -0.20768454140825984,
          1.1296875020178823,
          0.061143301200641514,
          0.16916316503414763,
          -1.166564321780111,
          0.5891047687352472,
          0.793330260909169,
          -0.9834954995976098,
          0.6372477908713823,
          1.176628879265964,
          0.25097681343004324,
          1.656911627497132,
          1.179288445516592,
          -0.13271766438827634,
          0.3001113425006879,
          1.0101157978281166,
          -0.8957405536547673,
          0.7595712933512376,
          -0.5193778376546777,
          0.1423613502424884,
          -2.1021074624815883,
          0.33302496576488233,
          -0.16979628990295093,
          -0.9468499260465263,
          -0.8834558066344341,
          0.6230893758350854,
          -0.649993041546382,
          1.448657701803833,
          -0.8458526622516507,
          -0.0981429164294889,
          -0.5936239908790261,
          -0.385848432532634,
          -1.3735488390101918,
          -1.0056553057412447,
          -1.26730052140875,
          0.6556464292500415,
          -0.1334056210776524,
          -0.5853856257269497,
          0.6067943948542077,
          -0.9524477619805134,
          0.8256890188080714,
          -0.38544439397462416,
          -0.09760326316560804,
          -1.162915585696774,
          -0.38799627732569153,
          0.9711969001992721,
          1.6523680779276493,
          -1.8045995945136548,
          0.8692706779303185,
          0.2982140066126374,
          -2.232879857099527,
          0.271029852610972,
          -0.45240581774251093,
          0.9318810556623758,
          -0.26768715861225206,
          -1.1455708825858975,
          1.8683283454304598,
          0.8573275444364243,
          1.3325036587822003,
          2.599708051322223,
          2.5408176068246195,
          0.24426027282740315,
          1.9126990659987366
         ],
         "xaxis": "x",
         "yaxis": "y"
        },
        {
         "line": {
          "color": "rgba(128, 128, 128, 1.0)",
          "dash": "solid",
          "shape": "linear",
          "width": 1.3
         },
         "marker": {
          "size": 2,
          "symbol": "circle"
         },
         "mode": "markers",
         "name": "A",
         "text": "",
         "type": "scatter",
         "x": [
          -0.14411142071418448,
          0.4543383861726146,
          -0.7083109717970135,
          1.0903842538507134,
          -0.9618951277509531,
          0.7910225125160179,
          -0.09170042656156237,
          1.2065985419544019,
          0.5554298383945874,
          1.2392441562349639,
          -0.10418607581733894,
          -1.5962761205932277,
          -0.6726747533058741,
          0.40019099429991684,
          0.35184677700579475,
          -0.24545355294518686,
          1.6395704390094321,
          0.14405723113709348,
          0.3926952588678192,
          0.3654074215407099,
          -0.7681215022777197,
          -1.4062832714563236,
          -1.2546410580879253,
          0.18550467761114373,
          -0.8431939326081225,
          -2.06963127321301,
          1.48658934053319,
          -1.3326252323447432,
          -0.56726203886916,
          0.1361568603876222,
          0.6083662168232864,
          -0.09910069096383518,
          1.0820082378249034,
          0.31019928685403797,
          -0.731073676798277,
          0.040732192306421416,
          -0.8107107612338843,
          1.4173142860072543,
          -0.27584483581014213,
          2.5355035017244085,
          1.3112730058506958,
          -0.41427195107802095,
          -0.1741073227349552,
          1.6087551847409967,
          -0.9134078520482416,
          0.1136295862603745,
          0.17373761739318422,
          0.808462558759177,
          -2.1897539132033033,
          0.08330649712203049,
          0.8248180483876241,
          -0.40453200043901594,
          -0.4694871922459325,
          0.6698077464337866,
          0.3565346365704142,
          0.12869804689699224,
          0.67017515921362,
          0.5360783407567321,
          -0.2917074199552538,
          0.4365141785381166,
          0.6105572925783977,
          0.9734497641828365,
          1.4562443431718226,
          -0.4981857939219861,
          -0.9386690265452898,
          1.7311316676972948,
          -0.6298966613647587,
          0.815225989591915,
          -0.4602572673509436,
          -0.9150007309938142,
          0.10863252084373735,
          1.1729531883979405,
          -1.631017696238814,
          -1.8496504257349287,
          0.17950210460028163,
          0.9682133702319166,
          -1.484707530253836,
          -1.639085276989806,
          0.40140816264697965,
          0.6390331364973107,
          1.2323156584101398,
          2.162752863112274,
          1.1815167591012996,
          -1.9852722873734716,
          -1.0431001767275785,
          -1.279261507190979,
          -1.411883001080788,
          0.6140936180273153,
          -1.2851155395037284,
          -0.42350457709057093,
          -0.2271241069058536,
          -2.1592081055400807,
          -0.6316189001075955,
          0.490315679755434,
          -0.6518997189531053,
          -0.10202977067303974,
          0.8948687383146906,
          0.24313123575142453,
          -0.10391921868855766,
          0.7618133728978007
         ],
         "xaxis": "x2",
         "y": [
          0.7524227622239249,
          -0.6487508694482285,
          -0.12276902469067315,
          -1.7956304294769236,
          -0.9799731504092138,
          1.3362874408281362,
          1.6300701479361905,
          1.893259976205648,
          1.102454540951155,
          -2.1450995701597635,
          -0.27791957658198363,
          0.5884301683993967,
          0.615111776799618,
          0.2015144223854086,
          2.1435623735574123,
          -1.4930470533502194,
          1.5356692790966953,
          -1.0229093074170883,
          0.1759924467352236,
          -0.5835389825445142,
          -1.5045905284820054,
          0.7121602950723773,
          0.027639743148447422,
          1.4899290306550939,
          2.7417157921905764,
          1.1071397111583028,
          0.1116141070140691,
          0.49478387791171435,
          0.09675256767697327,
          2.1385303960269098,
          -0.6690582559318675,
          -0.0625705570795616,
          0.35924665837333947,
          0.03971910887051859,
          0.9831002494786435,
          0.9006490205825207,
          -0.9538509595822618,
          -0.20768454140825984,
          1.1296875020178823,
          0.061143301200641514,
          0.16916316503414763,
          -1.166564321780111,
          0.5891047687352472,
          0.793330260909169,
          -0.9834954995976098,
          0.6372477908713823,
          1.176628879265964,
          0.25097681343004324,
          1.656911627497132,
          1.179288445516592,
          -0.13271766438827634,
          0.3001113425006879,
          1.0101157978281166,
          -0.8957405536547673,
          0.7595712933512376,
          -0.5193778376546777,
          0.1423613502424884,
          -2.1021074624815883,
          0.33302496576488233,
          -0.16979628990295093,
          -0.9468499260465263,
          -0.8834558066344341,
          0.6230893758350854,
          -0.649993041546382,
          1.448657701803833,
          -0.8458526622516507,
          -0.0981429164294889,
          -0.5936239908790261,
          -0.385848432532634,
          -1.3735488390101918,
          -1.0056553057412447,
          -1.26730052140875,
          0.6556464292500415,
          -0.1334056210776524,
          -0.5853856257269497,
          0.6067943948542077,
          -0.9524477619805134,
          0.8256890188080714,
          -0.38544439397462416,
          -0.09760326316560804,
          -1.162915585696774,
          -0.38799627732569153,
          0.9711969001992721,
          1.6523680779276493,
          -1.8045995945136548,
          0.8692706779303185,
          0.2982140066126374,
          -2.232879857099527,
          0.271029852610972,
          -0.45240581774251093,
          0.9318810556623758,
          -0.26768715861225206,
          -1.1455708825858975,
          1.8683283454304598,
          0.8573275444364243,
          1.3325036587822003,
          2.599708051322223,
          2.5408176068246195,
          0.24426027282740315,
          1.9126990659987366
         ],
         "yaxis": "y2"
        },
        {
         "line": {
          "color": "rgba(128, 128, 128, 1.0)",
          "dash": "solid",
          "shape": "linear",
          "width": 1.3
         },
         "marker": {
          "size": 2,
          "symbol": "circle"
         },
         "mode": "markers",
         "name": "A",
         "text": "",
         "type": "scatter",
         "x": [
          1.305013536467514,
          -1.42535470765432,
          -0.12604113800944422,
          -1.48294028151399,
          -1.524921453966342,
          -0.5001396586077944,
          0.9663594848222418,
          0.6511632211392434,
          1.2680562169430485,
          0.38578439429421557,
          0.5948018303689191,
          -1.1486200699604603,
          0.18266163250939058,
          0.8820540564297727,
          -0.24497020377414525,
          0.025594545763943804,
          0.12869585390591737,
          0.32142737960936585,
          -0.050387034257378685,
          -0.334310650000316,
          0.22099012296039902,
          0.7966918812019385,
          -1.8672512456999801,
          0.9320048080127644,
          0.45018206948666273,
          0.9428787760376252,
          -1.3737807738819845,
          0.8315192343611962,
          0.6912197955804958,
          1.7722529173107047,
          -1.8766564316157268,
          0.4573995287753774,
          0.2640895583425982,
          -0.07785549272185156,
          -2.165729817573907,
          -1.237526212398555,
          -1.0128233349217224,
          -0.8386553327108263,
          -1.1369503186573282,
          1.5351188890422152,
          -1.379901191652556,
          0.10140996016831537,
          1.7651260380058793,
          0.18010736037245792,
          -0.6083695023874888,
          1.2067994728795954,
          0.4916312019935608,
          -1.1545406480393758,
          -1.604204214745099,
          -0.7988062547947758,
          1.6134360527825156,
          0.7648888859158497,
          -0.3129062452567959,
          0.9834626468593414,
          1.1132841728809684,
          0.8569404529255602,
          -0.9969600565737744,
          -0.19061421718370442,
          0.49459276857565976,
          -1.3557839268561214,
          0.18585644198419426,
          0.17575848935819968,
          0.07385563415515443,
          -2.0111013420485704,
          -0.1450443563724643,
          -0.17829109324925918,
          -0.10534795960111619,
          1.1640546289995994,
          0.044219694769802365,
          0.2501051062167861,
          0.7550480431034529,
          -1.8383251520794013,
          0.9060834010968599,
          -0.8790522337087745,
          -1.3445913589928218,
          0.38799898723469833,
          -1.1778874444502483,
          -0.010612373003847918,
          -0.7129127509935006,
          -1.2918209551292188,
          -1.592624367200515,
          -0.2602964600542373,
          -0.4710181079301098,
          -1.6549395511165124,
          0.050982258805437185,
          0.7781629925706114,
          0.7596015165039246,
          0.4086283918127778,
          1.0038304937754987,
          0.4528236588677294,
          0.8922440211325979,
          0.4895309999077554,
          -0.2809943324827049,
          -0.2715467430678329,
          -0.08030487095646313,
          0.530441125757145,
          -0.04033073393472941,
          0.008113269410795433,
          1.493067032951811,
          0.9209224832222817
         ],
         "xaxis": "x3",
         "y": [
          0.7524227622239249,
          -0.6487508694482285,
          -0.12276902469067315,
          -1.7956304294769236,
          -0.9799731504092138,
          1.3362874408281362,
          1.6300701479361905,
          1.893259976205648,
          1.102454540951155,
          -2.1450995701597635,
          -0.27791957658198363,
          0.5884301683993967,
          0.615111776799618,
          0.2015144223854086,
          2.1435623735574123,
          -1.4930470533502194,
          1.5356692790966953,
          -1.0229093074170883,
          0.1759924467352236,
          -0.5835389825445142,
          -1.5045905284820054,
          0.7121602950723773,
          0.027639743148447422,
          1.4899290306550939,
          2.7417157921905764,
          1.1071397111583028,
          0.1116141070140691,
          0.49478387791171435,
          0.09675256767697327,
          2.1385303960269098,
          -0.6690582559318675,
          -0.0625705570795616,
          0.35924665837333947,
          0.03971910887051859,
          0.9831002494786435,
          0.9006490205825207,
          -0.9538509595822618,
          -0.20768454140825984,
          1.1296875020178823,
          0.061143301200641514,
          0.16916316503414763,
          -1.166564321780111,
          0.5891047687352472,
          0.793330260909169,
          -0.9834954995976098,
          0.6372477908713823,
          1.176628879265964,
          0.25097681343004324,
          1.656911627497132,
          1.179288445516592,
          -0.13271766438827634,
          0.3001113425006879,
          1.0101157978281166,
          -0.8957405536547673,
          0.7595712933512376,
          -0.5193778376546777,
          0.1423613502424884,
          -2.1021074624815883,
          0.33302496576488233,
          -0.16979628990295093,
          -0.9468499260465263,
          -0.8834558066344341,
          0.6230893758350854,
          -0.649993041546382,
          1.448657701803833,
          -0.8458526622516507,
          -0.0981429164294889,
          -0.5936239908790261,
          -0.385848432532634,
          -1.3735488390101918,
          -1.0056553057412447,
          -1.26730052140875,
          0.6556464292500415,
          -0.1334056210776524,
          -0.5853856257269497,
          0.6067943948542077,
          -0.9524477619805134,
          0.8256890188080714,
          -0.38544439397462416,
          -0.09760326316560804,
          -1.162915585696774,
          -0.38799627732569153,
          0.9711969001992721,
          1.6523680779276493,
          -1.8045995945136548,
          0.8692706779303185,
          0.2982140066126374,
          -2.232879857099527,
          0.271029852610972,
          -0.45240581774251093,
          0.9318810556623758,
          -0.26768715861225206,
          -1.1455708825858975,
          1.8683283454304598,
          0.8573275444364243,
          1.3325036587822003,
          2.599708051322223,
          2.5408176068246195,
          0.24426027282740315,
          1.9126990659987366
         ],
         "yaxis": "y3"
        },
        {
         "line": {
          "color": "rgba(128, 128, 128, 1.0)",
          "dash": "solid",
          "shape": "linear",
          "width": 1.3
         },
         "marker": {
          "size": 2,
          "symbol": "circle"
         },
         "mode": "markers",
         "name": "A",
         "text": "",
         "type": "scatter",
         "x": [
          0.3054230738083809,
          1.1789013899075005,
          1.098021073503437,
          1.5512280632862248,
          -2.0949439421886207,
          -0.11363665601526601,
          0.7395114620876521,
          0.4477857131460393,
          0.9223742243093176,
          -1.077721376778996,
          -0.5484778158816865,
          -1.4691868746258816,
          1.4991774408058693,
          -0.40317001578517686,
          0.40315341799002097,
          -0.6713193679546652,
          -0.5089714916072127,
          -0.15034524373173602,
          1.0771028214664136,
          -0.48093701537607175,
          -1.0300234581011998,
          -0.8093034044191941,
          0.8620688961197059,
          0.49288406455008704,
          -0.4812786116314043,
          -0.4494076267675402,
          0.2967218210320583,
          0.2213746321191471,
          0.6509611090035058,
          1.6244901230062958,
          0.6404081217454802,
          -0.49459122247551535,
          -0.04491658595260175,
          1.0705693077055967,
          -0.8055313328239344,
          0.006036740985196447,
          1.1796302428983652,
          -0.4148101372785504,
          1.402274959609972,
          0.5175474904029675,
          -1.1407129767053383,
          0.9464484951509217,
          0.7510066724113348,
          -1.2018892237795142,
          -2.524376737193402,
          -0.3540747956012334,
          -0.9928922123118572,
          2.6928156075338174,
          0.008305616944702885,
          -0.9890457437497764,
          1.4686464117253037,
          0.5804553535299848,
          -0.7067340857805501,
          0.8313774240925941,
          -0.9988803069071867,
          0.6209174780368496,
          0.17494713339245044,
          -1.0128812533315694,
          -0.38338884946158713,
          0.11785317920806535,
          -0.8844941537313951,
          0.7387029800154007,
          -0.7269738986645328,
          1.1641540207702687,
          1.541554995438241,
          -1.1061846525126717,
          -0.9666268322520456,
          1.644095779273358,
          -0.2859944093154943,
          0.0845312131984907,
          0.6440209479181911,
          0.44431312044641647,
          1.1071126459843645,
          0.3744018472490756,
          1.9489693486688506,
          2.1187884910969816,
          -0.6431291968014526,
          -0.5287506822288152,
          2.90859967493311,
          0.7124052403852407,
          -1.253920557757355,
          -2.1576032459715857,
          -0.8593191175675434,
          2.3206124233483627,
          -0.7452654586987822,
          0.7237418253648195,
          -0.4785650608077709,
          -0.5381946389685107,
          -1.3767333240213495,
          -0.6927653867972688,
          -0.21739281630230928,
          -0.14726466629852822,
          -1.7237093455267913,
          -1.3525520540261509,
          2.128864366455416,
          -0.4694671415443432,
          -0.3308872029680333,
          -2.746400553650332,
          1.0168288445610016,
          0.9478876345541277
         ],
         "xaxis": "x4",
         "y": [
          0.7524227622239249,
          -0.6487508694482285,
          -0.12276902469067315,
          -1.7956304294769236,
          -0.9799731504092138,
          1.3362874408281362,
          1.6300701479361905,
          1.893259976205648,
          1.102454540951155,
          -2.1450995701597635,
          -0.27791957658198363,
          0.5884301683993967,
          0.615111776799618,
          0.2015144223854086,
          2.1435623735574123,
          -1.4930470533502194,
          1.5356692790966953,
          -1.0229093074170883,
          0.1759924467352236,
          -0.5835389825445142,
          -1.5045905284820054,
          0.7121602950723773,
          0.027639743148447422,
          1.4899290306550939,
          2.7417157921905764,
          1.1071397111583028,
          0.1116141070140691,
          0.49478387791171435,
          0.09675256767697327,
          2.1385303960269098,
          -0.6690582559318675,
          -0.0625705570795616,
          0.35924665837333947,
          0.03971910887051859,
          0.9831002494786435,
          0.9006490205825207,
          -0.9538509595822618,
          -0.20768454140825984,
          1.1296875020178823,
          0.061143301200641514,
          0.16916316503414763,
          -1.166564321780111,
          0.5891047687352472,
          0.793330260909169,
          -0.9834954995976098,
          0.6372477908713823,
          1.176628879265964,
          0.25097681343004324,
          1.656911627497132,
          1.179288445516592,
          -0.13271766438827634,
          0.3001113425006879,
          1.0101157978281166,
          -0.8957405536547673,
          0.7595712933512376,
          -0.5193778376546777,
          0.1423613502424884,
          -2.1021074624815883,
          0.33302496576488233,
          -0.16979628990295093,
          -0.9468499260465263,
          -0.8834558066344341,
          0.6230893758350854,
          -0.649993041546382,
          1.448657701803833,
          -0.8458526622516507,
          -0.0981429164294889,
          -0.5936239908790261,
          -0.385848432532634,
          -1.3735488390101918,
          -1.0056553057412447,
          -1.26730052140875,
          0.6556464292500415,
          -0.1334056210776524,
          -0.5853856257269497,
          0.6067943948542077,
          -0.9524477619805134,
          0.8256890188080714,
          -0.38544439397462416,
          -0.09760326316560804,
          -1.162915585696774,
          -0.38799627732569153,
          0.9711969001992721,
          1.6523680779276493,
          -1.8045995945136548,
          0.8692706779303185,
          0.2982140066126374,
          -2.232879857099527,
          0.271029852610972,
          -0.45240581774251093,
          0.9318810556623758,
          -0.26768715861225206,
          -1.1455708825858975,
          1.8683283454304598,
          0.8573275444364243,
          1.3325036587822003,
          2.599708051322223,
          2.5408176068246195,
          0.24426027282740315,
          1.9126990659987366
         ],
         "yaxis": "y4"
        },
        {
         "line": {
          "color": "rgba(128, 128, 128, 1.0)",
          "dash": "solid",
          "shape": "linear",
          "width": 1.3
         },
         "marker": {
          "size": 2,
          "symbol": "circle"
         },
         "mode": "markers",
         "name": "B",
         "text": "",
         "type": "scatter",
         "x": [
          0.7524227622239249,
          -0.6487508694482285,
          -0.12276902469067315,
          -1.7956304294769236,
          -0.9799731504092138,
          1.3362874408281362,
          1.6300701479361905,
          1.893259976205648,
          1.102454540951155,
          -2.1450995701597635,
          -0.27791957658198363,
          0.5884301683993967,
          0.615111776799618,
          0.2015144223854086,
          2.1435623735574123,
          -1.4930470533502194,
          1.5356692790966953,
          -1.0229093074170883,
          0.1759924467352236,
          -0.5835389825445142,
          -1.5045905284820054,
          0.7121602950723773,
          0.027639743148447422,
          1.4899290306550939,
          2.7417157921905764,
          1.1071397111583028,
          0.1116141070140691,
          0.49478387791171435,
          0.09675256767697327,
          2.1385303960269098,
          -0.6690582559318675,
          -0.0625705570795616,
          0.35924665837333947,
          0.03971910887051859,
          0.9831002494786435,
          0.9006490205825207,
          -0.9538509595822618,
          -0.20768454140825984,
          1.1296875020178823,
          0.061143301200641514,
          0.16916316503414763,
          -1.166564321780111,
          0.5891047687352472,
          0.793330260909169,
          -0.9834954995976098,
          0.6372477908713823,
          1.176628879265964,
          0.25097681343004324,
          1.656911627497132,
          1.179288445516592,
          -0.13271766438827634,
          0.3001113425006879,
          1.0101157978281166,
          -0.8957405536547673,
          0.7595712933512376,
          -0.5193778376546777,
          0.1423613502424884,
          -2.1021074624815883,
          0.33302496576488233,
          -0.16979628990295093,
          -0.9468499260465263,
          -0.8834558066344341,
          0.6230893758350854,
          -0.649993041546382,
          1.448657701803833,
          -0.8458526622516507,
          -0.0981429164294889,
          -0.5936239908790261,
          -0.385848432532634,
          -1.3735488390101918,
          -1.0056553057412447,
          -1.26730052140875,
          0.6556464292500415,
          -0.1334056210776524,
          -0.5853856257269497,
          0.6067943948542077,
          -0.9524477619805134,
          0.8256890188080714,
          -0.38544439397462416,
          -0.09760326316560804,
          -1.162915585696774,
          -0.38799627732569153,
          0.9711969001992721,
          1.6523680779276493,
          -1.8045995945136548,
          0.8692706779303185,
          0.2982140066126374,
          -2.232879857099527,
          0.271029852610972,
          -0.45240581774251093,
          0.9318810556623758,
          -0.26768715861225206,
          -1.1455708825858975,
          1.8683283454304598,
          0.8573275444364243,
          1.3325036587822003,
          2.599708051322223,
          2.5408176068246195,
          0.24426027282740315,
          1.9126990659987366
         ],
         "xaxis": "x5",
         "y": [
          -0.14411142071418448,
          0.4543383861726146,
          -0.7083109717970135,
          1.0903842538507134,
          -0.9618951277509531,
          0.7910225125160179,
          -0.09170042656156237,
          1.2065985419544019,
          0.5554298383945874,
          1.2392441562349639,
          -0.10418607581733894,
          -1.5962761205932277,
          -0.6726747533058741,
          0.40019099429991684,
          0.35184677700579475,
          -0.24545355294518686,
          1.6395704390094321,
          0.14405723113709348,
          0.3926952588678192,
          0.3654074215407099,
          -0.7681215022777197,
          -1.4062832714563236,
          -1.2546410580879253,
          0.18550467761114373,
          -0.8431939326081225,
          -2.06963127321301,
          1.48658934053319,
          -1.3326252323447432,
          -0.56726203886916,
          0.1361568603876222,
          0.6083662168232864,
          -0.09910069096383518,
          1.0820082378249034,
          0.31019928685403797,
          -0.731073676798277,
          0.040732192306421416,
          -0.8107107612338843,
          1.4173142860072543,
          -0.27584483581014213,
          2.5355035017244085,
          1.3112730058506958,
          -0.41427195107802095,
          -0.1741073227349552,
          1.6087551847409967,
          -0.9134078520482416,
          0.1136295862603745,
          0.17373761739318422,
          0.808462558759177,
          -2.1897539132033033,
          0.08330649712203049,
          0.8248180483876241,
          -0.40453200043901594,
          -0.4694871922459325,
          0.6698077464337866,
          0.3565346365704142,
          0.12869804689699224,
          0.67017515921362,
          0.5360783407567321,
          -0.2917074199552538,
          0.4365141785381166,
          0.6105572925783977,
          0.9734497641828365,
          1.4562443431718226,
          -0.4981857939219861,
          -0.9386690265452898,
          1.7311316676972948,
          -0.6298966613647587,
          0.815225989591915,
          -0.4602572673509436,
          -0.9150007309938142,
          0.10863252084373735,
          1.1729531883979405,
          -1.631017696238814,
          -1.8496504257349287,
          0.17950210460028163,
          0.9682133702319166,
          -1.484707530253836,
          -1.639085276989806,
          0.40140816264697965,
          0.6390331364973107,
          1.2323156584101398,
          2.162752863112274,
          1.1815167591012996,
          -1.9852722873734716,
          -1.0431001767275785,
          -1.279261507190979,
          -1.411883001080788,
          0.6140936180273153,
          -1.2851155395037284,
          -0.42350457709057093,
          -0.2271241069058536,
          -2.1592081055400807,
          -0.6316189001075955,
          0.490315679755434,
          -0.6518997189531053,
          -0.10202977067303974,
          0.8948687383146906,
          0.24313123575142453,
          -0.10391921868855766,
          0.7618133728978007
         ],
         "yaxis": "y5"
        },
        {
         "histfunc": "count",
         "histnorm": "",
         "marker": {
          "color": "rgba(55, 128, 191, 1.0)",
          "line": {
           "color": "#4D5663",
           "width": 1.3
          }
         },
         "name": "B",
         "nbinsx": 10,
         "opacity": 0.8,
         "orientation": "v",
         "type": "histogram",
         "x": [
          -0.14411142071418448,
          0.4543383861726146,
          -0.7083109717970135,
          1.0903842538507134,
          -0.9618951277509531,
          0.7910225125160179,
          -0.09170042656156237,
          1.2065985419544019,
          0.5554298383945874,
          1.2392441562349639,
          -0.10418607581733894,
          -1.5962761205932277,
          -0.6726747533058741,
          0.40019099429991684,
          0.35184677700579475,
          -0.24545355294518686,
          1.6395704390094321,
          0.14405723113709348,
          0.3926952588678192,
          0.3654074215407099,
          -0.7681215022777197,
          -1.4062832714563236,
          -1.2546410580879253,
          0.18550467761114373,
          -0.8431939326081225,
          -2.06963127321301,
          1.48658934053319,
          -1.3326252323447432,
          -0.56726203886916,
          0.1361568603876222,
          0.6083662168232864,
          -0.09910069096383518,
          1.0820082378249034,
          0.31019928685403797,
          -0.731073676798277,
          0.040732192306421416,
          -0.8107107612338843,
          1.4173142860072543,
          -0.27584483581014213,
          2.5355035017244085,
          1.3112730058506958,
          -0.41427195107802095,
          -0.1741073227349552,
          1.6087551847409967,
          -0.9134078520482416,
          0.1136295862603745,
          0.17373761739318422,
          0.808462558759177,
          -2.1897539132033033,
          0.08330649712203049,
          0.8248180483876241,
          -0.40453200043901594,
          -0.4694871922459325,
          0.6698077464337866,
          0.3565346365704142,
          0.12869804689699224,
          0.67017515921362,
          0.5360783407567321,
          -0.2917074199552538,
          0.4365141785381166,
          0.6105572925783977,
          0.9734497641828365,
          1.4562443431718226,
          -0.4981857939219861,
          -0.9386690265452898,
          1.7311316676972948,
          -0.6298966613647587,
          0.815225989591915,
          -0.4602572673509436,
          -0.9150007309938142,
          0.10863252084373735,
          1.1729531883979405,
          -1.631017696238814,
          -1.8496504257349287,
          0.17950210460028163,
          0.9682133702319166,
          -1.484707530253836,
          -1.639085276989806,
          0.40140816264697965,
          0.6390331364973107,
          1.2323156584101398,
          2.162752863112274,
          1.1815167591012996,
          -1.9852722873734716,
          -1.0431001767275785,
          -1.279261507190979,
          -1.411883001080788,
          0.6140936180273153,
          -1.2851155395037284,
          -0.42350457709057093,
          -0.2271241069058536,
          -2.1592081055400807,
          -0.6316189001075955,
          0.490315679755434,
          -0.6518997189531053,
          -0.10202977067303974,
          0.8948687383146906,
          0.24313123575142453,
          -0.10391921868855766,
          0.7618133728978007
         ],
         "xaxis": "x6",
         "yaxis": "y6"
        },
        {
         "line": {
          "color": "rgba(128, 128, 128, 1.0)",
          "dash": "solid",
          "shape": "linear",
          "width": 1.3
         },
         "marker": {
          "size": 2,
          "symbol": "circle"
         },
         "mode": "markers",
         "name": "B",
         "text": "",
         "type": "scatter",
         "x": [
          1.305013536467514,
          -1.42535470765432,
          -0.12604113800944422,
          -1.48294028151399,
          -1.524921453966342,
          -0.5001396586077944,
          0.9663594848222418,
          0.6511632211392434,
          1.2680562169430485,
          0.38578439429421557,
          0.5948018303689191,
          -1.1486200699604603,
          0.18266163250939058,
          0.8820540564297727,
          -0.24497020377414525,
          0.025594545763943804,
          0.12869585390591737,
          0.32142737960936585,
          -0.050387034257378685,
          -0.334310650000316,
          0.22099012296039902,
          0.7966918812019385,
          -1.8672512456999801,
          0.9320048080127644,
          0.45018206948666273,
          0.9428787760376252,
          -1.3737807738819845,
          0.8315192343611962,
          0.6912197955804958,
          1.7722529173107047,
          -1.8766564316157268,
          0.4573995287753774,
          0.2640895583425982,
          -0.07785549272185156,
          -2.165729817573907,
          -1.237526212398555,
          -1.0128233349217224,
          -0.8386553327108263,
          -1.1369503186573282,
          1.5351188890422152,
          -1.379901191652556,
          0.10140996016831537,
          1.7651260380058793,
          0.18010736037245792,
          -0.6083695023874888,
          1.2067994728795954,
          0.4916312019935608,
          -1.1545406480393758,
          -1.604204214745099,
          -0.7988062547947758,
          1.6134360527825156,
          0.7648888859158497,
          -0.3129062452567959,
          0.9834626468593414,
          1.1132841728809684,
          0.8569404529255602,
          -0.9969600565737744,
          -0.19061421718370442,
          0.49459276857565976,
          -1.3557839268561214,
          0.18585644198419426,
          0.17575848935819968,
          0.07385563415515443,
          -2.0111013420485704,
          -0.1450443563724643,
          -0.17829109324925918,
          -0.10534795960111619,
          1.1640546289995994,
          0.044219694769802365,
          0.2501051062167861,
          0.7550480431034529,
          -1.8383251520794013,
          0.9060834010968599,
          -0.8790522337087745,
          -1.3445913589928218,
          0.38799898723469833,
          -1.1778874444502483,
          -0.010612373003847918,
          -0.7129127509935006,
          -1.2918209551292188,
          -1.592624367200515,
          -0.2602964600542373,
          -0.4710181079301098,
          -1.6549395511165124,
          0.050982258805437185,
          0.7781629925706114,
          0.7596015165039246,
          0.4086283918127778,
          1.0038304937754987,
          0.4528236588677294,
          0.8922440211325979,
          0.4895309999077554,
          -0.2809943324827049,
          -0.2715467430678329,
          -0.08030487095646313,
          0.530441125757145,
          -0.04033073393472941,
          0.008113269410795433,
          1.493067032951811,
          0.9209224832222817
         ],
         "xaxis": "x7",
         "y": [
          -0.14411142071418448,
          0.4543383861726146,
          -0.7083109717970135,
          1.0903842538507134,
          -0.9618951277509531,
          0.7910225125160179,
          -0.09170042656156237,
          1.2065985419544019,
          0.5554298383945874,
          1.2392441562349639,
          -0.10418607581733894,
          -1.5962761205932277,
          -0.6726747533058741,
          0.40019099429991684,
          0.35184677700579475,
          -0.24545355294518686,
          1.6395704390094321,
          0.14405723113709348,
          0.3926952588678192,
          0.3654074215407099,
          -0.7681215022777197,
          -1.4062832714563236,
          -1.2546410580879253,
          0.18550467761114373,
          -0.8431939326081225,
          -2.06963127321301,
          1.48658934053319,
          -1.3326252323447432,
          -0.56726203886916,
          0.1361568603876222,
          0.6083662168232864,
          -0.09910069096383518,
          1.0820082378249034,
          0.31019928685403797,
          -0.731073676798277,
          0.040732192306421416,
          -0.8107107612338843,
          1.4173142860072543,
          -0.27584483581014213,
          2.5355035017244085,
          1.3112730058506958,
          -0.41427195107802095,
          -0.1741073227349552,
          1.6087551847409967,
          -0.9134078520482416,
          0.1136295862603745,
          0.17373761739318422,
          0.808462558759177,
          -2.1897539132033033,
          0.08330649712203049,
          0.8248180483876241,
          -0.40453200043901594,
          -0.4694871922459325,
          0.6698077464337866,
          0.3565346365704142,
          0.12869804689699224,
          0.67017515921362,
          0.5360783407567321,
          -0.2917074199552538,
          0.4365141785381166,
          0.6105572925783977,
          0.9734497641828365,
          1.4562443431718226,
          -0.4981857939219861,
          -0.9386690265452898,
          1.7311316676972948,
          -0.6298966613647587,
          0.815225989591915,
          -0.4602572673509436,
          -0.9150007309938142,
          0.10863252084373735,
          1.1729531883979405,
          -1.631017696238814,
          -1.8496504257349287,
          0.17950210460028163,
          0.9682133702319166,
          -1.484707530253836,
          -1.639085276989806,
          0.40140816264697965,
          0.6390331364973107,
          1.2323156584101398,
          2.162752863112274,
          1.1815167591012996,
          -1.9852722873734716,
          -1.0431001767275785,
          -1.279261507190979,
          -1.411883001080788,
          0.6140936180273153,
          -1.2851155395037284,
          -0.42350457709057093,
          -0.2271241069058536,
          -2.1592081055400807,
          -0.6316189001075955,
          0.490315679755434,
          -0.6518997189531053,
          -0.10202977067303974,
          0.8948687383146906,
          0.24313123575142453,
          -0.10391921868855766,
          0.7618133728978007
         ],
         "yaxis": "y7"
        },
        {
         "line": {
          "color": "rgba(128, 128, 128, 1.0)",
          "dash": "solid",
          "shape": "linear",
          "width": 1.3
         },
         "marker": {
          "size": 2,
          "symbol": "circle"
         },
         "mode": "markers",
         "name": "B",
         "text": "",
         "type": "scatter",
         "x": [
          0.3054230738083809,
          1.1789013899075005,
          1.098021073503437,
          1.5512280632862248,
          -2.0949439421886207,
          -0.11363665601526601,
          0.7395114620876521,
          0.4477857131460393,
          0.9223742243093176,
          -1.077721376778996,
          -0.5484778158816865,
          -1.4691868746258816,
          1.4991774408058693,
          -0.40317001578517686,
          0.40315341799002097,
          -0.6713193679546652,
          -0.5089714916072127,
          -0.15034524373173602,
          1.0771028214664136,
          -0.48093701537607175,
          -1.0300234581011998,
          -0.8093034044191941,
          0.8620688961197059,
          0.49288406455008704,
          -0.4812786116314043,
          -0.4494076267675402,
          0.2967218210320583,
          0.2213746321191471,
          0.6509611090035058,
          1.6244901230062958,
          0.6404081217454802,
          -0.49459122247551535,
          -0.04491658595260175,
          1.0705693077055967,
          -0.8055313328239344,
          0.006036740985196447,
          1.1796302428983652,
          -0.4148101372785504,
          1.402274959609972,
          0.5175474904029675,
          -1.1407129767053383,
          0.9464484951509217,
          0.7510066724113348,
          -1.2018892237795142,
          -2.524376737193402,
          -0.3540747956012334,
          -0.9928922123118572,
          2.6928156075338174,
          0.008305616944702885,
          -0.9890457437497764,
          1.4686464117253037,
          0.5804553535299848,
          -0.7067340857805501,
          0.8313774240925941,
          -0.9988803069071867,
          0.6209174780368496,
          0.17494713339245044,
          -1.0128812533315694,
          -0.38338884946158713,
          0.11785317920806535,
          -0.8844941537313951,
          0.7387029800154007,
          -0.7269738986645328,
          1.1641540207702687,
          1.541554995438241,
          -1.1061846525126717,
          -0.9666268322520456,
          1.644095779273358,
          -0.2859944093154943,
          0.0845312131984907,
          0.6440209479181911,
          0.44431312044641647,
          1.1071126459843645,
          0.3744018472490756,
          1.9489693486688506,
          2.1187884910969816,
          -0.6431291968014526,
          -0.5287506822288152,
          2.90859967493311,
          0.7124052403852407,
          -1.253920557757355,
          -2.1576032459715857,
          -0.8593191175675434,
          2.3206124233483627,
          -0.7452654586987822,
          0.7237418253648195,
          -0.4785650608077709,
          -0.5381946389685107,
          -1.3767333240213495,
          -0.6927653867972688,
          -0.21739281630230928,
          -0.14726466629852822,
          -1.7237093455267913,
          -1.3525520540261509,
          2.128864366455416,
          -0.4694671415443432,
          -0.3308872029680333,
          -2.746400553650332,
          1.0168288445610016,
          0.9478876345541277
         ],
         "xaxis": "x8",
         "y": [
          -0.14411142071418448,
          0.4543383861726146,
          -0.7083109717970135,
          1.0903842538507134,
          -0.9618951277509531,
          0.7910225125160179,
          -0.09170042656156237,
          1.2065985419544019,
          0.5554298383945874,
          1.2392441562349639,
          -0.10418607581733894,
          -1.5962761205932277,
          -0.6726747533058741,
          0.40019099429991684,
          0.35184677700579475,
          -0.24545355294518686,
          1.6395704390094321,
          0.14405723113709348,
          0.3926952588678192,
          0.3654074215407099,
          -0.7681215022777197,
          -1.4062832714563236,
          -1.2546410580879253,
          0.18550467761114373,
          -0.8431939326081225,
          -2.06963127321301,
          1.48658934053319,
          -1.3326252323447432,
          -0.56726203886916,
          0.1361568603876222,
          0.6083662168232864,
          -0.09910069096383518,
          1.0820082378249034,
          0.31019928685403797,
          -0.731073676798277,
          0.040732192306421416,
          -0.8107107612338843,
          1.4173142860072543,
          -0.27584483581014213,
          2.5355035017244085,
          1.3112730058506958,
          -0.41427195107802095,
          -0.1741073227349552,
          1.6087551847409967,
          -0.9134078520482416,
          0.1136295862603745,
          0.17373761739318422,
          0.808462558759177,
          -2.1897539132033033,
          0.08330649712203049,
          0.8248180483876241,
          -0.40453200043901594,
          -0.4694871922459325,
          0.6698077464337866,
          0.3565346365704142,
          0.12869804689699224,
          0.67017515921362,
          0.5360783407567321,
          -0.2917074199552538,
          0.4365141785381166,
          0.6105572925783977,
          0.9734497641828365,
          1.4562443431718226,
          -0.4981857939219861,
          -0.9386690265452898,
          1.7311316676972948,
          -0.6298966613647587,
          0.815225989591915,
          -0.4602572673509436,
          -0.9150007309938142,
          0.10863252084373735,
          1.1729531883979405,
          -1.631017696238814,
          -1.8496504257349287,
          0.17950210460028163,
          0.9682133702319166,
          -1.484707530253836,
          -1.639085276989806,
          0.40140816264697965,
          0.6390331364973107,
          1.2323156584101398,
          2.162752863112274,
          1.1815167591012996,
          -1.9852722873734716,
          -1.0431001767275785,
          -1.279261507190979,
          -1.411883001080788,
          0.6140936180273153,
          -1.2851155395037284,
          -0.42350457709057093,
          -0.2271241069058536,
          -2.1592081055400807,
          -0.6316189001075955,
          0.490315679755434,
          -0.6518997189531053,
          -0.10202977067303974,
          0.8948687383146906,
          0.24313123575142453,
          -0.10391921868855766,
          0.7618133728978007
         ],
         "yaxis": "y8"
        },
        {
         "line": {
          "color": "rgba(128, 128, 128, 1.0)",
          "dash": "solid",
          "shape": "linear",
          "width": 1.3
         },
         "marker": {
          "size": 2,
          "symbol": "circle"
         },
         "mode": "markers",
         "name": "C",
         "text": "",
         "type": "scatter",
         "x": [
          0.7524227622239249,
          -0.6487508694482285,
          -0.12276902469067315,
          -1.7956304294769236,
          -0.9799731504092138,
          1.3362874408281362,
          1.6300701479361905,
          1.893259976205648,
          1.102454540951155,
          -2.1450995701597635,
          -0.27791957658198363,
          0.5884301683993967,
          0.615111776799618,
          0.2015144223854086,
          2.1435623735574123,
          -1.4930470533502194,
          1.5356692790966953,
          -1.0229093074170883,
          0.1759924467352236,
          -0.5835389825445142,
          -1.5045905284820054,
          0.7121602950723773,
          0.027639743148447422,
          1.4899290306550939,
          2.7417157921905764,
          1.1071397111583028,
          0.1116141070140691,
          0.49478387791171435,
          0.09675256767697327,
          2.1385303960269098,
          -0.6690582559318675,
          -0.0625705570795616,
          0.35924665837333947,
          0.03971910887051859,
          0.9831002494786435,
          0.9006490205825207,
          -0.9538509595822618,
          -0.20768454140825984,
          1.1296875020178823,
          0.061143301200641514,
          0.16916316503414763,
          -1.166564321780111,
          0.5891047687352472,
          0.793330260909169,
          -0.9834954995976098,
          0.6372477908713823,
          1.176628879265964,
          0.25097681343004324,
          1.656911627497132,
          1.179288445516592,
          -0.13271766438827634,
          0.3001113425006879,
          1.0101157978281166,
          -0.8957405536547673,
          0.7595712933512376,
          -0.5193778376546777,
          0.1423613502424884,
          -2.1021074624815883,
          0.33302496576488233,
          -0.16979628990295093,
          -0.9468499260465263,
          -0.8834558066344341,
          0.6230893758350854,
          -0.649993041546382,
          1.448657701803833,
          -0.8458526622516507,
          -0.0981429164294889,
          -0.5936239908790261,
          -0.385848432532634,
          -1.3735488390101918,
          -1.0056553057412447,
          -1.26730052140875,
          0.6556464292500415,
          -0.1334056210776524,
          -0.5853856257269497,
          0.6067943948542077,
          -0.9524477619805134,
          0.8256890188080714,
          -0.38544439397462416,
          -0.09760326316560804,
          -1.162915585696774,
          -0.38799627732569153,
          0.9711969001992721,
          1.6523680779276493,
          -1.8045995945136548,
          0.8692706779303185,
          0.2982140066126374,
          -2.232879857099527,
          0.271029852610972,
          -0.45240581774251093,
          0.9318810556623758,
          -0.26768715861225206,
          -1.1455708825858975,
          1.8683283454304598,
          0.8573275444364243,
          1.3325036587822003,
          2.599708051322223,
          2.5408176068246195,
          0.24426027282740315,
          1.9126990659987366
         ],
         "xaxis": "x9",
         "y": [
          1.305013536467514,
          -1.42535470765432,
          -0.12604113800944422,
          -1.48294028151399,
          -1.524921453966342,
          -0.5001396586077944,
          0.9663594848222418,
          0.6511632211392434,
          1.2680562169430485,
          0.38578439429421557,
          0.5948018303689191,
          -1.1486200699604603,
          0.18266163250939058,
          0.8820540564297727,
          -0.24497020377414525,
          0.025594545763943804,
          0.12869585390591737,
          0.32142737960936585,
          -0.050387034257378685,
          -0.334310650000316,
          0.22099012296039902,
          0.7966918812019385,
          -1.8672512456999801,
          0.9320048080127644,
          0.45018206948666273,
          0.9428787760376252,
          -1.3737807738819845,
          0.8315192343611962,
          0.6912197955804958,
          1.7722529173107047,
          -1.8766564316157268,
          0.4573995287753774,
          0.2640895583425982,
          -0.07785549272185156,
          -2.165729817573907,
          -1.237526212398555,
          -1.0128233349217224,
          -0.8386553327108263,
          -1.1369503186573282,
          1.5351188890422152,
          -1.379901191652556,
          0.10140996016831537,
          1.7651260380058793,
          0.18010736037245792,
          -0.6083695023874888,
          1.2067994728795954,
          0.4916312019935608,
          -1.1545406480393758,
          -1.604204214745099,
          -0.7988062547947758,
          1.6134360527825156,
          0.7648888859158497,
          -0.3129062452567959,
          0.9834626468593414,
          1.1132841728809684,
          0.8569404529255602,
          -0.9969600565737744,
          -0.19061421718370442,
          0.49459276857565976,
          -1.3557839268561214,
          0.18585644198419426,
          0.17575848935819968,
          0.07385563415515443,
          -2.0111013420485704,
          -0.1450443563724643,
          -0.17829109324925918,
          -0.10534795960111619,
          1.1640546289995994,
          0.044219694769802365,
          0.2501051062167861,
          0.7550480431034529,
          -1.8383251520794013,
          0.9060834010968599,
          -0.8790522337087745,
          -1.3445913589928218,
          0.38799898723469833,
          -1.1778874444502483,
          -0.010612373003847918,
          -0.7129127509935006,
          -1.2918209551292188,
          -1.592624367200515,
          -0.2602964600542373,
          -0.4710181079301098,
          -1.6549395511165124,
          0.050982258805437185,
          0.7781629925706114,
          0.7596015165039246,
          0.4086283918127778,
          1.0038304937754987,
          0.4528236588677294,
          0.8922440211325979,
          0.4895309999077554,
          -0.2809943324827049,
          -0.2715467430678329,
          -0.08030487095646313,
          0.530441125757145,
          -0.04033073393472941,
          0.008113269410795433,
          1.493067032951811,
          0.9209224832222817
         ],
         "yaxis": "y9"
        },
        {
         "line": {
          "color": "rgba(128, 128, 128, 1.0)",
          "dash": "solid",
          "shape": "linear",
          "width": 1.3
         },
         "marker": {
          "size": 2,
          "symbol": "circle"
         },
         "mode": "markers",
         "name": "C",
         "text": "",
         "type": "scatter",
         "x": [
          -0.14411142071418448,
          0.4543383861726146,
          -0.7083109717970135,
          1.0903842538507134,
          -0.9618951277509531,
          0.7910225125160179,
          -0.09170042656156237,
          1.2065985419544019,
          0.5554298383945874,
          1.2392441562349639,
          -0.10418607581733894,
          -1.5962761205932277,
          -0.6726747533058741,
          0.40019099429991684,
          0.35184677700579475,
          -0.24545355294518686,
          1.6395704390094321,
          0.14405723113709348,
          0.3926952588678192,
          0.3654074215407099,
          -0.7681215022777197,
          -1.4062832714563236,
          -1.2546410580879253,
          0.18550467761114373,
          -0.8431939326081225,
          -2.06963127321301,
          1.48658934053319,
          -1.3326252323447432,
          -0.56726203886916,
          0.1361568603876222,
          0.6083662168232864,
          -0.09910069096383518,
          1.0820082378249034,
          0.31019928685403797,
          -0.731073676798277,
          0.040732192306421416,
          -0.8107107612338843,
          1.4173142860072543,
          -0.27584483581014213,
          2.5355035017244085,
          1.3112730058506958,
          -0.41427195107802095,
          -0.1741073227349552,
          1.6087551847409967,
          -0.9134078520482416,
          0.1136295862603745,
          0.17373761739318422,
          0.808462558759177,
          -2.1897539132033033,
          0.08330649712203049,
          0.8248180483876241,
          -0.40453200043901594,
          -0.4694871922459325,
          0.6698077464337866,
          0.3565346365704142,
          0.12869804689699224,
          0.67017515921362,
          0.5360783407567321,
          -0.2917074199552538,
          0.4365141785381166,
          0.6105572925783977,
          0.9734497641828365,
          1.4562443431718226,
          -0.4981857939219861,
          -0.9386690265452898,
          1.7311316676972948,
          -0.6298966613647587,
          0.815225989591915,
          -0.4602572673509436,
          -0.9150007309938142,
          0.10863252084373735,
          1.1729531883979405,
          -1.631017696238814,
          -1.8496504257349287,
          0.17950210460028163,
          0.9682133702319166,
          -1.484707530253836,
          -1.639085276989806,
          0.40140816264697965,
          0.6390331364973107,
          1.2323156584101398,
          2.162752863112274,
          1.1815167591012996,
          -1.9852722873734716,
          -1.0431001767275785,
          -1.279261507190979,
          -1.411883001080788,
          0.6140936180273153,
          -1.2851155395037284,
          -0.42350457709057093,
          -0.2271241069058536,
          -2.1592081055400807,
          -0.6316189001075955,
          0.490315679755434,
          -0.6518997189531053,
          -0.10202977067303974,
          0.8948687383146906,
          0.24313123575142453,
          -0.10391921868855766,
          0.7618133728978007
         ],
         "xaxis": "x10",
         "y": [
          1.305013536467514,
          -1.42535470765432,
          -0.12604113800944422,
          -1.48294028151399,
          -1.524921453966342,
          -0.5001396586077944,
          0.9663594848222418,
          0.6511632211392434,
          1.2680562169430485,
          0.38578439429421557,
          0.5948018303689191,
          -1.1486200699604603,
          0.18266163250939058,
          0.8820540564297727,
          -0.24497020377414525,
          0.025594545763943804,
          0.12869585390591737,
          0.32142737960936585,
          -0.050387034257378685,
          -0.334310650000316,
          0.22099012296039902,
          0.7966918812019385,
          -1.8672512456999801,
          0.9320048080127644,
          0.45018206948666273,
          0.9428787760376252,
          -1.3737807738819845,
          0.8315192343611962,
          0.6912197955804958,
          1.7722529173107047,
          -1.8766564316157268,
          0.4573995287753774,
          0.2640895583425982,
          -0.07785549272185156,
          -2.165729817573907,
          -1.237526212398555,
          -1.0128233349217224,
          -0.8386553327108263,
          -1.1369503186573282,
          1.5351188890422152,
          -1.379901191652556,
          0.10140996016831537,
          1.7651260380058793,
          0.18010736037245792,
          -0.6083695023874888,
          1.2067994728795954,
          0.4916312019935608,
          -1.1545406480393758,
          -1.604204214745099,
          -0.7988062547947758,
          1.6134360527825156,
          0.7648888859158497,
          -0.3129062452567959,
          0.9834626468593414,
          1.1132841728809684,
          0.8569404529255602,
          -0.9969600565737744,
          -0.19061421718370442,
          0.49459276857565976,
          -1.3557839268561214,
          0.18585644198419426,
          0.17575848935819968,
          0.07385563415515443,
          -2.0111013420485704,
          -0.1450443563724643,
          -0.17829109324925918,
          -0.10534795960111619,
          1.1640546289995994,
          0.044219694769802365,
          0.2501051062167861,
          0.7550480431034529,
          -1.8383251520794013,
          0.9060834010968599,
          -0.8790522337087745,
          -1.3445913589928218,
          0.38799898723469833,
          -1.1778874444502483,
          -0.010612373003847918,
          -0.7129127509935006,
          -1.2918209551292188,
          -1.592624367200515,
          -0.2602964600542373,
          -0.4710181079301098,
          -1.6549395511165124,
          0.050982258805437185,
          0.7781629925706114,
          0.7596015165039246,
          0.4086283918127778,
          1.0038304937754987,
          0.4528236588677294,
          0.8922440211325979,
          0.4895309999077554,
          -0.2809943324827049,
          -0.2715467430678329,
          -0.08030487095646313,
          0.530441125757145,
          -0.04033073393472941,
          0.008113269410795433,
          1.493067032951811,
          0.9209224832222817
         ],
         "yaxis": "y10"
        },
        {
         "histfunc": "count",
         "histnorm": "",
         "marker": {
          "color": "rgba(50, 171, 96, 1.0)",
          "line": {
           "color": "#4D5663",
           "width": 1.3
          }
         },
         "name": "C",
         "nbinsx": 10,
         "opacity": 0.8,
         "orientation": "v",
         "type": "histogram",
         "x": [
          1.305013536467514,
          -1.42535470765432,
          -0.12604113800944422,
          -1.48294028151399,
          -1.524921453966342,
          -0.5001396586077944,
          0.9663594848222418,
          0.6511632211392434,
          1.2680562169430485,
          0.38578439429421557,
          0.5948018303689191,
          -1.1486200699604603,
          0.18266163250939058,
          0.8820540564297727,
          -0.24497020377414525,
          0.025594545763943804,
          0.12869585390591737,
          0.32142737960936585,
          -0.050387034257378685,
          -0.334310650000316,
          0.22099012296039902,
          0.7966918812019385,
          -1.8672512456999801,
          0.9320048080127644,
          0.45018206948666273,
          0.9428787760376252,
          -1.3737807738819845,
          0.8315192343611962,
          0.6912197955804958,
          1.7722529173107047,
          -1.8766564316157268,
          0.4573995287753774,
          0.2640895583425982,
          -0.07785549272185156,
          -2.165729817573907,
          -1.237526212398555,
          -1.0128233349217224,
          -0.8386553327108263,
          -1.1369503186573282,
          1.5351188890422152,
          -1.379901191652556,
          0.10140996016831537,
          1.7651260380058793,
          0.18010736037245792,
          -0.6083695023874888,
          1.2067994728795954,
          0.4916312019935608,
          -1.1545406480393758,
          -1.604204214745099,
          -0.7988062547947758,
          1.6134360527825156,
          0.7648888859158497,
          -0.3129062452567959,
          0.9834626468593414,
          1.1132841728809684,
          0.8569404529255602,
          -0.9969600565737744,
          -0.19061421718370442,
          0.49459276857565976,
          -1.3557839268561214,
          0.18585644198419426,
          0.17575848935819968,
          0.07385563415515443,
          -2.0111013420485704,
          -0.1450443563724643,
          -0.17829109324925918,
          -0.10534795960111619,
          1.1640546289995994,
          0.044219694769802365,
          0.2501051062167861,
          0.7550480431034529,
          -1.8383251520794013,
          0.9060834010968599,
          -0.8790522337087745,
          -1.3445913589928218,
          0.38799898723469833,
          -1.1778874444502483,
          -0.010612373003847918,
          -0.7129127509935006,
          -1.2918209551292188,
          -1.592624367200515,
          -0.2602964600542373,
          -0.4710181079301098,
          -1.6549395511165124,
          0.050982258805437185,
          0.7781629925706114,
          0.7596015165039246,
          0.4086283918127778,
          1.0038304937754987,
          0.4528236588677294,
          0.8922440211325979,
          0.4895309999077554,
          -0.2809943324827049,
          -0.2715467430678329,
          -0.08030487095646313,
          0.530441125757145,
          -0.04033073393472941,
          0.008113269410795433,
          1.493067032951811,
          0.9209224832222817
         ],
         "xaxis": "x11",
         "yaxis": "y11"
        },
        {
         "line": {
          "color": "rgba(128, 128, 128, 1.0)",
          "dash": "solid",
          "shape": "linear",
          "width": 1.3
         },
         "marker": {
          "size": 2,
          "symbol": "circle"
         },
         "mode": "markers",
         "name": "C",
         "text": "",
         "type": "scatter",
         "x": [
          0.3054230738083809,
          1.1789013899075005,
          1.098021073503437,
          1.5512280632862248,
          -2.0949439421886207,
          -0.11363665601526601,
          0.7395114620876521,
          0.4477857131460393,
          0.9223742243093176,
          -1.077721376778996,
          -0.5484778158816865,
          -1.4691868746258816,
          1.4991774408058693,
          -0.40317001578517686,
          0.40315341799002097,
          -0.6713193679546652,
          -0.5089714916072127,
          -0.15034524373173602,
          1.0771028214664136,
          -0.48093701537607175,
          -1.0300234581011998,
          -0.8093034044191941,
          0.8620688961197059,
          0.49288406455008704,
          -0.4812786116314043,
          -0.4494076267675402,
          0.2967218210320583,
          0.2213746321191471,
          0.6509611090035058,
          1.6244901230062958,
          0.6404081217454802,
          -0.49459122247551535,
          -0.04491658595260175,
          1.0705693077055967,
          -0.8055313328239344,
          0.006036740985196447,
          1.1796302428983652,
          -0.4148101372785504,
          1.402274959609972,
          0.5175474904029675,
          -1.1407129767053383,
          0.9464484951509217,
          0.7510066724113348,
          -1.2018892237795142,
          -2.524376737193402,
          -0.3540747956012334,
          -0.9928922123118572,
          2.6928156075338174,
          0.008305616944702885,
          -0.9890457437497764,
          1.4686464117253037,
          0.5804553535299848,
          -0.7067340857805501,
          0.8313774240925941,
          -0.9988803069071867,
          0.6209174780368496,
          0.17494713339245044,
          -1.0128812533315694,
          -0.38338884946158713,
          0.11785317920806535,
          -0.8844941537313951,
          0.7387029800154007,
          -0.7269738986645328,
          1.1641540207702687,
          1.541554995438241,
          -1.1061846525126717,
          -0.9666268322520456,
          1.644095779273358,
          -0.2859944093154943,
          0.0845312131984907,
          0.6440209479181911,
          0.44431312044641647,
          1.1071126459843645,
          0.3744018472490756,
          1.9489693486688506,
          2.1187884910969816,
          -0.6431291968014526,
          -0.5287506822288152,
          2.90859967493311,
          0.7124052403852407,
          -1.253920557757355,
          -2.1576032459715857,
          -0.8593191175675434,
          2.3206124233483627,
          -0.7452654586987822,
          0.7237418253648195,
          -0.4785650608077709,
          -0.5381946389685107,
          -1.3767333240213495,
          -0.6927653867972688,
          -0.21739281630230928,
          -0.14726466629852822,
          -1.7237093455267913,
          -1.3525520540261509,
          2.128864366455416,
          -0.4694671415443432,
          -0.3308872029680333,
          -2.746400553650332,
          1.0168288445610016,
          0.9478876345541277
         ],
         "xaxis": "x12",
         "y": [
          1.305013536467514,
          -1.42535470765432,
          -0.12604113800944422,
          -1.48294028151399,
          -1.524921453966342,
          -0.5001396586077944,
          0.9663594848222418,
          0.6511632211392434,
          1.2680562169430485,
          0.38578439429421557,
          0.5948018303689191,
          -1.1486200699604603,
          0.18266163250939058,
          0.8820540564297727,
          -0.24497020377414525,
          0.025594545763943804,
          0.12869585390591737,
          0.32142737960936585,
          -0.050387034257378685,
          -0.334310650000316,
          0.22099012296039902,
          0.7966918812019385,
          -1.8672512456999801,
          0.9320048080127644,
          0.45018206948666273,
          0.9428787760376252,
          -1.3737807738819845,
          0.8315192343611962,
          0.6912197955804958,
          1.7722529173107047,
          -1.8766564316157268,
          0.4573995287753774,
          0.2640895583425982,
          -0.07785549272185156,
          -2.165729817573907,
          -1.237526212398555,
          -1.0128233349217224,
          -0.8386553327108263,
          -1.1369503186573282,
          1.5351188890422152,
          -1.379901191652556,
          0.10140996016831537,
          1.7651260380058793,
          0.18010736037245792,
          -0.6083695023874888,
          1.2067994728795954,
          0.4916312019935608,
          -1.1545406480393758,
          -1.604204214745099,
          -0.7988062547947758,
          1.6134360527825156,
          0.7648888859158497,
          -0.3129062452567959,
          0.9834626468593414,
          1.1132841728809684,
          0.8569404529255602,
          -0.9969600565737744,
          -0.19061421718370442,
          0.49459276857565976,
          -1.3557839268561214,
          0.18585644198419426,
          0.17575848935819968,
          0.07385563415515443,
          -2.0111013420485704,
          -0.1450443563724643,
          -0.17829109324925918,
          -0.10534795960111619,
          1.1640546289995994,
          0.044219694769802365,
          0.2501051062167861,
          0.7550480431034529,
          -1.8383251520794013,
          0.9060834010968599,
          -0.8790522337087745,
          -1.3445913589928218,
          0.38799898723469833,
          -1.1778874444502483,
          -0.010612373003847918,
          -0.7129127509935006,
          -1.2918209551292188,
          -1.592624367200515,
          -0.2602964600542373,
          -0.4710181079301098,
          -1.6549395511165124,
          0.050982258805437185,
          0.7781629925706114,
          0.7596015165039246,
          0.4086283918127778,
          1.0038304937754987,
          0.4528236588677294,
          0.8922440211325979,
          0.4895309999077554,
          -0.2809943324827049,
          -0.2715467430678329,
          -0.08030487095646313,
          0.530441125757145,
          -0.04033073393472941,
          0.008113269410795433,
          1.493067032951811,
          0.9209224832222817
         ],
         "yaxis": "y12"
        },
        {
         "line": {
          "color": "rgba(128, 128, 128, 1.0)",
          "dash": "solid",
          "shape": "linear",
          "width": 1.3
         },
         "marker": {
          "size": 2,
          "symbol": "circle"
         },
         "mode": "markers",
         "name": "D",
         "text": "",
         "type": "scatter",
         "x": [
          0.7524227622239249,
          -0.6487508694482285,
          -0.12276902469067315,
          -1.7956304294769236,
          -0.9799731504092138,
          1.3362874408281362,
          1.6300701479361905,
          1.893259976205648,
          1.102454540951155,
          -2.1450995701597635,
          -0.27791957658198363,
          0.5884301683993967,
          0.615111776799618,
          0.2015144223854086,
          2.1435623735574123,
          -1.4930470533502194,
          1.5356692790966953,
          -1.0229093074170883,
          0.1759924467352236,
          -0.5835389825445142,
          -1.5045905284820054,
          0.7121602950723773,
          0.027639743148447422,
          1.4899290306550939,
          2.7417157921905764,
          1.1071397111583028,
          0.1116141070140691,
          0.49478387791171435,
          0.09675256767697327,
          2.1385303960269098,
          -0.6690582559318675,
          -0.0625705570795616,
          0.35924665837333947,
          0.03971910887051859,
          0.9831002494786435,
          0.9006490205825207,
          -0.9538509595822618,
          -0.20768454140825984,
          1.1296875020178823,
          0.061143301200641514,
          0.16916316503414763,
          -1.166564321780111,
          0.5891047687352472,
          0.793330260909169,
          -0.9834954995976098,
          0.6372477908713823,
          1.176628879265964,
          0.25097681343004324,
          1.656911627497132,
          1.179288445516592,
          -0.13271766438827634,
          0.3001113425006879,
          1.0101157978281166,
          -0.8957405536547673,
          0.7595712933512376,
          -0.5193778376546777,
          0.1423613502424884,
          -2.1021074624815883,
          0.33302496576488233,
          -0.16979628990295093,
          -0.9468499260465263,
          -0.8834558066344341,
          0.6230893758350854,
          -0.649993041546382,
          1.448657701803833,
          -0.8458526622516507,
          -0.0981429164294889,
          -0.5936239908790261,
          -0.385848432532634,
          -1.3735488390101918,
          -1.0056553057412447,
          -1.26730052140875,
          0.6556464292500415,
          -0.1334056210776524,
          -0.5853856257269497,
          0.6067943948542077,
          -0.9524477619805134,
          0.8256890188080714,
          -0.38544439397462416,
          -0.09760326316560804,
          -1.162915585696774,
          -0.38799627732569153,
          0.9711969001992721,
          1.6523680779276493,
          -1.8045995945136548,
          0.8692706779303185,
          0.2982140066126374,
          -2.232879857099527,
          0.271029852610972,
          -0.45240581774251093,
          0.9318810556623758,
          -0.26768715861225206,
          -1.1455708825858975,
          1.8683283454304598,
          0.8573275444364243,
          1.3325036587822003,
          2.599708051322223,
          2.5408176068246195,
          0.24426027282740315,
          1.9126990659987366
         ],
         "xaxis": "x13",
         "y": [
          0.3054230738083809,
          1.1789013899075005,
          1.098021073503437,
          1.5512280632862248,
          -2.0949439421886207,
          -0.11363665601526601,
          0.7395114620876521,
          0.4477857131460393,
          0.9223742243093176,
          -1.077721376778996,
          -0.5484778158816865,
          -1.4691868746258816,
          1.4991774408058693,
          -0.40317001578517686,
          0.40315341799002097,
          -0.6713193679546652,
          -0.5089714916072127,
          -0.15034524373173602,
          1.0771028214664136,
          -0.48093701537607175,
          -1.0300234581011998,
          -0.8093034044191941,
          0.8620688961197059,
          0.49288406455008704,
          -0.4812786116314043,
          -0.4494076267675402,
          0.2967218210320583,
          0.2213746321191471,
          0.6509611090035058,
          1.6244901230062958,
          0.6404081217454802,
          -0.49459122247551535,
          -0.04491658595260175,
          1.0705693077055967,
          -0.8055313328239344,
          0.006036740985196447,
          1.1796302428983652,
          -0.4148101372785504,
          1.402274959609972,
          0.5175474904029675,
          -1.1407129767053383,
          0.9464484951509217,
          0.7510066724113348,
          -1.2018892237795142,
          -2.524376737193402,
          -0.3540747956012334,
          -0.9928922123118572,
          2.6928156075338174,
          0.008305616944702885,
          -0.9890457437497764,
          1.4686464117253037,
          0.5804553535299848,
          -0.7067340857805501,
          0.8313774240925941,
          -0.9988803069071867,
          0.6209174780368496,
          0.17494713339245044,
          -1.0128812533315694,
          -0.38338884946158713,
          0.11785317920806535,
          -0.8844941537313951,
          0.7387029800154007,
          -0.7269738986645328,
          1.1641540207702687,
          1.541554995438241,
          -1.1061846525126717,
          -0.9666268322520456,
          1.644095779273358,
          -0.2859944093154943,
          0.0845312131984907,
          0.6440209479181911,
          0.44431312044641647,
          1.1071126459843645,
          0.3744018472490756,
          1.9489693486688506,
          2.1187884910969816,
          -0.6431291968014526,
          -0.5287506822288152,
          2.90859967493311,
          0.7124052403852407,
          -1.253920557757355,
          -2.1576032459715857,
          -0.8593191175675434,
          2.3206124233483627,
          -0.7452654586987822,
          0.7237418253648195,
          -0.4785650608077709,
          -0.5381946389685107,
          -1.3767333240213495,
          -0.6927653867972688,
          -0.21739281630230928,
          -0.14726466629852822,
          -1.7237093455267913,
          -1.3525520540261509,
          2.128864366455416,
          -0.4694671415443432,
          -0.3308872029680333,
          -2.746400553650332,
          1.0168288445610016,
          0.9478876345541277
         ],
         "yaxis": "y13"
        },
        {
         "line": {
          "color": "rgba(128, 128, 128, 1.0)",
          "dash": "solid",
          "shape": "linear",
          "width": 1.3
         },
         "marker": {
          "size": 2,
          "symbol": "circle"
         },
         "mode": "markers",
         "name": "D",
         "text": "",
         "type": "scatter",
         "x": [
          -0.14411142071418448,
          0.4543383861726146,
          -0.7083109717970135,
          1.0903842538507134,
          -0.9618951277509531,
          0.7910225125160179,
          -0.09170042656156237,
          1.2065985419544019,
          0.5554298383945874,
          1.2392441562349639,
          -0.10418607581733894,
          -1.5962761205932277,
          -0.6726747533058741,
          0.40019099429991684,
          0.35184677700579475,
          -0.24545355294518686,
          1.6395704390094321,
          0.14405723113709348,
          0.3926952588678192,
          0.3654074215407099,
          -0.7681215022777197,
          -1.4062832714563236,
          -1.2546410580879253,
          0.18550467761114373,
          -0.8431939326081225,
          -2.06963127321301,
          1.48658934053319,
          -1.3326252323447432,
          -0.56726203886916,
          0.1361568603876222,
          0.6083662168232864,
          -0.09910069096383518,
          1.0820082378249034,
          0.31019928685403797,
          -0.731073676798277,
          0.040732192306421416,
          -0.8107107612338843,
          1.4173142860072543,
          -0.27584483581014213,
          2.5355035017244085,
          1.3112730058506958,
          -0.41427195107802095,
          -0.1741073227349552,
          1.6087551847409967,
          -0.9134078520482416,
          0.1136295862603745,
          0.17373761739318422,
          0.808462558759177,
          -2.1897539132033033,
          0.08330649712203049,
          0.8248180483876241,
          -0.40453200043901594,
          -0.4694871922459325,
          0.6698077464337866,
          0.3565346365704142,
          0.12869804689699224,
          0.67017515921362,
          0.5360783407567321,
          -0.2917074199552538,
          0.4365141785381166,
          0.6105572925783977,
          0.9734497641828365,
          1.4562443431718226,
          -0.4981857939219861,
          -0.9386690265452898,
          1.7311316676972948,
          -0.6298966613647587,
          0.815225989591915,
          -0.4602572673509436,
          -0.9150007309938142,
          0.10863252084373735,
          1.1729531883979405,
          -1.631017696238814,
          -1.8496504257349287,
          0.17950210460028163,
          0.9682133702319166,
          -1.484707530253836,
          -1.639085276989806,
          0.40140816264697965,
          0.6390331364973107,
          1.2323156584101398,
          2.162752863112274,
          1.1815167591012996,
          -1.9852722873734716,
          -1.0431001767275785,
          -1.279261507190979,
          -1.411883001080788,
          0.6140936180273153,
          -1.2851155395037284,
          -0.42350457709057093,
          -0.2271241069058536,
          -2.1592081055400807,
          -0.6316189001075955,
          0.490315679755434,
          -0.6518997189531053,
          -0.10202977067303974,
          0.8948687383146906,
          0.24313123575142453,
          -0.10391921868855766,
          0.7618133728978007
         ],
         "xaxis": "x14",
         "y": [
          0.3054230738083809,
          1.1789013899075005,
          1.098021073503437,
          1.5512280632862248,
          -2.0949439421886207,
          -0.11363665601526601,
          0.7395114620876521,
          0.4477857131460393,
          0.9223742243093176,
          -1.077721376778996,
          -0.5484778158816865,
          -1.4691868746258816,
          1.4991774408058693,
          -0.40317001578517686,
          0.40315341799002097,
          -0.6713193679546652,
          -0.5089714916072127,
          -0.15034524373173602,
          1.0771028214664136,
          -0.48093701537607175,
          -1.0300234581011998,
          -0.8093034044191941,
          0.8620688961197059,
          0.49288406455008704,
          -0.4812786116314043,
          -0.4494076267675402,
          0.2967218210320583,
          0.2213746321191471,
          0.6509611090035058,
          1.6244901230062958,
          0.6404081217454802,
          -0.49459122247551535,
          -0.04491658595260175,
          1.0705693077055967,
          -0.8055313328239344,
          0.006036740985196447,
          1.1796302428983652,
          -0.4148101372785504,
          1.402274959609972,
          0.5175474904029675,
          -1.1407129767053383,
          0.9464484951509217,
          0.7510066724113348,
          -1.2018892237795142,
          -2.524376737193402,
          -0.3540747956012334,
          -0.9928922123118572,
          2.6928156075338174,
          0.008305616944702885,
          -0.9890457437497764,
          1.4686464117253037,
          0.5804553535299848,
          -0.7067340857805501,
          0.8313774240925941,
          -0.9988803069071867,
          0.6209174780368496,
          0.17494713339245044,
          -1.0128812533315694,
          -0.38338884946158713,
          0.11785317920806535,
          -0.8844941537313951,
          0.7387029800154007,
          -0.7269738986645328,
          1.1641540207702687,
          1.541554995438241,
          -1.1061846525126717,
          -0.9666268322520456,
          1.644095779273358,
          -0.2859944093154943,
          0.0845312131984907,
          0.6440209479181911,
          0.44431312044641647,
          1.1071126459843645,
          0.3744018472490756,
          1.9489693486688506,
          2.1187884910969816,
          -0.6431291968014526,
          -0.5287506822288152,
          2.90859967493311,
          0.7124052403852407,
          -1.253920557757355,
          -2.1576032459715857,
          -0.8593191175675434,
          2.3206124233483627,
          -0.7452654586987822,
          0.7237418253648195,
          -0.4785650608077709,
          -0.5381946389685107,
          -1.3767333240213495,
          -0.6927653867972688,
          -0.21739281630230928,
          -0.14726466629852822,
          -1.7237093455267913,
          -1.3525520540261509,
          2.128864366455416,
          -0.4694671415443432,
          -0.3308872029680333,
          -2.746400553650332,
          1.0168288445610016,
          0.9478876345541277
         ],
         "yaxis": "y14"
        },
        {
         "line": {
          "color": "rgba(128, 128, 128, 1.0)",
          "dash": "solid",
          "shape": "linear",
          "width": 1.3
         },
         "marker": {
          "size": 2,
          "symbol": "circle"
         },
         "mode": "markers",
         "name": "D",
         "text": "",
         "type": "scatter",
         "x": [
          1.305013536467514,
          -1.42535470765432,
          -0.12604113800944422,
          -1.48294028151399,
          -1.524921453966342,
          -0.5001396586077944,
          0.9663594848222418,
          0.6511632211392434,
          1.2680562169430485,
          0.38578439429421557,
          0.5948018303689191,
          -1.1486200699604603,
          0.18266163250939058,
          0.8820540564297727,
          -0.24497020377414525,
          0.025594545763943804,
          0.12869585390591737,
          0.32142737960936585,
          -0.050387034257378685,
          -0.334310650000316,
          0.22099012296039902,
          0.7966918812019385,
          -1.8672512456999801,
          0.9320048080127644,
          0.45018206948666273,
          0.9428787760376252,
          -1.3737807738819845,
          0.8315192343611962,
          0.6912197955804958,
          1.7722529173107047,
          -1.8766564316157268,
          0.4573995287753774,
          0.2640895583425982,
          -0.07785549272185156,
          -2.165729817573907,
          -1.237526212398555,
          -1.0128233349217224,
          -0.8386553327108263,
          -1.1369503186573282,
          1.5351188890422152,
          -1.379901191652556,
          0.10140996016831537,
          1.7651260380058793,
          0.18010736037245792,
          -0.6083695023874888,
          1.2067994728795954,
          0.4916312019935608,
          -1.1545406480393758,
          -1.604204214745099,
          -0.7988062547947758,
          1.6134360527825156,
          0.7648888859158497,
          -0.3129062452567959,
          0.9834626468593414,
          1.1132841728809684,
          0.8569404529255602,
          -0.9969600565737744,
          -0.19061421718370442,
          0.49459276857565976,
          -1.3557839268561214,
          0.18585644198419426,
          0.17575848935819968,
          0.07385563415515443,
          -2.0111013420485704,
          -0.1450443563724643,
          -0.17829109324925918,
          -0.10534795960111619,
          1.1640546289995994,
          0.044219694769802365,
          0.2501051062167861,
          0.7550480431034529,
          -1.8383251520794013,
          0.9060834010968599,
          -0.8790522337087745,
          -1.3445913589928218,
          0.38799898723469833,
          -1.1778874444502483,
          -0.010612373003847918,
          -0.7129127509935006,
          -1.2918209551292188,
          -1.592624367200515,
          -0.2602964600542373,
          -0.4710181079301098,
          -1.6549395511165124,
          0.050982258805437185,
          0.7781629925706114,
          0.7596015165039246,
          0.4086283918127778,
          1.0038304937754987,
          0.4528236588677294,
          0.8922440211325979,
          0.4895309999077554,
          -0.2809943324827049,
          -0.2715467430678329,
          -0.08030487095646313,
          0.530441125757145,
          -0.04033073393472941,
          0.008113269410795433,
          1.493067032951811,
          0.9209224832222817
         ],
         "xaxis": "x15",
         "y": [
          0.3054230738083809,
          1.1789013899075005,
          1.098021073503437,
          1.5512280632862248,
          -2.0949439421886207,
          -0.11363665601526601,
          0.7395114620876521,
          0.4477857131460393,
          0.9223742243093176,
          -1.077721376778996,
          -0.5484778158816865,
          -1.4691868746258816,
          1.4991774408058693,
          -0.40317001578517686,
          0.40315341799002097,
          -0.6713193679546652,
          -0.5089714916072127,
          -0.15034524373173602,
          1.0771028214664136,
          -0.48093701537607175,
          -1.0300234581011998,
          -0.8093034044191941,
          0.8620688961197059,
          0.49288406455008704,
          -0.4812786116314043,
          -0.4494076267675402,
          0.2967218210320583,
          0.2213746321191471,
          0.6509611090035058,
          1.6244901230062958,
          0.6404081217454802,
          -0.49459122247551535,
          -0.04491658595260175,
          1.0705693077055967,
          -0.8055313328239344,
          0.006036740985196447,
          1.1796302428983652,
          -0.4148101372785504,
          1.402274959609972,
          0.5175474904029675,
          -1.1407129767053383,
          0.9464484951509217,
          0.7510066724113348,
          -1.2018892237795142,
          -2.524376737193402,
          -0.3540747956012334,
          -0.9928922123118572,
          2.6928156075338174,
          0.008305616944702885,
          -0.9890457437497764,
          1.4686464117253037,
          0.5804553535299848,
          -0.7067340857805501,
          0.8313774240925941,
          -0.9988803069071867,
          0.6209174780368496,
          0.17494713339245044,
          -1.0128812533315694,
          -0.38338884946158713,
          0.11785317920806535,
          -0.8844941537313951,
          0.7387029800154007,
          -0.7269738986645328,
          1.1641540207702687,
          1.541554995438241,
          -1.1061846525126717,
          -0.9666268322520456,
          1.644095779273358,
          -0.2859944093154943,
          0.0845312131984907,
          0.6440209479181911,
          0.44431312044641647,
          1.1071126459843645,
          0.3744018472490756,
          1.9489693486688506,
          2.1187884910969816,
          -0.6431291968014526,
          -0.5287506822288152,
          2.90859967493311,
          0.7124052403852407,
          -1.253920557757355,
          -2.1576032459715857,
          -0.8593191175675434,
          2.3206124233483627,
          -0.7452654586987822,
          0.7237418253648195,
          -0.4785650608077709,
          -0.5381946389685107,
          -1.3767333240213495,
          -0.6927653867972688,
          -0.21739281630230928,
          -0.14726466629852822,
          -1.7237093455267913,
          -1.3525520540261509,
          2.128864366455416,
          -0.4694671415443432,
          -0.3308872029680333,
          -2.746400553650332,
          1.0168288445610016,
          0.9478876345541277
         ],
         "yaxis": "y15"
        },
        {
         "histfunc": "count",
         "histnorm": "",
         "marker": {
          "color": "rgba(128, 0, 128, 1.0)",
          "line": {
           "color": "#4D5663",
           "width": 1.3
          }
         },
         "name": "D",
         "nbinsx": 10,
         "opacity": 0.8,
         "orientation": "v",
         "type": "histogram",
         "x": [
          0.3054230738083809,
          1.1789013899075005,
          1.098021073503437,
          1.5512280632862248,
          -2.0949439421886207,
          -0.11363665601526601,
          0.7395114620876521,
          0.4477857131460393,
          0.9223742243093176,
          -1.077721376778996,
          -0.5484778158816865,
          -1.4691868746258816,
          1.4991774408058693,
          -0.40317001578517686,
          0.40315341799002097,
          -0.6713193679546652,
          -0.5089714916072127,
          -0.15034524373173602,
          1.0771028214664136,
          -0.48093701537607175,
          -1.0300234581011998,
          -0.8093034044191941,
          0.8620688961197059,
          0.49288406455008704,
          -0.4812786116314043,
          -0.4494076267675402,
          0.2967218210320583,
          0.2213746321191471,
          0.6509611090035058,
          1.6244901230062958,
          0.6404081217454802,
          -0.49459122247551535,
          -0.04491658595260175,
          1.0705693077055967,
          -0.8055313328239344,
          0.006036740985196447,
          1.1796302428983652,
          -0.4148101372785504,
          1.402274959609972,
          0.5175474904029675,
          -1.1407129767053383,
          0.9464484951509217,
          0.7510066724113348,
          -1.2018892237795142,
          -2.524376737193402,
          -0.3540747956012334,
          -0.9928922123118572,
          2.6928156075338174,
          0.008305616944702885,
          -0.9890457437497764,
          1.4686464117253037,
          0.5804553535299848,
          -0.7067340857805501,
          0.8313774240925941,
          -0.9988803069071867,
          0.6209174780368496,
          0.17494713339245044,
          -1.0128812533315694,
          -0.38338884946158713,
          0.11785317920806535,
          -0.8844941537313951,
          0.7387029800154007,
          -0.7269738986645328,
          1.1641540207702687,
          1.541554995438241,
          -1.1061846525126717,
          -0.9666268322520456,
          1.644095779273358,
          -0.2859944093154943,
          0.0845312131984907,
          0.6440209479181911,
          0.44431312044641647,
          1.1071126459843645,
          0.3744018472490756,
          1.9489693486688506,
          2.1187884910969816,
          -0.6431291968014526,
          -0.5287506822288152,
          2.90859967493311,
          0.7124052403852407,
          -1.253920557757355,
          -2.1576032459715857,
          -0.8593191175675434,
          2.3206124233483627,
          -0.7452654586987822,
          0.7237418253648195,
          -0.4785650608077709,
          -0.5381946389685107,
          -1.3767333240213495,
          -0.6927653867972688,
          -0.21739281630230928,
          -0.14726466629852822,
          -1.7237093455267913,
          -1.3525520540261509,
          2.128864366455416,
          -0.4694671415443432,
          -0.3308872029680333,
          -2.746400553650332,
          1.0168288445610016,
          0.9478876345541277
         ],
         "xaxis": "x16",
         "yaxis": "y16"
        }
       ],
       "layout": {
        "bargap": 0.02,
        "legend": {
         "bgcolor": "#F5F6F9",
         "font": {
          "color": "#4D5663"
         }
        },
        "paper_bgcolor": "#F5F6F9",
        "plot_bgcolor": "#F5F6F9",
        "showlegend": false,
        "template": {
         "data": {
          "bar": [
           {
            "error_x": {
             "color": "#2a3f5f"
            },
            "error_y": {
             "color": "#2a3f5f"
            },
            "marker": {
             "line": {
              "color": "#E5ECF6",
              "width": 0.5
             },
             "pattern": {
              "fillmode": "overlay",
              "size": 10,
              "solidity": 0.2
             }
            },
            "type": "bar"
           }
          ],
          "barpolar": [
           {
            "marker": {
             "line": {
              "color": "#E5ECF6",
              "width": 0.5
             },
             "pattern": {
              "fillmode": "overlay",
              "size": 10,
              "solidity": 0.2
             }
            },
            "type": "barpolar"
           }
          ],
          "carpet": [
           {
            "aaxis": {
             "endlinecolor": "#2a3f5f",
             "gridcolor": "white",
             "linecolor": "white",
             "minorgridcolor": "white",
             "startlinecolor": "#2a3f5f"
            },
            "baxis": {
             "endlinecolor": "#2a3f5f",
             "gridcolor": "white",
             "linecolor": "white",
             "minorgridcolor": "white",
             "startlinecolor": "#2a3f5f"
            },
            "type": "carpet"
           }
          ],
          "choropleth": [
           {
            "colorbar": {
             "outlinewidth": 0,
             "ticks": ""
            },
            "type": "choropleth"
           }
          ],
          "contour": [
           {
            "colorbar": {
             "outlinewidth": 0,
             "ticks": ""
            },
            "colorscale": [
             [
              0,
              "#0d0887"
             ],
             [
              0.1111111111111111,
              "#46039f"
             ],
             [
              0.2222222222222222,
              "#7201a8"
             ],
             [
              0.3333333333333333,
              "#9c179e"
             ],
             [
              0.4444444444444444,
              "#bd3786"
             ],
             [
              0.5555555555555556,
              "#d8576b"
             ],
             [
              0.6666666666666666,
              "#ed7953"
             ],
             [
              0.7777777777777778,
              "#fb9f3a"
             ],
             [
              0.8888888888888888,
              "#fdca26"
             ],
             [
              1,
              "#f0f921"
             ]
            ],
            "type": "contour"
           }
          ],
          "contourcarpet": [
           {
            "colorbar": {
             "outlinewidth": 0,
             "ticks": ""
            },
            "type": "contourcarpet"
           }
          ],
          "heatmap": [
           {
            "colorbar": {
             "outlinewidth": 0,
             "ticks": ""
            },
            "colorscale": [
             [
              0,
              "#0d0887"
             ],
             [
              0.1111111111111111,
              "#46039f"
             ],
             [
              0.2222222222222222,
              "#7201a8"
             ],
             [
              0.3333333333333333,
              "#9c179e"
             ],
             [
              0.4444444444444444,
              "#bd3786"
             ],
             [
              0.5555555555555556,
              "#d8576b"
             ],
             [
              0.6666666666666666,
              "#ed7953"
             ],
             [
              0.7777777777777778,
              "#fb9f3a"
             ],
             [
              0.8888888888888888,
              "#fdca26"
             ],
             [
              1,
              "#f0f921"
             ]
            ],
            "type": "heatmap"
           }
          ],
          "heatmapgl": [
           {
            "colorbar": {
             "outlinewidth": 0,
             "ticks": ""
            },
            "colorscale": [
             [
              0,
              "#0d0887"
             ],
             [
              0.1111111111111111,
              "#46039f"
             ],
             [
              0.2222222222222222,
              "#7201a8"
             ],
             [
              0.3333333333333333,
              "#9c179e"
             ],
             [
              0.4444444444444444,
              "#bd3786"
             ],
             [
              0.5555555555555556,
              "#d8576b"
             ],
             [
              0.6666666666666666,
              "#ed7953"
             ],
             [
              0.7777777777777778,
              "#fb9f3a"
             ],
             [
              0.8888888888888888,
              "#fdca26"
             ],
             [
              1,
              "#f0f921"
             ]
            ],
            "type": "heatmapgl"
           }
          ],
          "histogram": [
           {
            "marker": {
             "pattern": {
              "fillmode": "overlay",
              "size": 10,
              "solidity": 0.2
             }
            },
            "type": "histogram"
           }
          ],
          "histogram2d": [
           {
            "colorbar": {
             "outlinewidth": 0,
             "ticks": ""
            },
            "colorscale": [
             [
              0,
              "#0d0887"
             ],
             [
              0.1111111111111111,
              "#46039f"
             ],
             [
              0.2222222222222222,
              "#7201a8"
             ],
             [
              0.3333333333333333,
              "#9c179e"
             ],
             [
              0.4444444444444444,
              "#bd3786"
             ],
             [
              0.5555555555555556,
              "#d8576b"
             ],
             [
              0.6666666666666666,
              "#ed7953"
             ],
             [
              0.7777777777777778,
              "#fb9f3a"
             ],
             [
              0.8888888888888888,
              "#fdca26"
             ],
             [
              1,
              "#f0f921"
             ]
            ],
            "type": "histogram2d"
           }
          ],
          "histogram2dcontour": [
           {
            "colorbar": {
             "outlinewidth": 0,
             "ticks": ""
            },
            "colorscale": [
             [
              0,
              "#0d0887"
             ],
             [
              0.1111111111111111,
              "#46039f"
             ],
             [
              0.2222222222222222,
              "#7201a8"
             ],
             [
              0.3333333333333333,
              "#9c179e"
             ],
             [
              0.4444444444444444,
              "#bd3786"
             ],
             [
              0.5555555555555556,
              "#d8576b"
             ],
             [
              0.6666666666666666,
              "#ed7953"
             ],
             [
              0.7777777777777778,
              "#fb9f3a"
             ],
             [
              0.8888888888888888,
              "#fdca26"
             ],
             [
              1,
              "#f0f921"
             ]
            ],
            "type": "histogram2dcontour"
           }
          ],
          "mesh3d": [
           {
            "colorbar": {
             "outlinewidth": 0,
             "ticks": ""
            },
            "type": "mesh3d"
           }
          ],
          "parcoords": [
           {
            "line": {
             "colorbar": {
              "outlinewidth": 0,
              "ticks": ""
             }
            },
            "type": "parcoords"
           }
          ],
          "pie": [
           {
            "automargin": true,
            "type": "pie"
           }
          ],
          "scatter": [
           {
            "fillpattern": {
             "fillmode": "overlay",
             "size": 10,
             "solidity": 0.2
            },
            "type": "scatter"
           }
          ],
          "scatter3d": [
           {
            "line": {
             "colorbar": {
              "outlinewidth": 0,
              "ticks": ""
             }
            },
            "marker": {
             "colorbar": {
              "outlinewidth": 0,
              "ticks": ""
             }
            },
            "type": "scatter3d"
           }
          ],
          "scattercarpet": [
           {
            "marker": {
             "colorbar": {
              "outlinewidth": 0,
              "ticks": ""
             }
            },
            "type": "scattercarpet"
           }
          ],
          "scattergeo": [
           {
            "marker": {
             "colorbar": {
              "outlinewidth": 0,
              "ticks": ""
             }
            },
            "type": "scattergeo"
           }
          ],
          "scattergl": [
           {
            "marker": {
             "colorbar": {
              "outlinewidth": 0,
              "ticks": ""
             }
            },
            "type": "scattergl"
           }
          ],
          "scattermapbox": [
           {
            "marker": {
             "colorbar": {
              "outlinewidth": 0,
              "ticks": ""
             }
            },
            "type": "scattermapbox"
           }
          ],
          "scatterpolar": [
           {
            "marker": {
             "colorbar": {
              "outlinewidth": 0,
              "ticks": ""
             }
            },
            "type": "scatterpolar"
           }
          ],
          "scatterpolargl": [
           {
            "marker": {
             "colorbar": {
              "outlinewidth": 0,
              "ticks": ""
             }
            },
            "type": "scatterpolargl"
           }
          ],
          "scatterternary": [
           {
            "marker": {
             "colorbar": {
              "outlinewidth": 0,
              "ticks": ""
             }
            },
            "type": "scatterternary"
           }
          ],
          "surface": [
           {
            "colorbar": {
             "outlinewidth": 0,
             "ticks": ""
            },
            "colorscale": [
             [
              0,
              "#0d0887"
             ],
             [
              0.1111111111111111,
              "#46039f"
             ],
             [
              0.2222222222222222,
              "#7201a8"
             ],
             [
              0.3333333333333333,
              "#9c179e"
             ],
             [
              0.4444444444444444,
              "#bd3786"
             ],
             [
              0.5555555555555556,
              "#d8576b"
             ],
             [
              0.6666666666666666,
              "#ed7953"
             ],
             [
              0.7777777777777778,
              "#fb9f3a"
             ],
             [
              0.8888888888888888,
              "#fdca26"
             ],
             [
              1,
              "#f0f921"
             ]
            ],
            "type": "surface"
           }
          ],
          "table": [
           {
            "cells": {
             "fill": {
              "color": "#EBF0F8"
             },
             "line": {
              "color": "white"
             }
            },
            "header": {
             "fill": {
              "color": "#C8D4E3"
             },
             "line": {
              "color": "white"
             }
            },
            "type": "table"
           }
          ]
         },
         "layout": {
          "annotationdefaults": {
           "arrowcolor": "#2a3f5f",
           "arrowhead": 0,
           "arrowwidth": 1
          },
          "autotypenumbers": "strict",
          "coloraxis": {
           "colorbar": {
            "outlinewidth": 0,
            "ticks": ""
           }
          },
          "colorscale": {
           "diverging": [
            [
             0,
             "#8e0152"
            ],
            [
             0.1,
             "#c51b7d"
            ],
            [
             0.2,
             "#de77ae"
            ],
            [
             0.3,
             "#f1b6da"
            ],
            [
             0.4,
             "#fde0ef"
            ],
            [
             0.5,
             "#f7f7f7"
            ],
            [
             0.6,
             "#e6f5d0"
            ],
            [
             0.7,
             "#b8e186"
            ],
            [
             0.8,
             "#7fbc41"
            ],
            [
             0.9,
             "#4d9221"
            ],
            [
             1,
             "#276419"
            ]
           ],
           "sequential": [
            [
             0,
             "#0d0887"
            ],
            [
             0.1111111111111111,
             "#46039f"
            ],
            [
             0.2222222222222222,
             "#7201a8"
            ],
            [
             0.3333333333333333,
             "#9c179e"
            ],
            [
             0.4444444444444444,
             "#bd3786"
            ],
            [
             0.5555555555555556,
             "#d8576b"
            ],
            [
             0.6666666666666666,
             "#ed7953"
            ],
            [
             0.7777777777777778,
             "#fb9f3a"
            ],
            [
             0.8888888888888888,
             "#fdca26"
            ],
            [
             1,
             "#f0f921"
            ]
           ],
           "sequentialminus": [
            [
             0,
             "#0d0887"
            ],
            [
             0.1111111111111111,
             "#46039f"
            ],
            [
             0.2222222222222222,
             "#7201a8"
            ],
            [
             0.3333333333333333,
             "#9c179e"
            ],
            [
             0.4444444444444444,
             "#bd3786"
            ],
            [
             0.5555555555555556,
             "#d8576b"
            ],
            [
             0.6666666666666666,
             "#ed7953"
            ],
            [
             0.7777777777777778,
             "#fb9f3a"
            ],
            [
             0.8888888888888888,
             "#fdca26"
            ],
            [
             1,
             "#f0f921"
            ]
           ]
          },
          "colorway": [
           "#636efa",
           "#EF553B",
           "#00cc96",
           "#ab63fa",
           "#FFA15A",
           "#19d3f3",
           "#FF6692",
           "#B6E880",
           "#FF97FF",
           "#FECB52"
          ],
          "font": {
           "color": "#2a3f5f"
          },
          "geo": {
           "bgcolor": "white",
           "lakecolor": "white",
           "landcolor": "#E5ECF6",
           "showlakes": true,
           "showland": true,
           "subunitcolor": "white"
          },
          "hoverlabel": {
           "align": "left"
          },
          "hovermode": "closest",
          "mapbox": {
           "style": "light"
          },
          "paper_bgcolor": "white",
          "plot_bgcolor": "#E5ECF6",
          "polar": {
           "angularaxis": {
            "gridcolor": "white",
            "linecolor": "white",
            "ticks": ""
           },
           "bgcolor": "#E5ECF6",
           "radialaxis": {
            "gridcolor": "white",
            "linecolor": "white",
            "ticks": ""
           }
          },
          "scene": {
           "xaxis": {
            "backgroundcolor": "#E5ECF6",
            "gridcolor": "white",
            "gridwidth": 2,
            "linecolor": "white",
            "showbackground": true,
            "ticks": "",
            "zerolinecolor": "white"
           },
           "yaxis": {
            "backgroundcolor": "#E5ECF6",
            "gridcolor": "white",
            "gridwidth": 2,
            "linecolor": "white",
            "showbackground": true,
            "ticks": "",
            "zerolinecolor": "white"
           },
           "zaxis": {
            "backgroundcolor": "#E5ECF6",
            "gridcolor": "white",
            "gridwidth": 2,
            "linecolor": "white",
            "showbackground": true,
            "ticks": "",
            "zerolinecolor": "white"
           }
          },
          "shapedefaults": {
           "line": {
            "color": "#2a3f5f"
           }
          },
          "ternary": {
           "aaxis": {
            "gridcolor": "white",
            "linecolor": "white",
            "ticks": ""
           },
           "baxis": {
            "gridcolor": "white",
            "linecolor": "white",
            "ticks": ""
           },
           "bgcolor": "#E5ECF6",
           "caxis": {
            "gridcolor": "white",
            "linecolor": "white",
            "ticks": ""
           }
          },
          "title": {
           "x": 0.05
          },
          "xaxis": {
           "automargin": true,
           "gridcolor": "white",
           "linecolor": "white",
           "ticks": "",
           "title": {
            "standoff": 15
           },
           "zerolinecolor": "white",
           "zerolinewidth": 2
          },
          "yaxis": {
           "automargin": true,
           "gridcolor": "white",
           "linecolor": "white",
           "ticks": "",
           "title": {
            "standoff": 15
           },
           "zerolinecolor": "white",
           "zerolinewidth": 2
          }
         }
        },
        "title": {
         "font": {
          "color": "#4D5663"
         }
        },
        "xaxis": {
         "anchor": "y",
         "domain": [
          0,
          0.2125
         ],
         "gridcolor": "#E1E5ED",
         "showgrid": false,
         "tickfont": {
          "color": "#4D5663"
         },
         "title": {
          "font": {
           "color": "#4D5663"
          },
          "text": ""
         },
         "zerolinecolor": "#E1E5ED"
        },
        "xaxis10": {
         "anchor": "y10",
         "domain": [
          0.2625,
          0.475
         ],
         "gridcolor": "#E1E5ED",
         "showgrid": false,
         "tickfont": {
          "color": "#4D5663"
         },
         "title": {
          "font": {
           "color": "#4D5663"
          },
          "text": ""
         },
         "zerolinecolor": "#E1E5ED"
        },
        "xaxis11": {
         "anchor": "y11",
         "domain": [
          0.525,
          0.7375
         ],
         "gridcolor": "#E1E5ED",
         "showgrid": false,
         "tickfont": {
          "color": "#4D5663"
         },
         "title": {
          "font": {
           "color": "#4D5663"
          },
          "text": ""
         },
         "zerolinecolor": "#E1E5ED"
        },
        "xaxis12": {
         "anchor": "y12",
         "domain": [
          0.7875,
          1
         ],
         "gridcolor": "#E1E5ED",
         "showgrid": false,
         "tickfont": {
          "color": "#4D5663"
         },
         "title": {
          "font": {
           "color": "#4D5663"
          },
          "text": ""
         },
         "zerolinecolor": "#E1E5ED"
        },
        "xaxis13": {
         "anchor": "y13",
         "domain": [
          0,
          0.2125
         ],
         "gridcolor": "#E1E5ED",
         "showgrid": false,
         "tickfont": {
          "color": "#4D5663"
         },
         "title": {
          "font": {
           "color": "#4D5663"
          },
          "text": ""
         },
         "zerolinecolor": "#E1E5ED"
        },
        "xaxis14": {
         "anchor": "y14",
         "domain": [
          0.2625,
          0.475
         ],
         "gridcolor": "#E1E5ED",
         "showgrid": false,
         "tickfont": {
          "color": "#4D5663"
         },
         "title": {
          "font": {
           "color": "#4D5663"
          },
          "text": ""
         },
         "zerolinecolor": "#E1E5ED"
        },
        "xaxis15": {
         "anchor": "y15",
         "domain": [
          0.525,
          0.7375
         ],
         "gridcolor": "#E1E5ED",
         "showgrid": false,
         "tickfont": {
          "color": "#4D5663"
         },
         "title": {
          "font": {
           "color": "#4D5663"
          },
          "text": ""
         },
         "zerolinecolor": "#E1E5ED"
        },
        "xaxis16": {
         "anchor": "y16",
         "domain": [
          0.7875,
          1
         ],
         "gridcolor": "#E1E5ED",
         "showgrid": false,
         "tickfont": {
          "color": "#4D5663"
         },
         "title": {
          "font": {
           "color": "#4D5663"
          },
          "text": ""
         },
         "zerolinecolor": "#E1E5ED"
        },
        "xaxis2": {
         "anchor": "y2",
         "domain": [
          0.2625,
          0.475
         ],
         "gridcolor": "#E1E5ED",
         "showgrid": false,
         "tickfont": {
          "color": "#4D5663"
         },
         "title": {
          "font": {
           "color": "#4D5663"
          },
          "text": ""
         },
         "zerolinecolor": "#E1E5ED"
        },
        "xaxis3": {
         "anchor": "y3",
         "domain": [
          0.525,
          0.7375
         ],
         "gridcolor": "#E1E5ED",
         "showgrid": false,
         "tickfont": {
          "color": "#4D5663"
         },
         "title": {
          "font": {
           "color": "#4D5663"
          },
          "text": ""
         },
         "zerolinecolor": "#E1E5ED"
        },
        "xaxis4": {
         "anchor": "y4",
         "domain": [
          0.7875,
          1
         ],
         "gridcolor": "#E1E5ED",
         "showgrid": false,
         "tickfont": {
          "color": "#4D5663"
         },
         "title": {
          "font": {
           "color": "#4D5663"
          },
          "text": ""
         },
         "zerolinecolor": "#E1E5ED"
        },
        "xaxis5": {
         "anchor": "y5",
         "domain": [
          0,
          0.2125
         ],
         "gridcolor": "#E1E5ED",
         "showgrid": false,
         "tickfont": {
          "color": "#4D5663"
         },
         "title": {
          "font": {
           "color": "#4D5663"
          },
          "text": ""
         },
         "zerolinecolor": "#E1E5ED"
        },
        "xaxis6": {
         "anchor": "y6",
         "domain": [
          0.2625,
          0.475
         ],
         "gridcolor": "#E1E5ED",
         "showgrid": false,
         "tickfont": {
          "color": "#4D5663"
         },
         "title": {
          "font": {
           "color": "#4D5663"
          },
          "text": ""
         },
         "zerolinecolor": "#E1E5ED"
        },
        "xaxis7": {
         "anchor": "y7",
         "domain": [
          0.525,
          0.7375
         ],
         "gridcolor": "#E1E5ED",
         "showgrid": false,
         "tickfont": {
          "color": "#4D5663"
         },
         "title": {
          "font": {
           "color": "#4D5663"
          },
          "text": ""
         },
         "zerolinecolor": "#E1E5ED"
        },
        "xaxis8": {
         "anchor": "y8",
         "domain": [
          0.7875,
          1
         ],
         "gridcolor": "#E1E5ED",
         "showgrid": false,
         "tickfont": {
          "color": "#4D5663"
         },
         "title": {
          "font": {
           "color": "#4D5663"
          },
          "text": ""
         },
         "zerolinecolor": "#E1E5ED"
        },
        "xaxis9": {
         "anchor": "y9",
         "domain": [
          0,
          0.2125
         ],
         "gridcolor": "#E1E5ED",
         "showgrid": false,
         "tickfont": {
          "color": "#4D5663"
         },
         "title": {
          "font": {
           "color": "#4D5663"
          },
          "text": ""
         },
         "zerolinecolor": "#E1E5ED"
        },
        "yaxis": {
         "anchor": "x",
         "domain": [
          0.8025,
          1
         ],
         "gridcolor": "#E1E5ED",
         "showgrid": false,
         "tickfont": {
          "color": "#4D5663"
         },
         "title": {
          "font": {
           "color": "#4D5663"
          },
          "text": ""
         },
         "zerolinecolor": "#E1E5ED"
        },
        "yaxis10": {
         "anchor": "x10",
         "domain": [
          0.2675,
          0.465
         ],
         "gridcolor": "#E1E5ED",
         "showgrid": false,
         "tickfont": {
          "color": "#4D5663"
         },
         "title": {
          "font": {
           "color": "#4D5663"
          },
          "text": ""
         },
         "zerolinecolor": "#E1E5ED"
        },
        "yaxis11": {
         "anchor": "x11",
         "domain": [
          0.2675,
          0.465
         ],
         "gridcolor": "#E1E5ED",
         "showgrid": false,
         "tickfont": {
          "color": "#4D5663"
         },
         "title": {
          "font": {
           "color": "#4D5663"
          },
          "text": ""
         },
         "zerolinecolor": "#E1E5ED"
        },
        "yaxis12": {
         "anchor": "x12",
         "domain": [
          0.2675,
          0.465
         ],
         "gridcolor": "#E1E5ED",
         "showgrid": false,
         "tickfont": {
          "color": "#4D5663"
         },
         "title": {
          "font": {
           "color": "#4D5663"
          },
          "text": ""
         },
         "zerolinecolor": "#E1E5ED"
        },
        "yaxis13": {
         "anchor": "x13",
         "domain": [
          0,
          0.1975
         ],
         "gridcolor": "#E1E5ED",
         "showgrid": false,
         "tickfont": {
          "color": "#4D5663"
         },
         "title": {
          "font": {
           "color": "#4D5663"
          },
          "text": ""
         },
         "zerolinecolor": "#E1E5ED"
        },
        "yaxis14": {
         "anchor": "x14",
         "domain": [
          0,
          0.1975
         ],
         "gridcolor": "#E1E5ED",
         "showgrid": false,
         "tickfont": {
          "color": "#4D5663"
         },
         "title": {
          "font": {
           "color": "#4D5663"
          },
          "text": ""
         },
         "zerolinecolor": "#E1E5ED"
        },
        "yaxis15": {
         "anchor": "x15",
         "domain": [
          0,
          0.1975
         ],
         "gridcolor": "#E1E5ED",
         "showgrid": false,
         "tickfont": {
          "color": "#4D5663"
         },
         "title": {
          "font": {
           "color": "#4D5663"
          },
          "text": ""
         },
         "zerolinecolor": "#E1E5ED"
        },
        "yaxis16": {
         "anchor": "x16",
         "domain": [
          0,
          0.1975
         ],
         "gridcolor": "#E1E5ED",
         "showgrid": false,
         "tickfont": {
          "color": "#4D5663"
         },
         "title": {
          "font": {
           "color": "#4D5663"
          },
          "text": ""
         },
         "zerolinecolor": "#E1E5ED"
        },
        "yaxis2": {
         "anchor": "x2",
         "domain": [
          0.8025,
          1
         ],
         "gridcolor": "#E1E5ED",
         "showgrid": false,
         "tickfont": {
          "color": "#4D5663"
         },
         "title": {
          "font": {
           "color": "#4D5663"
          },
          "text": ""
         },
         "zerolinecolor": "#E1E5ED"
        },
        "yaxis3": {
         "anchor": "x3",
         "domain": [
          0.8025,
          1
         ],
         "gridcolor": "#E1E5ED",
         "showgrid": false,
         "tickfont": {
          "color": "#4D5663"
         },
         "title": {
          "font": {
           "color": "#4D5663"
          },
          "text": ""
         },
         "zerolinecolor": "#E1E5ED"
        },
        "yaxis4": {
         "anchor": "x4",
         "domain": [
          0.8025,
          1
         ],
         "gridcolor": "#E1E5ED",
         "showgrid": false,
         "tickfont": {
          "color": "#4D5663"
         },
         "title": {
          "font": {
           "color": "#4D5663"
          },
          "text": ""
         },
         "zerolinecolor": "#E1E5ED"
        },
        "yaxis5": {
         "anchor": "x5",
         "domain": [
          0.535,
          0.7325
         ],
         "gridcolor": "#E1E5ED",
         "showgrid": false,
         "tickfont": {
          "color": "#4D5663"
         },
         "title": {
          "font": {
           "color": "#4D5663"
          },
          "text": ""
         },
         "zerolinecolor": "#E1E5ED"
        },
        "yaxis6": {
         "anchor": "x6",
         "domain": [
          0.535,
          0.7325
         ],
         "gridcolor": "#E1E5ED",
         "showgrid": false,
         "tickfont": {
          "color": "#4D5663"
         },
         "title": {
          "font": {
           "color": "#4D5663"
          },
          "text": ""
         },
         "zerolinecolor": "#E1E5ED"
        },
        "yaxis7": {
         "anchor": "x7",
         "domain": [
          0.535,
          0.7325
         ],
         "gridcolor": "#E1E5ED",
         "showgrid": false,
         "tickfont": {
          "color": "#4D5663"
         },
         "title": {
          "font": {
           "color": "#4D5663"
          },
          "text": ""
         },
         "zerolinecolor": "#E1E5ED"
        },
        "yaxis8": {
         "anchor": "x8",
         "domain": [
          0.535,
          0.7325
         ],
         "gridcolor": "#E1E5ED",
         "showgrid": false,
         "tickfont": {
          "color": "#4D5663"
         },
         "title": {
          "font": {
           "color": "#4D5663"
          },
          "text": ""
         },
         "zerolinecolor": "#E1E5ED"
        },
        "yaxis9": {
         "anchor": "x9",
         "domain": [
          0.2675,
          0.465
         ],
         "gridcolor": "#E1E5ED",
         "showgrid": false,
         "tickfont": {
          "color": "#4D5663"
         },
         "title": {
          "font": {
           "color": "#4D5663"
          },
          "text": ""
         },
         "zerolinecolor": "#E1E5ED"
        }
       }
      },
      "text/html": [
       "<div>                            <div id=\"144fd9df-3799-47cf-a0a1-f5f5b2e87fc5\" class=\"plotly-graph-div\" style=\"height:525px; width:100%;\"></div>            <script type=\"text/javascript\">                require([\"plotly\"], function(Plotly) {                    window.PLOTLYENV=window.PLOTLYENV || {};\n",
       "                    window.PLOTLYENV.BASE_URL='https://plot.ly';                                    if (document.getElementById(\"144fd9df-3799-47cf-a0a1-f5f5b2e87fc5\")) {                    Plotly.newPlot(                        \"144fd9df-3799-47cf-a0a1-f5f5b2e87fc5\",                        [{\"histfunc\":\"count\",\"histnorm\":\"\",\"marker\":{\"color\":\"rgba(255, 153, 51, 1.0)\",\"line\":{\"color\":\"#4D5663\",\"width\":1.3}},\"name\":\"A\",\"nbinsx\":10,\"opacity\":0.8,\"orientation\":\"v\",\"x\":[0.7524227622239249,-0.6487508694482285,-0.12276902469067315,-1.7956304294769236,-0.9799731504092138,1.3362874408281362,1.6300701479361905,1.893259976205648,1.102454540951155,-2.1450995701597635,-0.27791957658198363,0.5884301683993967,0.615111776799618,0.2015144223854086,2.1435623735574123,-1.4930470533502194,1.5356692790966953,-1.0229093074170883,0.1759924467352236,-0.5835389825445142,-1.5045905284820054,0.7121602950723773,0.027639743148447422,1.4899290306550939,2.7417157921905764,1.1071397111583028,0.1116141070140691,0.49478387791171435,0.09675256767697327,2.1385303960269098,-0.6690582559318675,-0.0625705570795616,0.35924665837333947,0.03971910887051859,0.9831002494786435,0.9006490205825207,-0.9538509595822618,-0.20768454140825984,1.1296875020178823,0.061143301200641514,0.16916316503414763,-1.166564321780111,0.5891047687352472,0.793330260909169,-0.9834954995976098,0.6372477908713823,1.176628879265964,0.25097681343004324,1.656911627497132,1.179288445516592,-0.13271766438827634,0.3001113425006879,1.0101157978281166,-0.8957405536547673,0.7595712933512376,-0.5193778376546777,0.1423613502424884,-2.1021074624815883,0.33302496576488233,-0.16979628990295093,-0.9468499260465263,-0.8834558066344341,0.6230893758350854,-0.649993041546382,1.448657701803833,-0.8458526622516507,-0.0981429164294889,-0.5936239908790261,-0.385848432532634,-1.3735488390101918,-1.0056553057412447,-1.26730052140875,0.6556464292500415,-0.1334056210776524,-0.5853856257269497,0.6067943948542077,-0.9524477619805134,0.8256890188080714,-0.38544439397462416,-0.09760326316560804,-1.162915585696774,-0.38799627732569153,0.9711969001992721,1.6523680779276493,-1.8045995945136548,0.8692706779303185,0.2982140066126374,-2.232879857099527,0.271029852610972,-0.45240581774251093,0.9318810556623758,-0.26768715861225206,-1.1455708825858975,1.8683283454304598,0.8573275444364243,1.3325036587822003,2.599708051322223,2.5408176068246195,0.24426027282740315,1.9126990659987366],\"xaxis\":\"x\",\"yaxis\":\"y\",\"type\":\"histogram\"},{\"line\":{\"color\":\"rgba(128, 128, 128, 1.0)\",\"dash\":\"solid\",\"shape\":\"linear\",\"width\":1.3},\"marker\":{\"size\":2,\"symbol\":\"circle\"},\"mode\":\"markers\",\"name\":\"A\",\"text\":\"\",\"x\":[-0.14411142071418448,0.4543383861726146,-0.7083109717970135,1.0903842538507134,-0.9618951277509531,0.7910225125160179,-0.09170042656156237,1.2065985419544019,0.5554298383945874,1.2392441562349639,-0.10418607581733894,-1.5962761205932277,-0.6726747533058741,0.40019099429991684,0.35184677700579475,-0.24545355294518686,1.6395704390094321,0.14405723113709348,0.3926952588678192,0.3654074215407099,-0.7681215022777197,-1.4062832714563236,-1.2546410580879253,0.18550467761114373,-0.8431939326081225,-2.06963127321301,1.48658934053319,-1.3326252323447432,-0.56726203886916,0.1361568603876222,0.6083662168232864,-0.09910069096383518,1.0820082378249034,0.31019928685403797,-0.731073676798277,0.040732192306421416,-0.8107107612338843,1.4173142860072543,-0.27584483581014213,2.5355035017244085,1.3112730058506958,-0.41427195107802095,-0.1741073227349552,1.6087551847409967,-0.9134078520482416,0.1136295862603745,0.17373761739318422,0.808462558759177,-2.1897539132033033,0.08330649712203049,0.8248180483876241,-0.40453200043901594,-0.4694871922459325,0.6698077464337866,0.3565346365704142,0.12869804689699224,0.67017515921362,0.5360783407567321,-0.2917074199552538,0.4365141785381166,0.6105572925783977,0.9734497641828365,1.4562443431718226,-0.4981857939219861,-0.9386690265452898,1.7311316676972948,-0.6298966613647587,0.815225989591915,-0.4602572673509436,-0.9150007309938142,0.10863252084373735,1.1729531883979405,-1.631017696238814,-1.8496504257349287,0.17950210460028163,0.9682133702319166,-1.484707530253836,-1.639085276989806,0.40140816264697965,0.6390331364973107,1.2323156584101398,2.162752863112274,1.1815167591012996,-1.9852722873734716,-1.0431001767275785,-1.279261507190979,-1.411883001080788,0.6140936180273153,-1.2851155395037284,-0.42350457709057093,-0.2271241069058536,-2.1592081055400807,-0.6316189001075955,0.490315679755434,-0.6518997189531053,-0.10202977067303974,0.8948687383146906,0.24313123575142453,-0.10391921868855766,0.7618133728978007],\"xaxis\":\"x2\",\"y\":[0.7524227622239249,-0.6487508694482285,-0.12276902469067315,-1.7956304294769236,-0.9799731504092138,1.3362874408281362,1.6300701479361905,1.893259976205648,1.102454540951155,-2.1450995701597635,-0.27791957658198363,0.5884301683993967,0.615111776799618,0.2015144223854086,2.1435623735574123,-1.4930470533502194,1.5356692790966953,-1.0229093074170883,0.1759924467352236,-0.5835389825445142,-1.5045905284820054,0.7121602950723773,0.027639743148447422,1.4899290306550939,2.7417157921905764,1.1071397111583028,0.1116141070140691,0.49478387791171435,0.09675256767697327,2.1385303960269098,-0.6690582559318675,-0.0625705570795616,0.35924665837333947,0.03971910887051859,0.9831002494786435,0.9006490205825207,-0.9538509595822618,-0.20768454140825984,1.1296875020178823,0.061143301200641514,0.16916316503414763,-1.166564321780111,0.5891047687352472,0.793330260909169,-0.9834954995976098,0.6372477908713823,1.176628879265964,0.25097681343004324,1.656911627497132,1.179288445516592,-0.13271766438827634,0.3001113425006879,1.0101157978281166,-0.8957405536547673,0.7595712933512376,-0.5193778376546777,0.1423613502424884,-2.1021074624815883,0.33302496576488233,-0.16979628990295093,-0.9468499260465263,-0.8834558066344341,0.6230893758350854,-0.649993041546382,1.448657701803833,-0.8458526622516507,-0.0981429164294889,-0.5936239908790261,-0.385848432532634,-1.3735488390101918,-1.0056553057412447,-1.26730052140875,0.6556464292500415,-0.1334056210776524,-0.5853856257269497,0.6067943948542077,-0.9524477619805134,0.8256890188080714,-0.38544439397462416,-0.09760326316560804,-1.162915585696774,-0.38799627732569153,0.9711969001992721,1.6523680779276493,-1.8045995945136548,0.8692706779303185,0.2982140066126374,-2.232879857099527,0.271029852610972,-0.45240581774251093,0.9318810556623758,-0.26768715861225206,-1.1455708825858975,1.8683283454304598,0.8573275444364243,1.3325036587822003,2.599708051322223,2.5408176068246195,0.24426027282740315,1.9126990659987366],\"yaxis\":\"y2\",\"type\":\"scatter\"},{\"line\":{\"color\":\"rgba(128, 128, 128, 1.0)\",\"dash\":\"solid\",\"shape\":\"linear\",\"width\":1.3},\"marker\":{\"size\":2,\"symbol\":\"circle\"},\"mode\":\"markers\",\"name\":\"A\",\"text\":\"\",\"x\":[1.305013536467514,-1.42535470765432,-0.12604113800944422,-1.48294028151399,-1.524921453966342,-0.5001396586077944,0.9663594848222418,0.6511632211392434,1.2680562169430485,0.38578439429421557,0.5948018303689191,-1.1486200699604603,0.18266163250939058,0.8820540564297727,-0.24497020377414525,0.025594545763943804,0.12869585390591737,0.32142737960936585,-0.050387034257378685,-0.334310650000316,0.22099012296039902,0.7966918812019385,-1.8672512456999801,0.9320048080127644,0.45018206948666273,0.9428787760376252,-1.3737807738819845,0.8315192343611962,0.6912197955804958,1.7722529173107047,-1.8766564316157268,0.4573995287753774,0.2640895583425982,-0.07785549272185156,-2.165729817573907,-1.237526212398555,-1.0128233349217224,-0.8386553327108263,-1.1369503186573282,1.5351188890422152,-1.379901191652556,0.10140996016831537,1.7651260380058793,0.18010736037245792,-0.6083695023874888,1.2067994728795954,0.4916312019935608,-1.1545406480393758,-1.604204214745099,-0.7988062547947758,1.6134360527825156,0.7648888859158497,-0.3129062452567959,0.9834626468593414,1.1132841728809684,0.8569404529255602,-0.9969600565737744,-0.19061421718370442,0.49459276857565976,-1.3557839268561214,0.18585644198419426,0.17575848935819968,0.07385563415515443,-2.0111013420485704,-0.1450443563724643,-0.17829109324925918,-0.10534795960111619,1.1640546289995994,0.044219694769802365,0.2501051062167861,0.7550480431034529,-1.8383251520794013,0.9060834010968599,-0.8790522337087745,-1.3445913589928218,0.38799898723469833,-1.1778874444502483,-0.010612373003847918,-0.7129127509935006,-1.2918209551292188,-1.592624367200515,-0.2602964600542373,-0.4710181079301098,-1.6549395511165124,0.050982258805437185,0.7781629925706114,0.7596015165039246,0.4086283918127778,1.0038304937754987,0.4528236588677294,0.8922440211325979,0.4895309999077554,-0.2809943324827049,-0.2715467430678329,-0.08030487095646313,0.530441125757145,-0.04033073393472941,0.008113269410795433,1.493067032951811,0.9209224832222817],\"xaxis\":\"x3\",\"y\":[0.7524227622239249,-0.6487508694482285,-0.12276902469067315,-1.7956304294769236,-0.9799731504092138,1.3362874408281362,1.6300701479361905,1.893259976205648,1.102454540951155,-2.1450995701597635,-0.27791957658198363,0.5884301683993967,0.615111776799618,0.2015144223854086,2.1435623735574123,-1.4930470533502194,1.5356692790966953,-1.0229093074170883,0.1759924467352236,-0.5835389825445142,-1.5045905284820054,0.7121602950723773,0.027639743148447422,1.4899290306550939,2.7417157921905764,1.1071397111583028,0.1116141070140691,0.49478387791171435,0.09675256767697327,2.1385303960269098,-0.6690582559318675,-0.0625705570795616,0.35924665837333947,0.03971910887051859,0.9831002494786435,0.9006490205825207,-0.9538509595822618,-0.20768454140825984,1.1296875020178823,0.061143301200641514,0.16916316503414763,-1.166564321780111,0.5891047687352472,0.793330260909169,-0.9834954995976098,0.6372477908713823,1.176628879265964,0.25097681343004324,1.656911627497132,1.179288445516592,-0.13271766438827634,0.3001113425006879,1.0101157978281166,-0.8957405536547673,0.7595712933512376,-0.5193778376546777,0.1423613502424884,-2.1021074624815883,0.33302496576488233,-0.16979628990295093,-0.9468499260465263,-0.8834558066344341,0.6230893758350854,-0.649993041546382,1.448657701803833,-0.8458526622516507,-0.0981429164294889,-0.5936239908790261,-0.385848432532634,-1.3735488390101918,-1.0056553057412447,-1.26730052140875,0.6556464292500415,-0.1334056210776524,-0.5853856257269497,0.6067943948542077,-0.9524477619805134,0.8256890188080714,-0.38544439397462416,-0.09760326316560804,-1.162915585696774,-0.38799627732569153,0.9711969001992721,1.6523680779276493,-1.8045995945136548,0.8692706779303185,0.2982140066126374,-2.232879857099527,0.271029852610972,-0.45240581774251093,0.9318810556623758,-0.26768715861225206,-1.1455708825858975,1.8683283454304598,0.8573275444364243,1.3325036587822003,2.599708051322223,2.5408176068246195,0.24426027282740315,1.9126990659987366],\"yaxis\":\"y3\",\"type\":\"scatter\"},{\"line\":{\"color\":\"rgba(128, 128, 128, 1.0)\",\"dash\":\"solid\",\"shape\":\"linear\",\"width\":1.3},\"marker\":{\"size\":2,\"symbol\":\"circle\"},\"mode\":\"markers\",\"name\":\"A\",\"text\":\"\",\"x\":[0.3054230738083809,1.1789013899075005,1.098021073503437,1.5512280632862248,-2.0949439421886207,-0.11363665601526601,0.7395114620876521,0.4477857131460393,0.9223742243093176,-1.077721376778996,-0.5484778158816865,-1.4691868746258816,1.4991774408058693,-0.40317001578517686,0.40315341799002097,-0.6713193679546652,-0.5089714916072127,-0.15034524373173602,1.0771028214664136,-0.48093701537607175,-1.0300234581011998,-0.8093034044191941,0.8620688961197059,0.49288406455008704,-0.4812786116314043,-0.4494076267675402,0.2967218210320583,0.2213746321191471,0.6509611090035058,1.6244901230062958,0.6404081217454802,-0.49459122247551535,-0.04491658595260175,1.0705693077055967,-0.8055313328239344,0.006036740985196447,1.1796302428983652,-0.4148101372785504,1.402274959609972,0.5175474904029675,-1.1407129767053383,0.9464484951509217,0.7510066724113348,-1.2018892237795142,-2.524376737193402,-0.3540747956012334,-0.9928922123118572,2.6928156075338174,0.008305616944702885,-0.9890457437497764,1.4686464117253037,0.5804553535299848,-0.7067340857805501,0.8313774240925941,-0.9988803069071867,0.6209174780368496,0.17494713339245044,-1.0128812533315694,-0.38338884946158713,0.11785317920806535,-0.8844941537313951,0.7387029800154007,-0.7269738986645328,1.1641540207702687,1.541554995438241,-1.1061846525126717,-0.9666268322520456,1.644095779273358,-0.2859944093154943,0.0845312131984907,0.6440209479181911,0.44431312044641647,1.1071126459843645,0.3744018472490756,1.9489693486688506,2.1187884910969816,-0.6431291968014526,-0.5287506822288152,2.90859967493311,0.7124052403852407,-1.253920557757355,-2.1576032459715857,-0.8593191175675434,2.3206124233483627,-0.7452654586987822,0.7237418253648195,-0.4785650608077709,-0.5381946389685107,-1.3767333240213495,-0.6927653867972688,-0.21739281630230928,-0.14726466629852822,-1.7237093455267913,-1.3525520540261509,2.128864366455416,-0.4694671415443432,-0.3308872029680333,-2.746400553650332,1.0168288445610016,0.9478876345541277],\"xaxis\":\"x4\",\"y\":[0.7524227622239249,-0.6487508694482285,-0.12276902469067315,-1.7956304294769236,-0.9799731504092138,1.3362874408281362,1.6300701479361905,1.893259976205648,1.102454540951155,-2.1450995701597635,-0.27791957658198363,0.5884301683993967,0.615111776799618,0.2015144223854086,2.1435623735574123,-1.4930470533502194,1.5356692790966953,-1.0229093074170883,0.1759924467352236,-0.5835389825445142,-1.5045905284820054,0.7121602950723773,0.027639743148447422,1.4899290306550939,2.7417157921905764,1.1071397111583028,0.1116141070140691,0.49478387791171435,0.09675256767697327,2.1385303960269098,-0.6690582559318675,-0.0625705570795616,0.35924665837333947,0.03971910887051859,0.9831002494786435,0.9006490205825207,-0.9538509595822618,-0.20768454140825984,1.1296875020178823,0.061143301200641514,0.16916316503414763,-1.166564321780111,0.5891047687352472,0.793330260909169,-0.9834954995976098,0.6372477908713823,1.176628879265964,0.25097681343004324,1.656911627497132,1.179288445516592,-0.13271766438827634,0.3001113425006879,1.0101157978281166,-0.8957405536547673,0.7595712933512376,-0.5193778376546777,0.1423613502424884,-2.1021074624815883,0.33302496576488233,-0.16979628990295093,-0.9468499260465263,-0.8834558066344341,0.6230893758350854,-0.649993041546382,1.448657701803833,-0.8458526622516507,-0.0981429164294889,-0.5936239908790261,-0.385848432532634,-1.3735488390101918,-1.0056553057412447,-1.26730052140875,0.6556464292500415,-0.1334056210776524,-0.5853856257269497,0.6067943948542077,-0.9524477619805134,0.8256890188080714,-0.38544439397462416,-0.09760326316560804,-1.162915585696774,-0.38799627732569153,0.9711969001992721,1.6523680779276493,-1.8045995945136548,0.8692706779303185,0.2982140066126374,-2.232879857099527,0.271029852610972,-0.45240581774251093,0.9318810556623758,-0.26768715861225206,-1.1455708825858975,1.8683283454304598,0.8573275444364243,1.3325036587822003,2.599708051322223,2.5408176068246195,0.24426027282740315,1.9126990659987366],\"yaxis\":\"y4\",\"type\":\"scatter\"},{\"line\":{\"color\":\"rgba(128, 128, 128, 1.0)\",\"dash\":\"solid\",\"shape\":\"linear\",\"width\":1.3},\"marker\":{\"size\":2,\"symbol\":\"circle\"},\"mode\":\"markers\",\"name\":\"B\",\"text\":\"\",\"x\":[0.7524227622239249,-0.6487508694482285,-0.12276902469067315,-1.7956304294769236,-0.9799731504092138,1.3362874408281362,1.6300701479361905,1.893259976205648,1.102454540951155,-2.1450995701597635,-0.27791957658198363,0.5884301683993967,0.615111776799618,0.2015144223854086,2.1435623735574123,-1.4930470533502194,1.5356692790966953,-1.0229093074170883,0.1759924467352236,-0.5835389825445142,-1.5045905284820054,0.7121602950723773,0.027639743148447422,1.4899290306550939,2.7417157921905764,1.1071397111583028,0.1116141070140691,0.49478387791171435,0.09675256767697327,2.1385303960269098,-0.6690582559318675,-0.0625705570795616,0.35924665837333947,0.03971910887051859,0.9831002494786435,0.9006490205825207,-0.9538509595822618,-0.20768454140825984,1.1296875020178823,0.061143301200641514,0.16916316503414763,-1.166564321780111,0.5891047687352472,0.793330260909169,-0.9834954995976098,0.6372477908713823,1.176628879265964,0.25097681343004324,1.656911627497132,1.179288445516592,-0.13271766438827634,0.3001113425006879,1.0101157978281166,-0.8957405536547673,0.7595712933512376,-0.5193778376546777,0.1423613502424884,-2.1021074624815883,0.33302496576488233,-0.16979628990295093,-0.9468499260465263,-0.8834558066344341,0.6230893758350854,-0.649993041546382,1.448657701803833,-0.8458526622516507,-0.0981429164294889,-0.5936239908790261,-0.385848432532634,-1.3735488390101918,-1.0056553057412447,-1.26730052140875,0.6556464292500415,-0.1334056210776524,-0.5853856257269497,0.6067943948542077,-0.9524477619805134,0.8256890188080714,-0.38544439397462416,-0.09760326316560804,-1.162915585696774,-0.38799627732569153,0.9711969001992721,1.6523680779276493,-1.8045995945136548,0.8692706779303185,0.2982140066126374,-2.232879857099527,0.271029852610972,-0.45240581774251093,0.9318810556623758,-0.26768715861225206,-1.1455708825858975,1.8683283454304598,0.8573275444364243,1.3325036587822003,2.599708051322223,2.5408176068246195,0.24426027282740315,1.9126990659987366],\"xaxis\":\"x5\",\"y\":[-0.14411142071418448,0.4543383861726146,-0.7083109717970135,1.0903842538507134,-0.9618951277509531,0.7910225125160179,-0.09170042656156237,1.2065985419544019,0.5554298383945874,1.2392441562349639,-0.10418607581733894,-1.5962761205932277,-0.6726747533058741,0.40019099429991684,0.35184677700579475,-0.24545355294518686,1.6395704390094321,0.14405723113709348,0.3926952588678192,0.3654074215407099,-0.7681215022777197,-1.4062832714563236,-1.2546410580879253,0.18550467761114373,-0.8431939326081225,-2.06963127321301,1.48658934053319,-1.3326252323447432,-0.56726203886916,0.1361568603876222,0.6083662168232864,-0.09910069096383518,1.0820082378249034,0.31019928685403797,-0.731073676798277,0.040732192306421416,-0.8107107612338843,1.4173142860072543,-0.27584483581014213,2.5355035017244085,1.3112730058506958,-0.41427195107802095,-0.1741073227349552,1.6087551847409967,-0.9134078520482416,0.1136295862603745,0.17373761739318422,0.808462558759177,-2.1897539132033033,0.08330649712203049,0.8248180483876241,-0.40453200043901594,-0.4694871922459325,0.6698077464337866,0.3565346365704142,0.12869804689699224,0.67017515921362,0.5360783407567321,-0.2917074199552538,0.4365141785381166,0.6105572925783977,0.9734497641828365,1.4562443431718226,-0.4981857939219861,-0.9386690265452898,1.7311316676972948,-0.6298966613647587,0.815225989591915,-0.4602572673509436,-0.9150007309938142,0.10863252084373735,1.1729531883979405,-1.631017696238814,-1.8496504257349287,0.17950210460028163,0.9682133702319166,-1.484707530253836,-1.639085276989806,0.40140816264697965,0.6390331364973107,1.2323156584101398,2.162752863112274,1.1815167591012996,-1.9852722873734716,-1.0431001767275785,-1.279261507190979,-1.411883001080788,0.6140936180273153,-1.2851155395037284,-0.42350457709057093,-0.2271241069058536,-2.1592081055400807,-0.6316189001075955,0.490315679755434,-0.6518997189531053,-0.10202977067303974,0.8948687383146906,0.24313123575142453,-0.10391921868855766,0.7618133728978007],\"yaxis\":\"y5\",\"type\":\"scatter\"},{\"histfunc\":\"count\",\"histnorm\":\"\",\"marker\":{\"color\":\"rgba(55, 128, 191, 1.0)\",\"line\":{\"color\":\"#4D5663\",\"width\":1.3}},\"name\":\"B\",\"nbinsx\":10,\"opacity\":0.8,\"orientation\":\"v\",\"x\":[-0.14411142071418448,0.4543383861726146,-0.7083109717970135,1.0903842538507134,-0.9618951277509531,0.7910225125160179,-0.09170042656156237,1.2065985419544019,0.5554298383945874,1.2392441562349639,-0.10418607581733894,-1.5962761205932277,-0.6726747533058741,0.40019099429991684,0.35184677700579475,-0.24545355294518686,1.6395704390094321,0.14405723113709348,0.3926952588678192,0.3654074215407099,-0.7681215022777197,-1.4062832714563236,-1.2546410580879253,0.18550467761114373,-0.8431939326081225,-2.06963127321301,1.48658934053319,-1.3326252323447432,-0.56726203886916,0.1361568603876222,0.6083662168232864,-0.09910069096383518,1.0820082378249034,0.31019928685403797,-0.731073676798277,0.040732192306421416,-0.8107107612338843,1.4173142860072543,-0.27584483581014213,2.5355035017244085,1.3112730058506958,-0.41427195107802095,-0.1741073227349552,1.6087551847409967,-0.9134078520482416,0.1136295862603745,0.17373761739318422,0.808462558759177,-2.1897539132033033,0.08330649712203049,0.8248180483876241,-0.40453200043901594,-0.4694871922459325,0.6698077464337866,0.3565346365704142,0.12869804689699224,0.67017515921362,0.5360783407567321,-0.2917074199552538,0.4365141785381166,0.6105572925783977,0.9734497641828365,1.4562443431718226,-0.4981857939219861,-0.9386690265452898,1.7311316676972948,-0.6298966613647587,0.815225989591915,-0.4602572673509436,-0.9150007309938142,0.10863252084373735,1.1729531883979405,-1.631017696238814,-1.8496504257349287,0.17950210460028163,0.9682133702319166,-1.484707530253836,-1.639085276989806,0.40140816264697965,0.6390331364973107,1.2323156584101398,2.162752863112274,1.1815167591012996,-1.9852722873734716,-1.0431001767275785,-1.279261507190979,-1.411883001080788,0.6140936180273153,-1.2851155395037284,-0.42350457709057093,-0.2271241069058536,-2.1592081055400807,-0.6316189001075955,0.490315679755434,-0.6518997189531053,-0.10202977067303974,0.8948687383146906,0.24313123575142453,-0.10391921868855766,0.7618133728978007],\"xaxis\":\"x6\",\"yaxis\":\"y6\",\"type\":\"histogram\"},{\"line\":{\"color\":\"rgba(128, 128, 128, 1.0)\",\"dash\":\"solid\",\"shape\":\"linear\",\"width\":1.3},\"marker\":{\"size\":2,\"symbol\":\"circle\"},\"mode\":\"markers\",\"name\":\"B\",\"text\":\"\",\"x\":[1.305013536467514,-1.42535470765432,-0.12604113800944422,-1.48294028151399,-1.524921453966342,-0.5001396586077944,0.9663594848222418,0.6511632211392434,1.2680562169430485,0.38578439429421557,0.5948018303689191,-1.1486200699604603,0.18266163250939058,0.8820540564297727,-0.24497020377414525,0.025594545763943804,0.12869585390591737,0.32142737960936585,-0.050387034257378685,-0.334310650000316,0.22099012296039902,0.7966918812019385,-1.8672512456999801,0.9320048080127644,0.45018206948666273,0.9428787760376252,-1.3737807738819845,0.8315192343611962,0.6912197955804958,1.7722529173107047,-1.8766564316157268,0.4573995287753774,0.2640895583425982,-0.07785549272185156,-2.165729817573907,-1.237526212398555,-1.0128233349217224,-0.8386553327108263,-1.1369503186573282,1.5351188890422152,-1.379901191652556,0.10140996016831537,1.7651260380058793,0.18010736037245792,-0.6083695023874888,1.2067994728795954,0.4916312019935608,-1.1545406480393758,-1.604204214745099,-0.7988062547947758,1.6134360527825156,0.7648888859158497,-0.3129062452567959,0.9834626468593414,1.1132841728809684,0.8569404529255602,-0.9969600565737744,-0.19061421718370442,0.49459276857565976,-1.3557839268561214,0.18585644198419426,0.17575848935819968,0.07385563415515443,-2.0111013420485704,-0.1450443563724643,-0.17829109324925918,-0.10534795960111619,1.1640546289995994,0.044219694769802365,0.2501051062167861,0.7550480431034529,-1.8383251520794013,0.9060834010968599,-0.8790522337087745,-1.3445913589928218,0.38799898723469833,-1.1778874444502483,-0.010612373003847918,-0.7129127509935006,-1.2918209551292188,-1.592624367200515,-0.2602964600542373,-0.4710181079301098,-1.6549395511165124,0.050982258805437185,0.7781629925706114,0.7596015165039246,0.4086283918127778,1.0038304937754987,0.4528236588677294,0.8922440211325979,0.4895309999077554,-0.2809943324827049,-0.2715467430678329,-0.08030487095646313,0.530441125757145,-0.04033073393472941,0.008113269410795433,1.493067032951811,0.9209224832222817],\"xaxis\":\"x7\",\"y\":[-0.14411142071418448,0.4543383861726146,-0.7083109717970135,1.0903842538507134,-0.9618951277509531,0.7910225125160179,-0.09170042656156237,1.2065985419544019,0.5554298383945874,1.2392441562349639,-0.10418607581733894,-1.5962761205932277,-0.6726747533058741,0.40019099429991684,0.35184677700579475,-0.24545355294518686,1.6395704390094321,0.14405723113709348,0.3926952588678192,0.3654074215407099,-0.7681215022777197,-1.4062832714563236,-1.2546410580879253,0.18550467761114373,-0.8431939326081225,-2.06963127321301,1.48658934053319,-1.3326252323447432,-0.56726203886916,0.1361568603876222,0.6083662168232864,-0.09910069096383518,1.0820082378249034,0.31019928685403797,-0.731073676798277,0.040732192306421416,-0.8107107612338843,1.4173142860072543,-0.27584483581014213,2.5355035017244085,1.3112730058506958,-0.41427195107802095,-0.1741073227349552,1.6087551847409967,-0.9134078520482416,0.1136295862603745,0.17373761739318422,0.808462558759177,-2.1897539132033033,0.08330649712203049,0.8248180483876241,-0.40453200043901594,-0.4694871922459325,0.6698077464337866,0.3565346365704142,0.12869804689699224,0.67017515921362,0.5360783407567321,-0.2917074199552538,0.4365141785381166,0.6105572925783977,0.9734497641828365,1.4562443431718226,-0.4981857939219861,-0.9386690265452898,1.7311316676972948,-0.6298966613647587,0.815225989591915,-0.4602572673509436,-0.9150007309938142,0.10863252084373735,1.1729531883979405,-1.631017696238814,-1.8496504257349287,0.17950210460028163,0.9682133702319166,-1.484707530253836,-1.639085276989806,0.40140816264697965,0.6390331364973107,1.2323156584101398,2.162752863112274,1.1815167591012996,-1.9852722873734716,-1.0431001767275785,-1.279261507190979,-1.411883001080788,0.6140936180273153,-1.2851155395037284,-0.42350457709057093,-0.2271241069058536,-2.1592081055400807,-0.6316189001075955,0.490315679755434,-0.6518997189531053,-0.10202977067303974,0.8948687383146906,0.24313123575142453,-0.10391921868855766,0.7618133728978007],\"yaxis\":\"y7\",\"type\":\"scatter\"},{\"line\":{\"color\":\"rgba(128, 128, 128, 1.0)\",\"dash\":\"solid\",\"shape\":\"linear\",\"width\":1.3},\"marker\":{\"size\":2,\"symbol\":\"circle\"},\"mode\":\"markers\",\"name\":\"B\",\"text\":\"\",\"x\":[0.3054230738083809,1.1789013899075005,1.098021073503437,1.5512280632862248,-2.0949439421886207,-0.11363665601526601,0.7395114620876521,0.4477857131460393,0.9223742243093176,-1.077721376778996,-0.5484778158816865,-1.4691868746258816,1.4991774408058693,-0.40317001578517686,0.40315341799002097,-0.6713193679546652,-0.5089714916072127,-0.15034524373173602,1.0771028214664136,-0.48093701537607175,-1.0300234581011998,-0.8093034044191941,0.8620688961197059,0.49288406455008704,-0.4812786116314043,-0.4494076267675402,0.2967218210320583,0.2213746321191471,0.6509611090035058,1.6244901230062958,0.6404081217454802,-0.49459122247551535,-0.04491658595260175,1.0705693077055967,-0.8055313328239344,0.006036740985196447,1.1796302428983652,-0.4148101372785504,1.402274959609972,0.5175474904029675,-1.1407129767053383,0.9464484951509217,0.7510066724113348,-1.2018892237795142,-2.524376737193402,-0.3540747956012334,-0.9928922123118572,2.6928156075338174,0.008305616944702885,-0.9890457437497764,1.4686464117253037,0.5804553535299848,-0.7067340857805501,0.8313774240925941,-0.9988803069071867,0.6209174780368496,0.17494713339245044,-1.0128812533315694,-0.38338884946158713,0.11785317920806535,-0.8844941537313951,0.7387029800154007,-0.7269738986645328,1.1641540207702687,1.541554995438241,-1.1061846525126717,-0.9666268322520456,1.644095779273358,-0.2859944093154943,0.0845312131984907,0.6440209479181911,0.44431312044641647,1.1071126459843645,0.3744018472490756,1.9489693486688506,2.1187884910969816,-0.6431291968014526,-0.5287506822288152,2.90859967493311,0.7124052403852407,-1.253920557757355,-2.1576032459715857,-0.8593191175675434,2.3206124233483627,-0.7452654586987822,0.7237418253648195,-0.4785650608077709,-0.5381946389685107,-1.3767333240213495,-0.6927653867972688,-0.21739281630230928,-0.14726466629852822,-1.7237093455267913,-1.3525520540261509,2.128864366455416,-0.4694671415443432,-0.3308872029680333,-2.746400553650332,1.0168288445610016,0.9478876345541277],\"xaxis\":\"x8\",\"y\":[-0.14411142071418448,0.4543383861726146,-0.7083109717970135,1.0903842538507134,-0.9618951277509531,0.7910225125160179,-0.09170042656156237,1.2065985419544019,0.5554298383945874,1.2392441562349639,-0.10418607581733894,-1.5962761205932277,-0.6726747533058741,0.40019099429991684,0.35184677700579475,-0.24545355294518686,1.6395704390094321,0.14405723113709348,0.3926952588678192,0.3654074215407099,-0.7681215022777197,-1.4062832714563236,-1.2546410580879253,0.18550467761114373,-0.8431939326081225,-2.06963127321301,1.48658934053319,-1.3326252323447432,-0.56726203886916,0.1361568603876222,0.6083662168232864,-0.09910069096383518,1.0820082378249034,0.31019928685403797,-0.731073676798277,0.040732192306421416,-0.8107107612338843,1.4173142860072543,-0.27584483581014213,2.5355035017244085,1.3112730058506958,-0.41427195107802095,-0.1741073227349552,1.6087551847409967,-0.9134078520482416,0.1136295862603745,0.17373761739318422,0.808462558759177,-2.1897539132033033,0.08330649712203049,0.8248180483876241,-0.40453200043901594,-0.4694871922459325,0.6698077464337866,0.3565346365704142,0.12869804689699224,0.67017515921362,0.5360783407567321,-0.2917074199552538,0.4365141785381166,0.6105572925783977,0.9734497641828365,1.4562443431718226,-0.4981857939219861,-0.9386690265452898,1.7311316676972948,-0.6298966613647587,0.815225989591915,-0.4602572673509436,-0.9150007309938142,0.10863252084373735,1.1729531883979405,-1.631017696238814,-1.8496504257349287,0.17950210460028163,0.9682133702319166,-1.484707530253836,-1.639085276989806,0.40140816264697965,0.6390331364973107,1.2323156584101398,2.162752863112274,1.1815167591012996,-1.9852722873734716,-1.0431001767275785,-1.279261507190979,-1.411883001080788,0.6140936180273153,-1.2851155395037284,-0.42350457709057093,-0.2271241069058536,-2.1592081055400807,-0.6316189001075955,0.490315679755434,-0.6518997189531053,-0.10202977067303974,0.8948687383146906,0.24313123575142453,-0.10391921868855766,0.7618133728978007],\"yaxis\":\"y8\",\"type\":\"scatter\"},{\"line\":{\"color\":\"rgba(128, 128, 128, 1.0)\",\"dash\":\"solid\",\"shape\":\"linear\",\"width\":1.3},\"marker\":{\"size\":2,\"symbol\":\"circle\"},\"mode\":\"markers\",\"name\":\"C\",\"text\":\"\",\"x\":[0.7524227622239249,-0.6487508694482285,-0.12276902469067315,-1.7956304294769236,-0.9799731504092138,1.3362874408281362,1.6300701479361905,1.893259976205648,1.102454540951155,-2.1450995701597635,-0.27791957658198363,0.5884301683993967,0.615111776799618,0.2015144223854086,2.1435623735574123,-1.4930470533502194,1.5356692790966953,-1.0229093074170883,0.1759924467352236,-0.5835389825445142,-1.5045905284820054,0.7121602950723773,0.027639743148447422,1.4899290306550939,2.7417157921905764,1.1071397111583028,0.1116141070140691,0.49478387791171435,0.09675256767697327,2.1385303960269098,-0.6690582559318675,-0.0625705570795616,0.35924665837333947,0.03971910887051859,0.9831002494786435,0.9006490205825207,-0.9538509595822618,-0.20768454140825984,1.1296875020178823,0.061143301200641514,0.16916316503414763,-1.166564321780111,0.5891047687352472,0.793330260909169,-0.9834954995976098,0.6372477908713823,1.176628879265964,0.25097681343004324,1.656911627497132,1.179288445516592,-0.13271766438827634,0.3001113425006879,1.0101157978281166,-0.8957405536547673,0.7595712933512376,-0.5193778376546777,0.1423613502424884,-2.1021074624815883,0.33302496576488233,-0.16979628990295093,-0.9468499260465263,-0.8834558066344341,0.6230893758350854,-0.649993041546382,1.448657701803833,-0.8458526622516507,-0.0981429164294889,-0.5936239908790261,-0.385848432532634,-1.3735488390101918,-1.0056553057412447,-1.26730052140875,0.6556464292500415,-0.1334056210776524,-0.5853856257269497,0.6067943948542077,-0.9524477619805134,0.8256890188080714,-0.38544439397462416,-0.09760326316560804,-1.162915585696774,-0.38799627732569153,0.9711969001992721,1.6523680779276493,-1.8045995945136548,0.8692706779303185,0.2982140066126374,-2.232879857099527,0.271029852610972,-0.45240581774251093,0.9318810556623758,-0.26768715861225206,-1.1455708825858975,1.8683283454304598,0.8573275444364243,1.3325036587822003,2.599708051322223,2.5408176068246195,0.24426027282740315,1.9126990659987366],\"xaxis\":\"x9\",\"y\":[1.305013536467514,-1.42535470765432,-0.12604113800944422,-1.48294028151399,-1.524921453966342,-0.5001396586077944,0.9663594848222418,0.6511632211392434,1.2680562169430485,0.38578439429421557,0.5948018303689191,-1.1486200699604603,0.18266163250939058,0.8820540564297727,-0.24497020377414525,0.025594545763943804,0.12869585390591737,0.32142737960936585,-0.050387034257378685,-0.334310650000316,0.22099012296039902,0.7966918812019385,-1.8672512456999801,0.9320048080127644,0.45018206948666273,0.9428787760376252,-1.3737807738819845,0.8315192343611962,0.6912197955804958,1.7722529173107047,-1.8766564316157268,0.4573995287753774,0.2640895583425982,-0.07785549272185156,-2.165729817573907,-1.237526212398555,-1.0128233349217224,-0.8386553327108263,-1.1369503186573282,1.5351188890422152,-1.379901191652556,0.10140996016831537,1.7651260380058793,0.18010736037245792,-0.6083695023874888,1.2067994728795954,0.4916312019935608,-1.1545406480393758,-1.604204214745099,-0.7988062547947758,1.6134360527825156,0.7648888859158497,-0.3129062452567959,0.9834626468593414,1.1132841728809684,0.8569404529255602,-0.9969600565737744,-0.19061421718370442,0.49459276857565976,-1.3557839268561214,0.18585644198419426,0.17575848935819968,0.07385563415515443,-2.0111013420485704,-0.1450443563724643,-0.17829109324925918,-0.10534795960111619,1.1640546289995994,0.044219694769802365,0.2501051062167861,0.7550480431034529,-1.8383251520794013,0.9060834010968599,-0.8790522337087745,-1.3445913589928218,0.38799898723469833,-1.1778874444502483,-0.010612373003847918,-0.7129127509935006,-1.2918209551292188,-1.592624367200515,-0.2602964600542373,-0.4710181079301098,-1.6549395511165124,0.050982258805437185,0.7781629925706114,0.7596015165039246,0.4086283918127778,1.0038304937754987,0.4528236588677294,0.8922440211325979,0.4895309999077554,-0.2809943324827049,-0.2715467430678329,-0.08030487095646313,0.530441125757145,-0.04033073393472941,0.008113269410795433,1.493067032951811,0.9209224832222817],\"yaxis\":\"y9\",\"type\":\"scatter\"},{\"line\":{\"color\":\"rgba(128, 128, 128, 1.0)\",\"dash\":\"solid\",\"shape\":\"linear\",\"width\":1.3},\"marker\":{\"size\":2,\"symbol\":\"circle\"},\"mode\":\"markers\",\"name\":\"C\",\"text\":\"\",\"x\":[-0.14411142071418448,0.4543383861726146,-0.7083109717970135,1.0903842538507134,-0.9618951277509531,0.7910225125160179,-0.09170042656156237,1.2065985419544019,0.5554298383945874,1.2392441562349639,-0.10418607581733894,-1.5962761205932277,-0.6726747533058741,0.40019099429991684,0.35184677700579475,-0.24545355294518686,1.6395704390094321,0.14405723113709348,0.3926952588678192,0.3654074215407099,-0.7681215022777197,-1.4062832714563236,-1.2546410580879253,0.18550467761114373,-0.8431939326081225,-2.06963127321301,1.48658934053319,-1.3326252323447432,-0.56726203886916,0.1361568603876222,0.6083662168232864,-0.09910069096383518,1.0820082378249034,0.31019928685403797,-0.731073676798277,0.040732192306421416,-0.8107107612338843,1.4173142860072543,-0.27584483581014213,2.5355035017244085,1.3112730058506958,-0.41427195107802095,-0.1741073227349552,1.6087551847409967,-0.9134078520482416,0.1136295862603745,0.17373761739318422,0.808462558759177,-2.1897539132033033,0.08330649712203049,0.8248180483876241,-0.40453200043901594,-0.4694871922459325,0.6698077464337866,0.3565346365704142,0.12869804689699224,0.67017515921362,0.5360783407567321,-0.2917074199552538,0.4365141785381166,0.6105572925783977,0.9734497641828365,1.4562443431718226,-0.4981857939219861,-0.9386690265452898,1.7311316676972948,-0.6298966613647587,0.815225989591915,-0.4602572673509436,-0.9150007309938142,0.10863252084373735,1.1729531883979405,-1.631017696238814,-1.8496504257349287,0.17950210460028163,0.9682133702319166,-1.484707530253836,-1.639085276989806,0.40140816264697965,0.6390331364973107,1.2323156584101398,2.162752863112274,1.1815167591012996,-1.9852722873734716,-1.0431001767275785,-1.279261507190979,-1.411883001080788,0.6140936180273153,-1.2851155395037284,-0.42350457709057093,-0.2271241069058536,-2.1592081055400807,-0.6316189001075955,0.490315679755434,-0.6518997189531053,-0.10202977067303974,0.8948687383146906,0.24313123575142453,-0.10391921868855766,0.7618133728978007],\"xaxis\":\"x10\",\"y\":[1.305013536467514,-1.42535470765432,-0.12604113800944422,-1.48294028151399,-1.524921453966342,-0.5001396586077944,0.9663594848222418,0.6511632211392434,1.2680562169430485,0.38578439429421557,0.5948018303689191,-1.1486200699604603,0.18266163250939058,0.8820540564297727,-0.24497020377414525,0.025594545763943804,0.12869585390591737,0.32142737960936585,-0.050387034257378685,-0.334310650000316,0.22099012296039902,0.7966918812019385,-1.8672512456999801,0.9320048080127644,0.45018206948666273,0.9428787760376252,-1.3737807738819845,0.8315192343611962,0.6912197955804958,1.7722529173107047,-1.8766564316157268,0.4573995287753774,0.2640895583425982,-0.07785549272185156,-2.165729817573907,-1.237526212398555,-1.0128233349217224,-0.8386553327108263,-1.1369503186573282,1.5351188890422152,-1.379901191652556,0.10140996016831537,1.7651260380058793,0.18010736037245792,-0.6083695023874888,1.2067994728795954,0.4916312019935608,-1.1545406480393758,-1.604204214745099,-0.7988062547947758,1.6134360527825156,0.7648888859158497,-0.3129062452567959,0.9834626468593414,1.1132841728809684,0.8569404529255602,-0.9969600565737744,-0.19061421718370442,0.49459276857565976,-1.3557839268561214,0.18585644198419426,0.17575848935819968,0.07385563415515443,-2.0111013420485704,-0.1450443563724643,-0.17829109324925918,-0.10534795960111619,1.1640546289995994,0.044219694769802365,0.2501051062167861,0.7550480431034529,-1.8383251520794013,0.9060834010968599,-0.8790522337087745,-1.3445913589928218,0.38799898723469833,-1.1778874444502483,-0.010612373003847918,-0.7129127509935006,-1.2918209551292188,-1.592624367200515,-0.2602964600542373,-0.4710181079301098,-1.6549395511165124,0.050982258805437185,0.7781629925706114,0.7596015165039246,0.4086283918127778,1.0038304937754987,0.4528236588677294,0.8922440211325979,0.4895309999077554,-0.2809943324827049,-0.2715467430678329,-0.08030487095646313,0.530441125757145,-0.04033073393472941,0.008113269410795433,1.493067032951811,0.9209224832222817],\"yaxis\":\"y10\",\"type\":\"scatter\"},{\"histfunc\":\"count\",\"histnorm\":\"\",\"marker\":{\"color\":\"rgba(50, 171, 96, 1.0)\",\"line\":{\"color\":\"#4D5663\",\"width\":1.3}},\"name\":\"C\",\"nbinsx\":10,\"opacity\":0.8,\"orientation\":\"v\",\"x\":[1.305013536467514,-1.42535470765432,-0.12604113800944422,-1.48294028151399,-1.524921453966342,-0.5001396586077944,0.9663594848222418,0.6511632211392434,1.2680562169430485,0.38578439429421557,0.5948018303689191,-1.1486200699604603,0.18266163250939058,0.8820540564297727,-0.24497020377414525,0.025594545763943804,0.12869585390591737,0.32142737960936585,-0.050387034257378685,-0.334310650000316,0.22099012296039902,0.7966918812019385,-1.8672512456999801,0.9320048080127644,0.45018206948666273,0.9428787760376252,-1.3737807738819845,0.8315192343611962,0.6912197955804958,1.7722529173107047,-1.8766564316157268,0.4573995287753774,0.2640895583425982,-0.07785549272185156,-2.165729817573907,-1.237526212398555,-1.0128233349217224,-0.8386553327108263,-1.1369503186573282,1.5351188890422152,-1.379901191652556,0.10140996016831537,1.7651260380058793,0.18010736037245792,-0.6083695023874888,1.2067994728795954,0.4916312019935608,-1.1545406480393758,-1.604204214745099,-0.7988062547947758,1.6134360527825156,0.7648888859158497,-0.3129062452567959,0.9834626468593414,1.1132841728809684,0.8569404529255602,-0.9969600565737744,-0.19061421718370442,0.49459276857565976,-1.3557839268561214,0.18585644198419426,0.17575848935819968,0.07385563415515443,-2.0111013420485704,-0.1450443563724643,-0.17829109324925918,-0.10534795960111619,1.1640546289995994,0.044219694769802365,0.2501051062167861,0.7550480431034529,-1.8383251520794013,0.9060834010968599,-0.8790522337087745,-1.3445913589928218,0.38799898723469833,-1.1778874444502483,-0.010612373003847918,-0.7129127509935006,-1.2918209551292188,-1.592624367200515,-0.2602964600542373,-0.4710181079301098,-1.6549395511165124,0.050982258805437185,0.7781629925706114,0.7596015165039246,0.4086283918127778,1.0038304937754987,0.4528236588677294,0.8922440211325979,0.4895309999077554,-0.2809943324827049,-0.2715467430678329,-0.08030487095646313,0.530441125757145,-0.04033073393472941,0.008113269410795433,1.493067032951811,0.9209224832222817],\"xaxis\":\"x11\",\"yaxis\":\"y11\",\"type\":\"histogram\"},{\"line\":{\"color\":\"rgba(128, 128, 128, 1.0)\",\"dash\":\"solid\",\"shape\":\"linear\",\"width\":1.3},\"marker\":{\"size\":2,\"symbol\":\"circle\"},\"mode\":\"markers\",\"name\":\"C\",\"text\":\"\",\"x\":[0.3054230738083809,1.1789013899075005,1.098021073503437,1.5512280632862248,-2.0949439421886207,-0.11363665601526601,0.7395114620876521,0.4477857131460393,0.9223742243093176,-1.077721376778996,-0.5484778158816865,-1.4691868746258816,1.4991774408058693,-0.40317001578517686,0.40315341799002097,-0.6713193679546652,-0.5089714916072127,-0.15034524373173602,1.0771028214664136,-0.48093701537607175,-1.0300234581011998,-0.8093034044191941,0.8620688961197059,0.49288406455008704,-0.4812786116314043,-0.4494076267675402,0.2967218210320583,0.2213746321191471,0.6509611090035058,1.6244901230062958,0.6404081217454802,-0.49459122247551535,-0.04491658595260175,1.0705693077055967,-0.8055313328239344,0.006036740985196447,1.1796302428983652,-0.4148101372785504,1.402274959609972,0.5175474904029675,-1.1407129767053383,0.9464484951509217,0.7510066724113348,-1.2018892237795142,-2.524376737193402,-0.3540747956012334,-0.9928922123118572,2.6928156075338174,0.008305616944702885,-0.9890457437497764,1.4686464117253037,0.5804553535299848,-0.7067340857805501,0.8313774240925941,-0.9988803069071867,0.6209174780368496,0.17494713339245044,-1.0128812533315694,-0.38338884946158713,0.11785317920806535,-0.8844941537313951,0.7387029800154007,-0.7269738986645328,1.1641540207702687,1.541554995438241,-1.1061846525126717,-0.9666268322520456,1.644095779273358,-0.2859944093154943,0.0845312131984907,0.6440209479181911,0.44431312044641647,1.1071126459843645,0.3744018472490756,1.9489693486688506,2.1187884910969816,-0.6431291968014526,-0.5287506822288152,2.90859967493311,0.7124052403852407,-1.253920557757355,-2.1576032459715857,-0.8593191175675434,2.3206124233483627,-0.7452654586987822,0.7237418253648195,-0.4785650608077709,-0.5381946389685107,-1.3767333240213495,-0.6927653867972688,-0.21739281630230928,-0.14726466629852822,-1.7237093455267913,-1.3525520540261509,2.128864366455416,-0.4694671415443432,-0.3308872029680333,-2.746400553650332,1.0168288445610016,0.9478876345541277],\"xaxis\":\"x12\",\"y\":[1.305013536467514,-1.42535470765432,-0.12604113800944422,-1.48294028151399,-1.524921453966342,-0.5001396586077944,0.9663594848222418,0.6511632211392434,1.2680562169430485,0.38578439429421557,0.5948018303689191,-1.1486200699604603,0.18266163250939058,0.8820540564297727,-0.24497020377414525,0.025594545763943804,0.12869585390591737,0.32142737960936585,-0.050387034257378685,-0.334310650000316,0.22099012296039902,0.7966918812019385,-1.8672512456999801,0.9320048080127644,0.45018206948666273,0.9428787760376252,-1.3737807738819845,0.8315192343611962,0.6912197955804958,1.7722529173107047,-1.8766564316157268,0.4573995287753774,0.2640895583425982,-0.07785549272185156,-2.165729817573907,-1.237526212398555,-1.0128233349217224,-0.8386553327108263,-1.1369503186573282,1.5351188890422152,-1.379901191652556,0.10140996016831537,1.7651260380058793,0.18010736037245792,-0.6083695023874888,1.2067994728795954,0.4916312019935608,-1.1545406480393758,-1.604204214745099,-0.7988062547947758,1.6134360527825156,0.7648888859158497,-0.3129062452567959,0.9834626468593414,1.1132841728809684,0.8569404529255602,-0.9969600565737744,-0.19061421718370442,0.49459276857565976,-1.3557839268561214,0.18585644198419426,0.17575848935819968,0.07385563415515443,-2.0111013420485704,-0.1450443563724643,-0.17829109324925918,-0.10534795960111619,1.1640546289995994,0.044219694769802365,0.2501051062167861,0.7550480431034529,-1.8383251520794013,0.9060834010968599,-0.8790522337087745,-1.3445913589928218,0.38799898723469833,-1.1778874444502483,-0.010612373003847918,-0.7129127509935006,-1.2918209551292188,-1.592624367200515,-0.2602964600542373,-0.4710181079301098,-1.6549395511165124,0.050982258805437185,0.7781629925706114,0.7596015165039246,0.4086283918127778,1.0038304937754987,0.4528236588677294,0.8922440211325979,0.4895309999077554,-0.2809943324827049,-0.2715467430678329,-0.08030487095646313,0.530441125757145,-0.04033073393472941,0.008113269410795433,1.493067032951811,0.9209224832222817],\"yaxis\":\"y12\",\"type\":\"scatter\"},{\"line\":{\"color\":\"rgba(128, 128, 128, 1.0)\",\"dash\":\"solid\",\"shape\":\"linear\",\"width\":1.3},\"marker\":{\"size\":2,\"symbol\":\"circle\"},\"mode\":\"markers\",\"name\":\"D\",\"text\":\"\",\"x\":[0.7524227622239249,-0.6487508694482285,-0.12276902469067315,-1.7956304294769236,-0.9799731504092138,1.3362874408281362,1.6300701479361905,1.893259976205648,1.102454540951155,-2.1450995701597635,-0.27791957658198363,0.5884301683993967,0.615111776799618,0.2015144223854086,2.1435623735574123,-1.4930470533502194,1.5356692790966953,-1.0229093074170883,0.1759924467352236,-0.5835389825445142,-1.5045905284820054,0.7121602950723773,0.027639743148447422,1.4899290306550939,2.7417157921905764,1.1071397111583028,0.1116141070140691,0.49478387791171435,0.09675256767697327,2.1385303960269098,-0.6690582559318675,-0.0625705570795616,0.35924665837333947,0.03971910887051859,0.9831002494786435,0.9006490205825207,-0.9538509595822618,-0.20768454140825984,1.1296875020178823,0.061143301200641514,0.16916316503414763,-1.166564321780111,0.5891047687352472,0.793330260909169,-0.9834954995976098,0.6372477908713823,1.176628879265964,0.25097681343004324,1.656911627497132,1.179288445516592,-0.13271766438827634,0.3001113425006879,1.0101157978281166,-0.8957405536547673,0.7595712933512376,-0.5193778376546777,0.1423613502424884,-2.1021074624815883,0.33302496576488233,-0.16979628990295093,-0.9468499260465263,-0.8834558066344341,0.6230893758350854,-0.649993041546382,1.448657701803833,-0.8458526622516507,-0.0981429164294889,-0.5936239908790261,-0.385848432532634,-1.3735488390101918,-1.0056553057412447,-1.26730052140875,0.6556464292500415,-0.1334056210776524,-0.5853856257269497,0.6067943948542077,-0.9524477619805134,0.8256890188080714,-0.38544439397462416,-0.09760326316560804,-1.162915585696774,-0.38799627732569153,0.9711969001992721,1.6523680779276493,-1.8045995945136548,0.8692706779303185,0.2982140066126374,-2.232879857099527,0.271029852610972,-0.45240581774251093,0.9318810556623758,-0.26768715861225206,-1.1455708825858975,1.8683283454304598,0.8573275444364243,1.3325036587822003,2.599708051322223,2.5408176068246195,0.24426027282740315,1.9126990659987366],\"xaxis\":\"x13\",\"y\":[0.3054230738083809,1.1789013899075005,1.098021073503437,1.5512280632862248,-2.0949439421886207,-0.11363665601526601,0.7395114620876521,0.4477857131460393,0.9223742243093176,-1.077721376778996,-0.5484778158816865,-1.4691868746258816,1.4991774408058693,-0.40317001578517686,0.40315341799002097,-0.6713193679546652,-0.5089714916072127,-0.15034524373173602,1.0771028214664136,-0.48093701537607175,-1.0300234581011998,-0.8093034044191941,0.8620688961197059,0.49288406455008704,-0.4812786116314043,-0.4494076267675402,0.2967218210320583,0.2213746321191471,0.6509611090035058,1.6244901230062958,0.6404081217454802,-0.49459122247551535,-0.04491658595260175,1.0705693077055967,-0.8055313328239344,0.006036740985196447,1.1796302428983652,-0.4148101372785504,1.402274959609972,0.5175474904029675,-1.1407129767053383,0.9464484951509217,0.7510066724113348,-1.2018892237795142,-2.524376737193402,-0.3540747956012334,-0.9928922123118572,2.6928156075338174,0.008305616944702885,-0.9890457437497764,1.4686464117253037,0.5804553535299848,-0.7067340857805501,0.8313774240925941,-0.9988803069071867,0.6209174780368496,0.17494713339245044,-1.0128812533315694,-0.38338884946158713,0.11785317920806535,-0.8844941537313951,0.7387029800154007,-0.7269738986645328,1.1641540207702687,1.541554995438241,-1.1061846525126717,-0.9666268322520456,1.644095779273358,-0.2859944093154943,0.0845312131984907,0.6440209479181911,0.44431312044641647,1.1071126459843645,0.3744018472490756,1.9489693486688506,2.1187884910969816,-0.6431291968014526,-0.5287506822288152,2.90859967493311,0.7124052403852407,-1.253920557757355,-2.1576032459715857,-0.8593191175675434,2.3206124233483627,-0.7452654586987822,0.7237418253648195,-0.4785650608077709,-0.5381946389685107,-1.3767333240213495,-0.6927653867972688,-0.21739281630230928,-0.14726466629852822,-1.7237093455267913,-1.3525520540261509,2.128864366455416,-0.4694671415443432,-0.3308872029680333,-2.746400553650332,1.0168288445610016,0.9478876345541277],\"yaxis\":\"y13\",\"type\":\"scatter\"},{\"line\":{\"color\":\"rgba(128, 128, 128, 1.0)\",\"dash\":\"solid\",\"shape\":\"linear\",\"width\":1.3},\"marker\":{\"size\":2,\"symbol\":\"circle\"},\"mode\":\"markers\",\"name\":\"D\",\"text\":\"\",\"x\":[-0.14411142071418448,0.4543383861726146,-0.7083109717970135,1.0903842538507134,-0.9618951277509531,0.7910225125160179,-0.09170042656156237,1.2065985419544019,0.5554298383945874,1.2392441562349639,-0.10418607581733894,-1.5962761205932277,-0.6726747533058741,0.40019099429991684,0.35184677700579475,-0.24545355294518686,1.6395704390094321,0.14405723113709348,0.3926952588678192,0.3654074215407099,-0.7681215022777197,-1.4062832714563236,-1.2546410580879253,0.18550467761114373,-0.8431939326081225,-2.06963127321301,1.48658934053319,-1.3326252323447432,-0.56726203886916,0.1361568603876222,0.6083662168232864,-0.09910069096383518,1.0820082378249034,0.31019928685403797,-0.731073676798277,0.040732192306421416,-0.8107107612338843,1.4173142860072543,-0.27584483581014213,2.5355035017244085,1.3112730058506958,-0.41427195107802095,-0.1741073227349552,1.6087551847409967,-0.9134078520482416,0.1136295862603745,0.17373761739318422,0.808462558759177,-2.1897539132033033,0.08330649712203049,0.8248180483876241,-0.40453200043901594,-0.4694871922459325,0.6698077464337866,0.3565346365704142,0.12869804689699224,0.67017515921362,0.5360783407567321,-0.2917074199552538,0.4365141785381166,0.6105572925783977,0.9734497641828365,1.4562443431718226,-0.4981857939219861,-0.9386690265452898,1.7311316676972948,-0.6298966613647587,0.815225989591915,-0.4602572673509436,-0.9150007309938142,0.10863252084373735,1.1729531883979405,-1.631017696238814,-1.8496504257349287,0.17950210460028163,0.9682133702319166,-1.484707530253836,-1.639085276989806,0.40140816264697965,0.6390331364973107,1.2323156584101398,2.162752863112274,1.1815167591012996,-1.9852722873734716,-1.0431001767275785,-1.279261507190979,-1.411883001080788,0.6140936180273153,-1.2851155395037284,-0.42350457709057093,-0.2271241069058536,-2.1592081055400807,-0.6316189001075955,0.490315679755434,-0.6518997189531053,-0.10202977067303974,0.8948687383146906,0.24313123575142453,-0.10391921868855766,0.7618133728978007],\"xaxis\":\"x14\",\"y\":[0.3054230738083809,1.1789013899075005,1.098021073503437,1.5512280632862248,-2.0949439421886207,-0.11363665601526601,0.7395114620876521,0.4477857131460393,0.9223742243093176,-1.077721376778996,-0.5484778158816865,-1.4691868746258816,1.4991774408058693,-0.40317001578517686,0.40315341799002097,-0.6713193679546652,-0.5089714916072127,-0.15034524373173602,1.0771028214664136,-0.48093701537607175,-1.0300234581011998,-0.8093034044191941,0.8620688961197059,0.49288406455008704,-0.4812786116314043,-0.4494076267675402,0.2967218210320583,0.2213746321191471,0.6509611090035058,1.6244901230062958,0.6404081217454802,-0.49459122247551535,-0.04491658595260175,1.0705693077055967,-0.8055313328239344,0.006036740985196447,1.1796302428983652,-0.4148101372785504,1.402274959609972,0.5175474904029675,-1.1407129767053383,0.9464484951509217,0.7510066724113348,-1.2018892237795142,-2.524376737193402,-0.3540747956012334,-0.9928922123118572,2.6928156075338174,0.008305616944702885,-0.9890457437497764,1.4686464117253037,0.5804553535299848,-0.7067340857805501,0.8313774240925941,-0.9988803069071867,0.6209174780368496,0.17494713339245044,-1.0128812533315694,-0.38338884946158713,0.11785317920806535,-0.8844941537313951,0.7387029800154007,-0.7269738986645328,1.1641540207702687,1.541554995438241,-1.1061846525126717,-0.9666268322520456,1.644095779273358,-0.2859944093154943,0.0845312131984907,0.6440209479181911,0.44431312044641647,1.1071126459843645,0.3744018472490756,1.9489693486688506,2.1187884910969816,-0.6431291968014526,-0.5287506822288152,2.90859967493311,0.7124052403852407,-1.253920557757355,-2.1576032459715857,-0.8593191175675434,2.3206124233483627,-0.7452654586987822,0.7237418253648195,-0.4785650608077709,-0.5381946389685107,-1.3767333240213495,-0.6927653867972688,-0.21739281630230928,-0.14726466629852822,-1.7237093455267913,-1.3525520540261509,2.128864366455416,-0.4694671415443432,-0.3308872029680333,-2.746400553650332,1.0168288445610016,0.9478876345541277],\"yaxis\":\"y14\",\"type\":\"scatter\"},{\"line\":{\"color\":\"rgba(128, 128, 128, 1.0)\",\"dash\":\"solid\",\"shape\":\"linear\",\"width\":1.3},\"marker\":{\"size\":2,\"symbol\":\"circle\"},\"mode\":\"markers\",\"name\":\"D\",\"text\":\"\",\"x\":[1.305013536467514,-1.42535470765432,-0.12604113800944422,-1.48294028151399,-1.524921453966342,-0.5001396586077944,0.9663594848222418,0.6511632211392434,1.2680562169430485,0.38578439429421557,0.5948018303689191,-1.1486200699604603,0.18266163250939058,0.8820540564297727,-0.24497020377414525,0.025594545763943804,0.12869585390591737,0.32142737960936585,-0.050387034257378685,-0.334310650000316,0.22099012296039902,0.7966918812019385,-1.8672512456999801,0.9320048080127644,0.45018206948666273,0.9428787760376252,-1.3737807738819845,0.8315192343611962,0.6912197955804958,1.7722529173107047,-1.8766564316157268,0.4573995287753774,0.2640895583425982,-0.07785549272185156,-2.165729817573907,-1.237526212398555,-1.0128233349217224,-0.8386553327108263,-1.1369503186573282,1.5351188890422152,-1.379901191652556,0.10140996016831537,1.7651260380058793,0.18010736037245792,-0.6083695023874888,1.2067994728795954,0.4916312019935608,-1.1545406480393758,-1.604204214745099,-0.7988062547947758,1.6134360527825156,0.7648888859158497,-0.3129062452567959,0.9834626468593414,1.1132841728809684,0.8569404529255602,-0.9969600565737744,-0.19061421718370442,0.49459276857565976,-1.3557839268561214,0.18585644198419426,0.17575848935819968,0.07385563415515443,-2.0111013420485704,-0.1450443563724643,-0.17829109324925918,-0.10534795960111619,1.1640546289995994,0.044219694769802365,0.2501051062167861,0.7550480431034529,-1.8383251520794013,0.9060834010968599,-0.8790522337087745,-1.3445913589928218,0.38799898723469833,-1.1778874444502483,-0.010612373003847918,-0.7129127509935006,-1.2918209551292188,-1.592624367200515,-0.2602964600542373,-0.4710181079301098,-1.6549395511165124,0.050982258805437185,0.7781629925706114,0.7596015165039246,0.4086283918127778,1.0038304937754987,0.4528236588677294,0.8922440211325979,0.4895309999077554,-0.2809943324827049,-0.2715467430678329,-0.08030487095646313,0.530441125757145,-0.04033073393472941,0.008113269410795433,1.493067032951811,0.9209224832222817],\"xaxis\":\"x15\",\"y\":[0.3054230738083809,1.1789013899075005,1.098021073503437,1.5512280632862248,-2.0949439421886207,-0.11363665601526601,0.7395114620876521,0.4477857131460393,0.9223742243093176,-1.077721376778996,-0.5484778158816865,-1.4691868746258816,1.4991774408058693,-0.40317001578517686,0.40315341799002097,-0.6713193679546652,-0.5089714916072127,-0.15034524373173602,1.0771028214664136,-0.48093701537607175,-1.0300234581011998,-0.8093034044191941,0.8620688961197059,0.49288406455008704,-0.4812786116314043,-0.4494076267675402,0.2967218210320583,0.2213746321191471,0.6509611090035058,1.6244901230062958,0.6404081217454802,-0.49459122247551535,-0.04491658595260175,1.0705693077055967,-0.8055313328239344,0.006036740985196447,1.1796302428983652,-0.4148101372785504,1.402274959609972,0.5175474904029675,-1.1407129767053383,0.9464484951509217,0.7510066724113348,-1.2018892237795142,-2.524376737193402,-0.3540747956012334,-0.9928922123118572,2.6928156075338174,0.008305616944702885,-0.9890457437497764,1.4686464117253037,0.5804553535299848,-0.7067340857805501,0.8313774240925941,-0.9988803069071867,0.6209174780368496,0.17494713339245044,-1.0128812533315694,-0.38338884946158713,0.11785317920806535,-0.8844941537313951,0.7387029800154007,-0.7269738986645328,1.1641540207702687,1.541554995438241,-1.1061846525126717,-0.9666268322520456,1.644095779273358,-0.2859944093154943,0.0845312131984907,0.6440209479181911,0.44431312044641647,1.1071126459843645,0.3744018472490756,1.9489693486688506,2.1187884910969816,-0.6431291968014526,-0.5287506822288152,2.90859967493311,0.7124052403852407,-1.253920557757355,-2.1576032459715857,-0.8593191175675434,2.3206124233483627,-0.7452654586987822,0.7237418253648195,-0.4785650608077709,-0.5381946389685107,-1.3767333240213495,-0.6927653867972688,-0.21739281630230928,-0.14726466629852822,-1.7237093455267913,-1.3525520540261509,2.128864366455416,-0.4694671415443432,-0.3308872029680333,-2.746400553650332,1.0168288445610016,0.9478876345541277],\"yaxis\":\"y15\",\"type\":\"scatter\"},{\"histfunc\":\"count\",\"histnorm\":\"\",\"marker\":{\"color\":\"rgba(128, 0, 128, 1.0)\",\"line\":{\"color\":\"#4D5663\",\"width\":1.3}},\"name\":\"D\",\"nbinsx\":10,\"opacity\":0.8,\"orientation\":\"v\",\"x\":[0.3054230738083809,1.1789013899075005,1.098021073503437,1.5512280632862248,-2.0949439421886207,-0.11363665601526601,0.7395114620876521,0.4477857131460393,0.9223742243093176,-1.077721376778996,-0.5484778158816865,-1.4691868746258816,1.4991774408058693,-0.40317001578517686,0.40315341799002097,-0.6713193679546652,-0.5089714916072127,-0.15034524373173602,1.0771028214664136,-0.48093701537607175,-1.0300234581011998,-0.8093034044191941,0.8620688961197059,0.49288406455008704,-0.4812786116314043,-0.4494076267675402,0.2967218210320583,0.2213746321191471,0.6509611090035058,1.6244901230062958,0.6404081217454802,-0.49459122247551535,-0.04491658595260175,1.0705693077055967,-0.8055313328239344,0.006036740985196447,1.1796302428983652,-0.4148101372785504,1.402274959609972,0.5175474904029675,-1.1407129767053383,0.9464484951509217,0.7510066724113348,-1.2018892237795142,-2.524376737193402,-0.3540747956012334,-0.9928922123118572,2.6928156075338174,0.008305616944702885,-0.9890457437497764,1.4686464117253037,0.5804553535299848,-0.7067340857805501,0.8313774240925941,-0.9988803069071867,0.6209174780368496,0.17494713339245044,-1.0128812533315694,-0.38338884946158713,0.11785317920806535,-0.8844941537313951,0.7387029800154007,-0.7269738986645328,1.1641540207702687,1.541554995438241,-1.1061846525126717,-0.9666268322520456,1.644095779273358,-0.2859944093154943,0.0845312131984907,0.6440209479181911,0.44431312044641647,1.1071126459843645,0.3744018472490756,1.9489693486688506,2.1187884910969816,-0.6431291968014526,-0.5287506822288152,2.90859967493311,0.7124052403852407,-1.253920557757355,-2.1576032459715857,-0.8593191175675434,2.3206124233483627,-0.7452654586987822,0.7237418253648195,-0.4785650608077709,-0.5381946389685107,-1.3767333240213495,-0.6927653867972688,-0.21739281630230928,-0.14726466629852822,-1.7237093455267913,-1.3525520540261509,2.128864366455416,-0.4694671415443432,-0.3308872029680333,-2.746400553650332,1.0168288445610016,0.9478876345541277],\"xaxis\":\"x16\",\"yaxis\":\"y16\",\"type\":\"histogram\"}],                        {\"bargap\":0.02,\"legend\":{\"bgcolor\":\"#F5F6F9\",\"font\":{\"color\":\"#4D5663\"}},\"paper_bgcolor\":\"#F5F6F9\",\"plot_bgcolor\":\"#F5F6F9\",\"showlegend\":false,\"template\":{\"data\":{\"barpolar\":[{\"marker\":{\"line\":{\"color\":\"#E5ECF6\",\"width\":0.5},\"pattern\":{\"fillmode\":\"overlay\",\"size\":10,\"solidity\":0.2}},\"type\":\"barpolar\"}],\"bar\":[{\"error_x\":{\"color\":\"#2a3f5f\"},\"error_y\":{\"color\":\"#2a3f5f\"},\"marker\":{\"line\":{\"color\":\"#E5ECF6\",\"width\":0.5},\"pattern\":{\"fillmode\":\"overlay\",\"size\":10,\"solidity\":0.2}},\"type\":\"bar\"}],\"carpet\":[{\"aaxis\":{\"endlinecolor\":\"#2a3f5f\",\"gridcolor\":\"white\",\"linecolor\":\"white\",\"minorgridcolor\":\"white\",\"startlinecolor\":\"#2a3f5f\"},\"baxis\":{\"endlinecolor\":\"#2a3f5f\",\"gridcolor\":\"white\",\"linecolor\":\"white\",\"minorgridcolor\":\"white\",\"startlinecolor\":\"#2a3f5f\"},\"type\":\"carpet\"}],\"choropleth\":[{\"colorbar\":{\"outlinewidth\":0,\"ticks\":\"\"},\"type\":\"choropleth\"}],\"contourcarpet\":[{\"colorbar\":{\"outlinewidth\":0,\"ticks\":\"\"},\"type\":\"contourcarpet\"}],\"contour\":[{\"colorbar\":{\"outlinewidth\":0,\"ticks\":\"\"},\"colorscale\":[[0.0,\"#0d0887\"],[0.1111111111111111,\"#46039f\"],[0.2222222222222222,\"#7201a8\"],[0.3333333333333333,\"#9c179e\"],[0.4444444444444444,\"#bd3786\"],[0.5555555555555556,\"#d8576b\"],[0.6666666666666666,\"#ed7953\"],[0.7777777777777778,\"#fb9f3a\"],[0.8888888888888888,\"#fdca26\"],[1.0,\"#f0f921\"]],\"type\":\"contour\"}],\"heatmapgl\":[{\"colorbar\":{\"outlinewidth\":0,\"ticks\":\"\"},\"colorscale\":[[0.0,\"#0d0887\"],[0.1111111111111111,\"#46039f\"],[0.2222222222222222,\"#7201a8\"],[0.3333333333333333,\"#9c179e\"],[0.4444444444444444,\"#bd3786\"],[0.5555555555555556,\"#d8576b\"],[0.6666666666666666,\"#ed7953\"],[0.7777777777777778,\"#fb9f3a\"],[0.8888888888888888,\"#fdca26\"],[1.0,\"#f0f921\"]],\"type\":\"heatmapgl\"}],\"heatmap\":[{\"colorbar\":{\"outlinewidth\":0,\"ticks\":\"\"},\"colorscale\":[[0.0,\"#0d0887\"],[0.1111111111111111,\"#46039f\"],[0.2222222222222222,\"#7201a8\"],[0.3333333333333333,\"#9c179e\"],[0.4444444444444444,\"#bd3786\"],[0.5555555555555556,\"#d8576b\"],[0.6666666666666666,\"#ed7953\"],[0.7777777777777778,\"#fb9f3a\"],[0.8888888888888888,\"#fdca26\"],[1.0,\"#f0f921\"]],\"type\":\"heatmap\"}],\"histogram2dcontour\":[{\"colorbar\":{\"outlinewidth\":0,\"ticks\":\"\"},\"colorscale\":[[0.0,\"#0d0887\"],[0.1111111111111111,\"#46039f\"],[0.2222222222222222,\"#7201a8\"],[0.3333333333333333,\"#9c179e\"],[0.4444444444444444,\"#bd3786\"],[0.5555555555555556,\"#d8576b\"],[0.6666666666666666,\"#ed7953\"],[0.7777777777777778,\"#fb9f3a\"],[0.8888888888888888,\"#fdca26\"],[1.0,\"#f0f921\"]],\"type\":\"histogram2dcontour\"}],\"histogram2d\":[{\"colorbar\":{\"outlinewidth\":0,\"ticks\":\"\"},\"colorscale\":[[0.0,\"#0d0887\"],[0.1111111111111111,\"#46039f\"],[0.2222222222222222,\"#7201a8\"],[0.3333333333333333,\"#9c179e\"],[0.4444444444444444,\"#bd3786\"],[0.5555555555555556,\"#d8576b\"],[0.6666666666666666,\"#ed7953\"],[0.7777777777777778,\"#fb9f3a\"],[0.8888888888888888,\"#fdca26\"],[1.0,\"#f0f921\"]],\"type\":\"histogram2d\"}],\"histogram\":[{\"marker\":{\"pattern\":{\"fillmode\":\"overlay\",\"size\":10,\"solidity\":0.2}},\"type\":\"histogram\"}],\"mesh3d\":[{\"colorbar\":{\"outlinewidth\":0,\"ticks\":\"\"},\"type\":\"mesh3d\"}],\"parcoords\":[{\"line\":{\"colorbar\":{\"outlinewidth\":0,\"ticks\":\"\"}},\"type\":\"parcoords\"}],\"pie\":[{\"automargin\":true,\"type\":\"pie\"}],\"scatter3d\":[{\"line\":{\"colorbar\":{\"outlinewidth\":0,\"ticks\":\"\"}},\"marker\":{\"colorbar\":{\"outlinewidth\":0,\"ticks\":\"\"}},\"type\":\"scatter3d\"}],\"scattercarpet\":[{\"marker\":{\"colorbar\":{\"outlinewidth\":0,\"ticks\":\"\"}},\"type\":\"scattercarpet\"}],\"scattergeo\":[{\"marker\":{\"colorbar\":{\"outlinewidth\":0,\"ticks\":\"\"}},\"type\":\"scattergeo\"}],\"scattergl\":[{\"marker\":{\"colorbar\":{\"outlinewidth\":0,\"ticks\":\"\"}},\"type\":\"scattergl\"}],\"scattermapbox\":[{\"marker\":{\"colorbar\":{\"outlinewidth\":0,\"ticks\":\"\"}},\"type\":\"scattermapbox\"}],\"scatterpolargl\":[{\"marker\":{\"colorbar\":{\"outlinewidth\":0,\"ticks\":\"\"}},\"type\":\"scatterpolargl\"}],\"scatterpolar\":[{\"marker\":{\"colorbar\":{\"outlinewidth\":0,\"ticks\":\"\"}},\"type\":\"scatterpolar\"}],\"scatter\":[{\"fillpattern\":{\"fillmode\":\"overlay\",\"size\":10,\"solidity\":0.2},\"type\":\"scatter\"}],\"scatterternary\":[{\"marker\":{\"colorbar\":{\"outlinewidth\":0,\"ticks\":\"\"}},\"type\":\"scatterternary\"}],\"surface\":[{\"colorbar\":{\"outlinewidth\":0,\"ticks\":\"\"},\"colorscale\":[[0.0,\"#0d0887\"],[0.1111111111111111,\"#46039f\"],[0.2222222222222222,\"#7201a8\"],[0.3333333333333333,\"#9c179e\"],[0.4444444444444444,\"#bd3786\"],[0.5555555555555556,\"#d8576b\"],[0.6666666666666666,\"#ed7953\"],[0.7777777777777778,\"#fb9f3a\"],[0.8888888888888888,\"#fdca26\"],[1.0,\"#f0f921\"]],\"type\":\"surface\"}],\"table\":[{\"cells\":{\"fill\":{\"color\":\"#EBF0F8\"},\"line\":{\"color\":\"white\"}},\"header\":{\"fill\":{\"color\":\"#C8D4E3\"},\"line\":{\"color\":\"white\"}},\"type\":\"table\"}]},\"layout\":{\"annotationdefaults\":{\"arrowcolor\":\"#2a3f5f\",\"arrowhead\":0,\"arrowwidth\":1},\"autotypenumbers\":\"strict\",\"coloraxis\":{\"colorbar\":{\"outlinewidth\":0,\"ticks\":\"\"}},\"colorscale\":{\"diverging\":[[0,\"#8e0152\"],[0.1,\"#c51b7d\"],[0.2,\"#de77ae\"],[0.3,\"#f1b6da\"],[0.4,\"#fde0ef\"],[0.5,\"#f7f7f7\"],[0.6,\"#e6f5d0\"],[0.7,\"#b8e186\"],[0.8,\"#7fbc41\"],[0.9,\"#4d9221\"],[1,\"#276419\"]],\"sequential\":[[0.0,\"#0d0887\"],[0.1111111111111111,\"#46039f\"],[0.2222222222222222,\"#7201a8\"],[0.3333333333333333,\"#9c179e\"],[0.4444444444444444,\"#bd3786\"],[0.5555555555555556,\"#d8576b\"],[0.6666666666666666,\"#ed7953\"],[0.7777777777777778,\"#fb9f3a\"],[0.8888888888888888,\"#fdca26\"],[1.0,\"#f0f921\"]],\"sequentialminus\":[[0.0,\"#0d0887\"],[0.1111111111111111,\"#46039f\"],[0.2222222222222222,\"#7201a8\"],[0.3333333333333333,\"#9c179e\"],[0.4444444444444444,\"#bd3786\"],[0.5555555555555556,\"#d8576b\"],[0.6666666666666666,\"#ed7953\"],[0.7777777777777778,\"#fb9f3a\"],[0.8888888888888888,\"#fdca26\"],[1.0,\"#f0f921\"]]},\"colorway\":[\"#636efa\",\"#EF553B\",\"#00cc96\",\"#ab63fa\",\"#FFA15A\",\"#19d3f3\",\"#FF6692\",\"#B6E880\",\"#FF97FF\",\"#FECB52\"],\"font\":{\"color\":\"#2a3f5f\"},\"geo\":{\"bgcolor\":\"white\",\"lakecolor\":\"white\",\"landcolor\":\"#E5ECF6\",\"showlakes\":true,\"showland\":true,\"subunitcolor\":\"white\"},\"hoverlabel\":{\"align\":\"left\"},\"hovermode\":\"closest\",\"mapbox\":{\"style\":\"light\"},\"paper_bgcolor\":\"white\",\"plot_bgcolor\":\"#E5ECF6\",\"polar\":{\"angularaxis\":{\"gridcolor\":\"white\",\"linecolor\":\"white\",\"ticks\":\"\"},\"bgcolor\":\"#E5ECF6\",\"radialaxis\":{\"gridcolor\":\"white\",\"linecolor\":\"white\",\"ticks\":\"\"}},\"scene\":{\"xaxis\":{\"backgroundcolor\":\"#E5ECF6\",\"gridcolor\":\"white\",\"gridwidth\":2,\"linecolor\":\"white\",\"showbackground\":true,\"ticks\":\"\",\"zerolinecolor\":\"white\"},\"yaxis\":{\"backgroundcolor\":\"#E5ECF6\",\"gridcolor\":\"white\",\"gridwidth\":2,\"linecolor\":\"white\",\"showbackground\":true,\"ticks\":\"\",\"zerolinecolor\":\"white\"},\"zaxis\":{\"backgroundcolor\":\"#E5ECF6\",\"gridcolor\":\"white\",\"gridwidth\":2,\"linecolor\":\"white\",\"showbackground\":true,\"ticks\":\"\",\"zerolinecolor\":\"white\"}},\"shapedefaults\":{\"line\":{\"color\":\"#2a3f5f\"}},\"ternary\":{\"aaxis\":{\"gridcolor\":\"white\",\"linecolor\":\"white\",\"ticks\":\"\"},\"baxis\":{\"gridcolor\":\"white\",\"linecolor\":\"white\",\"ticks\":\"\"},\"bgcolor\":\"#E5ECF6\",\"caxis\":{\"gridcolor\":\"white\",\"linecolor\":\"white\",\"ticks\":\"\"}},\"title\":{\"x\":0.05},\"xaxis\":{\"automargin\":true,\"gridcolor\":\"white\",\"linecolor\":\"white\",\"ticks\":\"\",\"title\":{\"standoff\":15},\"zerolinecolor\":\"white\",\"zerolinewidth\":2},\"yaxis\":{\"automargin\":true,\"gridcolor\":\"white\",\"linecolor\":\"white\",\"ticks\":\"\",\"title\":{\"standoff\":15},\"zerolinecolor\":\"white\",\"zerolinewidth\":2}}},\"title\":{\"font\":{\"color\":\"#4D5663\"}},\"xaxis\":{\"anchor\":\"y\",\"domain\":[0.0,0.2125],\"gridcolor\":\"#E1E5ED\",\"showgrid\":false,\"tickfont\":{\"color\":\"#4D5663\"},\"title\":{\"font\":{\"color\":\"#4D5663\"},\"text\":\"\"},\"zerolinecolor\":\"#E1E5ED\"},\"yaxis\":{\"anchor\":\"x\",\"domain\":[0.8025,1.0],\"gridcolor\":\"#E1E5ED\",\"showgrid\":false,\"tickfont\":{\"color\":\"#4D5663\"},\"title\":{\"font\":{\"color\":\"#4D5663\"},\"text\":\"\"},\"zerolinecolor\":\"#E1E5ED\"},\"xaxis2\":{\"anchor\":\"y2\",\"domain\":[0.2625,0.475],\"gridcolor\":\"#E1E5ED\",\"showgrid\":false,\"tickfont\":{\"color\":\"#4D5663\"},\"title\":{\"font\":{\"color\":\"#4D5663\"},\"text\":\"\"},\"zerolinecolor\":\"#E1E5ED\"},\"yaxis2\":{\"anchor\":\"x2\",\"domain\":[0.8025,1.0],\"gridcolor\":\"#E1E5ED\",\"showgrid\":false,\"tickfont\":{\"color\":\"#4D5663\"},\"title\":{\"font\":{\"color\":\"#4D5663\"},\"text\":\"\"},\"zerolinecolor\":\"#E1E5ED\"},\"xaxis3\":{\"anchor\":\"y3\",\"domain\":[0.525,0.7375],\"gridcolor\":\"#E1E5ED\",\"showgrid\":false,\"tickfont\":{\"color\":\"#4D5663\"},\"title\":{\"font\":{\"color\":\"#4D5663\"},\"text\":\"\"},\"zerolinecolor\":\"#E1E5ED\"},\"yaxis3\":{\"anchor\":\"x3\",\"domain\":[0.8025,1.0],\"gridcolor\":\"#E1E5ED\",\"showgrid\":false,\"tickfont\":{\"color\":\"#4D5663\"},\"title\":{\"font\":{\"color\":\"#4D5663\"},\"text\":\"\"},\"zerolinecolor\":\"#E1E5ED\"},\"xaxis4\":{\"anchor\":\"y4\",\"domain\":[0.7875,1.0],\"gridcolor\":\"#E1E5ED\",\"showgrid\":false,\"tickfont\":{\"color\":\"#4D5663\"},\"title\":{\"font\":{\"color\":\"#4D5663\"},\"text\":\"\"},\"zerolinecolor\":\"#E1E5ED\"},\"yaxis4\":{\"anchor\":\"x4\",\"domain\":[0.8025,1.0],\"gridcolor\":\"#E1E5ED\",\"showgrid\":false,\"tickfont\":{\"color\":\"#4D5663\"},\"title\":{\"font\":{\"color\":\"#4D5663\"},\"text\":\"\"},\"zerolinecolor\":\"#E1E5ED\"},\"xaxis5\":{\"anchor\":\"y5\",\"domain\":[0.0,0.2125],\"gridcolor\":\"#E1E5ED\",\"showgrid\":false,\"tickfont\":{\"color\":\"#4D5663\"},\"title\":{\"font\":{\"color\":\"#4D5663\"},\"text\":\"\"},\"zerolinecolor\":\"#E1E5ED\"},\"yaxis5\":{\"anchor\":\"x5\",\"domain\":[0.535,0.7325],\"gridcolor\":\"#E1E5ED\",\"showgrid\":false,\"tickfont\":{\"color\":\"#4D5663\"},\"title\":{\"font\":{\"color\":\"#4D5663\"},\"text\":\"\"},\"zerolinecolor\":\"#E1E5ED\"},\"xaxis6\":{\"anchor\":\"y6\",\"domain\":[0.2625,0.475],\"gridcolor\":\"#E1E5ED\",\"showgrid\":false,\"tickfont\":{\"color\":\"#4D5663\"},\"title\":{\"font\":{\"color\":\"#4D5663\"},\"text\":\"\"},\"zerolinecolor\":\"#E1E5ED\"},\"yaxis6\":{\"anchor\":\"x6\",\"domain\":[0.535,0.7325],\"gridcolor\":\"#E1E5ED\",\"showgrid\":false,\"tickfont\":{\"color\":\"#4D5663\"},\"title\":{\"font\":{\"color\":\"#4D5663\"},\"text\":\"\"},\"zerolinecolor\":\"#E1E5ED\"},\"xaxis7\":{\"anchor\":\"y7\",\"domain\":[0.525,0.7375],\"gridcolor\":\"#E1E5ED\",\"showgrid\":false,\"tickfont\":{\"color\":\"#4D5663\"},\"title\":{\"font\":{\"color\":\"#4D5663\"},\"text\":\"\"},\"zerolinecolor\":\"#E1E5ED\"},\"yaxis7\":{\"anchor\":\"x7\",\"domain\":[0.535,0.7325],\"gridcolor\":\"#E1E5ED\",\"showgrid\":false,\"tickfont\":{\"color\":\"#4D5663\"},\"title\":{\"font\":{\"color\":\"#4D5663\"},\"text\":\"\"},\"zerolinecolor\":\"#E1E5ED\"},\"xaxis8\":{\"anchor\":\"y8\",\"domain\":[0.7875,1.0],\"gridcolor\":\"#E1E5ED\",\"showgrid\":false,\"tickfont\":{\"color\":\"#4D5663\"},\"title\":{\"font\":{\"color\":\"#4D5663\"},\"text\":\"\"},\"zerolinecolor\":\"#E1E5ED\"},\"yaxis8\":{\"anchor\":\"x8\",\"domain\":[0.535,0.7325],\"gridcolor\":\"#E1E5ED\",\"showgrid\":false,\"tickfont\":{\"color\":\"#4D5663\"},\"title\":{\"font\":{\"color\":\"#4D5663\"},\"text\":\"\"},\"zerolinecolor\":\"#E1E5ED\"},\"xaxis9\":{\"anchor\":\"y9\",\"domain\":[0.0,0.2125],\"gridcolor\":\"#E1E5ED\",\"showgrid\":false,\"tickfont\":{\"color\":\"#4D5663\"},\"title\":{\"font\":{\"color\":\"#4D5663\"},\"text\":\"\"},\"zerolinecolor\":\"#E1E5ED\"},\"yaxis9\":{\"anchor\":\"x9\",\"domain\":[0.2675,0.465],\"gridcolor\":\"#E1E5ED\",\"showgrid\":false,\"tickfont\":{\"color\":\"#4D5663\"},\"title\":{\"font\":{\"color\":\"#4D5663\"},\"text\":\"\"},\"zerolinecolor\":\"#E1E5ED\"},\"xaxis10\":{\"anchor\":\"y10\",\"domain\":[0.2625,0.475],\"gridcolor\":\"#E1E5ED\",\"showgrid\":false,\"tickfont\":{\"color\":\"#4D5663\"},\"title\":{\"font\":{\"color\":\"#4D5663\"},\"text\":\"\"},\"zerolinecolor\":\"#E1E5ED\"},\"yaxis10\":{\"anchor\":\"x10\",\"domain\":[0.2675,0.465],\"gridcolor\":\"#E1E5ED\",\"showgrid\":false,\"tickfont\":{\"color\":\"#4D5663\"},\"title\":{\"font\":{\"color\":\"#4D5663\"},\"text\":\"\"},\"zerolinecolor\":\"#E1E5ED\"},\"xaxis11\":{\"anchor\":\"y11\",\"domain\":[0.525,0.7375],\"gridcolor\":\"#E1E5ED\",\"showgrid\":false,\"tickfont\":{\"color\":\"#4D5663\"},\"title\":{\"font\":{\"color\":\"#4D5663\"},\"text\":\"\"},\"zerolinecolor\":\"#E1E5ED\"},\"yaxis11\":{\"anchor\":\"x11\",\"domain\":[0.2675,0.465],\"gridcolor\":\"#E1E5ED\",\"showgrid\":false,\"tickfont\":{\"color\":\"#4D5663\"},\"title\":{\"font\":{\"color\":\"#4D5663\"},\"text\":\"\"},\"zerolinecolor\":\"#E1E5ED\"},\"xaxis12\":{\"anchor\":\"y12\",\"domain\":[0.7875,1.0],\"gridcolor\":\"#E1E5ED\",\"showgrid\":false,\"tickfont\":{\"color\":\"#4D5663\"},\"title\":{\"font\":{\"color\":\"#4D5663\"},\"text\":\"\"},\"zerolinecolor\":\"#E1E5ED\"},\"yaxis12\":{\"anchor\":\"x12\",\"domain\":[0.2675,0.465],\"gridcolor\":\"#E1E5ED\",\"showgrid\":false,\"tickfont\":{\"color\":\"#4D5663\"},\"title\":{\"font\":{\"color\":\"#4D5663\"},\"text\":\"\"},\"zerolinecolor\":\"#E1E5ED\"},\"xaxis13\":{\"anchor\":\"y13\",\"domain\":[0.0,0.2125],\"gridcolor\":\"#E1E5ED\",\"showgrid\":false,\"tickfont\":{\"color\":\"#4D5663\"},\"title\":{\"font\":{\"color\":\"#4D5663\"},\"text\":\"\"},\"zerolinecolor\":\"#E1E5ED\"},\"yaxis13\":{\"anchor\":\"x13\",\"domain\":[0.0,0.1975],\"gridcolor\":\"#E1E5ED\",\"showgrid\":false,\"tickfont\":{\"color\":\"#4D5663\"},\"title\":{\"font\":{\"color\":\"#4D5663\"},\"text\":\"\"},\"zerolinecolor\":\"#E1E5ED\"},\"xaxis14\":{\"anchor\":\"y14\",\"domain\":[0.2625,0.475],\"gridcolor\":\"#E1E5ED\",\"showgrid\":false,\"tickfont\":{\"color\":\"#4D5663\"},\"title\":{\"font\":{\"color\":\"#4D5663\"},\"text\":\"\"},\"zerolinecolor\":\"#E1E5ED\"},\"yaxis14\":{\"anchor\":\"x14\",\"domain\":[0.0,0.1975],\"gridcolor\":\"#E1E5ED\",\"showgrid\":false,\"tickfont\":{\"color\":\"#4D5663\"},\"title\":{\"font\":{\"color\":\"#4D5663\"},\"text\":\"\"},\"zerolinecolor\":\"#E1E5ED\"},\"xaxis15\":{\"anchor\":\"y15\",\"domain\":[0.525,0.7375],\"gridcolor\":\"#E1E5ED\",\"showgrid\":false,\"tickfont\":{\"color\":\"#4D5663\"},\"title\":{\"font\":{\"color\":\"#4D5663\"},\"text\":\"\"},\"zerolinecolor\":\"#E1E5ED\"},\"yaxis15\":{\"anchor\":\"x15\",\"domain\":[0.0,0.1975],\"gridcolor\":\"#E1E5ED\",\"showgrid\":false,\"tickfont\":{\"color\":\"#4D5663\"},\"title\":{\"font\":{\"color\":\"#4D5663\"},\"text\":\"\"},\"zerolinecolor\":\"#E1E5ED\"},\"xaxis16\":{\"anchor\":\"y16\",\"domain\":[0.7875,1.0],\"gridcolor\":\"#E1E5ED\",\"showgrid\":false,\"tickfont\":{\"color\":\"#4D5663\"},\"title\":{\"font\":{\"color\":\"#4D5663\"},\"text\":\"\"},\"zerolinecolor\":\"#E1E5ED\"},\"yaxis16\":{\"anchor\":\"x16\",\"domain\":[0.0,0.1975],\"gridcolor\":\"#E1E5ED\",\"showgrid\":false,\"tickfont\":{\"color\":\"#4D5663\"},\"title\":{\"font\":{\"color\":\"#4D5663\"},\"text\":\"\"},\"zerolinecolor\":\"#E1E5ED\"}},                        {\"showLink\": true, \"linkText\": \"Export to plot.ly\", \"plotlyServerURL\": \"https://plot.ly\", \"responsive\": true}                    ).then(function(){\n",
       "                            \n",
       "var gd = document.getElementById('144fd9df-3799-47cf-a0a1-f5f5b2e87fc5');\n",
       "var x = new MutationObserver(function (mutations, observer) {{\n",
       "        var display = window.getComputedStyle(gd).display;\n",
       "        if (!display || display === 'none') {{\n",
       "            console.log([gd, 'removed!']);\n",
       "            Plotly.purge(gd);\n",
       "            observer.disconnect();\n",
       "        }}\n",
       "}});\n",
       "\n",
       "// Listen for the removal of the full notebook cells\n",
       "var notebookContainer = gd.closest('#notebook-container');\n",
       "if (notebookContainer) {{\n",
       "    x.observe(notebookContainer, {childList: true});\n",
       "}}\n",
       "\n",
       "// Listen for the clearing of the current output cell\n",
       "var outputEl = gd.closest('.output');\n",
       "if (outputEl) {{\n",
       "    x.observe(outputEl, {childList: true});\n",
       "}}\n",
       "\n",
       "                        })                };                });            </script>        </div>"
      ]
     },
     "metadata": {},
     "output_type": "display_data"
    }
   ],
   "source": [
    "df.scatter_matrix()"
   ]
  }
 ],
 "metadata": {
  "kernelspec": {
   "display_name": "Python3",
   "language": "python",
   "name": "python3"
  },
  "language_info": {
   "codemirror_mode": {
    "name": "ipython",
    "version": 3
   },
   "file_extension": ".py",
   "mimetype": "text/x-python",
   "name": "python",
   "nbconvert_exporter": "python",
   "pygments_lexer": "ipython3",
   "version": "3.10.0"
  }
 },
 "nbformat": 4,
 "nbformat_minor": 5
}
